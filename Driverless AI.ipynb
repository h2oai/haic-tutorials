{
 "cells": [
  {
   "cell_type": "markdown",
   "metadata": {},
   "source": [
    "# Driverless AI\n",
    "\n",
    "This notebook is intended to help you get started with AutoML in the H2O AI Cloud using python.\n",
    "\n",
    "* **Product Documentation:** https://docs.h2o.ai/driverless-ai/1-10-lts/docs/userguide/index.html\n",
    "* **Python Documentation:** https://docs.h2o.ai/driverless-ai/pyclient/docs/html/index.html\n",
    "* **Additional Tutorials:** https://github.com/h2oai/driverlessai-tutorials/tree/master/dai_python_client"
   ]
  },
  {
   "cell_type": "markdown",
   "metadata": {},
   "source": [
    "## Prerequisites\n",
    "This tutorial relies on the latest Steam SDK (1.8.11) which can be installed into a python environment by:\n",
    "\n",
    "1. Click on My AI Engines from the H2O AI Cloud and then `Python client` to download the wheel file\n",
    "2. Navigate to the location where the python client was downloaded and install the client using `pip install h2osteam-1.8.11-py2.py3-none-any.whl`\n",
    "\n",
    "We require the `h2o_authn` library for securely connecting to the H2O AI Cloud platform: `pip install h2o_authn`.\n",
    "\n",
    "We also set the following variables to connect to a specific H2O AI Cloud environment. They can be found by logging into the platform, clicking on your name, and choosing the `CLI & API Access` page. Then, copy values from the `Accessing H2O AI Cloud APIs` section."
   ]
  },
  {
   "cell_type": "code",
   "execution_count": 1,
   "metadata": {},
   "outputs": [],
   "source": [
    "CLIENT_ID = \"q8s-internal-platform\"\n",
    "TOKEN_ENDPOINT = \"https://auth.demo.h2o.ai/auth/realms/q8s-internal/protocol/openid-connect/token\"\n",
    "REFRESH_TOKEN = \"https://cloud-internal.h2o.ai/auth/get-platform-token\"\n",
    "\n",
    "H2O_STEAM_URL = \"https://steam.cloud-internal.h2o.ai/\""
   ]
  },
  {
   "cell_type": "code",
   "execution_count": 55,
   "metadata": {},
   "outputs": [],
   "source": [
    "from getpass import getpass\n",
    "\n",
    "import h2o_authn\n",
    "import h2osteam\n",
    "from h2osteam.clients import DriverlessClient\n",
    "\n",
    "import pandas as pd\n",
    "import numpy as np"
   ]
  },
  {
   "cell_type": "markdown",
   "metadata": {},
   "source": [
    "## Securely connect to the platform\n",
    "We first connect to the H2O AI Cloud using our personal access token to create a token provider object. We can then use this object to log into Steam and other APIs."
   ]
  },
  {
   "cell_type": "code",
   "execution_count": 3,
   "metadata": {},
   "outputs": [
    {
     "name": "stdout",
     "output_type": "stream",
     "text": [
      "Visit https://cloud-internal.h2o.ai/auth/get-platform-token to get your personal access token\n",
      "Enter your access token: ········\n"
     ]
    }
   ],
   "source": [
    "print(f\"Visit {REFRESH_TOKEN} to get your personal access token\")\n",
    "tp = h2o_authn.TokenProvider(\n",
    "    refresh_token=getpass(\"Enter your access token: \"),\n",
    "    client_id=CLIENT_ID,\n",
    "    token_endpoint_url=TOKEN_ENDPOINT\n",
    ")"
   ]
  },
  {
   "cell_type": "markdown",
   "metadata": {},
   "source": [
    "Next, we will connect to our AI Engine manager to view all instances of Driverless AI that we have access to. If you don't have an instance of Driverless AI, or you need to learn how to start your instance, please view the Enterprise Steam tutorial. "
   ]
  },
  {
   "cell_type": "code",
   "execution_count": 4,
   "metadata": {},
   "outputs": [],
   "source": [
    "steam = h2osteam.login(\n",
    "    url=H2O_STEAM_URL,\n",
    "    access_token=tp()\n",
    ")"
   ]
  },
  {
   "cell_type": "markdown",
   "metadata": {},
   "source": [
    "## Connect to Driverless AI\n",
    "We'll create a connection object called dai that we will use to interact with the platform. Throughout the client you can use the .gui() function to get a link which will take you to the user interface of that specific page."
   ]
  },
  {
   "cell_type": "code",
   "execution_count": 5,
   "metadata": {},
   "outputs": [
    {
     "name": "stdout",
     "output_type": "stream",
     "text": [
      "74 \t default-driverless-kubernetes \t stopped \t mt-demo\n",
      "445 \t default-driverless-kubernetes \t stopped \t MT-test\n",
      "446 \t default-driverless-kubernetes \t running \t dai-quickstart\n"
     ]
    }
   ],
   "source": [
    "for instance in steam.get_driverless_instances():\n",
    "    print(instance[\"id\"], \"\\t\", instance[\"profile_name\"], \"\\t\", instance[\"status\"], \"\\t\", instance[\"name\"])"
   ]
  },
  {
   "cell_type": "code",
   "execution_count": 6,
   "metadata": {},
   "outputs": [],
   "source": [
    "dai = DriverlessClient().get_instance(name=\"dai-quickstart\").connect()"
   ]
  },
  {
   "cell_type": "code",
   "execution_count": 7,
   "metadata": {},
   "outputs": [
    {
     "data": {
      "text/html": [
       "<pre><a href='https://steam.cloud-internal.h2o.ai:443/proxy/driverless/446' rel='noopener noreferrer' target='_blank'>https://steam.cloud-internal.h2o.ai:443/proxy/driverless/446</a></pre>"
      ],
      "text/plain": [
       "'https://steam.cloud-internal.h2o.ai:443/proxy/driverless/446'"
      ]
     },
     "execution_count": 7,
     "metadata": {},
     "output_type": "execute_result"
    }
   ],
   "source": [
    "dai.server.gui()"
   ]
  },
  {
   "cell_type": "code",
   "execution_count": 8,
   "metadata": {},
   "outputs": [
    {
     "data": {
      "text/plain": [
       "'1.10.2'"
      ]
     },
     "execution_count": 8,
     "metadata": {},
     "output_type": "execute_result"
    }
   ],
   "source": [
    "dai.server.version"
   ]
  },
  {
   "cell_type": "markdown",
   "metadata": {},
   "source": [
    "## Documentation\n",
    "You can get links to the home page and search the documentation from the python client any time you want to know more about a specific DAI functionality. "
   ]
  },
  {
   "cell_type": "code",
   "execution_count": 9,
   "metadata": {},
   "outputs": [
    {
     "data": {
      "text/html": [
       "<pre><a href='https://steam.cloud-internal.h2o.ai:443/proxy/driverless/446/docs/userguide/search.html?q=autoviz' rel='noopener noreferrer' target='_blank'>https://steam.cloud-internal.h2o.ai:443/proxy/driverless/446/docs/userguide/search.html?q=autoviz</a></pre>"
      ],
      "text/plain": [
       "'https://steam.cloud-internal.h2o.ai:443/proxy/driverless/446/docs/userguide/search.html?q=autoviz'"
      ]
     },
     "execution_count": 9,
     "metadata": {},
     "output_type": "execute_result"
    }
   ],
   "source": [
    "dai.server.docs(\"autoviz\")"
   ]
  },
  {
   "cell_type": "markdown",
   "metadata": {},
   "source": [
    "## Data\n",
    "Various methods for loading, interacting with, and modifiying data wihthin Driverless AI."
   ]
  },
  {
   "cell_type": "markdown",
   "metadata": {},
   "source": [
    "### List Available Connectors\n",
    "View all ways you are allowed to add data to DAI on this instace - to enable more connectors update the `config.toml` file <br/><br/>\n",
    "**Note:** Interactions with Data Recipes is not yet available so these connectors are not shown"
   ]
  },
  {
   "cell_type": "code",
   "execution_count": 10,
   "metadata": {},
   "outputs": [
    {
     "data": {
      "text/plain": [
       "['upload', 'file', 'hdfs', 's3', 'recipe_file', 'recipe_url', 'h2o_drive']"
      ]
     },
     "execution_count": 10,
     "metadata": {},
     "output_type": "execute_result"
    }
   ],
   "source": [
    "dai.connectors.list()"
   ]
  },
  {
   "cell_type": "markdown",
   "metadata": {},
   "source": [
    "### List Existing Datasets"
   ]
  },
  {
   "cell_type": "code",
   "execution_count": 11,
   "metadata": {},
   "outputs": [
    {
     "name": "stdout",
     "output_type": "stream",
     "text": [
      "\n",
      "    | Type    | Key                                  | Name\n",
      "----+---------+--------------------------------------+-------------------\n",
      "  0 | Dataset | 5fd3a092-bb81-11ec-a1e2-a690ee1f9c81 | telco_churn_test\n",
      "  1 | Dataset | 5fd36960-bb81-11ec-a1e2-a690ee1f9c81 | telco_churn_train\n",
      "  2 | Dataset | 522603d6-bb81-11ec-a1e2-a690ee1f9c81 | Fancy New Name\n",
      "  3 | Dataset | 462384e6-bb81-11ec-a1e2-a690ee1f9c81 | Telco_Churn\n",
      "\n",
      "<class 'driverlessai._datasets.Dataset'> 5fd3a092-bb81-11ec-a1e2-a690ee1f9c81 telco_churn_test\n",
      "<class 'driverlessai._datasets.Dataset'> 5fd36960-bb81-11ec-a1e2-a690ee1f9c81 telco_churn_train\n",
      "<class 'driverlessai._datasets.Dataset'> 522603d6-bb81-11ec-a1e2-a690ee1f9c81 Fancy New Name\n",
      "<class 'driverlessai._datasets.Dataset'> 462384e6-bb81-11ec-a1e2-a690ee1f9c81 Telco_Churn\n"
     ]
    }
   ],
   "source": [
    "# Get a link to view all datasets in the UI\n",
    "dai.datasets.gui()\n",
    "\n",
    "print()\n",
    "\n",
    "# List all datasets    \n",
    "print(dai.datasets.list(start_index=0, count=4))\n",
    "\n",
    "print()\n",
    "\n",
    "# pretty print\n",
    "for d in dai.datasets.list(start_index=0, count=4):\n",
    "    print(type(d), d.key, d.name)"
   ]
  },
  {
   "cell_type": "markdown",
   "metadata": {},
   "source": [
    "### Upload and Download Data\n",
    "You can upload data using any method that is enabled on your system. Here we will show:\n",
    "* Add data from a public s3 link\n",
    "* Download a dataset\n",
    "* Upload data from your local machine\n",
    "* Rename a dataset\n",
    "* Upload using the JDBC connector"
   ]
  },
  {
   "cell_type": "code",
   "execution_count": 12,
   "metadata": {},
   "outputs": [
    {
     "name": "stdout",
     "output_type": "stream",
     "text": [
      "Complete 100.00% - [4/4] Computed stats for column Churn?\n"
     ]
    }
   ],
   "source": [
    "telco_churn = dai.datasets.create(data=\"https://h2o-internal-release.s3-us-west-2.amazonaws.com/data/Splunk/churn.csv\", \n",
    "                                  data_source=\"s3\", \n",
    "                                  name=\"Telco_Churn\",\n",
    "                                  force=True\n",
    "                                 )"
   ]
  },
  {
   "cell_type": "code",
   "execution_count": 13,
   "metadata": {},
   "outputs": [
    {
     "name": "stdout",
     "output_type": "stream",
     "text": [
      "Downloaded 'churn.csv.1649892891.052968.csv'\n"
     ]
    }
   ],
   "source": [
    "local_file_path = telco_churn.download(\"./\", overwrite=True)"
   ]
  },
  {
   "cell_type": "code",
   "execution_count": 14,
   "metadata": {
    "scrolled": true
   },
   "outputs": [
    {
     "name": "stdout",
     "output_type": "stream",
     "text": [
      "Complete 100.00% - [4/4] Computed stats for column Churn?\n"
     ]
    }
   ],
   "source": [
    "telco_churn2 = dai.datasets.create(local_file_path, name=\"Telco_Churn_Duplicate\")"
   ]
  },
  {
   "cell_type": "code",
   "execution_count": 15,
   "metadata": {},
   "outputs": [
    {
     "name": "stdout",
     "output_type": "stream",
     "text": [
      "Old Name: Telco_Churn_Duplicate\n",
      "New Name: Fancy New Name\n"
     ]
    }
   ],
   "source": [
    "print(\"Old Name:\", telco_churn2.name)\n",
    "\n",
    "telco_churn2.rename(\"Fancy New Name\")\n",
    "\n",
    "print(\"New Name:\", telco_churn2.name)"
   ]
  },
  {
   "cell_type": "code",
   "execution_count": 16,
   "metadata": {},
   "outputs": [],
   "source": [
    "# Upload using the JDBC connector\n",
    "# Note 1: You must have JDBC in the list of available connectors\n",
    "# Note 2: Appropriate JARS must be on the DAI server\n",
    "\n",
    "jdbc_config = {\n",
    "    'jdbc_jar': '/data/postgresql-42.2.9.jar',\n",
    "    'jdbc_driver': 'org.postgresql.Driver',\n",
    "    'jdbc_url': 'jdbc:postgresql://mr-dl2:5432/h2oaidev',\n",
    "    'jdbc_username': 'h2oaitester',\n",
    "    'jdbc_password': 'h2oaitesterreadonly'\n",
    "}\n",
    "\n",
    "# jdbc_ds = dai.datasets.create(   \n",
    "#     data='SELECT * FROM creditcardtrain',\n",
    "#     data_source='jdbc',\n",
    "#     data_source_config=jdbc_config,\n",
    "#     name='beta_jdbc_test'\n",
    "# )"
   ]
  },
  {
   "cell_type": "markdown",
   "metadata": {},
   "source": [
    "### Explore the Dataset\n",
    "* View the column names\n",
    "* View the data shape\n",
    "* View the first and last rows"
   ]
  },
  {
   "cell_type": "code",
   "execution_count": 17,
   "metadata": {},
   "outputs": [
    {
     "name": "stdout",
     "output_type": "stream",
     "text": [
      "4f7ea36c-bb82-11ec-a1e2-a690ee1f9c81 | Telco_Churn\n",
      "\n",
      "Columns: ['State', 'Account Length', 'Area Code', 'Phone', \"Int'l Plan\", 'VMail Plan', 'VMail Message', 'Day Mins', 'Day Calls', 'Day Charge', 'Eve Mins', 'Eve Calls', 'Eve Charge', 'Night Mins', 'Night Calls', 'Night Charge', 'Intl Mins', 'Intl Calls', 'Intl Charge', 'CustServ Calls', 'Churn?']\n",
      "\n",
      "Shape: (3333, 21)\n"
     ]
    }
   ],
   "source": [
    "print(telco_churn.key, \"|\", telco_churn.name)\n",
    "print(\"\\nColumns:\", telco_churn.columns)\n",
    "print('\\nShape:', telco_churn.shape)"
   ]
  },
  {
   "cell_type": "code",
   "execution_count": 18,
   "metadata": {},
   "outputs": [
    {
     "data": {
      "text/html": [
       "<table>\n",
       "<thead>\n",
       "<tr><th>State  </th><th style=\"text-align: right;\">  Account Length</th><th style=\"text-align: right;\">  Area Code</th><th>Phone   </th><th>Int&#x27;l Plan  </th><th>VMail Plan  </th><th style=\"text-align: right;\">  VMail Message</th><th style=\"text-align: right;\">  Day Mins</th><th style=\"text-align: right;\">  Day Calls</th><th style=\"text-align: right;\">  Day Charge</th><th style=\"text-align: right;\">  Eve Mins</th><th style=\"text-align: right;\">  Eve Calls</th><th style=\"text-align: right;\">  Eve Charge</th><th style=\"text-align: right;\">  Night Mins</th><th style=\"text-align: right;\">  Night Calls</th><th style=\"text-align: right;\">  Night Charge</th><th style=\"text-align: right;\">  Intl Mins</th><th style=\"text-align: right;\">  Intl Calls</th><th style=\"text-align: right;\">  Intl Charge</th><th style=\"text-align: right;\">  CustServ Calls</th><th>Churn?  </th></tr>\n",
       "</thead>\n",
       "<tbody>\n",
       "<tr><td>KS     </td><td style=\"text-align: right;\">             128</td><td style=\"text-align: right;\">        415</td><td>382-4657</td><td>no          </td><td>yes         </td><td style=\"text-align: right;\">             25</td><td style=\"text-align: right;\">     265.1</td><td style=\"text-align: right;\">        110</td><td style=\"text-align: right;\">       45.07</td><td style=\"text-align: right;\">     197.4</td><td style=\"text-align: right;\">         99</td><td style=\"text-align: right;\">       16.78</td><td style=\"text-align: right;\">       244.7</td><td style=\"text-align: right;\">           91</td><td style=\"text-align: right;\">         11.01</td><td style=\"text-align: right;\">       10  </td><td style=\"text-align: right;\">           3</td><td style=\"text-align: right;\">         2.7 </td><td style=\"text-align: right;\">               1</td><td>False.  </td></tr>\n",
       "<tr><td>OH     </td><td style=\"text-align: right;\">             107</td><td style=\"text-align: right;\">        415</td><td>371-7191</td><td>no          </td><td>yes         </td><td style=\"text-align: right;\">             26</td><td style=\"text-align: right;\">     161.6</td><td style=\"text-align: right;\">        123</td><td style=\"text-align: right;\">       27.47</td><td style=\"text-align: right;\">     195.5</td><td style=\"text-align: right;\">        103</td><td style=\"text-align: right;\">       16.62</td><td style=\"text-align: right;\">       254.4</td><td style=\"text-align: right;\">          103</td><td style=\"text-align: right;\">         11.45</td><td style=\"text-align: right;\">       13.7</td><td style=\"text-align: right;\">           3</td><td style=\"text-align: right;\">         3.7 </td><td style=\"text-align: right;\">               1</td><td>False.  </td></tr>\n",
       "<tr><td>NJ     </td><td style=\"text-align: right;\">             137</td><td style=\"text-align: right;\">        415</td><td>358-1921</td><td>no          </td><td>no          </td><td style=\"text-align: right;\">              0</td><td style=\"text-align: right;\">     243.4</td><td style=\"text-align: right;\">        114</td><td style=\"text-align: right;\">       41.38</td><td style=\"text-align: right;\">     121.2</td><td style=\"text-align: right;\">        110</td><td style=\"text-align: right;\">       10.3 </td><td style=\"text-align: right;\">       162.6</td><td style=\"text-align: right;\">          104</td><td style=\"text-align: right;\">          7.32</td><td style=\"text-align: right;\">       12.2</td><td style=\"text-align: right;\">           5</td><td style=\"text-align: right;\">         3.29</td><td style=\"text-align: right;\">               0</td><td>False.  </td></tr>\n",
       "<tr><td>OH     </td><td style=\"text-align: right;\">              84</td><td style=\"text-align: right;\">        408</td><td>375-9999</td><td>yes         </td><td>no          </td><td style=\"text-align: right;\">              0</td><td style=\"text-align: right;\">     299.4</td><td style=\"text-align: right;\">         71</td><td style=\"text-align: right;\">       50.9 </td><td style=\"text-align: right;\">      61.9</td><td style=\"text-align: right;\">         88</td><td style=\"text-align: right;\">        5.26</td><td style=\"text-align: right;\">       196.9</td><td style=\"text-align: right;\">           89</td><td style=\"text-align: right;\">          8.86</td><td style=\"text-align: right;\">        6.6</td><td style=\"text-align: right;\">           7</td><td style=\"text-align: right;\">         1.78</td><td style=\"text-align: right;\">               2</td><td>False.  </td></tr>\n",
       "<tr><td>OK     </td><td style=\"text-align: right;\">              75</td><td style=\"text-align: right;\">        415</td><td>330-6626</td><td>yes         </td><td>no          </td><td style=\"text-align: right;\">              0</td><td style=\"text-align: right;\">     166.7</td><td style=\"text-align: right;\">        113</td><td style=\"text-align: right;\">       28.34</td><td style=\"text-align: right;\">     148.3</td><td style=\"text-align: right;\">        122</td><td style=\"text-align: right;\">       12.61</td><td style=\"text-align: right;\">       186.9</td><td style=\"text-align: right;\">          121</td><td style=\"text-align: right;\">          8.41</td><td style=\"text-align: right;\">       10.1</td><td style=\"text-align: right;\">           3</td><td style=\"text-align: right;\">         2.73</td><td style=\"text-align: right;\">               3</td><td>False.  </td></tr>\n",
       "</tbody>\n",
       "</table>"
      ],
      "text/plain": [
       "<driverlessai._utils.Table at 0x11e9adb50>"
      ]
     },
     "execution_count": 18,
     "metadata": {},
     "output_type": "execute_result"
    }
   ],
   "source": [
    "telco_churn.head()"
   ]
  },
  {
   "cell_type": "code",
   "execution_count": 19,
   "metadata": {},
   "outputs": [
    {
     "data": {
      "text/html": [
       "<table>\n",
       "<thead>\n",
       "<tr><th>State  </th><th style=\"text-align: right;\">  Account Length</th><th style=\"text-align: right;\">  Area Code</th><th>Phone   </th><th>Int&#x27;l Plan  </th><th>VMail Plan  </th><th style=\"text-align: right;\">  VMail Message</th><th style=\"text-align: right;\">  Day Mins</th><th style=\"text-align: right;\">  Day Calls</th><th style=\"text-align: right;\">  Day Charge</th><th style=\"text-align: right;\">  Eve Mins</th><th style=\"text-align: right;\">  Eve Calls</th><th style=\"text-align: right;\">  Eve Charge</th><th style=\"text-align: right;\">  Night Mins</th><th style=\"text-align: right;\">  Night Calls</th><th style=\"text-align: right;\">  Night Charge</th><th style=\"text-align: right;\">  Intl Mins</th><th style=\"text-align: right;\">  Intl Calls</th><th style=\"text-align: right;\">  Intl Charge</th><th style=\"text-align: right;\">  CustServ Calls</th><th>Churn?  </th></tr>\n",
       "</thead>\n",
       "<tbody>\n",
       "<tr><td>AZ     </td><td style=\"text-align: right;\">             192</td><td style=\"text-align: right;\">        415</td><td>414-4276</td><td>no          </td><td>yes         </td><td style=\"text-align: right;\">             36</td><td style=\"text-align: right;\">     156.2</td><td style=\"text-align: right;\">         77</td><td style=\"text-align: right;\">       26.55</td><td style=\"text-align: right;\">     215.5</td><td style=\"text-align: right;\">        126</td><td style=\"text-align: right;\">       18.32</td><td style=\"text-align: right;\">       279.1</td><td style=\"text-align: right;\">           83</td><td style=\"text-align: right;\">         12.56</td><td style=\"text-align: right;\">        9.9</td><td style=\"text-align: right;\">           6</td><td style=\"text-align: right;\">         2.67</td><td style=\"text-align: right;\">               2</td><td>False.  </td></tr>\n",
       "<tr><td>WV     </td><td style=\"text-align: right;\">              68</td><td style=\"text-align: right;\">        415</td><td>370-3271</td><td>no          </td><td>no          </td><td style=\"text-align: right;\">              0</td><td style=\"text-align: right;\">     231.1</td><td style=\"text-align: right;\">         57</td><td style=\"text-align: right;\">       39.29</td><td style=\"text-align: right;\">     153.4</td><td style=\"text-align: right;\">         55</td><td style=\"text-align: right;\">       13.04</td><td style=\"text-align: right;\">       191.3</td><td style=\"text-align: right;\">          123</td><td style=\"text-align: right;\">          8.61</td><td style=\"text-align: right;\">        9.6</td><td style=\"text-align: right;\">           4</td><td style=\"text-align: right;\">         2.59</td><td style=\"text-align: right;\">               3</td><td>False.  </td></tr>\n",
       "<tr><td>RI     </td><td style=\"text-align: right;\">              28</td><td style=\"text-align: right;\">        510</td><td>328-8230</td><td>no          </td><td>no          </td><td style=\"text-align: right;\">              0</td><td style=\"text-align: right;\">     180.8</td><td style=\"text-align: right;\">        109</td><td style=\"text-align: right;\">       30.74</td><td style=\"text-align: right;\">     288.8</td><td style=\"text-align: right;\">         58</td><td style=\"text-align: right;\">       24.55</td><td style=\"text-align: right;\">       191.9</td><td style=\"text-align: right;\">           91</td><td style=\"text-align: right;\">          8.64</td><td style=\"text-align: right;\">       14.1</td><td style=\"text-align: right;\">           6</td><td style=\"text-align: right;\">         3.81</td><td style=\"text-align: right;\">               2</td><td>False.  </td></tr>\n",
       "<tr><td>CT     </td><td style=\"text-align: right;\">             184</td><td style=\"text-align: right;\">        510</td><td>364-6381</td><td>yes         </td><td>no          </td><td style=\"text-align: right;\">              0</td><td style=\"text-align: right;\">     213.8</td><td style=\"text-align: right;\">        105</td><td style=\"text-align: right;\">       36.35</td><td style=\"text-align: right;\">     159.6</td><td style=\"text-align: right;\">         84</td><td style=\"text-align: right;\">       13.57</td><td style=\"text-align: right;\">       139.2</td><td style=\"text-align: right;\">          137</td><td style=\"text-align: right;\">          6.26</td><td style=\"text-align: right;\">        5  </td><td style=\"text-align: right;\">          10</td><td style=\"text-align: right;\">         1.35</td><td style=\"text-align: right;\">               2</td><td>False.  </td></tr>\n",
       "<tr><td>TN     </td><td style=\"text-align: right;\">              74</td><td style=\"text-align: right;\">        415</td><td>400-4344</td><td>no          </td><td>yes         </td><td style=\"text-align: right;\">             25</td><td style=\"text-align: right;\">     234.4</td><td style=\"text-align: right;\">        113</td><td style=\"text-align: right;\">       39.85</td><td style=\"text-align: right;\">     265.9</td><td style=\"text-align: right;\">         82</td><td style=\"text-align: right;\">       22.6 </td><td style=\"text-align: right;\">       241.4</td><td style=\"text-align: right;\">           77</td><td style=\"text-align: right;\">         10.86</td><td style=\"text-align: right;\">       13.7</td><td style=\"text-align: right;\">           4</td><td style=\"text-align: right;\">         3.7 </td><td style=\"text-align: right;\">               0</td><td>False.  </td></tr>\n",
       "</tbody>\n",
       "</table>"
      ],
      "text/plain": [
       "<driverlessai._utils.Table at 0x11df76ac0>"
      ]
     },
     "execution_count": 19,
     "metadata": {},
     "output_type": "execute_result"
    }
   ],
   "source": [
    "telco_churn.tail()"
   ]
  },
  {
   "cell_type": "markdown",
   "metadata": {},
   "source": [
    "### Explore the Columns\n",
    "* View column summaries\n",
    "* Update the datatype to be used in modeling"
   ]
  },
  {
   "cell_type": "code",
   "execution_count": 20,
   "metadata": {},
   "outputs": [],
   "source": [
    "# View all column summaries\n",
    "# print(telco_churn.column_summaries())"
   ]
  },
  {
   "cell_type": "code",
   "execution_count": 21,
   "metadata": {},
   "outputs": [
    {
     "name": "stdout",
     "output_type": "stream",
     "text": [
      "--- Area Code ---\n",
      "\n",
      " 408|██████████\n",
      "    |████████████████████\n",
      " 510|██████████\n",
      "\n",
      "Data Type: int\n",
      "Logical Types: []\n",
      "Datetime Format: \n",
      "Count: 3333\n",
      "Missing: 0\n",
      "Mean: 437\n",
      "SD: 42.4\n",
      "Min: 408\n",
      "Max: 510\n",
      "Unique: 3\n",
      "Freq: 1655\n",
      "\n"
     ]
    }
   ],
   "source": [
    "print(telco_churn.column_summaries([\"Area Code\"]))"
   ]
  },
  {
   "cell_type": "code",
   "execution_count": 22,
   "metadata": {},
   "outputs": [
    {
     "name": "stdout",
     "output_type": "stream",
     "text": [
      "--- Area Code ---\n",
      "\n",
      " 408|██████████\n",
      "    |████████████████████\n",
      " 510|██████████\n",
      "\n",
      "Data Type: int\n",
      "Logical Types: ['categorical']\n",
      "Datetime Format: \n",
      "Count: 3333\n",
      "Missing: 0\n",
      "Mean: 437\n",
      "SD: 42.4\n",
      "Min: 408\n",
      "Max: 510\n",
      "Unique: 3\n",
      "Freq: 1655\n"
     ]
    }
   ],
   "source": [
    "# Force a numeric column to only be used as a category\n",
    "telco_churn.set_logical_types({'Area Code': ['categorical']})\n",
    "print(telco_churn.column_summaries()[\"Area Code\"])"
   ]
  },
  {
   "cell_type": "markdown",
   "metadata": {},
   "source": [
    "### Split a Dataset\n",
    "The split function returns a dictionary of two datasets so you can easily pass them to the experiments"
   ]
  },
  {
   "cell_type": "code",
   "execution_count": 23,
   "metadata": {},
   "outputs": [
    {
     "name": "stdout",
     "output_type": "stream",
     "text": [
      "Complete\n"
     ]
    }
   ],
   "source": [
    "telco_churn_split = telco_churn.split_to_train_test(\n",
    "    train_size=0.8, \n",
    "    train_name='telco_churn_train', \n",
    "    test_name='telco_churn_test', \n",
    "    target_column= \"Churn?\", # Beta users with client from before March 15th use target_col\n",
    "    seed=42\n",
    ")"
   ]
  },
  {
   "cell_type": "code",
   "execution_count": 24,
   "metadata": {},
   "outputs": [
    {
     "data": {
      "text/plain": [
       "{'train_dataset': <class 'Dataset'> 68939f2e-bb82-11ec-a1e2-a690ee1f9c81 telco_churn_train,\n",
       " 'test_dataset': <class 'Dataset'> 6893d962-bb82-11ec-a1e2-a690ee1f9c81 telco_churn_test}"
      ]
     },
     "execution_count": 24,
     "metadata": {},
     "output_type": "execute_result"
    }
   ],
   "source": [
    "telco_churn_split"
   ]
  },
  {
   "cell_type": "code",
   "execution_count": 25,
   "metadata": {},
   "outputs": [
    {
     "name": "stdout",
     "output_type": "stream",
     "text": [
      "train_dataset \t 68939f2e-bb82-11ec-a1e2-a690ee1f9c81 telco_churn_train\n",
      "test_dataset \t 6893d962-bb82-11ec-a1e2-a690ee1f9c81 telco_churn_test\n"
     ]
    }
   ],
   "source": [
    "for k, v in telco_churn_split.items():\n",
    "    print(k, \"\\t\" ,v.key, v.name)"
   ]
  },
  {
   "cell_type": "markdown",
   "metadata": {},
   "source": [
    "## Recipes\n",
    "Recipes are components of the ML pipeline such as algorithms, feature transformers, and scores. You can view all availabe recipes and upload new ones to your instance of DAI.\n",
    "\n",
    "* List all available models\n",
    "* List any custom transformers\n",
    "* List all scorers that can be used for binomial classification\n",
    "* Upload a custom recipe and save it to be tested later"
   ]
  },
  {
   "cell_type": "code",
   "execution_count": 26,
   "metadata": {},
   "outputs": [
    {
     "data": {
      "text/plain": [
       "['Constant',\n",
       " 'DecisionTree',\n",
       " 'FTRL',\n",
       " 'GLM',\n",
       " 'ImageAuto',\n",
       " 'ImbalancedLightGBM',\n",
       " 'ImbalancedXGBoostGBM',\n",
       " 'IsolationForestAnomaly',\n",
       " 'KMeans',\n",
       " 'KMeansFreq',\n",
       " 'KMeansOHE',\n",
       " 'LightGBM',\n",
       " 'LightGBMDask',\n",
       " 'RFCUML',\n",
       " 'RFCUMLDask',\n",
       " 'RuleFit',\n",
       " 'TensorFlow',\n",
       " 'TextALBERT',\n",
       " 'TextBERT',\n",
       " 'TextCamemBERT',\n",
       " 'TextDistilBERT',\n",
       " 'TextMultilingualBERT',\n",
       " 'TextRoBERTa',\n",
       " 'TextXLM',\n",
       " 'TextXLMRoberta',\n",
       " 'TextXLNET',\n",
       " 'TorchGrowNet',\n",
       " 'TruncSVD',\n",
       " 'Unsupervised',\n",
       " 'XGBoostDart',\n",
       " 'XGBoostDartDask',\n",
       " 'XGBoostGBM',\n",
       " 'XGBoostGBMDask',\n",
       " 'XGBoostRF',\n",
       " 'XGBoostRFDask',\n",
       " 'ZeroInflatedLightGBM',\n",
       " 'ZeroInflatedXGBoost']"
      ]
     },
     "execution_count": 26,
     "metadata": {},
     "output_type": "execute_result"
    }
   ],
   "source": [
    "[m.name for m in dai.recipes.models.list()]"
   ]
  },
  {
   "cell_type": "code",
   "execution_count": 27,
   "metadata": {},
   "outputs": [
    {
     "data": {
      "text/plain": [
       "['SumTransformer|sum_ef3e7726_content.py']"
      ]
     },
     "execution_count": 27,
     "metadata": {},
     "output_type": "execute_result"
    }
   ],
   "source": [
    "[t.name for t in dai.recipes.transformers.list() if t.is_custom ]"
   ]
  },
  {
   "cell_type": "code",
   "execution_count": 28,
   "metadata": {},
   "outputs": [
    {
     "data": {
      "text/plain": [
       "['ACCURACY',\n",
       " 'AUC',\n",
       " 'AUCPR',\n",
       " 'F05',\n",
       " 'F1',\n",
       " 'F2',\n",
       " 'GINI',\n",
       " 'LOGLOSS',\n",
       " 'MACROAUC',\n",
       " 'MACROF1',\n",
       " 'MACROMCC',\n",
       " 'MCC']"
      ]
     },
     "execution_count": 28,
     "metadata": {},
     "output_type": "execute_result"
    }
   ],
   "source": [
    "[s.name for s in dai.recipes.scorers.list() if s.for_binomial]"
   ]
  },
  {
   "cell_type": "code",
   "execution_count": 29,
   "metadata": {},
   "outputs": [
    {
     "name": "stdout",
     "output_type": "stream",
     "text": [
      "Complete 100.00%\n"
     ]
    }
   ],
   "source": [
    "dai.recipes.create(\"https://github.com/h2oai/driverlessai-recipes/blob/rel-1.8.6/transformers/numeric/sum.py\")"
   ]
  },
  {
   "cell_type": "code",
   "execution_count": 30,
   "metadata": {},
   "outputs": [
    {
     "data": {
      "text/plain": [
       "['SumTransformer|sum_ef3e7726_content.py']"
      ]
     },
     "execution_count": 30,
     "metadata": {},
     "output_type": "execute_result"
    }
   ],
   "source": [
    "[t.name for t in dai.recipes.transformers.list() if t.is_custom ]"
   ]
  },
  {
   "cell_type": "code",
   "execution_count": 31,
   "metadata": {},
   "outputs": [],
   "source": [
    "transformers_to_use = [t for t in dai.recipes.transformers.list() if not t.is_custom or 'Sum' in t.name]"
   ]
  },
  {
   "cell_type": "markdown",
   "metadata": {},
   "source": [
    "## Modeling\n",
    "**Notes:** Dictionaries allow you to easily use common settings in your experiments <br/>\n",
    "**Notes:** Experiments will be `sync` by default meaning they will lock the notebook until they are complete. You can also use `async` versions of the fucntions. With the `async` functions you can use included code below to monthior and experiment as it runs, see logs in real time, and stop it when it is \"good enough\"."
   ]
  },
  {
   "cell_type": "markdown",
   "metadata": {},
   "source": [
    "### List Existing Experiments"
   ]
  },
  {
   "cell_type": "code",
   "execution_count": 32,
   "metadata": {},
   "outputs": [
    {
     "data": {
      "text/plain": [
       "['Fastest Settings', 'nuwaciwo', 'credit-card-example']"
      ]
     },
     "execution_count": 32,
     "metadata": {},
     "output_type": "execute_result"
    }
   ],
   "source": [
    "[e.name for e in dai.experiments.list()]"
   ]
  },
  {
   "cell_type": "markdown",
   "metadata": {},
   "source": [
    "### Dictionary for a Use Case\n",
    "We might want to run several experiments with different dial and expert settings. All of these will likely have some things in common, namely details about this specific dataset. We will create a dictionary to use in many experiments."
   ]
  },
  {
   "cell_type": "code",
   "execution_count": 33,
   "metadata": {},
   "outputs": [],
   "source": [
    "telco_settings = {\n",
    "    **telco_churn_split,\n",
    "    'task': 'classification',\n",
    "    'target_column': \"Churn?\", # Beta users with client from before March 15th use target_col\n",
    "    'scorer': 'F1'\n",
    "}"
   ]
  },
  {
   "cell_type": "markdown",
   "metadata": {},
   "source": [
    "### Dictionary for Fast Experiments\n",
    "\n",
    "There may be several common types of experiments you want to run, and H2O.ai will be creating common experiment settings in dictionaries for easy use. The one below turns off all extra settings such as building pipelines or checking for leakage. It also uses the fastest experiment settings."
   ]
  },
  {
   "cell_type": "code",
   "execution_count": 34,
   "metadata": {},
   "outputs": [],
   "source": [
    "fast_settings = {\n",
    "    'accuracy': 1,\n",
    "    'time': 1,\n",
    "    'interpretability': 6,\n",
    "    'make_python_scoring_pipeline': 'off',\n",
    "    'make_mojo_scoring_pipeline': 'off',\n",
    "    'benchmark_mojo_latency': 'off',\n",
    "    'make_autoreport': False,\n",
    "    'check_leakage': 'off',\n",
    "    'check_distribution_shift': 'off'\n",
    "}"
   ]
  },
  {
   "cell_type": "markdown",
   "metadata": {},
   "source": [
    "### Search for Settings\n",
    "There are many expert settings available, you can use the serach functionality to look for names or keywords for settings you may want to use."
   ]
  },
  {
   "cell_type": "code",
   "execution_count": 35,
   "metadata": {},
   "outputs": [
    {
     "name": "stdout",
     "output_type": "stream",
     "text": [
      "enable_lightgbm_multiclass_balancing | default_value: auto\n",
      "force_stratified_splits_for_imbalanced_threshold_binary | default_value: 0.01\n",
      "imbalance_sampling_method | default_value: off\n",
      "imbalance_sampling_threshold_min_rows_original | default_value: 100000\n",
      "imbalance_ratio_sampling_threshold | default_value: 5\n",
      "heavy_imbalance_ratio_sampling_threshold | default_value: 25\n",
      "imbalance_sampling_number_of_bags | default_value: -1\n",
      "imbalance_sampling_max_number_of_bags | default_value: 10\n",
      "imbalance_sampling_max_number_of_bags_feature_evolution | default_value: 3\n",
      "imbalance_sampling_max_multiple_data_size | default_value: 1.0\n",
      "imbalance_sampling_target_minority_fraction | default_value: -1.0\n",
      "imbalance_ratio_notification_threshold | default_value: 2.0\n"
     ]
    }
   ],
   "source": [
    "dai.experiments.search_expert_settings('imbalanced')"
   ]
  },
  {
   "cell_type": "code",
   "execution_count": 36,
   "metadata": {},
   "outputs": [
    {
     "name": "stdout",
     "output_type": "stream",
     "text": [
      "enable_lightgbm_multiclass_balancing | default_value: auto | LightGBM multiclass balancing\n",
      "  Whether to enable automatic class weighting for imbalanced multiclass problems. Can make worse probabilities, but improve confusion-matrix based scorers for rare classes without the need to manually calibrate probabilities or fine-tune the label creation process.\n",
      "\n",
      "force_stratified_splits_for_imbalanced_threshold_binary | default_value: 0.01 | Perform stratified sampling for binary classification if the target is more imbalanced than this.\n",
      "  Ratio of minority to majority class of the target column beyond which stratified sampling is done for binary classification. Otherwise perform random sampling. Set to 0 to always do random sampling. Set to 1 to always do stratified sampling.\n",
      "\n",
      "imbalance_sampling_method | default_value: off | Sampling method for imbalanced binary classification problems\n",
      "  Sampling method for imbalanced binary classification problems. Choices are: \"auto\": sample both classes as needed, depending on data \"over_under_sampling\": over-sample the minority class and under-sample the majority class, depending on data \"under_sampling\": under-sample the majority class to reach class balance \"off\": do not perform any sampling\n",
      "\n",
      "imbalance_sampling_threshold_min_rows_original | default_value: 100000 | Threshold for minimum number of rows in original training data to allow imbalanced sampling techniques. For smaller data, will disable imbalanced sampling, no matter what imbalance_sampling_method is set to.\n",
      "  For smaller data, there's no generally no benefit in using imbalanced sampling methods.\n",
      "\n",
      "imbalance_ratio_sampling_threshold | default_value: 5 | Ratio of majority to minority class for imbalanced binary classification to trigger special sampling techniques if enabled\n",
      "  For imbalanced binary classification: ratio of majority to minority class equal and above which to enable special imbalanced models with sampling techniques (specified by imbalance_sampling_method) to attempt to improve model performance.\n",
      "\n",
      "heavy_imbalance_ratio_sampling_threshold | default_value: 25 | Ratio of majority to minority class for heavily imbalanced binary classification to only enable special sampling techniques if enabled\n",
      "  For heavily imbalanced binary classification: ratio of majority to minority class equal and above which to enable only special imbalanced models on full original data, without upfront sampling.\n",
      "\n",
      "imbalance_sampling_number_of_bags | default_value: -1 | Number of bags for sampling methods for imbalanced binary classification (if enabled). -1 for automatic.\n",
      "  -1: automatic\n",
      "\n",
      "imbalance_sampling_max_number_of_bags | default_value: 10 | Hard limit on number of bags for sampling methods for imbalanced binary classification.\n",
      "  -1: automatic\n",
      "\n",
      "imbalance_sampling_max_number_of_bags_feature_evolution | default_value: 3 | Hard limit on number of bags for sampling methods for imbalanced binary classification during feature evolution phase.\n",
      "  Only for shift/leakage/tuning/feature evolution models. Not used for final models. Final models can be limited by imbalance_sampling_max_number_of_bags.\n",
      "\n",
      "imbalance_sampling_max_multiple_data_size | default_value: 1.0 | Max. size of data sampled during imbalanced sampling (in terms of dataset size)\n",
      "  Max. size of data sampled during imbalanced sampling (in terms of dataset size), controls number of bags (approximately). Only for imbalance_sampling_number_of_bags == -1.\n",
      "\n",
      "imbalance_sampling_target_minority_fraction | default_value: -1.0 | Target fraction of minority class after applying under/over-sampling techniques. -1.0 for automatic\n",
      "  A value of 0.5 means that models/algorithms will be presented a balanced target class distribution after applying under/over-sampling techniques on the training data. Sometimes it makes sense to choose a smaller value like 0.1 or 0.01 when starting from an extremely imbalanced original target distribution. -1.0: automatic\n",
      "\n",
      "imbalance_ratio_notification_threshold | default_value: 2.0 | \n",
      "  For binary classification: ratio of majority to minority class equal and above which to notify of imbalance in GUI to say slightly imbalanced. More than imbalance_ratio_sampling_threshold will say problem is imbalanced.\n",
      "\n"
     ]
    }
   ],
   "source": [
    "dai.experiments.search_expert_settings('imbalanced', show_description=True )"
   ]
  },
  {
   "cell_type": "markdown",
   "metadata": {},
   "source": [
    "### Get Reccomended Dial Settings"
   ]
  },
  {
   "cell_type": "code",
   "execution_count": 37,
   "metadata": {},
   "outputs": [
    {
     "name": "stdout",
     "output_type": "stream",
     "text": [
      "ACCURACY [7/10]:\n",
      "- Training data size: *2,666 rows, 20 cols*\n",
      "- Feature evolution: *[Constant, LightGBM, XGBoostGBM]*, *3-fold CV**, 2 reps*\n",
      "- Final pipeline: *Blend of up to 2 [Constant, LightGBM, XGBoostGBM] models, each averaged across 3-fold CV splits*\n",
      "\n",
      "TIME [2/10]:\n",
      "- Feature evolution: *8 individuals*, up to *10 iterations*\n",
      "- Early stopping: After *5* iterations of no improvement\n",
      "\n",
      "INTERPRETABILITY [8/10]:\n",
      "- Feature pre-pruning strategy: Permutation Importance FS\n",
      "- Monotonicity constraints: enabled\n",
      "- Feature engineering search space: [CVCatNumEncode, CVTargetEncode, Frequent, Interactions, NumCatTE, NumToCatWoEMonotonic, NumToCatWoE, Original, Text, WeightOfEvidence]\n",
      "- Pre-trained PyTorch NLP transformers (without fine-tuning): ['disabled']\n",
      "- Pre-trained PyTorch NLP models (with fine-tuning): ['disabled']\n",
      "\n",
      "[Constant, LightGBM, XGBoostGBM] models to train:\n",
      "- Model and feature tuning: *72*\n",
      "- Feature evolution: *288*\n",
      "- Final pipeline: *6*\n",
      "\n",
      "Estimated runtime: *20 minutes*\n",
      "Estimated mojo_size: *2.6MB*\n",
      "Auto-click Finish/Abort if not done in: *1 day*/*7 days*\n"
     ]
    }
   ],
   "source": [
    "# Get experiment preview with our settings\n",
    "dai.experiments.preview(\n",
    "    **telco_settings\n",
    ")"
   ]
  },
  {
   "cell_type": "markdown",
   "metadata": {},
   "source": [
    "### Preview Using Our Custom Recipe\n",
    "Notice that `Sum` has been added to the `Feature engineering search space`"
   ]
  },
  {
   "cell_type": "code",
   "execution_count": 38,
   "metadata": {},
   "outputs": [
    {
     "name": "stdout",
     "output_type": "stream",
     "text": [
      "ACCURACY [7/10]:\n",
      "- Training data size: *2,666 rows, 20 cols*\n",
      "- Feature evolution: *[Constant, LightGBM, XGBoostGBM]*, *3-fold CV**, 2 reps*\n",
      "- Final pipeline: *Blend of up to 2 [Constant, LightGBM, XGBoostGBM] models, each averaged across 3-fold CV splits*\n",
      "\n",
      "TIME [2/10]:\n",
      "- Feature evolution: *8 individuals*, up to *10 iterations*\n",
      "- Early stopping: After *5* iterations of no improvement\n",
      "\n",
      "INTERPRETABILITY [8/10]:\n",
      "- Feature pre-pruning strategy: Permutation Importance FS\n",
      "- Monotonicity constraints: enabled\n",
      "- Feature engineering search space: [CVCatNumEncode, CVTargetEncode, Frequent, Interactions, NumCatTE, NumToCatWoEMonotonic, NumToCatWoE, Original, Sum, Text, WeightOfEvidence]\n",
      "- Pre-trained PyTorch NLP transformers (without fine-tuning): ['disabled']\n",
      "- Pre-trained PyTorch NLP models (with fine-tuning): ['disabled']\n",
      "\n",
      "[Constant, LightGBM, XGBoostGBM] models to train:\n",
      "- Model and feature tuning: *72*\n",
      "- Feature evolution: *288*\n",
      "- Final pipeline: *6*\n",
      "- Transformers without MOJO support: *['Sum']*\n",
      "\n",
      "Estimated runtime: *20 minutes*\n",
      "Estimated mojo_size: *2.6MB*\n",
      "Auto-click Finish/Abort if not done in: *1 day*/*7 days*\n"
     ]
    }
   ],
   "source": [
    "# Get experiment preview with our settings\n",
    "dai.experiments.preview(\n",
    "    **telco_settings\n",
    "    ,transformers=transformers_to_use\n",
    ")"
   ]
  },
  {
   "cell_type": "markdown",
   "metadata": {},
   "source": [
    "### Launch an Experiment\n",
    "We will start by running an async experiment which will immeadiatly free our notebook to run additional commands"
   ]
  },
  {
   "cell_type": "code",
   "execution_count": 40,
   "metadata": {},
   "outputs": [
    {
     "name": "stdout",
     "output_type": "stream",
     "text": [
      "Experiment launched at: https://steam.cloud-internal.h2o.ai:443/proxy/driverless/446/#/experiment?key=9f539bf4-bb82-11ec-a1e2-a690ee1f9c81\n"
     ]
    }
   ],
   "source": [
    "default_baseline = dai.experiments.create_async(\n",
    "    **telco_settings, \n",
    "    name='Fastest Settings', **fast_settings,\n",
    "    force=True\n",
    "    # name='Default Baseline', accuracy=7, time=2, interpretability=8\n",
    ")"
   ]
  },
  {
   "cell_type": "markdown",
   "metadata": {},
   "source": [
    "### Information on an Experiment"
   ]
  },
  {
   "cell_type": "code",
   "execution_count": 41,
   "metadata": {},
   "outputs": [
    {
     "name": "stdout",
     "output_type": "stream",
     "text": [
      "Name: Fastest Settings\n",
      "Datasets: {'train_dataset': <class 'Dataset'> 68939f2e-bb82-11ec-a1e2-a690ee1f9c81 telco_churn_train, 'validation_dataset': None, 'test_dataset': <class 'Dataset'> 6893d962-bb82-11ec-a1e2-a690ee1f9c81 telco_churn_test}\n",
      "Target: Churn?\n",
      "Scorer: F1\n",
      "Task: classification\n",
      "Status: Running 0.00% - Tuned 0/5 Parameter & feature tuning models. Tuning [GLM]\n",
      "Web Page: "
     ]
    },
    {
     "data": {
      "text/html": [
       "<pre><a href='https://steam.cloud-internal.h2o.ai:443/proxy/driverless/446/#/experiment?key=9f539bf4-bb82-11ec-a1e2-a690ee1f9c81' rel='noopener noreferrer' target='_blank'>https://steam.cloud-internal.h2o.ai:443/proxy/driverless/446/#/experiment?key=9f539bf4-bb82-11ec-a1e2-a690ee1f9c81</a></pre>"
      ],
      "text/plain": [
       "'https://steam.cloud-internal.h2o.ai:443/proxy/driverless/446/#/experiment?key=9f539bf4-bb82-11ec-a1e2-a690ee1f9c81'"
      ]
     },
     "execution_count": 41,
     "metadata": {},
     "output_type": "execute_result"
    }
   ],
   "source": [
    "print(\"Name:\", default_baseline.name)\n",
    "print(\"Datasets:\", default_baseline.datasets)\n",
    "print(\"Target:\", default_baseline.settings['target_column']) # beta users from before March 15th use target_col\n",
    "print(\"Scorer:\", default_baseline.metrics()['scorer'])\n",
    "print(\"Task:\", default_baseline.settings['task'])\n",
    "print(\"Status:\", default_baseline.status(verbose=2))\n",
    "print(\"Web Page: \", end='')\n",
    "default_baseline.gui()"
   ]
  },
  {
   "cell_type": "markdown",
   "metadata": {},
   "source": [
    "### Monitor and Finish the Model Early\n",
    "Example of how you may want to monitor a running experiment, this will print the currently logs and accuracy metrics. You can also finish a model early if it reaches a certain accuracy metric or run time."
   ]
  },
  {
   "cell_type": "code",
   "execution_count": 42,
   "metadata": {},
   "outputs": [
    {
     "name": "stdout",
     "output_type": "stream",
     "text": [
      "Running 95.00% - Building pipeline visualization... - Validation F1: 0.8529 +/- 0.0124\n",
      "\n",
      "2022-04-13 23:38:11,073 C:  6% D:27.0GB  M:55.7GB  NODE:LOCAL1      724    DATA   | 65532       717  0.0  0.0 3324076 234460 ?      S    23:13   0:00 #_#_h2oai-DriverlessAI_start_h2o_recipes__start_h2o_recipes\n",
      "2022-04-13 23:38:11,074 C:  6% D:27.0GB  M:55.7GB  NODE:LOCAL1      724    DATA   | 65532      1132  0.9  0.1 20510796 448132 ?     Ssl  23:13   0:13  \\_ /opt/h2oai/dai/python/bin/java -ea -DdoUBench=false -Djava.io.tmpdir=/dai-data/TMPDIR -Dsys.ai.h2o.heartbeat.benchmark.enabled=false -jar /opt/h2oai/dai/python/lib/python3.8/site-packages/h2o/backend/bin/h2o.jar -ip 127.0.0.1 -web_ip 127.0.0.1 -port 50361 -ice_root /dai-data/contrib/h2o_tmp -nthreads 8 -log_dir /dai-data/contrib/h2o_log -name DAI-H2O-RECIPES-1.10. -log_level INFO -allow_unsupported_java\n",
      "2022-04-13 23:38:11,076 C:  6% D:27.0GB  M:55.7GB  NODE:LOCAL1      724    DATA   |\n",
      "\n",
      "Test F1: 0.8045\n"
     ]
    }
   ],
   "source": [
    "# Monitor the experiment and stop at a nice model\n",
    "import time\n",
    "from IPython.display import clear_output\n",
    "\n",
    "while default_baseline.is_running():\n",
    "    time.sleep(1)\n",
    "    \n",
    "    # grab experiment status\n",
    "    status = default_baseline.status(verbose=2)\n",
    "    \n",
    "    # grab current metrics\n",
    "    metrics = default_baseline.metrics()   \n",
    "    \n",
    "    # pretty print info\n",
    "    clear_output(wait=True)\n",
    "    print(status, \" - Validation \", metrics['scorer'], \": \", sep='', end='')\n",
    "    \n",
    "    if metrics['val_score'] is not None:\n",
    "        print(round(metrics['val_score'], 4), '+/-', round(metrics['val_score_sd'], 4))\n",
    "        if metrics['val_score'] > 0.9:\n",
    "            default_baseline.finish()\n",
    "    else:\n",
    "        print()\n",
    "    \n",
    "    print()\n",
    "    default_baseline.log.tail(3)\n",
    "    time.sleep(1)\n",
    "    \n",
    "print(\"\\nTest \", default_baseline.metrics()['scorer'], \": \", \n",
    "      round(default_baseline.metrics()['test_score'], 4), sep='')"
   ]
  },
  {
   "cell_type": "markdown",
   "metadata": {},
   "source": [
    "### View the Experiment Summary"
   ]
  },
  {
   "cell_type": "code",
   "execution_count": 43,
   "metadata": {},
   "outputs": [
    {
     "name": "stdout",
     "output_type": "stream",
     "text": [
      "Status: Complete\n",
      "Experiment: Fastest Settings (9f539bf4-bb82-11ec-a1e2-a690ee1f9c81)\n",
      "  Version: 1.10.2, 2022-04-13 23:38\n",
      "  Settings: 1/1/6, seed=465908712, GPUs enabled\n",
      "  Train data: telco_churn_train (2666, 21)\n",
      "  Validation data: N/A\n",
      "  Test data: [Test] (667, 20)\n",
      "  Target column: Churn? (binary, 14.479% target class)\n",
      "System specs: Docker/Linux, 54 GB, 32 CPU cores, 1/1 GPU\n",
      "  Max memory usage: 0.964 GB, 0 GB GPU\n",
      "Recipe: AutoDL (5 iterations, 2 individuals)\n",
      "  Validation scheme: stratified, 1 internal holdout\n",
      "  Feature engineering: 19 features scored (18 selected)\n",
      "Timing:\n",
      "  Data preparation: 12.07 secs\n",
      "  Shift/Leakage detection: 0.00 secs\n",
      "  Model and feature tuning: 18.87 secs (6 models trained)\n",
      "  Feature evolution: 1.31 secs (0 of 3 model trained)\n",
      "  Final pipeline training: 27.14 secs (7 models trained)\n",
      "  Python / MOJO scorer building: 0.00 secs / 5.67 secs\n",
      "Validation score: F1 = 0.2529489 (constant preds of -1.776)\n",
      "Validation score: F1 = 0.5109489 +/- 0.02091444 (baseline)\n",
      "Validation score: F1 = 0.852861 +/- 0.01240313 (final pipeline)\n",
      "Test score:       F1 = 0.8044693 +/- 0.03131083 (final pipeline)\n"
     ]
    }
   ],
   "source": [
    "default_baseline.summary()"
   ]
  },
  {
   "cell_type": "markdown",
   "metadata": {},
   "source": [
    "### Interact with Model Artifacts\n",
    "* See which are available\n",
    "* Create the AutoReport\n",
    "* Download the AutoReport\n",
    "* Open the AutoReport"
   ]
  },
  {
   "cell_type": "code",
   "execution_count": 44,
   "metadata": {},
   "outputs": [
    {
     "name": "stdout",
     "output_type": "stream",
     "text": [
      "Available artifacts: ['logs', 'summary', 'test_predictions', 'train_predictions']\n"
     ]
    }
   ],
   "source": [
    "print(\"Available artifacts:\", default_baseline.artifacts.list())"
   ]
  },
  {
   "cell_type": "code",
   "execution_count": 45,
   "metadata": {},
   "outputs": [
    {
     "name": "stdout",
     "output_type": "stream",
     "text": [
      "Generating autodoc...\n"
     ]
    }
   ],
   "source": [
    "default_baseline.artifacts.create('autoreport')"
   ]
  },
  {
   "cell_type": "code",
   "execution_count": 46,
   "metadata": {},
   "outputs": [
    {
     "name": "stdout",
     "output_type": "stream",
     "text": [
      "Downloaded 'report.docx'\n"
     ]
    }
   ],
   "source": [
    "artifacts = default_baseline.artifacts.download(['autoreport'], \"./\", overwrite=True)"
   ]
  },
  {
   "cell_type": "code",
   "execution_count": 47,
   "metadata": {},
   "outputs": [],
   "source": [
    "# OSX\n",
    "!open -a \"Microsoft Word\" {artifacts[\"autoreport\"]}\n",
    "\n",
    "# Windows - not tested\n",
    "# !start {artifacts[\"autoreport\"]}"
   ]
  },
  {
   "cell_type": "markdown",
   "metadata": {},
   "source": [
    "### View Final Model Performance"
   ]
  },
  {
   "cell_type": "code",
   "execution_count": 48,
   "metadata": {},
   "outputs": [
    {
     "data": {
      "text/plain": [
       "{'scorer': 'F1',\n",
       " 'val_score': 0.8528610354223434,\n",
       " 'val_score_sd': 0.012403134106512973,\n",
       " 'val_roc_auc': 0.9241853013362421,\n",
       " 'val_pr_auc': 0.8780771380289655,\n",
       " 'test_score': 0.8044692737430168,\n",
       " 'test_score_sd': 0.0313108250695895,\n",
       " 'test_roc_auc': 0.9036896364622897,\n",
       " 'test_pr_auc': 0.8325879996988325}"
      ]
     },
     "execution_count": 48,
     "metadata": {},
     "output_type": "execute_result"
    }
   ],
   "source": [
    "default_baseline.metrics()"
   ]
  },
  {
   "cell_type": "code",
   "execution_count": 49,
   "metadata": {},
   "outputs": [
    {
     "name": "stdout",
     "output_type": "stream",
     "text": [
      "Validation F1 :\t 0.853\n",
      "Test F1 :\t 0.804\n"
     ]
    }
   ],
   "source": [
    "print(\"Validation\", default_baseline.metrics()[\"scorer\"], \":\\t\",round(default_baseline.metrics()['val_score'], 3))\n",
    "print(\"Test\", default_baseline.metrics()[\"scorer\"], \":\\t\",round(default_baseline.metrics()['test_score'], 3))"
   ]
  },
  {
   "cell_type": "markdown",
   "metadata": {},
   "source": [
    "### Download the Test Set Predictions"
   ]
  },
  {
   "cell_type": "code",
   "execution_count": 50,
   "metadata": {
    "scrolled": false
   },
   "outputs": [
    {
     "name": "stdout",
     "output_type": "stream",
     "text": [
      "Downloaded 'test_preds.csv'\n"
     ]
    },
    {
     "data": {
      "text/html": [
       "<div>\n",
       "<style scoped>\n",
       "    .dataframe tbody tr th:only-of-type {\n",
       "        vertical-align: middle;\n",
       "    }\n",
       "\n",
       "    .dataframe tbody tr th {\n",
       "        vertical-align: top;\n",
       "    }\n",
       "\n",
       "    .dataframe thead th {\n",
       "        text-align: right;\n",
       "    }\n",
       "</style>\n",
       "<table border=\"1\" class=\"dataframe\">\n",
       "  <thead>\n",
       "    <tr style=\"text-align: right;\">\n",
       "      <th></th>\n",
       "      <th>Churn?.False.</th>\n",
       "      <th>Churn?.True.</th>\n",
       "      <th>Churn?.predicted(th=0.34421)</th>\n",
       "    </tr>\n",
       "  </thead>\n",
       "  <tbody>\n",
       "    <tr>\n",
       "      <th>0</th>\n",
       "      <td>0.975820</td>\n",
       "      <td>0.024180</td>\n",
       "      <td>False.</td>\n",
       "    </tr>\n",
       "    <tr>\n",
       "      <th>1</th>\n",
       "      <td>0.984027</td>\n",
       "      <td>0.015973</td>\n",
       "      <td>False.</td>\n",
       "    </tr>\n",
       "    <tr>\n",
       "      <th>2</th>\n",
       "      <td>0.969247</td>\n",
       "      <td>0.030753</td>\n",
       "      <td>False.</td>\n",
       "    </tr>\n",
       "    <tr>\n",
       "      <th>3</th>\n",
       "      <td>0.967341</td>\n",
       "      <td>0.032659</td>\n",
       "      <td>False.</td>\n",
       "    </tr>\n",
       "    <tr>\n",
       "      <th>4</th>\n",
       "      <td>0.954038</td>\n",
       "      <td>0.045962</td>\n",
       "      <td>False.</td>\n",
       "    </tr>\n",
       "  </tbody>\n",
       "</table>\n",
       "</div>"
      ],
      "text/plain": [
       "   Churn?.False.  Churn?.True. Churn?.predicted(th=0.34421)\n",
       "0       0.975820      0.024180                       False.\n",
       "1       0.984027      0.015973                       False.\n",
       "2       0.969247      0.030753                       False.\n",
       "3       0.967341      0.032659                       False.\n",
       "4       0.954038      0.045962                       False."
      ]
     },
     "execution_count": 50,
     "metadata": {},
     "output_type": "execute_result"
    }
   ],
   "source": [
    "# Download predictions from test dataset\n",
    "artifacts = default_baseline.artifacts.download(['test_predictions'], \"./\", overwrite=True)\n",
    "local_predictions = pd.read_csv(artifacts['test_predictions'])\n",
    "\n",
    "local_predictions.head()"
   ]
  },
  {
   "cell_type": "markdown",
   "metadata": {},
   "source": [
    "### Plot ROC curve\n",
    "* Download the predictions with the Actual column\n",
    "* Use sklearn to calculate ROC curve\n",
    "* Plot AUC & ROC Curve by a categorical column"
   ]
  },
  {
   "cell_type": "code",
   "execution_count": 51,
   "metadata": {},
   "outputs": [
    {
     "name": "stdout",
     "output_type": "stream",
     "text": [
      "Complete\n",
      "Downloaded '9f539bf4-bb82-11ec-a1e2-a690ee1f9c81_preds_882e0973.csv'\n"
     ]
    },
    {
     "data": {
      "text/html": [
       "<div>\n",
       "<style scoped>\n",
       "    .dataframe tbody tr th:only-of-type {\n",
       "        vertical-align: middle;\n",
       "    }\n",
       "\n",
       "    .dataframe tbody tr th {\n",
       "        vertical-align: top;\n",
       "    }\n",
       "\n",
       "    .dataframe thead th {\n",
       "        text-align: right;\n",
       "    }\n",
       "</style>\n",
       "<table border=\"1\" class=\"dataframe\">\n",
       "  <thead>\n",
       "    <tr style=\"text-align: right;\">\n",
       "      <th></th>\n",
       "      <th>Area Code</th>\n",
       "      <th>Churn?</th>\n",
       "      <th>Churn?.False.</th>\n",
       "      <th>Churn?.True.</th>\n",
       "    </tr>\n",
       "  </thead>\n",
       "  <tbody>\n",
       "    <tr>\n",
       "      <th>0</th>\n",
       "      <td>415</td>\n",
       "      <td>False.</td>\n",
       "      <td>0.975820</td>\n",
       "      <td>0.024180</td>\n",
       "    </tr>\n",
       "    <tr>\n",
       "      <th>1</th>\n",
       "      <td>408</td>\n",
       "      <td>False.</td>\n",
       "      <td>0.984027</td>\n",
       "      <td>0.015973</td>\n",
       "    </tr>\n",
       "    <tr>\n",
       "      <th>2</th>\n",
       "      <td>415</td>\n",
       "      <td>False.</td>\n",
       "      <td>0.969247</td>\n",
       "      <td>0.030753</td>\n",
       "    </tr>\n",
       "    <tr>\n",
       "      <th>3</th>\n",
       "      <td>415</td>\n",
       "      <td>False.</td>\n",
       "      <td>0.967341</td>\n",
       "      <td>0.032659</td>\n",
       "    </tr>\n",
       "    <tr>\n",
       "      <th>4</th>\n",
       "      <td>408</td>\n",
       "      <td>False.</td>\n",
       "      <td>0.954038</td>\n",
       "      <td>0.045962</td>\n",
       "    </tr>\n",
       "  </tbody>\n",
       "</table>\n",
       "</div>"
      ],
      "text/plain": [
       "   Area Code  Churn?  Churn?.False.  Churn?.True.\n",
       "0        415  False.       0.975820      0.024180\n",
       "1        408  False.       0.984027      0.015973\n",
       "2        415  False.       0.969247      0.030753\n",
       "3        415  False.       0.967341      0.032659\n",
       "4        408  False.       0.954038      0.045962"
      ]
     },
     "execution_count": 51,
     "metadata": {},
     "output_type": "execute_result"
    }
   ],
   "source": [
    "preds = default_baseline.predict(telco_churn_split['test_dataset'], \n",
    "                         include_columns=[\"Churn?\", \"Area Code\"])\n",
    "\n",
    "test_predictions = pd.read_csv(preds.download(\"./\"))\n",
    "\n",
    "test_predictions.head()"
   ]
  },
  {
   "cell_type": "code",
   "execution_count": 56,
   "metadata": {},
   "outputs": [
    {
     "data": {
      "image/png": "[encoded data removed]",
      "text/plain": [
       "<Figure size 432x288 with 1 Axes>"
      ]
     },
     "metadata": {
      "needs_background": "light"
     },
     "output_type": "display_data"
    }
   ],
   "source": [
    "from sklearn.metrics import roc_curve\n",
    "from sklearn.metrics import auc\n",
    "from matplotlib import pyplot\n",
    "%matplotlib inline\n",
    "\n",
    "test_predictions[\"Actual\"] = np.where(test_predictions[\"Churn?\"] == \"True.\", 1, 0)\n",
    "\n",
    "# calculate roc curves\n",
    "ns_fpr, ns_tpr, _ = roc_curve(test_predictions[\"Actual\"], [0 for _ in range(len(test_predictions[\"Churn?\"]))])\n",
    "lr_fpr, lr_tpr, _ = roc_curve(test_predictions[\"Actual\"], test_predictions[\"Churn?.True.\"])\n",
    "\n",
    "# plot the roc curve for the model\n",
    "pyplot.plot(ns_fpr, ns_tpr, linestyle='--', label='No Skill')\n",
    "pyplot.plot(lr_fpr, lr_tpr, marker='.', label='Logistic')\n",
    "\n",
    "# axis labels\n",
    "pyplot.xlabel('False Positive Rate')\n",
    "pyplot.ylabel('True Positive Rate')\n",
    "# show the legend\n",
    "pyplot.legend()\n",
    "# show the plot\n",
    "pyplot.show()"
   ]
  },
  {
   "cell_type": "code",
   "execution_count": 57,
   "metadata": {},
   "outputs": [
    {
     "data": {
      "image/png": "[encoded data removed]",
      "text/plain": [
       "<Figure size 432x288 with 1 Axes>"
      ]
     },
     "metadata": {
      "needs_background": "light"
     },
     "output_type": "display_data"
    },
    {
     "data": {
      "image/png": "[encoded data removed]",
      "text/plain": [
       "<Figure size 432x288 with 1 Axes>"
      ]
     },
     "metadata": {
      "needs_background": "light"
     },
     "output_type": "display_data"
    },
    {
     "data": {
      "image/png": "[encoded data removed]",
      "text/plain": [
       "<Figure size 432x288 with 1 Axes>"
      ]
     },
     "metadata": {
      "needs_background": "light"
     },
     "output_type": "display_data"
    }
   ],
   "source": [
    "for ac in test_predictions[\"Area Code\"].unique():\n",
    "    grp = test_predictions[test_predictions[\"Area Code\"] == ac]\n",
    "\n",
    "    # calculate roc curves\n",
    "    ns_fpr, ns_tpr, _ = roc_curve(grp[\"Actual\"], [0 for _ in range(len(grp[\"Churn?\"]))])\n",
    "    lr_fpr, lr_tpr, _ = roc_curve(grp[\"Actual\"], grp[\"Churn?.True.\"])\n",
    "\n",
    "    # plot the roc curve for the model\n",
    "    pyplot.plot(ns_fpr, ns_tpr, linestyle='--', label='No Skill')\n",
    "    pyplot.plot(lr_fpr, lr_tpr, marker='.', label='Logistic')\n",
    "\n",
    "    pyplot.title('AUC of Area Code ' + str(ac) + ': ' + str(round(auc(lr_fpr, lr_tpr), 3)))\n",
    "    # axis labels\n",
    "    pyplot.xlabel('False Positive Rate')\n",
    "    pyplot.ylabel('True Positive Rate')\n",
    "    # show the legend\n",
    "    pyplot.legend()\n",
    "    # show the plot\n",
    "    pyplot.show()"
   ]
  },
  {
   "cell_type": "markdown",
   "metadata": {},
   "source": [
    "### Variable Importance"
   ]
  },
  {
   "cell_type": "code",
   "execution_count": 58,
   "metadata": {},
   "outputs": [
    {
     "data": {
      "text/html": [
       "<table>\n",
       "<thead>\n",
       "<tr><th style=\"text-align: right;\">    gain</th><th>interaction         </th><th>description                                                                                     </th></tr>\n",
       "</thead>\n",
       "<tbody>\n",
       "<tr><td style=\"text-align: right;\">1       </td><td>1_CustServ Calls    </td><td>CustServ Calls (Original)                                                                       </td></tr>\n",
       "<tr><td style=\"text-align: right;\">0.726292</td><td>4_Day Mins          </td><td>Day Mins (Original)                                                                             </td></tr>\n",
       "<tr><td style=\"text-align: right;\">0.663005</td><td>3_Day Charge        </td><td>Day Charge (Original)                                                                           </td></tr>\n",
       "<tr><td style=\"text-align: right;\">0.64795 </td><td>16_CVTE:Int&#x27;l Plan.0</td><td>Out-of-fold mean of the response grouped by: [&quot;Int&#x27;l Plan&quot;] using 5 folds [internal:(10, 3, 10)]</td></tr>\n",
       "<tr><td style=\"text-align: right;\">0.623331</td><td>14_VMail Message    </td><td>VMail Message (Original)                                                                        </td></tr>\n",
       "<tr><td style=\"text-align: right;\">0.535766</td><td>8_Intl Calls        </td><td>Intl Calls (Original)                                                                           </td></tr>\n",
       "<tr><td style=\"text-align: right;\">0.520355</td><td>10_Intl Mins        </td><td>Intl Mins (Original)                                                                            </td></tr>\n",
       "<tr><td style=\"text-align: right;\">0.508401</td><td>9_Intl Charge       </td><td>Intl Charge (Original)                                                                          </td></tr>\n",
       "<tr><td style=\"text-align: right;\">0.420099</td><td>7_Eve Mins          </td><td>Eve Mins (Original)                                                                             </td></tr>\n",
       "<tr><td style=\"text-align: right;\">0.358189</td><td>6_Eve Charge        </td><td>Eve Charge (Original)                                                                           </td></tr>\n",
       "<tr><td style=\"text-align: right;\">0.350129</td><td>18_CVTE:VMail Plan.0</td><td>Out-of-fold mean of the response grouped by: [&#x27;VMail Plan&#x27;] using 5 folds [internal:(10, 3, 10)]</td></tr>\n",
       "<tr><td style=\"text-align: right;\">0.247429</td><td>13_Night Mins       </td><td>Night Mins (Original)                                                                           </td></tr>\n",
       "<tr><td style=\"text-align: right;\">0.246719</td><td>12_Night Charge     </td><td>Night Charge (Original)                                                                         </td></tr>\n",
       "<tr><td style=\"text-align: right;\">0.188997</td><td>17_CVTE:State.0     </td><td>Out-of-fold mean of the response grouped by: [&#x27;State&#x27;] using 5 folds [internal:(10, 3, 10)]     </td></tr>\n",
       "<tr><td style=\"text-align: right;\">0.18809 </td><td>11_Night Calls      </td><td>Night Calls (Original)                                                                          </td></tr>\n",
       "<tr><td style=\"text-align: right;\">0.167932</td><td>5_Eve Calls         </td><td>Eve Calls (Original)                                                                            </td></tr>\n",
       "<tr><td style=\"text-align: right;\">0.145352</td><td>0_Account Length    </td><td>Account Length (Original)                                                                       </td></tr>\n",
       "<tr><td style=\"text-align: right;\">0.134514</td><td>2_Day Calls         </td><td>Day Calls (Original)                                                                            </td></tr>\n",
       "</tbody>\n",
       "</table>"
      ],
      "text/plain": [
       "<driverlessai._utils.Table at 0x11f6d2640>"
      ]
     },
     "execution_count": 58,
     "metadata": {},
     "output_type": "execute_result"
    }
   ],
   "source": [
    "default_baseline.variable_importance()"
   ]
  },
  {
   "cell_type": "markdown",
   "metadata": {},
   "source": [
    "### Retrain a Model for Production\n",
    "* Retrain the final model with the full dataset\n",
    "* Print the model metrics\n",
    "* Create and Download the MOJO"
   ]
  },
  {
   "cell_type": "code",
   "execution_count": 59,
   "metadata": {},
   "outputs": [
    {
     "name": "stdout",
     "output_type": "stream",
     "text": [
      "make_mojo_scoring_pipeline | default_value: auto\n",
      "mojo_for_predictions | default_value: auto\n",
      "mojo_for_predictions_max_rows | default_value: 10000\n",
      "mojo_for_predictions_batch_size | default_value: 100\n",
      "mojo_acceptance_test_rtol | default_value: 0.0\n",
      "mojo_acceptance_test_atol | default_value: 0.0\n",
      "reduce_mojo_size | default_value: False\n",
      "make_python_pipeline_visualization | default_value: auto\n",
      "benchmark_mojo_latency | default_value: auto\n",
      "benchmark_mojo_latency_auto_size_limit | default_value: 500\n",
      "mojo_building_timeout | default_value: 1800.0\n",
      "mojo_building_parallelism | default_value: -1\n",
      "pytorch_nlp_pretrained_models | default_value: ['bert-base-uncased', 'distilbert-base-uncased', 'bert-base-multilingual-cased']\n",
      "included_pretransformers | default_value: []\n",
      "enable_rulefit | default_value: auto\n",
      "enable_rapids_cuml_models | default_value: False\n",
      "enable_rapids_models_dask | default_value: False\n",
      "enable_lightgbm_cat_support | default_value: False\n",
      "enable_lightgbm_linear_tree | default_value: False\n",
      "cross_validate_meta_learner | default_value: False\n",
      "enable_rapids_transformers | default_value: False\n",
      "enable_rapids_transformers_dask | default_value: False\n",
      "pred_labels | default_value: True\n",
      "enable_early_stopping_threshold | default_value: auto\n",
      "mli_enable_mojo_scorer | default_value: True\n",
      "make_mojo_scoring_pipeline_for_features_only | default_value: False\n",
      "mojo_replace_target_encoding_with_grouped_input_cols | default_value: False\n"
     ]
    }
   ],
   "source": [
    "dai.experiments.search_expert_settings(\"mojo\")"
   ]
  },
  {
   "cell_type": "code",
   "execution_count": 60,
   "metadata": {},
   "outputs": [
    {
     "name": "stdout",
     "output_type": "stream",
     "text": [
      "Experiment launched at: https://steam.cloud-internal.h2o.ai:443/proxy/driverless/446/#/experiment?key=414a6866-bb83-11ec-a1e2-a690ee1f9c81\n",
      "Complete 100.00% - Status: Complete                            \n"
     ]
    }
   ],
   "source": [
    "# Retrain on all data for productionalizing\n",
    "full_model = default_baseline.retrain(final_pipeline_only=True, \n",
    "                                      train_dataset=telco_churn,\n",
    "                                      test_dataset=\"\",\n",
    "                                      make_mojo_scoring_pipeline=\"on\")\n",
    "\n",
    "full_model = dai.experiments.get(full_model.key)"
   ]
  },
  {
   "cell_type": "code",
   "execution_count": 61,
   "metadata": {},
   "outputs": [
    {
     "data": {
      "text/plain": [
       "{'scorer': 'F1',\n",
       " 'val_score': 0.8295454545454546,\n",
       " 'val_score_sd': 0.01203503512282308,\n",
       " 'val_roc_auc': 0.9185732447059678,\n",
       " 'val_pr_auc': 0.8678090892706718,\n",
       " 'test_score': None,\n",
       " 'test_score_sd': None,\n",
       " 'test_roc_auc': None,\n",
       " 'test_pr_auc': None}"
      ]
     },
     "execution_count": 61,
     "metadata": {},
     "output_type": "execute_result"
    }
   ],
   "source": [
    "full_model.metrics()"
   ]
  },
  {
   "cell_type": "code",
   "execution_count": 63,
   "metadata": {},
   "outputs": [
    {
     "name": "stdout",
     "output_type": "stream",
     "text": [
      "Downloaded 'mojo.zip'\n"
     ]
    }
   ],
   "source": [
    "artifacts = full_model.artifacts.download(\"mojo_pipeline\", './', overwrite=True)"
   ]
  }
 ],
 "metadata": {
  "kernelspec": {
   "display_name": "Python 3 (ipykernel)",
   "language": "python",
   "name": "python3"
  },
  "language_info": {
   "codemirror_mode": {
    "name": "ipython",
    "version": 3
   },
   "file_extension": ".py",
   "mimetype": "text/x-python",
   "name": "python",
   "nbconvert_exporter": "python",
   "pygments_lexer": "ipython3",
   "version": "3.8.12"
  },
  "toc": {
   "base_numbering": 1,
   "nav_menu": {},
   "number_sections": true,
   "sideBar": true,
   "skip_h1_title": true,
   "title_cell": "Table of Contents",
   "title_sidebar": "Contents",
   "toc_cell": false,
   "toc_position": {
    "height": "calc(100% - 180px)",
    "left": "10px",
    "top": "150px",
    "width": "336px"
   },
   "toc_section_display": true,
   "toc_window_display": true
  }
 },
 "nbformat": 4,
 "nbformat_minor": 5
}

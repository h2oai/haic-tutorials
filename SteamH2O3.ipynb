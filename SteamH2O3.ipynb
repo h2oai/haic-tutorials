{
 "cells": [
  {
   "cell_type": "markdown",
   "id": "9d7be2f4-eb7f-456a-a828-7f19466c3d83",
   "metadata": {},
   "source": [
    "# Steam to H2O3\n",
    "This notebook provides a getting started tutorial for how to securely connect to an instance of the H2O AI Cloud from a local workstation and then accomplish common tasks using the H2O3."
   ]
  },
  {
   "cell_type": "markdown",
   "id": "7bfd43aa-b06a-4ba4-9b69-d9b3158e3872",
   "metadata": {},
   "source": [
    "##### For more H2O-3 tutorials for more data science details go to: 'https://github.com/h2oai/h2o-tutorials/blob/master/h2o-open-tour-2016/chicago/intro-to-h2o.ipynb'"
   ]
  },
  {
   "cell_type": "markdown",
   "id": "c5a5b761-516d-4d4e-9c60-a4c434a29a9e",
   "metadata": {},
   "source": [
    "## Notebook Setup\n",
    "This tutorial relies on the latest Steam SDK (1.8.11) which can be installed into a python environment by: \n",
    "\n",
    "1. Go to the Enterprise Steam amd click on `Python client`.\n",
    "3. Navigate to the location where the Python client was downloaded, and install the client using `pip install h2osteam-1.8.11-py2.py3-none-any.whl`."
   ]
  },
  {
   "cell_type": "code",
   "execution_count": null,
   "id": "6201e62e-7fc2-43b3-b7fa-b49cf4978ba8",
   "metadata": {},
   "outputs": [],
   "source": [
    "import h2osteam\n",
    "import h2o\n",
    "import os\n",
    "import getpass\n",
    "import h2o_mlops_client as mlops\n",
    "\n",
    "from h2osteam.clients import H2oKubernetesClient\n",
    "\n",
    "# Import H2O GLM:\n",
    "from h2o.estimators.glm import H2OGeneralizedLinearEstimator"
   ]
  },
  {
   "cell_type": "markdown",
   "id": "91b06879-b74f-455a-803b-00c0bc33e7d0",
   "metadata": {},
   "source": [
    "## Table of Contents\n",
    "<div class=\"toc\"><ul class=\"toc-item\"><li><span><a href=\"#Notebook-Setup\" data-toc-modified-id=\"Notebook-Setup-1\"><span class=\"toc-item-num\">1&nbsp;&nbsp;</span>Notebook Setup</a></span></li><li><span><a href=\"#Securely-Connect\" data-toc-modified-id=\"Securely-Connect-2\"><span class=\"toc-item-num\">2&nbsp;&nbsp;</span>Securely Connect</a></span></li><li><span><a href=\"#H2O3-Clusters\" data-toc-modified-id=\"H2O3-Clusters-3\"><span class=\"toc-item-num\">3&nbsp;&nbsp;</span>H2O3 Clusters</a></span><ul class=\"toc-item\"><li><span><a href=\"#Create-new-cluster\" data-toc-modified-id=\"Create-new-cluster-3.1\"><span class=\"toc-item-num\">3.1&nbsp;&nbsp;</span>Create new cluster</a></span></li><li><span><a href=\"#List-all-existing-clusters\" data-toc-modified-id=\"List-all-existing-clusters-3.2\"><span class=\"toc-item-num\">3.2&nbsp;&nbsp;</span>List all existing clusters</a></span></li><li><span><a href=\"#Add-a-dataset\" data-toc-modified-id=\"Add-a-dataset-3.3\"><span class=\"toc-item-num\">3.3&nbsp;&nbsp;</span>Add a dataset</a></span></li><li><span><a href=\"#Run-an-experiment\" data-toc-modified-id=\"Run-an-experiment-3.4\"><span class=\"toc-item-num\">3.4&nbsp;&nbsp;</span>Run an experiment</a></span></li><li><span><a href=\"#Pause-our-instance\" data-toc-modified-id=\"Pause-our-instance-3.5\"><span class=\"toc-item-num\">3.5&nbsp;&nbsp;</span>Pause our instance</a></span></li><li><span><a href=\"#Delete-the-instance\" data-toc-modified-id=\"Delete-the-instance-3.6\"><span class=\"toc-item-num\">3.6&nbsp;&nbsp;</span>Delete the instance</a></span></li></ul></li></ul></div>"
   ]
  },
  {
   "cell_type": "markdown",
   "id": "6be58b71-7bde-41ab-a9f6-17bb23b08f75",
   "metadata": {},
   "source": [
    "## Securely Connect"
   ]
  },
  {
   "cell_type": "markdown",
   "id": "b69c3dc0-b87b-42f0-bb61-a72e3b46bf30",
   "metadata": {},
   "source": [
    "Lets now connect to Steam securely!"
   ]
  },
  {
   "cell_type": "markdown",
   "id": "4a216af0",
   "metadata": {},
   "source": [
    "Remember that this token expires periodically. You can obtain a fresh token by running this code again!"
   ]
  },
  {
   "cell_type": "code",
   "execution_count": null,
   "id": "0b1284ff",
   "metadata": {},
   "outputs": [],
   "source": [
    "refresh_token = 'https://cloud.h2o.ai/auth/get-platform-token'\n",
    "\n",
    "print('Click link to get personalized password:', refresh_token)\n",
    "\n",
    "tp = mlops.TokenProvider(\n",
    "    token_endpoint_url = 'https://auth.cloud.h2o.ai/auth/realms/hac/protocol/openid-connect/token',\n",
    "    client_id = 'hac-platform-public',\n",
    "    refresh_token=getpass.getpass()\n",
    ")"
   ]
  },
  {
   "cell_type": "markdown",
   "id": "730cd7a2",
   "metadata": {},
   "source": [
    "Now lets log in to Steam!"
   ]
  },
  {
   "cell_type": "code",
   "execution_count": null,
   "id": "d9801333",
   "metadata": {},
   "outputs": [],
   "source": [
    "steam = h2osteam.login(\n",
    "    url=\"https://steam.cloud.h2o.ai/\",\n",
    "    access_token=tp.ensure_fresh_token(),\n",
    ")"
   ]
  },
  {
   "cell_type": "markdown",
   "id": "adac7c47-432c-4499-ad51-f791f48609a3",
   "metadata": {},
   "source": [
    "## H2O3 Clusters"
   ]
  },
  {
   "cell_type": "markdown",
   "id": "71990ae3-b7e3-4f40-8973-1e9322e05709",
   "metadata": {},
   "source": [
    "This example hows how to create an cluster and connect to it. First lets check the version of H2O python client and the available H2O server versions."
   ]
  },
  {
   "cell_type": "markdown",
   "id": "c016f89f",
   "metadata": {},
   "source": [
    "H2O Python Client Version:"
   ]
  },
  {
   "cell_type": "code",
   "execution_count": null,
   "id": "6676e45d-b6a2-4d91-bed3-6c7f57ebb057",
   "metadata": {},
   "outputs": [],
   "source": [
    "h2o.__version__"
   ]
  },
  {
   "cell_type": "markdown",
   "id": "bdc7dfce",
   "metadata": {},
   "source": [
    "H2O server version available:"
   ]
  },
  {
   "cell_type": "code",
   "execution_count": null,
   "id": "ab108d49",
   "metadata": {},
   "outputs": [],
   "source": [
    "h2o_engines=h2osteam.api().get_h2o_kubernetes_engines()"
   ]
  },
  {
   "cell_type": "code",
   "execution_count": null,
   "id": "00235608",
   "metadata": {},
   "outputs": [],
   "source": [
    "for i in range(len(h2o_engines)):\n",
    "    print(h2o_engines[i]['version'])"
   ]
  },
  {
   "cell_type": "markdown",
   "id": "d6536eb9",
   "metadata": {},
   "source": [
    "### Create new cluster"
   ]
  },
  {
   "cell_type": "markdown",
   "id": "a1d43d4c-1221-448c-924e-ae4c982f6467",
   "metadata": {},
   "source": [
    "Now lets launch the cluster! \n",
    "**Note**: Create a cluster with a version same or older than the version of H2O python client"
   ]
  },
  {
   "cell_type": "code",
   "execution_count": null,
   "id": "83b36c41-fb4c-408b-af97-514de4cee7ac",
   "metadata": {},
   "outputs": [],
   "source": [
    "cluster = H2oKubernetesClient().launch_cluster(\n",
    "    name=\"test_cluster\",\n",
    "    version=\"3.36.0.3\",\n",
    ")"
   ]
  },
  {
   "cell_type": "markdown",
   "id": "06c8c88b-e059-4597-bcd2-189f296fa789",
   "metadata": {},
   "source": [
    "Lets ensure the cluster is running by running the following line:"
   ]
  },
  {
   "cell_type": "code",
   "execution_count": null,
   "id": "844b7abd-6558-4e9e-8e14-b779e69420d8",
   "metadata": {},
   "outputs": [],
   "source": [
    "cluster.is_running()"
   ]
  },
  {
   "cell_type": "markdown",
   "id": "a1050cae",
   "metadata": {},
   "source": [
    "#### Connecting to new cluster"
   ]
  },
  {
   "cell_type": "markdown",
   "id": "0eda375a-9cad-47f9-97e2-59a629dceef4",
   "metadata": {},
   "source": [
    "Finally, lets connect to the cluster"
   ]
  },
  {
   "cell_type": "code",
   "execution_count": null,
   "id": "75acbd6a-d948-425a-b9aa-86c374fef681",
   "metadata": {},
   "outputs": [],
   "source": [
    "cluster.connect()"
   ]
  },
  {
   "cell_type": "markdown",
   "id": "92496ef4-d252-432e-a3e4-c28889b8b122",
   "metadata": {
    "tags": []
   },
   "source": [
    "### List all existing clusters"
   ]
  },
  {
   "cell_type": "code",
   "execution_count": null,
   "id": "d20022e6-0b26-4cf6-b796-6eefe298c16b",
   "metadata": {},
   "outputs": [],
   "source": [
    "clusters = H2oKubernetesClient().get_clusters()\n",
    "clusters"
   ]
  },
  {
   "cell_type": "markdown",
   "id": "0120d3d3-aa95-424e-a4de-9d29ce214271",
   "metadata": {},
   "source": [
    "### Add a dataset"
   ]
  },
  {
   "cell_type": "markdown",
   "id": "f3f3cdd6",
   "metadata": {},
   "source": [
    "To add a dataset, you can either upload the dada from your local machine or import the data from a URL"
   ]
  },
  {
   "cell_type": "code",
   "execution_count": null,
   "id": "818a13de",
   "metadata": {},
   "outputs": [],
   "source": [
    "#loan_csv = \"/Volumes/H2OTOUR/loan.csv\"  # modify this for your machine\n",
    "\n",
    "# Alternatively, you can import the data directly from a URL\n",
    "loan_csv = \"https://raw.githubusercontent.com/h2oai/app-consumer-loan/master/data/loan.csv\"\n",
    "\n",
    "data = h2o.import_file(loan_csv)  # 163,987 rows x 15 columns"
   ]
  },
  {
   "cell_type": "markdown",
   "id": "36356b97",
   "metadata": {},
   "source": [
    "Lets compare the shape of the data to check if file was imported properly!"
   ]
  },
  {
   "cell_type": "code",
   "execution_count": null,
   "id": "284dc89a-d27f-47ad-98b9-943f00b997d9",
   "metadata": {},
   "outputs": [],
   "source": [
    "data.shape"
   ]
  },
  {
   "cell_type": "markdown",
   "id": "3cf5d088-680a-4551-8e64-f3973ca8ca97",
   "metadata": {},
   "source": [
    "### Run an experiment\n",
    "#### 1. First split the dataset for training and testing"
   ]
  },
  {
   "cell_type": "code",
   "execution_count": null,
   "id": "a446057d-4399-46f1-a5a2-c27c3e5affb5",
   "metadata": {},
   "outputs": [],
   "source": [
    "data['bad_loan'] = data['bad_loan'].asfactor()  #encode the binary repsonse as a factor\n",
    "data['bad_loan'].levels()  #optional: after encoding, this shows the two factor levels, '0' and '1'"
   ]
  },
  {
   "cell_type": "code",
   "execution_count": null,
   "id": "a27f269d-cbee-4be1-88a0-39b9e65696f6",
   "metadata": {},
   "outputs": [],
   "source": [
    "splits = data.split_frame(ratios=[0.7, 0.15], seed=1)  \n",
    "\n",
    "train = splits[0]\n",
    "valid = splits[1]\n",
    "test = splits[2]"
   ]
  },
  {
   "cell_type": "code",
   "execution_count": null,
   "id": "ece5ea90-4c2c-4abd-a040-d11668592e2f",
   "metadata": {},
   "outputs": [],
   "source": [
    "y = 'bad_loan'\n",
    "x = list(data.columns)"
   ]
  },
  {
   "cell_type": "code",
   "execution_count": null,
   "id": "1ab97143-945a-4200-b1ee-6e5d000fffc8",
   "metadata": {},
   "outputs": [],
   "source": [
    "x.remove(y)  #remove the response\n",
    "x.remove('int_rate')  #remove the interest rate column because it's correlated with the outcome"
   ]
  },
  {
   "cell_type": "markdown",
   "id": "8de83264-6329-45d7-bca5-bd7cfac1df4a",
   "metadata": {},
   "source": [
    "#### 2. Set up the experiment's settings (ie. accuracy, time, target column, etc.)"
   ]
  },
  {
   "cell_type": "markdown",
   "id": "07ce2cff-84c1-49de-b4f7-2cc4a5a8c981",
   "metadata": {},
   "source": [
    "We first create an object of class, \"H2OGeneralizedLinearEstimator\". This does not actually do any training, it just sets the model up for training by specifying model parameters."
   ]
  },
  {
   "cell_type": "code",
   "execution_count": null,
   "id": "19447341-8c23-441f-92d5-95cacc7146d5",
   "metadata": {},
   "outputs": [],
   "source": [
    "# Initialize the GLM estimator:\n",
    "# Similar to R's glm() and H2O's R GLM, H2O's GLM has the \"family\" argument\n",
    "\n",
    "glm_fit1 = H2OGeneralizedLinearEstimator(family='binomial', model_id='glm_fit1')"
   ]
  },
  {
   "cell_type": "markdown",
   "id": "86ca2061-c5c6-42eb-b807-4383d9462ee7",
   "metadata": {},
   "source": [
    "#### 3. Launch Experiment"
   ]
  },
  {
   "cell_type": "markdown",
   "id": "e8058e3c-a06f-4e39-8c55-f607c8a25341",
   "metadata": {},
   "source": [
    "Now that glm_fit1 object is initialized, we can train the model:"
   ]
  },
  {
   "cell_type": "code",
   "execution_count": null,
   "id": "ba3d90ba-b598-4aef-a448-8529a9795a67",
   "metadata": {},
   "outputs": [],
   "source": [
    "glm_fit1.train(x=x, y=y, training_frame=train, validation_frame=valid)"
   ]
  },
  {
   "cell_type": "markdown",
   "id": "95bdf54e-a51b-4901-ada7-d9e71389108e",
   "metadata": {},
   "source": [
    "#### 4. View information, summary, model artifacts, and model performance of experiment"
   ]
  },
  {
   "cell_type": "markdown",
   "id": "f28ff934-e0aa-4fc7-9880-b3fc9d61d1fc",
   "metadata": {},
   "source": [
    "Let's see the performance of the GLM that were just trained. "
   ]
  },
  {
   "cell_type": "code",
   "execution_count": null,
   "id": "2e7d32db-b6a4-484a-a5c8-bca5b7c6047f",
   "metadata": {},
   "outputs": [],
   "source": [
    "glm_perf1 = glm_fit1.model_performance(test)"
   ]
  },
  {
   "cell_type": "markdown",
   "id": "50a9fc7e-b1b6-48bd-8b01-5096221870da",
   "metadata": {},
   "source": [
    "Instead of printing the entire model performance metrics object, it is probably easier to print just the metric that you are interested in comparing. Here we are going to compare the test AUC to the training and validation AUC"
   ]
  },
  {
   "cell_type": "code",
   "execution_count": null,
   "id": "6c649baf-79b3-4b6f-8298-ac6ddcc12987",
   "metadata": {},
   "outputs": [],
   "source": [
    "print (glm_perf1.auc())"
   ]
  },
  {
   "cell_type": "code",
   "execution_count": null,
   "id": "6f155fb5-6d2e-47d3-b370-9a50d2a9acab",
   "metadata": {},
   "outputs": [],
   "source": [
    "print (glm_fit1.auc(train=True))\n",
    "print (glm_fit1.auc(valid=True))"
   ]
  },
  {
   "cell_type": "markdown",
   "id": "ef9c5297-398b-41ae-86ed-70c887417c1d",
   "metadata": {},
   "source": [
    "### Pause our instance"
   ]
  },
  {
   "cell_type": "code",
   "execution_count": null,
   "id": "df3b6a26-d700-457a-98f5-9f7f3432eddb",
   "metadata": {},
   "outputs": [],
   "source": [
    "cluster.stop()"
   ]
  },
  {
   "cell_type": "markdown",
   "id": "4e71d4f5-578e-44bc-89d1-2b8dd47bbca0",
   "metadata": {},
   "source": [
    "### Delete the instance"
   ]
  },
  {
   "cell_type": "code",
   "execution_count": null,
   "id": "f9da38d7-6411-4cd9-ac5b-beb2088861aa",
   "metadata": {},
   "outputs": [],
   "source": [
    "cluster.terminate()"
   ]
  }
 ],
 "metadata": {
  "kernelspec": {
   "display_name": "Python 3 (ipykernel)",
   "language": "python",
   "name": "python3"
  },
  "language_info": {
   "codemirror_mode": {
    "name": "ipython",
    "version": 3
   },
   "file_extension": ".py",
   "mimetype": "text/x-python",
   "name": "python",
   "nbconvert_exporter": "python",
   "pygments_lexer": "ipython3",
   "version": "3.9.10"
  }
 },
 "nbformat": 4,
 "nbformat_minor": 5
}

{
 "cells": [
  {
   "cell_type": "markdown",
   "metadata": {},
   "source": [
    "# H2O App Store\n",
    "This notebook provides a getting started tutorial for how to securely connect to an instance of the H2O AI Cloud from a local workstation and then accomplish common tasks using the App Store SDK."
   ]
  },
  {
   "cell_type": "markdown",
   "metadata": {},
   "source": [
    "### Notebook Setup\n",
    "\n",
    "This tutorial relies on the latest App Store SDK which can be installed into a python environment using `https://h2o-public-test-data.s3.amazonaws.com/e2e-testing/appstore-0.8.0-py3-none-any.whl`.\n"
   ]
  },
  {
   "cell_type": "code",
   "execution_count": null,
   "metadata": {},
   "outputs": [],
   "source": [
    "import appstore\n",
    "import getpass\n",
    "import pandas as pd"
   ]
  },
  {
   "cell_type": "markdown",
   "metadata": {},
   "source": [
    "## Table of Contents\n",
    "<div class=\"toc\"><ul class=\"toc-item\"><li><span><a href=\"#Notebook-Setup\" data-toc-modified-id=\"Notebook-Setup-1\"><span class=\"toc-item-num\">1&nbsp;&nbsp;</span>Notebook Setup</a></span></li><li><span><a href=\"#Securely-Connect\" data-toc-modified-id=\"Securely-Connect-2\"><span class=\"toc-item-num\">2&nbsp;&nbsp;</span>Securely Connect</a></span></li><li><span><a href=\"#Apps\" data-toc-modified-id=\"Apps-3\"><span class=\"toc-item-num\">3&nbsp;&nbsp;</span>Apps</a></span><ul class=\"toc-item\"><li><span><a href=\"#List-all-apps\" data-toc-modified-id=\"List-all-apps-3.1\"><span class=\"toc-item-num\">3.1&nbsp;&nbsp;</span>List all apps</a></span></li><li><span><a href=\"#Find-the-app-with-the-most-versions\" data-toc-modified-id=\"Find-the-app-with-the-most-versions-3.2\"><span class=\"toc-item-num\">3.2&nbsp;&nbsp;</span>Find the app with the most versions</a></span></li><li><span><a href=\"#List-all-apps-I-own\" data-toc-modified-id=\"List-all-apps-I-own-3.3\"><span class=\"toc-item-num\">3.3&nbsp;&nbsp;</span>List all apps I own</a></span></li><li><span><a href=\"#Change-the-visibility-of-an-app\" data-toc-modified-id=\"Change-the-visibility-of-an-app-3.4\"><span class=\"toc-item-num\">3.4&nbsp;&nbsp;</span>Change the visibility of an app</a></span></li><li><span><a href=\"#View-all-tags-assigned-to-an-app\" data-toc-modified-id=\"View-all-tags-assigned-to-an-app-3.5\"><span class=\"toc-item-num\">3.5&nbsp;&nbsp;</span>View all tags assigned to an app</a></span></li><li><span><a href=\"#List-of-tags\" data-toc-modified-id=\"List-of-tags-3.6\"><span class=\"toc-item-num\">3.6&nbsp;&nbsp;</span>List of tags</a></span></li><li><span><a href=\"#Add-a-new-category-tag-to-an-app\" data-toc-modified-id=\"Add-a-new-category-tag-to-an-app-3.7\"><span class=\"toc-item-num\">3.7&nbsp;&nbsp;</span>Add a new category tag to an app</a></span></li><li><span><a href=\"#Remove-a-category-tag-from-an-app\" data-toc-modified-id=\"Remove-a-category-tag-from-an-app-3.8\"><span class=\"toc-item-num\">3.8&nbsp;&nbsp;</span>Remove a category tag from an app</a></span></li></ul></li><li><span><a href=\"#App-Instances\" data-toc-modified-id=\"App-Instances-4\"><span class=\"toc-item-num\">4&nbsp;&nbsp;</span>App Instances</a></span><ul class=\"toc-item\"><li><span><a href=\"#Find-the-app-with-the-most-running-instances\" data-toc-modified-id=\"Find-the-app-with-the-most-running-instances-4.1\"><span class=\"toc-item-num\">4.1&nbsp;&nbsp;</span>Find the app with the most running instances</a></span></li><li><span><a href=\"#Start-a-new-instance\" data-toc-modified-id=\"Start-a-new-instance-4.2\"><span class=\"toc-item-num\">4.2&nbsp;&nbsp;</span>Start a new instance</a></span></li><li><span><a href=\"#List-all-instances-I-own\" data-toc-modified-id=\"List-all-instances-I-own-4.3\"><span class=\"toc-item-num\">4.3&nbsp;&nbsp;</span>List all instances I own</a></span></li><li><span><a href=\"#Pause-and-resume-an-instance\" data-toc-modified-id=\"Pause-and-resume-an-instance-4.4\"><span class=\"toc-item-num\">4.4&nbsp;&nbsp;</span>Pause and resume an instance</a></span></li><li><span><a href=\"#Delete-an-instance\" data-toc-modified-id=\"Delete-an-instance-4.5\"><span class=\"toc-item-num\">4.5&nbsp;&nbsp;</span>Delete an instance</a></span></li></ul></li></ul></div>"
   ]
  },
  {
   "cell_type": "markdown",
   "metadata": {},
   "source": [
    "## Securely Connect\n",
    "\n",
    "This setup will likely drastictly change later this week as the new connection method is released. We are starting with the App Store notebook as it is one of the few products which has an \"old way\" of connecting so we can begin before the feature is available"
   ]
  },
  {
   "cell_type": "markdown",
   "metadata": {},
   "source": [
    "### Appstore-Cloud-DEV"
   ]
  },
  {
   "cell_type": "code",
   "execution_count": null,
   "metadata": {},
   "outputs": [],
   "source": [
    "oidc_address = 'https://auth.cloud-dev.h2o.ai/auth/realms/hac-dev'\n",
    "client_id = 'hac-platform-public'\n",
    "refresh_token = 'https://cloud-dev.h2o.ai/auth/get-platform-token'\n",
    "endpoint = 'https://cloud-dev.h2o.ai'"
   ]
  },
  {
   "cell_type": "markdown",
   "metadata": {},
   "source": [
    "### Appstore-Cloud-Internal"
   ]
  },
  {
   "cell_type": "code",
   "execution_count": null,
   "metadata": {},
   "outputs": [],
   "source": [
    "oidc_address = 'https://auth.demo.h2o.ai/auth/realms/q8s-internal'\n",
    "client_id = 'q8s-internal-platform'\n",
    "refresh_token = 'https://cloud-internal.h2o.ai/auth/get-platform-token'\n",
    "endpoint='https://cloud-internal.h2o.ai'"
   ]
  },
  {
   "cell_type": "markdown",
   "metadata": {},
   "source": [
    "### Appstore-Cloud-QA"
   ]
  },
  {
   "cell_type": "code",
   "execution_count": null,
   "metadata": {},
   "outputs": [],
   "source": [
    "oidc_address = 'https://auth.demo.h2o.ai/auth/realms/q8s-qa'\n",
    "client_id = 'q8s-qa-public'\n",
    "refresh_token = 'https://cloud-qa.h2o.ai/auth/get-platform-token'\n",
    "endpoint='https://cloud-qa.h2o.ai'"
   ]
  },
  {
   "cell_type": "markdown",
   "metadata": {},
   "source": [
    "### Appstore-ManagedCloud-QA"
   ]
  },
  {
   "cell_type": "code",
   "execution_count": null,
   "metadata": {},
   "outputs": [],
   "source": [
    "oidc_address = 'https://auth.1736965.dedicated.h2o.ai/auth/realms/hac'\n",
    "client_id = 'hac-appstore-public'\n",
    "refresh_token = 'https://1736965.dedicated.h2o.ai/auth/get-platform-token'\n",
    "endpoint = 'https://1736965.dedicated.h2o.ai'"
   ]
  },
  {
   "cell_type": "markdown",
   "metadata": {},
   "source": [
    "### Appstore-Cloud.H2O.Ai"
   ]
  },
  {
   "cell_type": "code",
   "execution_count": null,
   "metadata": {},
   "outputs": [],
   "source": [
    "oidc_address = 'https://auth.cloud.h2o.ai/auth/realms/hac'\n",
    "client_id = 'appstore-public'\n",
    "refresh_token = 'https://cloud.h2o.ai/auth/get-platform-token'\n",
    "endpoint = 'https://cloud.h2o.ai'"
   ]
  },
  {
   "cell_type": "markdown",
   "metadata": {},
   "source": [
    "Refresh token"
   ]
  },
  {
   "cell_type": "code",
   "execution_count": null,
   "metadata": {},
   "outputs": [],
   "source": [
    "print('Click link to get personalized password:', refresh_token)\n",
    "cp = appstore.TokenContextProvider(\n",
    "    oidc_address,\n",
    "    client_id,\n",
    "    token = getpass.getpass()\n",
    ")\n"
   ]
  },
  {
   "cell_type": "code",
   "execution_count": null,
   "metadata": {},
   "outputs": [],
   "source": [
    "app_service = appstore.AppServiceClient(endpoint)\n",
    "tag_service = appstore.TagServiceClient(endpoint)"
   ]
  },
  {
   "cell_type": "markdown",
   "metadata": {},
   "source": [
    "\n",
    "## Apps"
   ]
  },
  {
   "cell_type": "markdown",
   "metadata": {},
   "source": [
    "### List all apps\n",
    "The following function lists all the apps that are owned by all users, running or suspended. You can see various attributes of the app such as id, version, title, status, visibility, and more!\n"
   ]
  },
  {
   "cell_type": "code",
   "execution_count": null,
   "metadata": {},
   "outputs": [],
   "source": [
    "apps_protobuf = app_service.ListApps(\n",
    "    ctx = cp.ctx(),\n",
    "    request = appstore.ListAppsRequest(\n",
    "        offset = 0,\n",
    "        limit = 100,\n",
    "        all_users = True\n",
    "    ),\n",
    ").apps"
   ]
  },
  {
   "cell_type": "code",
   "execution_count": null,
   "metadata": {},
   "outputs": [],
   "source": [
    "app_list = []\n",
    "\n",
    "for i in apps_protobuf:\n",
    "  \n",
    "    visibility = i.visibility\n",
    "    \n",
    "    if visibility == 1:\n",
    "        visibility = 'Private'\n",
    "    elif visibility == 2:\n",
    "        visibility = 'H2O Employees'\n",
    "    elif visibility == 3:\n",
    "        visibility = 'Public'\n",
    "        \n",
    "    app_list.append([i.title, i.version, i.id, i.create_time, visibility])\n",
    "    \n",
    "df_apps = pd.DataFrame(\n",
    "    app_list,\n",
    "    columns = ['App Name', 'App Version', 'App ID', 'Creation Date', 'Visibility']\n",
    ")\n",
    "\n",
    "df_apps"
   ]
  },
  {
   "cell_type": "markdown",
   "metadata": {},
   "source": [
    "### Find the app with the most versions"
   ]
  },
  {
   "cell_type": "markdown",
   "metadata": {},
   "source": [
    "An app can have many versions. You can see how many versions an app has by running:"
   ]
  },
  {
   "cell_type": "code",
   "execution_count": null,
   "metadata": {},
   "outputs": [],
   "source": [
    "apps_protobuf = app_service.ListApps(\n",
    "    ctx = cp.ctx(),\n",
    "    request = appstore.ListAppsRequest(\n",
    "        offset = 0,\n",
    "        limit = 100,\n",
    "        all_users = True # If False, returns only apps owned by the current user\n",
    "    ),\n",
    ").apps"
   ]
  },
  {
   "cell_type": "code",
   "execution_count": null,
   "metadata": {},
   "outputs": [],
   "source": [
    "app_list = []\n",
    "\n",
    "for i in apps_protobuf:       \n",
    "    app_list.append([i.title, i.name, i.version, i.id])\n",
    "    \n",
    "df_apps = pd.DataFrame(\n",
    "    app_list,\n",
    "    columns = ['App Title', 'App Name', 'App Version', 'App ID']\n",
    ")\n",
    "\n",
    "app_name_counts = df_apps.groupby('App Name').size().reset_index(name='App Version Count')\n",
    "\n",
    "app_name_counts = app_name_counts.sort_values('App Version Count',ascending =False)\n",
    "\n",
    "app_name_counts.reset_index(drop = True)\n"
   ]
  },
  {
   "cell_type": "markdown",
   "metadata": {},
   "source": [
    "### List all apps I own\n",
    "\n",
    "To list all the apps that you own, the code is same as to how to list all the apps. The only change needed is to change all_users to False."
   ]
  },
  {
   "cell_type": "code",
   "execution_count": null,
   "metadata": {},
   "outputs": [],
   "source": [
    "apps_protobuf = app_service.ListApps(\n",
    "    ctx = cp.ctx(),\n",
    "    request = appstore.ListAppsRequest(\n",
    "        offset = 0,\n",
    "        limit = 100,\n",
    "        all_users = False # If False, returns only apps owned by the current user\n",
    "    ),\n",
    ").apps"
   ]
  },
  {
   "cell_type": "code",
   "execution_count": null,
   "metadata": {},
   "outputs": [],
   "source": [
    "app_list = []\n",
    "\n",
    "for i in apps_protobuf:\n",
    "  \n",
    "    visibility = i.visibility\n",
    "    \n",
    "    if visibility == 1:\n",
    "        visibility = 'Private'\n",
    "    elif visibility == 2:\n",
    "        visibility = 'H2O Employees'\n",
    "    elif visibility == 3:\n",
    "        visibility = 'Public'\n",
    "        \n",
    "    app_list.append([i.title, i.version, i.id, i.create_time, visibility])\n",
    "    \n",
    "df_apps = pd.DataFrame(\n",
    "    app_list,\n",
    "    columns = ['App Name', 'App Version', 'App ID', 'Creation Date', 'Visibility']\n",
    ")\n",
    "\n",
    "df_apps"
   ]
  },
  {
   "cell_type": "markdown",
   "metadata": {},
   "source": [
    "### Change the visibility of an app\n",
    "\n",
    "To change the visibility of an app to unspecified, private, all users, or public run the following code:\n",
    "\n",
    "0 - unspecified, 1 - private, 2 - all users, 3 - public\n"
   ]
  },
  {
   "cell_type": "code",
   "execution_count": null,
   "metadata": {},
   "outputs": [],
   "source": [
    "app_service.UpdateApp(\n",
    "    ctx = cp.ctx(),\n",
    "    request = appstore.UpdateAppRequest(\n",
    "        id = '7adc1abf-27fb-404c-95d1-7fcf028f3656',\n",
    "        visibility = 2\n",
    "    ),\n",
    ")"
   ]
  },
  {
   "cell_type": "markdown",
   "metadata": {},
   "source": [
    "### View all tags assigned to an app"
   ]
  },
  {
   "cell_type": "markdown",
   "metadata": {},
   "source": [
    "To view tags assigned to an app, pass in the ID of the app in the code below."
   ]
  },
  {
   "cell_type": "code",
   "execution_count": null,
   "metadata": {},
   "outputs": [],
   "source": [
    "app = app_service.GetApp(\n",
    "    ctx = cp.ctx(),\n",
    "    request = appstore.GetAppRequest(\n",
    "        id = '387ac140-e4a9-4068-bb43-d69bec5b4f3e',\n",
    "    ),\n",
    ").app\n",
    "\n",
    "app.tags"
   ]
  },
  {
   "cell_type": "markdown",
   "metadata": {},
   "source": [
    "### List of tags"
   ]
  },
  {
   "cell_type": "markdown",
   "metadata": {},
   "source": [
    "Here you can see the list of all the available tags and ID."
   ]
  },
  {
   "cell_type": "code",
   "execution_count": null,
   "metadata": {},
   "outputs": [],
   "source": [
    "tag_list = tag_service.ListTags(\n",
    "    ctx = cp.ctx(),\n",
    "    request = appstore.ListTagsRequest(\n",
    "    )\n",
    ").tags"
   ]
  },
  {
   "cell_type": "code",
   "execution_count": null,
   "metadata": {},
   "outputs": [],
   "source": [
    "list_tags = []\n",
    "\n",
    "for i in tag_list:       \n",
    "    list_tags.append([i.title, i.name, i.id])\n",
    "    \n",
    "df_tags = pd.DataFrame(\n",
    "   list_tags,\n",
    "    columns = ['Tag Title', 'Tag Name', 'Tag ID']\n",
    ")\n",
    "\n",
    "df_tags"
   ]
  },
  {
   "cell_type": "markdown",
   "metadata": {},
   "source": [
    "### Add a new category tag to an app"
   ]
  },
  {
   "cell_type": "markdown",
   "metadata": {},
   "source": [
    "To add a tag to an app, pass in the ID of the app and the ID of the tag you want to add!\n",
    "\n",
    "The ID of the tags can be found in the table where all the tags available are listed."
   ]
  },
  {
   "cell_type": "code",
   "execution_count": null,
   "metadata": {},
   "outputs": [],
   "source": [
    "tag_service.AssignTag(\n",
    "    ctx = cp.ctx(),\n",
    "    request = appstore.AssignTagRequest(\n",
    "        app_id = '387ac140-e4a9-4068-bb43-d69bec5b4f3e',\n",
    "        tag_id = '0385f27a-2155-11ec-9649-0a382865161b'),\n",
    ")"
   ]
  },
  {
   "cell_type": "markdown",
   "metadata": {},
   "source": [
    "### Remove a category tag from an app"
   ]
  },
  {
   "cell_type": "markdown",
   "metadata": {},
   "source": [
    "To remove a tag from an app, again pass in the ID of the app and the ID of the tag you want to remove!"
   ]
  },
  {
   "cell_type": "code",
   "execution_count": null,
   "metadata": {},
   "outputs": [],
   "source": [
    "tag_service.UnassignTag(\n",
    "    ctx=cp.ctx(),\n",
    "    request=appstore.UnassignTagRequest(\n",
    "        app_id='387ac140-e4a9-4068-bb43-d69bec5b4f3e',\n",
    "        tag_id='0385f27a-2155-11ec-9649-0a382865161b'),\n",
    ")"
   ]
  },
  {
   "cell_type": "markdown",
   "metadata": {},
   "source": [
    "## App Instances"
   ]
  },
  {
   "cell_type": "markdown",
   "metadata": {},
   "source": [
    "### Find the app with the most running instances\n",
    "The following function lists the number the apps instances, running or suspended, of all the apps that are owned by all users."
   ]
  },
  {
   "cell_type": "code",
   "execution_count": null,
   "metadata": {},
   "outputs": [],
   "source": [
    "all_instances = app_service.ListAppInstances(\n",
    "    ctx=cp.ctx(),\n",
    "    request=appstore.ListAppInstancesRequest(\n",
    "        all_users=True,\n",
    "        include_app_details=False\n",
    "    ),\n",
    ").instances"
   ]
  },
  {
   "cell_type": "code",
   "execution_count": null,
   "metadata": {},
   "outputs": [],
   "source": [
    "all_instance_list = []\n",
    "\n",
    "for i in all_instances:   \n",
    "    all_instance_list.append([i.id, i.app_id])\n",
    "    \n",
    "df_all_instances = pd.DataFrame(\n",
    "    all_instance_list, \n",
    "    columns = ['Instance ID', 'App ID']\n",
    ")\n",
    "\n",
    "app_instance_counts = df_all_instances.groupby('App ID').size().reset_index(name='App Instance Count')\n",
    "\n",
    "app_instance_counts = app_instance_counts.sort_values('App Instance Count',ascending =False)\n",
    "\n",
    "app_instance_counts.reset_index(drop = True)"
   ]
  },
  {
   "cell_type": "markdown",
   "metadata": {},
   "source": [
    "### Start a new instance"
   ]
  },
  {
   "cell_type": "markdown",
   "metadata": {},
   "source": [
    "Now lets start an instance of an app!  Pass in the ID of the app of which you want to start an instance of."
   ]
  },
  {
   "cell_type": "code",
   "execution_count": null,
   "metadata": {},
   "outputs": [],
   "source": [
    "app_service.RunApp(\n",
    "    ctx = cp.ctx(),\n",
    "    request = appstore.RunAppRequest(\n",
    "        id = '56e90349-4f1e-44c6-825e-9607b3af0122',\n",
    "        visibility = 1\n",
    "    ),\n",
    ")"
   ]
  },
  {
   "cell_type": "markdown",
   "metadata": {},
   "source": [
    "### List all instances I own\n",
    "To list all the app instances that you own, the code is same as to how to list all the instances. The only change needed is to change all_users to False."
   ]
  },
  {
   "cell_type": "code",
   "execution_count": null,
   "metadata": {},
   "outputs": [],
   "source": [
    "instances_protobuf = app_service.ListAppInstances(\n",
    "    ctx=cp.ctx(),\n",
    "    request=appstore.ListAppInstancesRequest(\n",
    "        all_users=False,\n",
    "        include_app_details=True\n",
    "    ),\n",
    ").instances"
   ]
  },
  {
   "cell_type": "code",
   "execution_count": null,
   "metadata": {},
   "outputs": [],
   "source": [
    "instance_list = []\n",
    "for i in instances_protobuf:\n",
    "    status = i.status\n",
    "    if status == 5:\n",
    "        status = 'Suspended'\n",
    "    elif status == 3:\n",
    "        status = 'Deployed'\n",
    "    elif status == 2:\n",
    "        status = 'Pending'\n",
    "        \n",
    "    instance_list.append(\n",
    "        [i.owner, i.app_id, i.visibility, i.id, status]\n",
    "    )\n",
    "    \n",
    "df_instances = pd.DataFrame(\n",
    "    instance_list, \n",
    "    columns = ['App Name', 'App ID', 'App Visbility', 'Instance ID', 'Instance Status']\n",
    ")\n",
    "\n",
    "df_instances"
   ]
  },
  {
   "cell_type": "markdown",
   "metadata": {},
   "source": [
    "### Pause and resume an instance"
   ]
  },
  {
   "cell_type": "markdown",
   "metadata": {},
   "source": [
    "To pause an instance, pass in the ID of the instance and simply set suspend to True. To resume an instance, set suspend to False. "
   ]
  },
  {
   "cell_type": "code",
   "execution_count": null,
   "metadata": {},
   "outputs": [],
   "source": [
    "app_service.SetAppInstanceSuspension(\n",
    "    ctx = cp.ctx(),\n",
    "    request = appstore.SetAppInstanceSuspensionRequest(\n",
    "        id = '26af5683-0adb-4ac5-916c-2d29e3527d44',\n",
    "        suspend = True\n",
    "    ),\n",
    ")"
   ]
  },
  {
   "cell_type": "markdown",
   "metadata": {},
   "source": [
    "### Delete an instance"
   ]
  },
  {
   "cell_type": "markdown",
   "metadata": {},
   "source": [
    "When you no longer need an instance, you can terminate it. Remember to pass in the ID of the instance you want to delete!"
   ]
  },
  {
   "cell_type": "code",
   "execution_count": null,
   "metadata": {},
   "outputs": [],
   "source": [
    "app_service.TerminateAppInstance(\n",
    "    ctx = cp.ctx(),\n",
    "    request = appstore.TerminateAppInstanceRequest(id= 'fed02e9e-ffee-4538-b4da-90c8c8e64193')\n",
    ")"
   ]
  }
 ],
 "metadata": {
  "kernelspec": {
   "display_name": "Python 3 (ipykernel)",
   "language": "python",
   "name": "python3"
  },
  "language_info": {
   "codemirror_mode": {
    "name": "ipython",
    "version": 3
   },
   "file_extension": ".py",
   "mimetype": "text/x-python",
   "name": "python",
   "nbconvert_exporter": "python",
   "pygments_lexer": "ipython3",
   "version": "3.9.10"
  },
  "toc": {
   "base_numbering": 1,
   "nav_menu": {},
   "number_sections": true,
   "sideBar": true,
   "skip_h1_title": true,
   "title_cell": "Table of Contents",
   "title_sidebar": "Contents",
   "toc_cell": false,
   "toc_position": {},
   "toc_section_display": true,
   "toc_window_display": true
  }
 },
 "nbformat": 4,
 "nbformat_minor": 4
}

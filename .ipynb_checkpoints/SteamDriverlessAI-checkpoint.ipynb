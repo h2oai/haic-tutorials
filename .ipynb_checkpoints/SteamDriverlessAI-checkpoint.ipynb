{
 "cells": [
  {
   "cell_type": "markdown",
   "id": "6bee925f-57bc-4728-a82e-824e39c216f9",
   "metadata": {},
   "source": [
    "# Steam to Driverless AI\n",
    "This notebook provides a getting started tutorial for how to securely connect to an instance of the H2O AI Cloud from a local workstation and then accomplish common tasks using Driverless AI."
   ]
  },
  {
   "cell_type": "markdown",
   "id": "a48a8104-117f-44bb-b036-a220b7bb3585",
   "metadata": {},
   "source": [
    "##### For more Driverless AI tutorials for more data science details go to: https://github.com/h2oai/driverlessai-tutorials/tree/master/dai_python_client"
   ]
  },
  {
   "cell_type": "markdown",
   "id": "0f9911e2-6f43-485d-93fa-bad60e53e27a",
   "metadata": {},
   "source": [
    "## Notebook Setup\n",
    "This tutorial relies on the latest Steam SDK (1.8.11) which can be installed into a python environment by: \n",
    "\n",
    "1. Go to the Enterprise Steam amd click on `Python client`.\n",
    "3. Navigate to the location where the Python client was downloaded, and install the client using `pip install h2osteam-1.8.11-py2.py3-none-any.whl`."
   ]
  },
  {
   "cell_type": "code",
   "execution_count": null,
   "id": "267e3b10-1d31-4c2a-b3fe-e52489619d4d",
   "metadata": {},
   "outputs": [],
   "source": [
    "import os\n",
    "import getpass\n",
    "import h2osteam\n",
    "import h2o_mlops_client as mlops\n",
    "from h2osteam.clients import DriverlessClient\n",
    "import pandas as pd"
   ]
  },
  {
   "cell_type": "markdown",
   "id": "e58a731b-cb9d-4137-a28d-67bf3a5765bf",
   "metadata": {},
   "source": [
    "## Table of Contents\n",
    "<div class=\"toc\">\n",
    "    <ul class=\"toc-item\">\n",
    "        <li>\n",
    "            <span>\n",
    "                <a href=\"#Notebook-Setup\" data-toc-modified-id=\"Notebook-Setup-1\">\n",
    "                    <span class=\"toc-item-num\">1&nbsp;&nbsp;</span>\n",
    "                    Notebook Setup\n",
    "                </a>\n",
    "            </span>\n",
    "        </li>\n",
    "        <li>\n",
    "            <span>\n",
    "                <a href=\"#Securely-Connect\" data-toc-modified-id=\"Securely-Connect-2\">\n",
    "                    <span class=\"toc-item-num\">2&nbsp;&nbsp;</span>\n",
    "                    Securely Connect\n",
    "                </a>\n",
    "            </span>\n",
    "        </li>\n",
    "        <li>\n",
    "            <span>\n",
    "                <a href=\"#AI-Engines\" data-toc-modified-id=\"AI-Engines-3\">\n",
    "                    <span class=\"toc-item-num\">3&nbsp;&nbsp;</span>\n",
    "                    AI Engines\n",
    "                </a>\n",
    "            </span>\n",
    "        </li>\n",
    "        <li>\n",
    "            <span>\n",
    "                <a href=\"#Driverless-AI-Instances\" data-toc-modified-id=\"Driverless-AI-Instances-4\">\n",
    "                    <span class=\"toc-item-num\">4&nbsp;&nbsp;</span>\n",
    "                    Driverless AI Instances\n",
    "                </a>\n",
    "            </span>\n",
    "            <ul class=\"toc-item\">\n",
    "                <li>\n",
    "                    <span>\n",
    "                        <a href=\"#Create-new-instance\" data-toc-modified-id=\"Create-new-instance-4.1\">\n",
    "                            <span class=\"toc-item-num\">4.1&nbsp;&nbsp;</span>\n",
    "                            Create new instance\n",
    "                        </a>\n",
    "                    </span>\n",
    "                </li>\n",
    "                <li>\n",
    "                    <span>\n",
    "                        <a href=\"#List-all-Driverless-AI-instances-I-own\" data-toc-modified-id=\"List-all-Driverless-AI-instances-I-own-4.2\">\n",
    "                            <span class=\"toc-item-num\">4.2&nbsp;&nbsp;</span>\n",
    "                            List all Driverless AI instances I own\n",
    "                        </a>\n",
    "                    </span>\n",
    "                </li>\n",
    "                <li>\n",
    "                    <span>\n",
    "                        <a href=\"#Add-a-dataset\" data-toc-modified-id=\"Add-a-dataset-4.3\">\n",
    "                            <span class=\"toc-item-num\">4.3&nbsp;&nbsp;</span>\n",
    "                            Add a dataset\n",
    "                        </a>\n",
    "                    </span>\n",
    "                </li>\n",
    "                <li>\n",
    "                    <span>\n",
    "                        <a href=\"#Run-an-experiment\" data-toc-modified-id=\"Run-an-experiment-4.4\">\n",
    "                            <span class=\"toc-item-num\">4.4&nbsp;&nbsp;</span>\n",
    "                            Run an experiment\n",
    "                        </a>\n",
    "                    </span>\n",
    "                </li>\n",
    "                <li>\n",
    "                    <span>\n",
    "                        <a href=\"#List-all-exisiting-experiments\" data-toc-modified-id=\"List-all-exisiting-experiments-4.5\">\n",
    "                            <span class=\"toc-item-num\">4.5&nbsp;&nbsp;</span>\n",
    "                             List all exisiting experiments\n",
    "                        </a>\n",
    "                    </span>\n",
    "                </li>\n",
    "                <li>\n",
    "                    <span>\n",
    "                        <a href=\"#Pause-the-instance\" data-toc-modified-id=\"Pause-the-instance-4.6\">\n",
    "                            <span class=\"toc-item-num\">4.6&nbsp;&nbsp;</span>\n",
    "                            Pause the instance\n",
    "                        </a>\n",
    "                    </span>\n",
    "                </li>\n",
    "                <li>\n",
    "                    <span>\n",
    "                        <a href=\"#Resume-the-instance\" data-toc-modified-id=\"Resume-the-instance-4.7\">\n",
    "                            <span class=\"toc-item-num\">4.7&nbsp;&nbsp;</span>\n",
    "                            Resume the instance\n",
    "                        </a>\n",
    "                    </span>\n",
    "                </li>\n",
    "                <li>\n",
    "                    <span>\n",
    "                        <a href=\"#Delete-the-instance\" data-toc-modified-id=\"Delete-the-instance-4.8\">\n",
    "                            <span class=\"toc-item-num\">4.8&nbsp;&nbsp;</span>\n",
    "                            Delete the instance\n",
    "                        </a>\n",
    "                    </span>\n",
    "                </li>\n",
    "            </ul>\n",
    "        </li>\n",
    "    </ul>\n",
    " </div>\n",
    " \n"
   ]
  },
  {
   "cell_type": "markdown",
   "id": "1ca29d17-0dda-470e-b163-5f2bdd77eefc",
   "metadata": {},
   "source": [
    "## Securely Connect"
   ]
  },
  {
   "cell_type": "markdown",
   "id": "e70b933e-da4b-47b3-807b-60a132f5aeb5",
   "metadata": {},
   "source": [
    "Lets now connect to Steam securely!"
   ]
  },
  {
   "cell_type": "markdown",
   "id": "3067e2a0",
   "metadata": {},
   "source": [
    "Remember that this token expires periodically. You can obtain a fresh token by running this code again!"
   ]
  },
  {
   "cell_type": "code",
   "execution_count": null,
   "id": "321f5cc3",
   "metadata": {},
   "outputs": [],
   "source": [
    "refresh_token = 'https://cloud.h2o.ai/auth/get-platform-token'\n",
    "\n",
    "print('Click link to get personalized password:', refresh_token)\n",
    "\n",
    "tp = mlops.TokenProvider(\n",
    "    token_endpoint_url = 'https://auth.cloud.h2o.ai/auth/realms/hac/protocol/openid-connect/token',\n",
    "    client_id = 'hac-platform-public',\n",
    "    refresh_token=getpass.getpass()\n",
    ")"
   ]
  },
  {
   "cell_type": "markdown",
   "id": "b7383b34",
   "metadata": {},
   "source": [
    "Now lets log in to Steam!"
   ]
  },
  {
   "cell_type": "code",
   "execution_count": null,
   "id": "0ab45a43-739a-4fbf-9438-92bfae2c46f6",
   "metadata": {},
   "outputs": [],
   "source": [
    "steam = h2osteam.login(\n",
    "    url=\"https://steam.cloud.h2o.ai/\",\n",
    "    access_token=tp.ensure_fresh_token(),\n",
    ")"
   ]
  },
  {
   "cell_type": "markdown",
   "id": "e7f5a85d-cac2-4051-9e3f-e57b96e2cbf2",
   "metadata": {},
   "source": [
    "## AI Engines"
   ]
  },
  {
   "cell_type": "markdown",
   "id": "02ff7f97",
   "metadata": {},
   "source": [
    "AI Engine is a tool that helps you build an AI system or machine learning model. These tools help to reiterate taks that repetitive and often difficult to achieve by a human. In this notebook, we are specifically looking at Driverless AI."
   ]
  },
  {
   "cell_type": "markdown",
   "id": "cd90eaaf",
   "metadata": {},
   "source": [
    "First lets check to see whether you have the same version of steam as the server version."
   ]
  },
  {
   "cell_type": "markdown",
   "id": "db0b66f0",
   "metadata": {},
   "source": [
    "Server version of steam:"
   ]
  },
  {
   "cell_type": "code",
   "execution_count": null,
   "id": "3f02a7fd",
   "metadata": {},
   "outputs": [],
   "source": [
    "H2OSteam = h2osteam.api().get_config_meta()"
   ]
  },
  {
   "cell_type": "code",
   "execution_count": null,
   "id": "b2e2fddd",
   "metadata": {},
   "outputs": [],
   "source": [
    "H2OSteam['version']"
   ]
  },
  {
   "cell_type": "markdown",
   "id": "91728eec",
   "metadata": {},
   "source": [
    "User version of steam:"
   ]
  },
  {
   "cell_type": "code",
   "execution_count": null,
   "id": "55e02c20",
   "metadata": {},
   "outputs": [],
   "source": [
    "print(h2osteam.__version__)"
   ]
  },
  {
   "cell_type": "markdown",
   "id": "f1053b7b",
   "metadata": {},
   "source": [
    "## Driverless AI Instances"
   ]
  },
  {
   "cell_type": "markdown",
   "id": "474d90a5-6ff2-4e9d-ac28-b63009d59cb4",
   "metadata": {},
   "source": [
    "### Create new instance"
   ]
  },
  {
   "cell_type": "markdown",
   "id": "2057921d-7cc4-4abe-93aa-741c2a50b91e",
   "metadata": {},
   "source": [
    "In case we want to use a different version of Driverless AI, run the following line to see what versions are available:"
   ]
  },
  {
   "cell_type": "code",
   "execution_count": null,
   "id": "5be23c9c",
   "metadata": {},
   "outputs": [],
   "source": [
    "DAI_engines = h2osteam.api().get_driverless_engines()\n",
    "\n",
    "for i in range(len(DAI_engines)):\n",
    "    print(DAI_engines[i]['version'])"
   ]
  },
  {
   "cell_type": "code",
   "execution_count": null,
   "id": "0f545fcd",
   "metadata": {},
   "outputs": [],
   "source": [
    "print(f\"The newest DAI version is {DAI_engines[len(DAI_engines)-1]['version']}\")"
   ]
  },
  {
   "cell_type": "markdown",
   "id": "51abfc16",
   "metadata": {},
   "source": [
    "If you would like to use a different profile, run the following line to see what profiles are available:"
   ]
  },
  {
   "cell_type": "code",
   "execution_count": null,
   "id": "2d165402",
   "metadata": {},
   "outputs": [],
   "source": [
    "h2osteam.print_profiles()"
   ]
  },
  {
   "cell_type": "markdown",
   "id": "cfe11d59-c6db-4d71-8221-4919b6acf6bf",
   "metadata": {},
   "source": [
    "This example hows how to create an instance of Driverless AI v1.10.1.3 and connect to it."
   ]
  },
  {
   "cell_type": "code",
   "execution_count": null,
   "id": "467bbdcd-a0e8-4061-a489-4d128d53d2eb",
   "metadata": {},
   "outputs": [],
   "source": [
    "instance = DriverlessClient().launch_instance(name=\"test-instance\",\n",
    "                                              version=\"1.10.1.3\",\n",
    "                                              profile_name=\"default-driverless-kubernetes\")\n",
    "client = instance.connect()"
   ]
  },
  {
   "cell_type": "markdown",
   "id": "d1f914b7",
   "metadata": {},
   "source": [
    "If you want to interact with the UI, you can use this link!"
   ]
  },
  {
   "cell_type": "code",
   "execution_count": null,
   "id": "852d7472-a2c4-4f73-9b7f-9a250c5e691f",
   "metadata": {},
   "outputs": [],
   "source": [
    "client.server.gui()"
   ]
  },
  {
   "cell_type": "markdown",
   "id": "4d80d8d7-a80a-479a-a25d-3ae2af6f076c",
   "metadata": {
    "tags": []
   },
   "source": [
    "### List all Driverless AI instances I own"
   ]
  },
  {
   "cell_type": "markdown",
   "id": "57ffe24b-b4e0-4dec-85cf-b417b8799354",
   "metadata": {},
   "source": [
    "The following code lists all the available Driverless AI instances on steam and its attributes. Note that if you have not created an instance, nothing will show up on this list. Run this code again after you created an instance to see it!"
   ]
  },
  {
   "cell_type": "code",
   "execution_count": null,
   "id": "53cb7f26",
   "metadata": {},
   "outputs": [],
   "source": [
    "DAI_instance = steam.get_driverless_instances()"
   ]
  },
  {
   "cell_type": "code",
   "execution_count": null,
   "id": "95027fd4",
   "metadata": {},
   "outputs": [],
   "source": [
    "DAI_list = []\n",
    "\n",
    "for i in range(len(DAI)):   \n",
    "    DAI_list.append([DAI_instance[i]['name'], DAI_instance[i]['profile_name'], DAI_instance[i]['version'],\n",
    "                     DAI_instance[i]['status'], DAI_instance[i]['created_by']])\n",
    "\n",
    "df_DAI = pd.DataFrame(\n",
    "    DAI_list,\n",
    "    columns = ['DAI Name', 'Profile Name', 'Version', 'Status', 'Created By']\n",
    ")\n",
    "\n",
    "df_DAI"
   ]
  },
  {
   "cell_type": "markdown",
   "id": "d3558c20-1fa8-4047-8d4a-4881cebbc18a",
   "metadata": {},
   "source": [
    "### Add a dataset"
   ]
  },
  {
   "cell_type": "markdown",
   "id": "925dc037",
   "metadata": {},
   "source": [
    "#### Add dataset from URL"
   ]
  },
  {
   "cell_type": "markdown",
   "id": "fdac2492-4d95-46e8-91e0-4f1d642885c6",
   "metadata": {},
   "source": [
    "To create a dataset on the Driverless AI server using data from an URL, include the URL and the name of the connecter used for data transfer, and set the dataset name."
   ]
  },
  {
   "cell_type": "code",
   "execution_count": null,
   "id": "a697ccf7-1157-4050-8931-37399be215ba",
   "metadata": {},
   "outputs": [],
   "source": [
    "telco_churn = client.datasets.create(data=\"https://h2o-internal-release.s3-us-west-2.amazonaws.com/data/Splunk/churn.csv\", \n",
    "                                  data_source=\"s3\", \n",
    "                                  name=\"Telco_Churn\")"
   ]
  },
  {
   "cell_type": "markdown",
   "id": "09d5dce6",
   "metadata": {},
   "source": [
    "#### Upload dataset from your local machine"
   ]
  },
  {
   "cell_type": "markdown",
   "id": "595f24f6-c3f6-4673-b999-4d1be77b8c28",
   "metadata": {},
   "source": [
    "To add a dataset on the Driverless AI server using data on your local machine, first download the dataset onto a path on your local machine like this:"
   ]
  },
  {
   "cell_type": "code",
   "execution_count": null,
   "id": "df73dd96-c11b-4b68-bdbd-8b7bb32de7fb",
   "metadata": {},
   "outputs": [],
   "source": [
    "download_location = '/Users/admin/Downloads/'"
   ]
  },
  {
   "cell_type": "code",
   "execution_count": null,
   "id": "1e7ef7ae-4db0-43ed-856a-e1e3a5ce9ada",
   "metadata": {},
   "outputs": [],
   "source": [
    "local_file_path = telco_churn.download(download_location, overwrite=True)"
   ]
  },
  {
   "cell_type": "markdown",
   "id": "7898d0de-c82b-4599-8004-1dc87b9ea793",
   "metadata": {},
   "source": [
    "Then set the dataset name and create the dataset on the Driverless AI server"
   ]
  },
  {
   "cell_type": "code",
   "execution_count": null,
   "id": "a7ba0607-15e1-449d-8f93-2ed72ecbba66",
   "metadata": {},
   "outputs": [],
   "source": [
    "telco_churn2 = client.datasets.create(local_file_path, name=\"Telco_Churn_Duplicate\")"
   ]
  },
  {
   "cell_type": "markdown",
   "id": "b8c548c2",
   "metadata": {},
   "source": [
    "#### Change name of dataset"
   ]
  },
  {
   "cell_type": "markdown",
   "id": "336192b3-b4bd-409e-949f-4829e336c47f",
   "metadata": {},
   "source": [
    "To change the dataset name, simply run this command"
   ]
  },
  {
   "cell_type": "code",
   "execution_count": null,
   "id": "9b875b74-080a-43f2-9443-6eeca515c4b4",
   "metadata": {},
   "outputs": [],
   "source": [
    "print(\"Old Name:\", telco_churn2.name)\n",
    "\n",
    "telco_churn2.rename(\"Telco Churn New Name\")\n",
    "\n",
    "print(\"New Name:\", telco_churn2.name)"
   ]
  },
  {
   "cell_type": "markdown",
   "id": "e3c4afa3-139e-47d3-aaf8-55f6f3631d4b",
   "metadata": {},
   "source": [
    "### Run an experiment\n",
    "#### 1. First split the dataset for training and testing"
   ]
  },
  {
   "cell_type": "code",
   "execution_count": null,
   "id": "5907c87f-f490-433a-98db-2e42e779de9e",
   "metadata": {},
   "outputs": [],
   "source": [
    "telco_churn_split = telco_churn.split_to_train_test(\n",
    "    train_size=0.8, \n",
    "    train_name='telco_churn_train', \n",
    "    test_name='telco_churn_test', \n",
    "    target_column= \"Churn?\",\n",
    "    seed=42\n",
    ")"
   ]
  },
  {
   "cell_type": "code",
   "execution_count": null,
   "id": "1bd3cf83-dcad-4e86-b884-8599bcc45516",
   "metadata": {},
   "outputs": [],
   "source": [
    "telco_churn_split"
   ]
  },
  {
   "cell_type": "markdown",
   "id": "a6263f5a-064e-43eb-8844-92a554aef95c",
   "metadata": {},
   "source": [
    "#### 2. Set up the experiment's settings (ie. accuracy, time, target column, etc.)"
   ]
  },
  {
   "cell_type": "markdown",
   "id": "32aa5c60-e011-4a26-907a-9d8d7119530e",
   "metadata": {},
   "source": [
    "You might want to run several experiments with different dial and expert settings. All of these will likely have some things in common, namely details about this specific dataset. We will create a dictionary to use in many experiments."
   ]
  },
  {
   "cell_type": "code",
   "execution_count": null,
   "id": "3e302ea9-a050-4c95-8101-4548dce2e625",
   "metadata": {},
   "outputs": [],
   "source": [
    "telco_settings = {\n",
    "    **telco_churn_split,\n",
    "    'task': 'classification',\n",
    "    'target_column': \"Churn?\", \n",
    "    'scorer': 'F1'\n",
    "}"
   ]
  },
  {
   "cell_type": "code",
   "execution_count": null,
   "id": "3c100625-d12d-4052-a82d-cdcd970062a8",
   "metadata": {},
   "outputs": [],
   "source": [
    "client.experiments.preview( # Get experiment preview with our settings\n",
    "    **telco_settings\n",
    ")"
   ]
  },
  {
   "cell_type": "markdown",
   "id": "76fef044-7ee1-47e1-9baa-773de264ea47",
   "metadata": {},
   "source": [
    "There may be several common types of experiments you want to run, so H2O.ai will be creating common experiment settings in dictionaries for easy use. The one below turns off all extra settings such as building pipelines or checking for leakage. It also uses the fastest experiment settings."
   ]
  },
  {
   "cell_type": "code",
   "execution_count": null,
   "id": "2eccb59d-4bbd-4e7e-99eb-33154130ce93",
   "metadata": {},
   "outputs": [],
   "source": [
    "fast_settings = {\n",
    "    'accuracy': 1,\n",
    "    'time': 1,\n",
    "    'interpretability': 6,\n",
    "    'make_python_scoring_pipeline': 'off',\n",
    "    'make_mojo_scoring_pipeline': 'off',\n",
    "    'benchmark_mojo_latency': 'off',\n",
    "    'make_autoreport': False,\n",
    "    'check_leakage': 'off',\n",
    "    'check_distribution_shift': 'off'\n",
    "}"
   ]
  },
  {
   "cell_type": "markdown",
   "id": "871227c8-6a28-40cd-b286-f7d691a9da73",
   "metadata": {},
   "source": [
    "#### 3. Launch experiment"
   ]
  },
  {
   "cell_type": "code",
   "execution_count": null,
   "id": "c1e9ad2e-9a7a-4394-9bc7-42c96280116e",
   "metadata": {},
   "outputs": [],
   "source": [
    "default_baseline = client.experiments.create_async( #comment out the other experiments that you dont want to run\n",
    "    **telco_settings, \n",
    "    #name='Fastest Settings', **fast_settings,\n",
    "    name='Default Baseline', accuracy=7, time=2, interpretability=8\n",
    ")"
   ]
  },
  {
   "cell_type": "markdown",
   "id": "70fd3ef4-49b6-40ce-91ff-d5d89dd69959",
   "metadata": {},
   "source": [
    "#### 4. View information, summary, model artifacts, and model performance of experiment"
   ]
  },
  {
   "cell_type": "code",
   "execution_count": null,
   "id": "59a1ab01-e45b-423d-9d33-d69ab9397243",
   "metadata": {},
   "outputs": [],
   "source": [
    "#Prints information on experiment\n",
    "\n",
    "print(\"Name:\", default_baseline.name)\n",
    "print(\"Datasets:\", default_baseline.datasets)\n",
    "print(\"Target:\", default_baseline.settings['target_column'])\n",
    "print(\"Scorer:\", default_baseline.metrics()['scorer'])\n",
    "print(\"Task:\", default_baseline.settings['task'])\n",
    "print(\"Status:\", default_baseline.status(verbose=2))\n",
    "print(\"Web Page: \", end='')\n",
    "default_baseline.gui()"
   ]
  },
  {
   "cell_type": "code",
   "execution_count": null,
   "id": "38c29070-e219-40c0-b7ff-8ffa57e4ed30",
   "metadata": {},
   "outputs": [],
   "source": [
    "#view experiment summary\n",
    "\n",
    "default_baseline.summary() "
   ]
  },
  {
   "cell_type": "code",
   "execution_count": null,
   "id": "6184ad31-cacb-4083-bb8a-b0a361d0de80",
   "metadata": {},
   "outputs": [],
   "source": [
    "#see what model artifacts are available\n",
    "\n",
    "print(\"Available artifacts:\", default_baseline.artifacts.list()) "
   ]
  },
  {
   "cell_type": "code",
   "execution_count": null,
   "id": "81a28d98-f63f-4933-a84c-ebd47f6c0d13",
   "metadata": {},
   "outputs": [],
   "source": [
    "#generate autodoc\n",
    "\n",
    "default_baseline.artifacts.create('autoreport') "
   ]
  },
  {
   "cell_type": "code",
   "execution_count": null,
   "id": "514e07f2-6223-432e-910f-f085c7eb3989",
   "metadata": {},
   "outputs": [],
   "source": [
    "#download autodoc\n",
    "\n",
    "artifacts = default_baseline.artifacts.download(['autoreport'], download_location, overwrite=True) "
   ]
  },
  {
   "cell_type": "code",
   "execution_count": null,
   "id": "1e0d890f-f973-48f4-a04f-251b1db2b0f2",
   "metadata": {},
   "outputs": [],
   "source": [
    "#OSX - open autodoc on MacOS\n",
    "\n",
    "!open -a \"Microsoft Word\" {artifacts[\"autoreport\"]} "
   ]
  },
  {
   "cell_type": "code",
   "execution_count": null,
   "id": "cbedb324-88d0-45b8-9024-b2b1ef3b8ddd",
   "metadata": {},
   "outputs": [],
   "source": [
    "#view final model performance\n",
    "\n",
    "default_baseline.metrics() "
   ]
  },
  {
   "cell_type": "code",
   "execution_count": null,
   "id": "d884d744",
   "metadata": {},
   "outputs": [],
   "source": [
    "print(\"Validation\", default_baseline.metrics()[\"scorer\"], \":\\t\",round(default_baseline.metrics()['val_score'], 3))\n",
    "print(\"Test\", default_baseline.metrics()[\"scorer\"], \":\\t\",round(default_baseline.metrics()['test_score'], 3))"
   ]
  },
  {
   "cell_type": "markdown",
   "id": "cd9559b9",
   "metadata": {},
   "source": [
    "#### 5. Download and view test set predictions"
   ]
  },
  {
   "cell_type": "code",
   "execution_count": null,
   "id": "abc72b2a",
   "metadata": {},
   "outputs": [],
   "source": [
    "# Download predictions from test dataset\n",
    "artifacts = default_baseline.artifacts.download(['test_predictions'], download_location, overwrite=True)\n",
    "local_predictions = pd.read_csv(artifacts['test_predictions'])\n",
    "\n",
    "local_predictions.head()"
   ]
  },
  {
   "cell_type": "markdown",
   "id": "049066a3",
   "metadata": {},
   "source": [
    "### List all exisiting experiments"
   ]
  },
  {
   "cell_type": "markdown",
   "id": "675321cd-0d72-4edc-8418-2504b8ea1a9f",
   "metadata": {},
   "source": [
    "You can list all existing experiments using:"
   ]
  },
  {
   "cell_type": "code",
   "execution_count": null,
   "id": "0c4f4ba7",
   "metadata": {},
   "outputs": [],
   "source": [
    "exp = client.experiments.list()"
   ]
  },
  {
   "cell_type": "code",
   "execution_count": null,
   "id": "5f11f515",
   "metadata": {},
   "outputs": [],
   "source": [
    "experiment_list = []\n",
    "\n",
    "for i in range(len(exp)):\n",
    "    experiment_list.append([exp[i].name, exp[i].settings['target_column'], exp[i].settings['task'], \n",
    "    exp[i].settings['scorer'], exp[i].settings['accuracy'], exp[i].settings['time'],\n",
    "    exp[i].settings['interpretability'], str(exp[i].datasets['train_dataset']).split(' ', 1)[0], \n",
    "    str(exp[i].datasets['validation_dataset']).split(' ', 1)[0],\n",
    "    str(exp[i].datasets['test_dataset']).split(' ', 1)[0]])\n",
    "                            \n",
    "df_experiments = pd.DataFrame(\n",
    "    experiment_list,\n",
    "    columns = ['Experiment Name', 'Target Column', 'Task', 'Scorer', 'Accuracy', 'Time', 'Interpretability',\n",
    "               'Train Dataset', 'Validation Dataset', 'Test Dataset']\n",
    ")\n",
    "\n",
    "df_experiments"
   ]
  },
  {
   "cell_type": "markdown",
   "id": "a87b31af-224a-4382-838c-9204833e9d75",
   "metadata": {},
   "source": [
    "### Pause the instance"
   ]
  },
  {
   "cell_type": "markdown",
   "id": "8ca4b2d7",
   "metadata": {},
   "source": [
    "You can pause an instance that is currently running. Pausing an instance shuts it down, it is similar to powering off a server. You will not loose any data and you can start an instance at any time."
   ]
  },
  {
   "cell_type": "code",
   "execution_count": null,
   "id": "a7265890-77b3-4a57-b49c-4b27b5917d02",
   "metadata": {},
   "outputs": [],
   "source": [
    "instance.stop()"
   ]
  },
  {
   "cell_type": "markdown",
   "id": "3a0f2b57-b698-43e0-89e5-83d5fc61da73",
   "metadata": {},
   "source": [
    "### Resume the instance"
   ]
  },
  {
   "cell_type": "markdown",
   "id": "4d98ab5a",
   "metadata": {},
   "source": [
    "You can resume a paused instance by simply running:"
   ]
  },
  {
   "cell_type": "code",
   "execution_count": null,
   "id": "0a256ded-a1c5-4f31-9146-1e960661a22f",
   "metadata": {},
   "outputs": [],
   "source": [
    "instance.start()"
   ]
  },
  {
   "cell_type": "markdown",
   "id": "5d7a844a-422e-435d-a430-de55fd0c5328",
   "metadata": {},
   "source": [
    "### Delete the instance"
   ]
  },
  {
   "cell_type": "markdown",
   "id": "85762776",
   "metadata": {},
   "source": [
    "When you no longer need an instance, you can terminate it. Once deleted, there is no way to restart the instance or access any data."
   ]
  },
  {
   "cell_type": "code",
   "execution_count": null,
   "id": "a1500c6d-473f-4495-9e9f-da19be4f57fe",
   "metadata": {},
   "outputs": [],
   "source": [
    "instance.terminate()"
   ]
  }
 ],
 "metadata": {
  "kernelspec": {
   "display_name": "Python 3 (ipykernel)",
   "language": "python",
   "name": "python3"
  },
  "language_info": {
   "codemirror_mode": {
    "name": "ipython",
    "version": 3
   },
   "file_extension": ".py",
   "mimetype": "text/x-python",
   "name": "python",
   "nbconvert_exporter": "python",
   "pygments_lexer": "ipython3",
   "version": "3.9.10"
  }
 },
 "nbformat": 4,
 "nbformat_minor": 5
}

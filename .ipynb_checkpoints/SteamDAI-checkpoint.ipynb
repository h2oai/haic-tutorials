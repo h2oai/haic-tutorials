{
 "cells": [
  {
   "cell_type": "markdown",
   "id": "6bee925f-57bc-4728-a82e-824e39c216f9",
   "metadata": {},
   "source": [
    "# Steam to DAI\n",
    "This notebook provides a getting started tutorial for how to securely connect to an instance of the H2O AI Cloud from a local workstation and then accomplish common tasks using the Driverless AI."
   ]
  },
  {
   "cell_type": "markdown",
   "id": "0f9911e2-6f43-485d-93fa-bad60e53e27a",
   "metadata": {},
   "source": [
    "## Notebook Setup\n",
    "This tutorial relies on the latest Steam SDK which can be installed into a python environment using `pip install https://enterprise-steam.s3.amazonaws.com/release/1.8.4/python/h2osteam-1.8.4-py2.py3-none-any.whl`."
   ]
  },
  {
   "cell_type": "code",
   "execution_count": 44,
   "id": "267e3b10-1d31-4c2a-b3fe-e52489619d4d",
   "metadata": {},
   "outputs": [],
   "source": [
    "import os\n",
    "import h2osteam\n",
    "from h2osteam.clients import DriverlessClient"
   ]
  },
  {
   "cell_type": "markdown",
   "id": "e58a731b-cb9d-4137-a28d-67bf3a5765bf",
   "metadata": {},
   "source": [
    "## Table of Contents\n",
    "<div class=\"toc\"><ul class=\"toc-item\"><li><span><a href=\"#Notebook-Setup\" data-toc-modified-id=\"Notebook-Setup-1\"><span class=\"toc-item-num\">1&nbsp;&nbsp;</span>Notebook Setup</a></span></li><li><span><a href=\"#Securely-Connect\" data-toc-modified-id=\"Securely-Connect-2\"><span class=\"toc-item-num\">2&nbsp;&nbsp;</span>Securely Connect</a></span></li><li><span><a href=\"#AI-Engines\" data-toc-modified-id=\"AI-Engines-3\"><span class=\"toc-item-num\">3&nbsp;&nbsp;</span>AI Engines</a></span><ul class=\"toc-item\"><li><span><a href=\"#List-all-engines-I-own\" data-toc-modified-id=\"List-all-engines-I-own-3.1\"><span class=\"toc-item-num\">3.1&nbsp;&nbsp;</span>List all engines I own</a></span></li></ul></li><li><span><a href=\"#DAI-Instances\" data-toc-modified-id=\"DAI-Instances-4\"><span class=\"toc-item-num\">4&nbsp;&nbsp;</span>Driverless AI Instances</a></span><ul class=\"toc-item\"><li><span><a href=\"#Create-new-instance\" data-toc-modified-id=\"Create-new-instance\"><span class=\"toc-item-num\">4.1&nbsp;&nbsp;</span>Create new instance</a></span></li><li><span><a href=\"#add-a-dataset\" data-toc-modified-id=\"add-a-dataset-4.2\"><span class=\"toc-item-num\">4.2&nbsp;&nbsp;</span>Add a dataset</a></span></li><li><span><a href=\"#Run-an-experiment\" data-toc-modified-id=\"Run-an-experiment-4.3\"><span class=\"toc-item-num\">4.3&nbsp;&nbsp;</span>Run an experiment</a></span></li><li><span><a href=\"#Pause-our-instance\" data-toc-modified-id=\"Pause-our-instance-4.4\"><span class=\"toc-item-num\">4.4&nbsp;&nbsp;</span>Pause our instance</a></span></li><li><span><a href=\"#Resume-the-instance\" data-toc-modified-id=\"Resume-the-instance-4.5\"><span class=\"toc-item-num\">4.5&nbsp;&nbsp;</span>Resume the instance</a></span></li><li><span><a href=\"#Delete-the-instance\" data-toc-modified-id=\"Delete-the-instance-4.6\"><span class=\"toc-item-num\">4.6&nbsp;&nbsp;</span>Delete the instance</a></span></li></ul></li></ul></div>"
   ]
  },
  {
   "cell_type": "markdown",
   "id": "1ca29d17-0dda-470e-b163-5f2bdd77eefc",
   "metadata": {},
   "source": [
    "## Securely Connect"
   ]
  },
  {
   "cell_type": "markdown",
   "id": "e70b933e-da4b-47b3-807b-60a132f5aeb5",
   "metadata": {},
   "source": [
    "To get the personal access token, login to the Steam you would like to test with, click on configuration and then token. Copy and paste the token into the code "
   ]
  },
  {
   "cell_type": "code",
   "execution_count": 75,
   "id": "50260ae3-3843-433a-80b2-e966b162a132",
   "metadata": {},
   "outputs": [],
   "source": [
    "# Get Steam URL from the environment, use the DEMO url as a default if env is not set\n",
    "steam_url = os.environ.get(\"STEAM_URL\", \"https://steam.demo.h2o.ai/\")\n",
    "secure_environment = steam_url.startswith(\"https://\")\n",
    "\n",
    "if os.getenv(\"STEAM_URL\") is not None:  # running in the AI Cloud\n",
    "    steam = h2osteam.login(\n",
    "    url=steam_url,\n",
    "    access_token=q.auth.access_token,\n",
    "    verify_ssl=secure_environment,\n",
    ")\n",
    "else:  # running locally\n",
    "    personal_access_token = \"pat_sppb0rmk15cu1tqi19v9pbj4hhzrhrmyn92o\" #<-- Insert token here\n",
    "    steam = h2osteam.login(\n",
    "    url=steam_url,\n",
    "    password=personal_access_token,\n",
    "    verify_ssl=secure_environment,\n",
    ")"
   ]
  },
  {
   "cell_type": "markdown",
   "id": "e7f5a85d-cac2-4051-9e3f-e57b96e2cbf2",
   "metadata": {},
   "source": [
    "## AI Engines"
   ]
  },
  {
   "cell_type": "markdown",
   "id": "4d80d8d7-a80a-479a-a25d-3ae2af6f076c",
   "metadata": {
    "tags": []
   },
   "source": [
    "### List all AI Engines I own"
   ]
  },
  {
   "cell_type": "markdown",
   "id": "57ffe24b-b4e0-4dec-85cf-b417b8799354",
   "metadata": {},
   "source": [
    "The following function lists all the availbale dai instances on steam and its attributes."
   ]
  },
  {
   "cell_type": "code",
   "execution_count": 76,
   "id": "77b007f0-c2ac-4253-8e00-5f2f63c6c50b",
   "metadata": {},
   "outputs": [
    {
     "data": {
      "text/plain": [
       "{'test-instance': {'id': 852,\n",
       "  'profile_name': 'default-driverless-kubernetes',\n",
       "  'name': 'test-instance',\n",
       "  'status': 'running',\n",
       "  'target_status': 'running',\n",
       "  'version': '1.10.0.431',\n",
       "  'backend_type': '',\n",
       "  'instance_type': 'singlenode',\n",
       "  'master_id': -1,\n",
       "  'cpu_count': 8,\n",
       "  'gpu_count': 0,\n",
       "  'memory_gb': 30,\n",
       "  'storage_gb': 64,\n",
       "  'max_idle_seconds': 0,\n",
       "  'max_uptime_seconds': 0,\n",
       "  'timeout_seconds': 600,\n",
       "  'address': 'http://10.1.183.209:12345',\n",
       "  'authentication': 'oidc',\n",
       "  'password': 'xyyf6hn6b9ponuesn2yygg04mot5xb1j',\n",
       "  'created_at': 1635860316,\n",
       "  'started_at': 1635861349,\n",
       "  'created_by': 'jeffrey.canisius@h2o.ai',\n",
       "  'current_uptime_seconds': 8218,\n",
       "  'current_idle_seconds': 3154,\n",
       "  'pod_latest_event': None,\n",
       "  'service_latest_event': None,\n",
       "  'pvc_latest_event': None,\n",
       "  'stop_reason': '',\n",
       "  'config_toml': ''}}"
      ]
     },
     "execution_count": 76,
     "metadata": {},
     "output_type": "execute_result"
    }
   ],
   "source": [
    "dai_steam_instances = {}\n",
    "\n",
    "if steam is not None:\n",
    "        for dai_details in steam.get_driverless_instances():\n",
    "            dai_name = dai_details[\"name\"]\n",
    "            dai_status = dai_details[\"status\"]\n",
    "    \n",
    "            if dai_status == \"running\" or dai_status == \"stopped\":\n",
    "                dai_steam_instances[dai_name] = dai_details\n",
    "                \n",
    "dai_steam_instances"
   ]
  },
  {
   "cell_type": "markdown",
   "id": "d7705721-1d77-4d0e-8aef-961ab43d0c6b",
   "metadata": {},
   "source": [
    "## Driverless AI Instances"
   ]
  },
  {
   "cell_type": "markdown",
   "id": "474d90a5-6ff2-4e9d-ac28-b63009d59cb4",
   "metadata": {},
   "source": [
    "### Create new instance\n",
    "This example hows how to create an instance of Driverless AI v1.10.0.431 and connect to it."
   ]
  },
  {
   "cell_type": "code",
   "execution_count": 79,
   "id": "467bbdcd-a0e8-4061-a489-4d128d53d2eb",
   "metadata": {},
   "outputs": [
    {
     "name": "stderr",
     "output_type": "stream",
     "text": [
      "ERROR:root:creating instance: validating: cluster name: already in use\n",
      "NoneType: None\n"
     ]
    },
    {
     "ename": "RPCError",
     "evalue": "'creating instance: validating: cluster name: already in use'",
     "output_type": "error",
     "traceback": [
      "\u001b[0;31m---------------------------------------------------------------------------\u001b[0m",
      "\u001b[0;31mRPCError\u001b[0m                                  Traceback (most recent call last)",
      "\u001b[0;32m<ipython-input-79-dafdaace6db2>\u001b[0m in \u001b[0;36m<module>\u001b[0;34m\u001b[0m\n\u001b[0;32m----> 1\u001b[0;31m instance = DriverlessClient().launch_instance(name=\"test-instance\",\n\u001b[0m\u001b[1;32m      2\u001b[0m                                               \u001b[0mversion\u001b[0m\u001b[0;34m=\u001b[0m\u001b[0;34m\"1.10.0.431\"\u001b[0m\u001b[0;34m,\u001b[0m\u001b[0;34m\u001b[0m\u001b[0;34m\u001b[0m\u001b[0m\n\u001b[1;32m      3\u001b[0m                                               profile_name=\"default-driverless-kubernetes\")\n\u001b[1;32m      4\u001b[0m \u001b[0mclient\u001b[0m \u001b[0;34m=\u001b[0m \u001b[0minstance\u001b[0m\u001b[0;34m.\u001b[0m\u001b[0mconnect\u001b[0m\u001b[0;34m(\u001b[0m\u001b[0;34m)\u001b[0m\u001b[0;34m\u001b[0m\u001b[0;34m\u001b[0m\u001b[0m\n",
      "\u001b[0;32m~/opt/anaconda3/lib/python3.8/site-packages/h2osteam/clients/driverless/driverless_client.py\u001b[0m in \u001b[0;36m_launch_instance\u001b[0;34m(self, name, version, profile_name, cpu_count, gpu_count, memory_gb, storage_gb, max_idle_h, max_uptime_h, timeout_s, config_toml_override, sync)\u001b[0m\n\u001b[1;32m    130\u001b[0m                 \u001b[0mtimeout_s\u001b[0m \u001b[0;34m=\u001b[0m \u001b[0mprofile\u001b[0m\u001b[0;34m[\u001b[0m\u001b[0mprofile_type\u001b[0m\u001b[0;34m]\u001b[0m\u001b[0;34m[\u001b[0m\u001b[0;34m'timeout_seconds'\u001b[0m\u001b[0;34m]\u001b[0m\u001b[0;34m[\u001b[0m\u001b[0;34m'initial'\u001b[0m\u001b[0;34m]\u001b[0m\u001b[0;34m\u001b[0m\u001b[0;34m\u001b[0m\u001b[0m\n\u001b[1;32m    131\u001b[0m \u001b[0;34m\u001b[0m\u001b[0m\n\u001b[0;32m--> 132\u001b[0;31m         instance_id = self.__api().launch_driverless_instance(parameters={\n\u001b[0m\u001b[1;32m    133\u001b[0m             \u001b[0;34m\"name\"\u001b[0m\u001b[0;34m:\u001b[0m \u001b[0mname\u001b[0m\u001b[0;34m,\u001b[0m\u001b[0;34m\u001b[0m\u001b[0;34m\u001b[0m\u001b[0m\n\u001b[1;32m    134\u001b[0m             \u001b[0;34m\"profile_name\"\u001b[0m\u001b[0;34m:\u001b[0m \u001b[0mprofile_name\u001b[0m\u001b[0;34m,\u001b[0m\u001b[0;34m\u001b[0m\u001b[0;34m\u001b[0m\u001b[0m\n",
      "\u001b[0;32m~/opt/anaconda3/lib/python3.8/site-packages/h2osteam/backend/api.py\u001b[0m in \u001b[0;36mlaunch_driverless_instance\u001b[0;34m(self, parameters)\u001b[0m\n\u001b[1;32m   1971\u001b[0m             \u001b[0;34m'parameters'\u001b[0m\u001b[0;34m:\u001b[0m \u001b[0mparameters\u001b[0m\u001b[0;34m\u001b[0m\u001b[0;34m\u001b[0m\u001b[0m\n\u001b[1;32m   1972\u001b[0m         }\n\u001b[0;32m-> 1973\u001b[0;31m         \u001b[0mresponse\u001b[0m \u001b[0;34m=\u001b[0m \u001b[0mself\u001b[0m\u001b[0;34m.\u001b[0m\u001b[0mcall\u001b[0m\u001b[0;34m(\u001b[0m\u001b[0;34m\"LaunchDriverlessInstance\"\u001b[0m\u001b[0;34m,\u001b[0m \u001b[0mrequest\u001b[0m\u001b[0;34m)\u001b[0m\u001b[0;34m\u001b[0m\u001b[0;34m\u001b[0m\u001b[0m\n\u001b[0m\u001b[1;32m   1974\u001b[0m         \u001b[0;32mreturn\u001b[0m \u001b[0mresponse\u001b[0m\u001b[0;34m[\u001b[0m\u001b[0;34m'instance_id'\u001b[0m\u001b[0;34m]\u001b[0m\u001b[0;34m\u001b[0m\u001b[0;34m\u001b[0m\u001b[0m\n\u001b[1;32m   1975\u001b[0m \u001b[0;34m\u001b[0m\u001b[0m\n",
      "\u001b[0;32m~/opt/anaconda3/lib/python3.8/site-packages/h2osteam/backend/connection.py\u001b[0m in \u001b[0;36mcall\u001b[0;34m(self, method, params)\u001b[0m\n\u001b[1;32m    103\u001b[0m         \u001b[0;32melse\u001b[0m\u001b[0;34m:\u001b[0m\u001b[0;34m\u001b[0m\u001b[0;34m\u001b[0m\u001b[0m\n\u001b[1;32m    104\u001b[0m             \u001b[0mlogging\u001b[0m\u001b[0;34m.\u001b[0m\u001b[0mexception\u001b[0m\u001b[0;34m(\u001b[0m\u001b[0merror\u001b[0m\u001b[0;34m)\u001b[0m\u001b[0;34m\u001b[0m\u001b[0;34m\u001b[0m\u001b[0m\n\u001b[0;32m--> 105\u001b[0;31m             \u001b[0;32mraise\u001b[0m \u001b[0mRPCError\u001b[0m\u001b[0;34m(\u001b[0m\u001b[0merror\u001b[0m\u001b[0;34m)\u001b[0m\u001b[0;34m\u001b[0m\u001b[0;34m\u001b[0m\u001b[0m\n\u001b[0m\u001b[1;32m    106\u001b[0m \u001b[0;34m\u001b[0m\u001b[0m\n\u001b[1;32m    107\u001b[0m     \u001b[0;32mdef\u001b[0m \u001b[0mupload\u001b[0m\u001b[0;34m(\u001b[0m\u001b[0mself\u001b[0m\u001b[0;34m,\u001b[0m \u001b[0mtarget\u001b[0m\u001b[0;34m,\u001b[0m \u001b[0mpath\u001b[0m\u001b[0;34m,\u001b[0m \u001b[0mpayload\u001b[0m\u001b[0;34m)\u001b[0m\u001b[0;34m:\u001b[0m\u001b[0;34m\u001b[0m\u001b[0;34m\u001b[0m\u001b[0m\n",
      "\u001b[0;31mRPCError\u001b[0m: 'creating instance: validating: cluster name: already in use'"
     ]
    }
   ],
   "source": [
    "instance = DriverlessClient().launch_instance(name=\"test-instance\",\n",
    "                                              version=\"1.10.0.431\",\n",
    "                                              profile_name=\"default-driverless-kubernetes\")\n",
    "client = instance.connect()"
   ]
  },
  {
   "cell_type": "code",
   "execution_count": 78,
   "id": "852d7472-a2c4-4f73-9b7f-9a250c5e691f",
   "metadata": {},
   "outputs": [
    {
     "data": {
      "text/html": [
       "<pre><a href='https://steam.demo.h2o.ai:443/proxy/driverless/852' rel='noopener noreferrer' target='_blank'>https://steam.demo.h2o.ai:443/proxy/driverless/852</a></pre>"
      ],
      "text/plain": [
       "'https://steam.demo.h2o.ai:443/proxy/driverless/852'"
      ]
     },
     "execution_count": 78,
     "metadata": {},
     "output_type": "execute_result"
    }
   ],
   "source": [
    "client.server.gui()"
   ]
  },
  {
   "cell_type": "markdown",
   "id": "d3558c20-1fa8-4047-8d4a-4881cebbc18a",
   "metadata": {},
   "source": [
    "### Add a dataset"
   ]
  },
  {
   "cell_type": "code",
   "execution_count": 55,
   "id": "a697ccf7-1157-4050-8931-37399be215ba",
   "metadata": {},
   "outputs": [
    {
     "name": "stdout",
     "output_type": "stream",
     "text": [
      "Complete 100.00% - [4/4] Computed stats for column Churn?\n"
     ]
    }
   ],
   "source": [
    "telco_churn = client.datasets.create(data=\"https://h2o-internal-release.s3-us-west-2.amazonaws.com/data/Splunk/churn.csv\", \n",
    "                                  data_source=\"s3\", \n",
    "                                  name=\"Telco_Churn\")"
   ]
  },
  {
   "cell_type": "code",
   "execution_count": 57,
   "id": "df73dd96-c11b-4b68-bdbd-8b7bb32de7fb",
   "metadata": {},
   "outputs": [],
   "source": [
    "download_location = '/Users/admin/Downloads/'"
   ]
  },
  {
   "cell_type": "code",
   "execution_count": 58,
   "id": "1e7ef7ae-4db0-43ed-856a-e1e3a5ce9ada",
   "metadata": {},
   "outputs": [
    {
     "name": "stdout",
     "output_type": "stream",
     "text": [
      "Downloaded '/Users/admin/Downloads/churn.csv.1635865469.394665.csv'\n"
     ]
    }
   ],
   "source": [
    "local_file_path = telco_churn.download(download_location, overwrite=True)"
   ]
  },
  {
   "cell_type": "code",
   "execution_count": 59,
   "id": "a7ba0607-15e1-449d-8f93-2ed72ecbba66",
   "metadata": {},
   "outputs": [
    {
     "name": "stdout",
     "output_type": "stream",
     "text": [
      "Complete 100.00% - [4/4] Computed stats for column Churn?\n"
     ]
    }
   ],
   "source": [
    "telco_churn2 = client.datasets.create(local_file_path, name=\"Telco_Churn_Duplicate\")"
   ]
  },
  {
   "cell_type": "code",
   "execution_count": 60,
   "id": "9b875b74-080a-43f2-9443-6eeca515c4b4",
   "metadata": {},
   "outputs": [
    {
     "name": "stdout",
     "output_type": "stream",
     "text": [
      "Old Name: Telco_Churn_Duplicate\n",
      "New Name: Fancy New Name\n"
     ]
    }
   ],
   "source": [
    "print(\"Old Name:\", telco_churn2.name)\n",
    "\n",
    "telco_churn2.rename(\"Fancy New Name\")\n",
    "\n",
    "print(\"New Name:\", telco_churn2.name)"
   ]
  },
  {
   "cell_type": "markdown",
   "id": "e3c4afa3-139e-47d3-aaf8-55f6f3631d4b",
   "metadata": {},
   "source": [
    "### Run an experiment\n",
    "#### 1. First Split the dataset for training and testing"
   ]
  },
  {
   "cell_type": "code",
   "execution_count": 61,
   "id": "5907c87f-f490-433a-98db-2e42e779de9e",
   "metadata": {},
   "outputs": [
    {
     "name": "stdout",
     "output_type": "stream",
     "text": [
      "Complete\n"
     ]
    }
   ],
   "source": [
    "telco_churn_split = telco_churn.split_to_train_test(\n",
    "    train_size=0.8, \n",
    "    train_name='telco_churn_train', \n",
    "    test_name='telco_churn_test', \n",
    "    target_column= \"Churn?\",\n",
    "    seed=42\n",
    ")"
   ]
  },
  {
   "cell_type": "code",
   "execution_count": 62,
   "id": "1bd3cf83-dcad-4e86-b884-8599bcc45516",
   "metadata": {},
   "outputs": [
    {
     "data": {
      "text/plain": [
       "{'train_dataset': <class 'Dataset'> ca574368-3bef-11ec-a6ef-06e9dbbf7819 telco_churn_train,\n",
       " 'test_dataset': <class 'Dataset'> ca577ca2-3bef-11ec-a6ef-06e9dbbf7819 telco_churn_test}"
      ]
     },
     "execution_count": 62,
     "metadata": {},
     "output_type": "execute_result"
    }
   ],
   "source": [
    "telco_churn_split"
   ]
  },
  {
   "cell_type": "markdown",
   "id": "a6263f5a-064e-43eb-8844-92a554aef95c",
   "metadata": {},
   "source": [
    "#### 2. Set up the experiment's settings (ie. accuracy, time, target column, etc.)"
   ]
  },
  {
   "cell_type": "markdown",
   "id": "675321cd-0d72-4edc-8418-2504b8ea1a9f",
   "metadata": {},
   "source": [
    "##### You can list all existing experiments using:"
   ]
  },
  {
   "cell_type": "code",
   "execution_count": 89,
   "id": "430269e5-5ba8-43d0-b1cc-45846de2a9eb",
   "metadata": {},
   "outputs": [
    {
     "data": {
      "text/plain": [
       "['Default Baseline', 'Fastest Settings']"
      ]
     },
     "execution_count": 89,
     "metadata": {},
     "output_type": "execute_result"
    }
   ],
   "source": [
    "[e.name for e in client.experiments.list()]"
   ]
  },
  {
   "cell_type": "markdown",
   "id": "32aa5c60-e011-4a26-907a-9d8d7119530e",
   "metadata": {},
   "source": [
    "##### You might want to run several experiments with different dial and expert settings. All of these will likely have some things in common, namely details about this specific dataset. We will create a dictionary to use in many experiments."
   ]
  },
  {
   "cell_type": "code",
   "execution_count": 83,
   "id": "3e302ea9-a050-4c95-8101-4548dce2e625",
   "metadata": {},
   "outputs": [],
   "source": [
    "telco_settings = {\n",
    "    **telco_churn_split,\n",
    "    'task': 'classification',\n",
    "    'target_column': \"Churn?\", \n",
    "    'scorer': 'F1'\n",
    "}"
   ]
  },
  {
   "cell_type": "code",
   "execution_count": 84,
   "id": "3c100625-d12d-4052-a82d-cdcd970062a8",
   "metadata": {},
   "outputs": [
    {
     "name": "stdout",
     "output_type": "stream",
     "text": [
      "ACCURACY [7/10]:\n",
      "- Training data size: *2,666 rows, 21 cols*\n",
      "- Feature evolution: *[Constant, DecisionTree, LightGBM, XGBoostGBM]*, *3-fold CV**, 2 reps*\n",
      "- Final pipeline: *Blend of up to 2 [Constant, DecisionTree, LightGBM, XGBoostGBM] models, each averaged across 3-fold CV splits*\n",
      "\n",
      "TIME [2/10]:\n",
      "- Feature evolution: *8 individuals*, up to *10 iterations*\n",
      "- Early stopping: After *5* iterations of no improvement\n",
      "\n",
      "INTERPRETABILITY [8/10]:\n",
      "- Feature pre-pruning strategy: Permutation Importance FS\n",
      "- Monotonicity constraints: enabled\n",
      "- Feature engineering search space: [CVCatNumEncode, CVTargetEncode, Frequent, Interactions, NumCatTE, NumToCatWoEMonotonic, NumToCatWoE, Original, Text, WeightOfEvidence]\n",
      "- Pre-trained PyTorch NLP models (with fine-tuning): ['disabled']\n",
      "\n",
      "[Constant, DecisionTree, LightGBM, XGBoostGBM] models to train:\n",
      "- Model and feature tuning: *48*\n",
      "- Feature evolution: *528*\n",
      "- Final pipeline: *6*\n",
      "\n",
      "Estimated runtime: *minutes*\n",
      "Auto-click Finish/Abort if not done in: *1 day*/*7 days*\n"
     ]
    }
   ],
   "source": [
    "client.experiments.preview( # Get experiment preview with our settings\n",
    "    **telco_settings\n",
    ")"
   ]
  },
  {
   "cell_type": "markdown",
   "id": "76fef044-7ee1-47e1-9baa-773de264ea47",
   "metadata": {},
   "source": [
    "##### There may be several common types of experiments you want to run, and H2O.ai will be creating common experiment settings in dictionaries for easy use. The one below turns off all extra settings such as building pipelines or checking for leakage. It also uses the fastest experiment settings."
   ]
  },
  {
   "cell_type": "code",
   "execution_count": 90,
   "id": "2eccb59d-4bbd-4e7e-99eb-33154130ce93",
   "metadata": {},
   "outputs": [],
   "source": [
    "fast_settings = {\n",
    "    'accuracy': 1,\n",
    "    'time': 1,\n",
    "    'interpretability': 6,\n",
    "    'make_python_scoring_pipeline': 'off',\n",
    "    'make_mojo_scoring_pipeline': 'off',\n",
    "    'benchmark_mojo_latency': 'off',\n",
    "    'make_autoreport': False,\n",
    "    'check_leakage': 'off',\n",
    "    'check_distribution_shift': 'off'\n",
    "}"
   ]
  },
  {
   "cell_type": "markdown",
   "id": "871227c8-6a28-40cd-b286-f7d691a9da73",
   "metadata": {},
   "source": [
    "#### 3. Launch Experiment"
   ]
  },
  {
   "cell_type": "code",
   "execution_count": 85,
   "id": "c1e9ad2e-9a7a-4394-9bc7-42c96280116e",
   "metadata": {},
   "outputs": [
    {
     "ename": "ExperimentExists",
     "evalue": "Experiment with name 'Default Baseline' already exists on server. Use `force=True` to create another experiment with same name.",
     "output_type": "error",
     "traceback": [
      "\u001b[0;31m---------------------------------------------------------------------------\u001b[0m",
      "\u001b[0;31mExperimentExists\u001b[0m                          Traceback (most recent call last)",
      "\u001b[0;32m<ipython-input-85-d1eb810b3c9d>\u001b[0m in \u001b[0;36m<module>\u001b[0;34m\u001b[0m\n\u001b[0;32m----> 1\u001b[0;31m default_baseline = client.experiments.create_async(\n\u001b[0m\u001b[1;32m      2\u001b[0m     \u001b[0;34m**\u001b[0m\u001b[0mtelco_settings\u001b[0m\u001b[0;34m,\u001b[0m\u001b[0;34m\u001b[0m\u001b[0;34m\u001b[0m\u001b[0m\n\u001b[1;32m      3\u001b[0m     \u001b[0;31m#name='Fastest Settings', **fast_settings,\u001b[0m\u001b[0;34m\u001b[0m\u001b[0;34m\u001b[0m\u001b[0;34m\u001b[0m\u001b[0m\n\u001b[1;32m      4\u001b[0m     \u001b[0mname\u001b[0m\u001b[0;34m=\u001b[0m\u001b[0;34m'Default Baseline'\u001b[0m\u001b[0;34m,\u001b[0m \u001b[0maccuracy\u001b[0m\u001b[0;34m=\u001b[0m\u001b[0;36m7\u001b[0m\u001b[0;34m,\u001b[0m \u001b[0mtime\u001b[0m\u001b[0;34m=\u001b[0m\u001b[0;36m2\u001b[0m\u001b[0;34m,\u001b[0m \u001b[0minterpretability\u001b[0m\u001b[0;34m=\u001b[0m\u001b[0;36m8\u001b[0m\u001b[0;34m\u001b[0m\u001b[0;34m\u001b[0m\u001b[0m\n\u001b[1;32m      5\u001b[0m )\n",
      "\u001b[0;32m/var/folders/hc/cb9t6hf90j9d04dxrvyk6t_c0000gp/T/steam/driverlessai.whl/driverlessai/_experiments.py\u001b[0m in \u001b[0;36mcreate_async\u001b[0;34m(self, train_dataset, target_column, task, force, name, **kwargs)\u001b[0m\n\u001b[1;32m   1197\u001b[0m                 )\n\u001b[1;32m   1198\u001b[0m         \u001b[0;32mif\u001b[0m \u001b[0;32mnot\u001b[0m \u001b[0mforce\u001b[0m\u001b[0;34m:\u001b[0m\u001b[0;34m\u001b[0m\u001b[0;34m\u001b[0m\u001b[0m\n\u001b[0;32m-> 1199\u001b[0;31m             \u001b[0m_utils\u001b[0m\u001b[0;34m.\u001b[0m\u001b[0merror_if_experiment_exists\u001b[0m\u001b[0;34m(\u001b[0m\u001b[0mself\u001b[0m\u001b[0;34m.\u001b[0m\u001b[0m_client\u001b[0m\u001b[0;34m,\u001b[0m \u001b[0mname\u001b[0m\u001b[0;34m)\u001b[0m\u001b[0;34m\u001b[0m\u001b[0;34m\u001b[0m\u001b[0m\n\u001b[0m\u001b[1;32m   1200\u001b[0m         \u001b[0mkwargs\u001b[0m\u001b[0;34m[\u001b[0m\u001b[0;34m\"task\"\u001b[0m\u001b[0;34m]\u001b[0m \u001b[0;34m=\u001b[0m \u001b[0mtask\u001b[0m\u001b[0;34m\u001b[0m\u001b[0;34m\u001b[0m\u001b[0m\n\u001b[1;32m   1201\u001b[0m         \u001b[0mkwargs\u001b[0m\u001b[0;34m[\u001b[0m\u001b[0;34m\"train_dataset\"\u001b[0m\u001b[0;34m]\u001b[0m \u001b[0;34m=\u001b[0m \u001b[0mtrain_dataset\u001b[0m\u001b[0;34m\u001b[0m\u001b[0;34m\u001b[0m\u001b[0m\n",
      "\u001b[0;32m/var/folders/hc/cb9t6hf90j9d04dxrvyk6t_c0000gp/T/steam/driverlessai.whl/driverlessai/_utils.py\u001b[0m in \u001b[0;36merror_if_experiment_exists\u001b[0;34m(client, name)\u001b[0m\n\u001b[1;32m    429\u001b[0m \u001b[0;32mdef\u001b[0m \u001b[0merror_if_experiment_exists\u001b[0m\u001b[0;34m(\u001b[0m\u001b[0mclient\u001b[0m\u001b[0;34m:\u001b[0m \u001b[0;34m\"_core.Client\"\u001b[0m\u001b[0;34m,\u001b[0m \u001b[0mname\u001b[0m\u001b[0;34m:\u001b[0m \u001b[0mstr\u001b[0m\u001b[0;34m)\u001b[0m \u001b[0;34m->\u001b[0m \u001b[0;32mNone\u001b[0m\u001b[0;34m:\u001b[0m\u001b[0;34m\u001b[0m\u001b[0;34m\u001b[0m\u001b[0m\n\u001b[1;32m    430\u001b[0m     \u001b[0;32mif\u001b[0m \u001b[0mname\u001b[0m \u001b[0;32min\u001b[0m \u001b[0mclient\u001b[0m\u001b[0;34m.\u001b[0m\u001b[0m_backend\u001b[0m\u001b[0;34m.\u001b[0m\u001b[0mlist_models_with_similar_name\u001b[0m\u001b[0;34m(\u001b[0m\u001b[0mname\u001b[0m\u001b[0;34m)\u001b[0m\u001b[0;34m:\u001b[0m\u001b[0;34m\u001b[0m\u001b[0;34m\u001b[0m\u001b[0m\n\u001b[0;32m--> 431\u001b[0;31m         raise ExperimentExists(\n\u001b[0m\u001b[1;32m    432\u001b[0m             \u001b[0;34mf\"Experiment with name '{name}' already exists on server. \"\u001b[0m\u001b[0;34m\u001b[0m\u001b[0;34m\u001b[0m\u001b[0m\n\u001b[1;32m    433\u001b[0m             \u001b[0;34m\"Use `force=True` to create another experiment with same name.\"\u001b[0m\u001b[0;34m\u001b[0m\u001b[0;34m\u001b[0m\u001b[0m\n",
      "\u001b[0;31mExperimentExists\u001b[0m: Experiment with name 'Default Baseline' already exists on server. Use `force=True` to create another experiment with same name."
     ]
    }
   ],
   "source": [
    "default_baseline = client.experiments.create_async( #comment out the other experiments that you dont want to run\n",
    "    **telco_settings, \n",
    "    #name='Fastest Settings', **fast_settings,\n",
    "    name='Default Baseline', accuracy=7, time=2, interpretability=8\n",
    ")"
   ]
  },
  {
   "cell_type": "markdown",
   "id": "70fd3ef4-49b6-40ce-91ff-d5d89dd69959",
   "metadata": {},
   "source": [
    "#### 4. View information, summary, model artifacts, and model performance of experiment"
   ]
  },
  {
   "cell_type": "code",
   "execution_count": 92,
   "id": "59a1ab01-e45b-423d-9d33-d69ab9397243",
   "metadata": {},
   "outputs": [
    {
     "name": "stdout",
     "output_type": "stream",
     "text": [
      "Name: Default Baseline\n",
      "Datasets: {'train_dataset': <class 'Dataset'> ca574368-3bef-11ec-a6ef-06e9dbbf7819 telco_churn_train, 'validation_dataset': None, 'test_dataset': <class 'Dataset'> ca577ca2-3bef-11ec-a6ef-06e9dbbf7819 telco_churn_test}\n",
      "Target: Churn?\n",
      "Scorer: F1\n",
      "Task: classification\n",
      "Status: Complete 100.00% - Status: Complete\n",
      "Web Page: "
     ]
    },
    {
     "data": {
      "text/html": [
       "<pre><a href='https://steam.demo.h2o.ai:443/proxy/driverless/852/#/experiment?key=5abc8c26-3bf8-11ec-a6ef-06e9dbbf7819' rel='noopener noreferrer' target='_blank'>https://steam.demo.h2o.ai:443/proxy/driverless/852/#/experiment?key=5abc8c26-3bf8-11ec-a6ef-06e9dbbf7819</a></pre>"
      ],
      "text/plain": [
       "'https://steam.demo.h2o.ai:443/proxy/driverless/852/#/experiment?key=5abc8c26-3bf8-11ec-a6ef-06e9dbbf7819'"
      ]
     },
     "execution_count": 92,
     "metadata": {},
     "output_type": "execute_result"
    }
   ],
   "source": [
    "#Prints information on experiment\n",
    "print(\"Name:\", default_baseline.name)\n",
    "print(\"Datasets:\", default_baseline.datasets)\n",
    "print(\"Target:\", default_baseline.settings['target_column']) # beta users from before March 15th use target_col\n",
    "print(\"Scorer:\", default_baseline.metrics()['scorer'])\n",
    "print(\"Task:\", default_baseline.settings['task'])\n",
    "print(\"Status:\", default_baseline.status(verbose=2))\n",
    "print(\"Web Page: \", end='')\n",
    "default_baseline.gui()"
   ]
  },
  {
   "cell_type": "code",
   "execution_count": 93,
   "id": "38c29070-e219-40c0-b7ff-8ffa57e4ed30",
   "metadata": {},
   "outputs": [
    {
     "name": "stdout",
     "output_type": "stream",
     "text": [
      "Status: Complete\n",
      "Experiment: Default Baseline (5abc8c26-3bf8-11ec-a6ef-06e9dbbf7819)\n",
      "  Version: 1.10.0, 2021-11-02 16:24\n",
      "  Settings: 7/2/8, seed=939753369, GPUs disabled\n",
      "  Train data: telco_churn_train (2666, 21)\n",
      "  Validation data: N/A\n",
      "  Test data: [Test] (667, 20)\n",
      "  Target column: Churn? (binary, 14.479% target class)\n",
      "System specs: Docker/Linux, 28 GB, 32 CPU cores, 0/0 GPU\n",
      "  Max memory usage: 0.843 GB, 0 GB GPU\n",
      "Recipe: AutoDL (17 iterations, 8 individuals)\n",
      "  Validation scheme: stratified, 6 internal holdouts (3-fold CV)\n",
      "  Feature engineering: 275 features scored (23 selected)\n",
      "Timing: MOJO latency 0.0870 millis (1.1MB), Python latency 105.3905 millis (766.6kB)\n",
      "  Data preparation: 7.21 secs\n",
      "  Shift/Leakage detection: 3.31 secs\n",
      "  Model and feature tuning: 133.46 secs (55 models trained)\n",
      "  Feature evolution: 193.33 secs (198 of 528 models trained)\n",
      "  Final pipeline training: 27.15 secs (6 models trained)\n",
      "  Python / MOJO scorer building: 41.51 secs / 18.56 secs\n",
      "Validation score: F1 = 0.2529489 (constant preds of 0.1448)\n",
      "Validation score: F1 = 0.6730019 +/- 0.0249143 (baseline)\n",
      "Validation score: F1 = 0.7530101 +/- 0.02440239 (final pipeline)\n",
      "Test score:       F1 = 0.7311828 +/- 0.02440239 (final pipeline)\n"
     ]
    }
   ],
   "source": [
    "default_baseline.summary() #view experimemnt summary"
   ]
  },
  {
   "cell_type": "code",
   "execution_count": 94,
   "id": "6184ad31-cacb-4083-bb8a-b0a361d0de80",
   "metadata": {},
   "outputs": [
    {
     "name": "stdout",
     "output_type": "stream",
     "text": [
      "Available artifacts: ['autodoc', 'logs', 'mojo_pipeline', 'python_pipeline', 'summary', 'test_predictions', 'train_predictions']\n"
     ]
    }
   ],
   "source": [
    "print(\"Available artifacts:\", default_baseline.artifacts.list()) #see what model artifacts are available"
   ]
  },
  {
   "cell_type": "code",
   "execution_count": 95,
   "id": "81a28d98-f63f-4933-a84c-ebd47f6c0d13",
   "metadata": {},
   "outputs": [
    {
     "name": "stdout",
     "output_type": "stream",
     "text": [
      "Generating autodoc...\n"
     ]
    }
   ],
   "source": [
    "default_baseline.artifacts.create('autoreport') #generate autodoc"
   ]
  },
  {
   "cell_type": "code",
   "execution_count": 96,
   "id": "514e07f2-6223-432e-910f-f085c7eb3989",
   "metadata": {},
   "outputs": [
    {
     "name": "stdout",
     "output_type": "stream",
     "text": [
      "Downloaded '/Users/admin/Downloads/report.docx'\n"
     ]
    }
   ],
   "source": [
    "artifacts = default_baseline.artifacts.download(['autoreport'], download_location, overwrite=True) #download autodoc"
   ]
  },
  {
   "cell_type": "code",
   "execution_count": 97,
   "id": "1e0d890f-f973-48f4-a04f-251b1db2b0f2",
   "metadata": {},
   "outputs": [],
   "source": [
    "!open -a \"Microsoft Word\" {artifacts[\"autoreport\"]} #OSX - open autodoc on MacOS"
   ]
  },
  {
   "cell_type": "code",
   "execution_count": 98,
   "id": "cbedb324-88d0-45b8-9024-b2b1ef3b8ddd",
   "metadata": {},
   "outputs": [
    {
     "data": {
      "text/plain": [
       "{'scorer': 'F1',\n",
       " 'val_score': 0.7530101123775288,\n",
       " 'val_score_sd': 0.02440238596872281,\n",
       " 'val_roc_auc': 0.9027137877557548,\n",
       " 'val_pr_auc': 0.767423468874615,\n",
       " 'test_score': 0.7311827956989247,\n",
       " 'test_score_sd': 0.02440238596872281,\n",
       " 'test_roc_auc': 0.8992946283233859,\n",
       " 'test_pr_auc': 0.7721970801052613}"
      ]
     },
     "execution_count": 98,
     "metadata": {},
     "output_type": "execute_result"
    }
   ],
   "source": [
    "default_baseline.metrics() #view final model performance"
   ]
  },
  {
   "cell_type": "markdown",
   "id": "a87b31af-224a-4382-838c-9204833e9d75",
   "metadata": {},
   "source": [
    "### Pause our instance"
   ]
  },
  {
   "cell_type": "code",
   "execution_count": 50,
   "id": "a7265890-77b3-4a57-b49c-4b27b5917d02",
   "metadata": {},
   "outputs": [
    {
     "name": "stdout",
     "output_type": "stream",
     "text": [
      "Driverless AI instance is stopping, please wait...\n",
      "Driverless AI instance is stopped\n"
     ]
    }
   ],
   "source": [
    "instance.stop()"
   ]
  },
  {
   "cell_type": "markdown",
   "id": "3a0f2b57-b698-43e0-89e5-83d5fc61da73",
   "metadata": {},
   "source": [
    "### Resume the instance"
   ]
  },
  {
   "cell_type": "code",
   "execution_count": 51,
   "id": "0a256ded-a1c5-4f31-9146-1e960661a22f",
   "metadata": {},
   "outputs": [
    {
     "name": "stdout",
     "output_type": "stream",
     "text": [
      "Driverless AI instance is starting, please wait...\n",
      "Driverless AI instance is running\n"
     ]
    }
   ],
   "source": [
    "instance.start()"
   ]
  },
  {
   "cell_type": "markdown",
   "id": "5d7a844a-422e-435d-a430-de55fd0c5328",
   "metadata": {},
   "source": [
    "### Delete the instance"
   ]
  },
  {
   "cell_type": "code",
   "execution_count": 43,
   "id": "a1500c6d-473f-4495-9e9f-da19be4f57fe",
   "metadata": {},
   "outputs": [],
   "source": [
    "instance.terminate()"
   ]
  }
 ],
 "metadata": {
  "kernelspec": {
   "display_name": "Python 3",
   "language": "python",
   "name": "python3"
  },
  "language_info": {
   "codemirror_mode": {
    "name": "ipython",
    "version": 3
   },
   "file_extension": ".py",
   "mimetype": "text/x-python",
   "name": "python",
   "nbconvert_exporter": "python",
   "pygments_lexer": "ipython3",
   "version": "3.8.8"
  }
 },
 "nbformat": 4,
 "nbformat_minor": 5
}

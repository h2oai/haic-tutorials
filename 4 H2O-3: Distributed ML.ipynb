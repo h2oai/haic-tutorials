{
 "cells": [
  {
   "cell_type": "markdown",
   "metadata": {},
   "source": [
    "# H2O-3 for Distributed ML\n",
    "\n",
    "This notebook is intended to help you get started with distributed machine learning in the H2O AI Cloud using python.\n",
    "\n",
    "* **Product Documentation:** https://docs.h2o.ai/h2o/latest-stable/h2o-docs/index.html\n",
    "* **Python Documentation:** https://docs.h2o.ai/h2o/latest-stable/h2o-py/docs/index.html\n",
    "* **Additional Tutorials:** https://github.com/h2oai/h2o-tutorials"
   ]
  },
  {
   "cell_type": "code",
   "execution_count": 1,
   "metadata": {},
   "outputs": [],
   "source": [
    "import h2o_engine_manager\n",
    "\n",
    "from h2o.estimators.glm import H2OGeneralizedLinearEstimator\n",
    "import h2o\n",
    "\n",
    "import pandas as pd\n",
    "import numpy as np"
   ]
  },
  {
   "cell_type": "markdown",
   "metadata": {},
   "source": [
    "## Securely connect to the platform"
   ]
  },
  {
   "cell_type": "code",
   "execution_count": null,
   "metadata": {},
   "outputs": [],
   "source": [
    "engine_manager = h2o_engine_manager.login()"
   ]
  },
  {
   "cell_type": "markdown",
   "metadata": {},
   "source": [
    "## Connect to H2O-3\n",
    "We will create and connect to a new H2O-3 engine. This step will connect our imported `h2o` library which we can then use to interact with the cluster. "
   ]
  },
  {
   "cell_type": "code",
   "execution_count": null,
   "metadata": {},
   "outputs": [],
   "source": [
    "h2o_engine = engine_manager.h2o_engine_client.create_engine(\n",
    "    display_name=\"My test engine\",\n",
    "    version=\"latest\"\n",
    ")\n",
    "\n",
    "h2o_engine.wait()"
   ]
  },
  {
   "cell_type": "code",
   "execution_count": null,
   "id": "67e71f61",
   "metadata": {},
   "outputs": [],
   "source": [
    "h2o.connect(config=h2o_engine.get_connection_config())"
   ]
  },
  {
   "cell_type": "markdown",
   "metadata": {},
   "source": [
    "## Data\n",
    "\n",
    "We can create an H2O Dataframe object with data from our local machine or a URL. "
   ]
  },
  {
   "cell_type": "code",
   "execution_count": 6,
   "metadata": {},
   "outputs": [
    {
     "name": "stdout",
     "output_type": "stream",
     "text": [
      "Parse progress: |████████████████████████████████████████████████████████████████| (done) 100%\n"
     ]
    }
   ],
   "source": [
    "data = h2o.import_file(\"https://h2o-internal-release.s3-us-west-2.amazonaws.com/data/Splunk/churn.csv\") "
   ]
  },
  {
   "cell_type": "code",
   "execution_count": 7,
   "metadata": {},
   "outputs": [
    {
     "data": {
      "text/plain": [
       "(3333, 21)"
      ]
     },
     "execution_count": 7,
     "metadata": {},
     "output_type": "execute_result"
    }
   ],
   "source": [
    "data.shape"
   ]
  },
  {
   "cell_type": "code",
   "execution_count": 8,
   "metadata": {},
   "outputs": [
    {
     "data": {
      "text/html": [
       "<table>\n",
       "<thead>\n",
       "<tr><th>State  </th><th style=\"text-align: right;\">  Account Length</th><th style=\"text-align: right;\">  Area Code</th><th>Phone   </th><th>Int&#x27;l Plan  </th><th>VMail Plan  </th><th style=\"text-align: right;\">  VMail Message</th><th style=\"text-align: right;\">  Day Mins</th><th style=\"text-align: right;\">  Day Calls</th><th style=\"text-align: right;\">  Day Charge</th><th style=\"text-align: right;\">  Eve Mins</th><th style=\"text-align: right;\">  Eve Calls</th><th style=\"text-align: right;\">  Eve Charge</th><th style=\"text-align: right;\">  Night Mins</th><th style=\"text-align: right;\">  Night Calls</th><th style=\"text-align: right;\">  Night Charge</th><th style=\"text-align: right;\">  Intl Mins</th><th style=\"text-align: right;\">  Intl Calls</th><th style=\"text-align: right;\">  Intl Charge</th><th style=\"text-align: right;\">  CustServ Calls</th><th>Churn?  </th></tr>\n",
       "</thead>\n",
       "<tbody>\n",
       "<tr><td>KS     </td><td style=\"text-align: right;\">             128</td><td style=\"text-align: right;\">        415</td><td>382-4657</td><td>no          </td><td>yes         </td><td style=\"text-align: right;\">             25</td><td style=\"text-align: right;\">     265.1</td><td style=\"text-align: right;\">        110</td><td style=\"text-align: right;\">       45.07</td><td style=\"text-align: right;\">     197.4</td><td style=\"text-align: right;\">         99</td><td style=\"text-align: right;\">       16.78</td><td style=\"text-align: right;\">       244.7</td><td style=\"text-align: right;\">           91</td><td style=\"text-align: right;\">         11.01</td><td style=\"text-align: right;\">       10  </td><td style=\"text-align: right;\">           3</td><td style=\"text-align: right;\">         2.7 </td><td style=\"text-align: right;\">               1</td><td>False.  </td></tr>\n",
       "<tr><td>OH     </td><td style=\"text-align: right;\">             107</td><td style=\"text-align: right;\">        415</td><td>371-7191</td><td>no          </td><td>yes         </td><td style=\"text-align: right;\">             26</td><td style=\"text-align: right;\">     161.6</td><td style=\"text-align: right;\">        123</td><td style=\"text-align: right;\">       27.47</td><td style=\"text-align: right;\">     195.5</td><td style=\"text-align: right;\">        103</td><td style=\"text-align: right;\">       16.62</td><td style=\"text-align: right;\">       254.4</td><td style=\"text-align: right;\">          103</td><td style=\"text-align: right;\">         11.45</td><td style=\"text-align: right;\">       13.7</td><td style=\"text-align: right;\">           3</td><td style=\"text-align: right;\">         3.7 </td><td style=\"text-align: right;\">               1</td><td>False.  </td></tr>\n",
       "<tr><td>NJ     </td><td style=\"text-align: right;\">             137</td><td style=\"text-align: right;\">        415</td><td>358-1921</td><td>no          </td><td>no          </td><td style=\"text-align: right;\">              0</td><td style=\"text-align: right;\">     243.4</td><td style=\"text-align: right;\">        114</td><td style=\"text-align: right;\">       41.38</td><td style=\"text-align: right;\">     121.2</td><td style=\"text-align: right;\">        110</td><td style=\"text-align: right;\">       10.3 </td><td style=\"text-align: right;\">       162.6</td><td style=\"text-align: right;\">          104</td><td style=\"text-align: right;\">          7.32</td><td style=\"text-align: right;\">       12.2</td><td style=\"text-align: right;\">           5</td><td style=\"text-align: right;\">         3.29</td><td style=\"text-align: right;\">               0</td><td>False.  </td></tr>\n",
       "<tr><td>OH     </td><td style=\"text-align: right;\">              84</td><td style=\"text-align: right;\">        408</td><td>375-9999</td><td>yes         </td><td>no          </td><td style=\"text-align: right;\">              0</td><td style=\"text-align: right;\">     299.4</td><td style=\"text-align: right;\">         71</td><td style=\"text-align: right;\">       50.9 </td><td style=\"text-align: right;\">      61.9</td><td style=\"text-align: right;\">         88</td><td style=\"text-align: right;\">        5.26</td><td style=\"text-align: right;\">       196.9</td><td style=\"text-align: right;\">           89</td><td style=\"text-align: right;\">          8.86</td><td style=\"text-align: right;\">        6.6</td><td style=\"text-align: right;\">           7</td><td style=\"text-align: right;\">         1.78</td><td style=\"text-align: right;\">               2</td><td>False.  </td></tr>\n",
       "<tr><td>OK     </td><td style=\"text-align: right;\">              75</td><td style=\"text-align: right;\">        415</td><td>330-6626</td><td>yes         </td><td>no          </td><td style=\"text-align: right;\">              0</td><td style=\"text-align: right;\">     166.7</td><td style=\"text-align: right;\">        113</td><td style=\"text-align: right;\">       28.34</td><td style=\"text-align: right;\">     148.3</td><td style=\"text-align: right;\">        122</td><td style=\"text-align: right;\">       12.61</td><td style=\"text-align: right;\">       186.9</td><td style=\"text-align: right;\">          121</td><td style=\"text-align: right;\">          8.41</td><td style=\"text-align: right;\">       10.1</td><td style=\"text-align: right;\">           3</td><td style=\"text-align: right;\">         2.73</td><td style=\"text-align: right;\">               3</td><td>False.  </td></tr>\n",
       "<tr><td>AL     </td><td style=\"text-align: right;\">             118</td><td style=\"text-align: right;\">        510</td><td>391-8027</td><td>yes         </td><td>no          </td><td style=\"text-align: right;\">              0</td><td style=\"text-align: right;\">     223.4</td><td style=\"text-align: right;\">         98</td><td style=\"text-align: right;\">       37.98</td><td style=\"text-align: right;\">     220.6</td><td style=\"text-align: right;\">        101</td><td style=\"text-align: right;\">       18.75</td><td style=\"text-align: right;\">       203.9</td><td style=\"text-align: right;\">          118</td><td style=\"text-align: right;\">          9.18</td><td style=\"text-align: right;\">        6.3</td><td style=\"text-align: right;\">           6</td><td style=\"text-align: right;\">         1.7 </td><td style=\"text-align: right;\">               0</td><td>False.  </td></tr>\n",
       "<tr><td>MA     </td><td style=\"text-align: right;\">             121</td><td style=\"text-align: right;\">        510</td><td>355-9993</td><td>no          </td><td>yes         </td><td style=\"text-align: right;\">             24</td><td style=\"text-align: right;\">     218.2</td><td style=\"text-align: right;\">         88</td><td style=\"text-align: right;\">       37.09</td><td style=\"text-align: right;\">     348.5</td><td style=\"text-align: right;\">        108</td><td style=\"text-align: right;\">       29.62</td><td style=\"text-align: right;\">       212.6</td><td style=\"text-align: right;\">          118</td><td style=\"text-align: right;\">          9.57</td><td style=\"text-align: right;\">        7.5</td><td style=\"text-align: right;\">           7</td><td style=\"text-align: right;\">         2.03</td><td style=\"text-align: right;\">               3</td><td>False.  </td></tr>\n",
       "<tr><td>MO     </td><td style=\"text-align: right;\">             147</td><td style=\"text-align: right;\">        415</td><td>329-9001</td><td>yes         </td><td>no          </td><td style=\"text-align: right;\">              0</td><td style=\"text-align: right;\">     157  </td><td style=\"text-align: right;\">         79</td><td style=\"text-align: right;\">       26.69</td><td style=\"text-align: right;\">     103.1</td><td style=\"text-align: right;\">         94</td><td style=\"text-align: right;\">        8.76</td><td style=\"text-align: right;\">       211.8</td><td style=\"text-align: right;\">           96</td><td style=\"text-align: right;\">          9.53</td><td style=\"text-align: right;\">        7.1</td><td style=\"text-align: right;\">           6</td><td style=\"text-align: right;\">         1.92</td><td style=\"text-align: right;\">               0</td><td>False.  </td></tr>\n",
       "<tr><td>LA     </td><td style=\"text-align: right;\">             117</td><td style=\"text-align: right;\">        408</td><td>335-4719</td><td>no          </td><td>no          </td><td style=\"text-align: right;\">              0</td><td style=\"text-align: right;\">     184.5</td><td style=\"text-align: right;\">         97</td><td style=\"text-align: right;\">       31.37</td><td style=\"text-align: right;\">     351.6</td><td style=\"text-align: right;\">         80</td><td style=\"text-align: right;\">       29.89</td><td style=\"text-align: right;\">       215.8</td><td style=\"text-align: right;\">           90</td><td style=\"text-align: right;\">          9.71</td><td style=\"text-align: right;\">        8.7</td><td style=\"text-align: right;\">           4</td><td style=\"text-align: right;\">         2.35</td><td style=\"text-align: right;\">               1</td><td>False.  </td></tr>\n",
       "<tr><td>WV     </td><td style=\"text-align: right;\">             141</td><td style=\"text-align: right;\">        415</td><td>330-8173</td><td>yes         </td><td>yes         </td><td style=\"text-align: right;\">             37</td><td style=\"text-align: right;\">     258.6</td><td style=\"text-align: right;\">         84</td><td style=\"text-align: right;\">       43.96</td><td style=\"text-align: right;\">     222  </td><td style=\"text-align: right;\">        111</td><td style=\"text-align: right;\">       18.87</td><td style=\"text-align: right;\">       326.4</td><td style=\"text-align: right;\">           97</td><td style=\"text-align: right;\">         14.69</td><td style=\"text-align: right;\">       11.2</td><td style=\"text-align: right;\">           5</td><td style=\"text-align: right;\">         3.02</td><td style=\"text-align: right;\">               0</td><td>False.  </td></tr>\n",
       "</tbody>\n",
       "</table>"
      ]
     },
     "metadata": {},
     "output_type": "display_data"
    },
    {
     "data": {
      "text/plain": []
     },
     "execution_count": 8,
     "metadata": {},
     "output_type": "execute_result"
    }
   ],
   "source": [
    "data.head()"
   ]
  },
  {
   "cell_type": "code",
   "execution_count": 9,
   "metadata": {},
   "outputs": [
    {
     "data": {
      "text/plain": [
       "{'State': 'enum',\n",
       " 'Account Length': 'int',\n",
       " 'Area Code': 'int',\n",
       " 'Phone': 'string',\n",
       " \"Int'l Plan\": 'enum',\n",
       " 'VMail Plan': 'enum',\n",
       " 'VMail Message': 'int',\n",
       " 'Day Mins': 'real',\n",
       " 'Day Calls': 'int',\n",
       " 'Day Charge': 'real',\n",
       " 'Eve Mins': 'real',\n",
       " 'Eve Calls': 'int',\n",
       " 'Eve Charge': 'real',\n",
       " 'Night Mins': 'real',\n",
       " 'Night Calls': 'int',\n",
       " 'Night Charge': 'real',\n",
       " 'Intl Mins': 'real',\n",
       " 'Intl Calls': 'int',\n",
       " 'Intl Charge': 'real',\n",
       " 'CustServ Calls': 'int',\n",
       " 'Churn?': 'enum'}"
      ]
     },
     "execution_count": 9,
     "metadata": {},
     "output_type": "execute_result"
    }
   ],
   "source": [
    "data.types"
   ]
  },
  {
   "cell_type": "markdown",
   "metadata": {},
   "source": [
    "### Data Exploration"
   ]
  },
  {
   "cell_type": "markdown",
   "metadata": {},
   "source": [
    "We can use H2O-3 to explore our dataset.  We can find correlations, build decision trees, and visualize our dataset.  In this demo, we will view the correlations and plot distributions."
   ]
  },
  {
   "cell_type": "markdown",
   "metadata": {},
   "source": [
    "We will first use H2O-3 to find the numeric columns that are correlated to Churn. "
   ]
  },
  {
   "cell_type": "code",
   "execution_count": 10,
   "metadata": {},
   "outputs": [
    {
     "data": {
      "text/html": [
       "<table>\n",
       "<thead>\n",
       "<tr><th style=\"text-align: right;\">  Account Length</th><th style=\"text-align: right;\">  Area Code</th><th style=\"text-align: right;\">  VMail Message</th><th style=\"text-align: right;\">  Day Mins</th><th style=\"text-align: right;\">  Day Calls</th><th style=\"text-align: right;\">  Day Charge</th><th style=\"text-align: right;\">  Eve Mins</th><th style=\"text-align: right;\">  Eve Calls</th><th style=\"text-align: right;\">  Eve Charge</th><th style=\"text-align: right;\">  Night Mins</th><th style=\"text-align: right;\">  Night Calls</th><th style=\"text-align: right;\">  Night Charge</th><th style=\"text-align: right;\">  Intl Mins</th><th style=\"text-align: right;\">  Intl Calls</th><th style=\"text-align: right;\">  Intl Charge</th><th style=\"text-align: right;\">  CustServ Calls</th></tr>\n",
       "</thead>\n",
       "<tbody>\n",
       "<tr><td style=\"text-align: right;\">       0.0165407</td><td style=\"text-align: right;\"> 0.00617423</td><td style=\"text-align: right;\">      -0.089728</td><td style=\"text-align: right;\">  0.205151</td><td style=\"text-align: right;\">  0.0184593</td><td style=\"text-align: right;\">    0.205151</td><td style=\"text-align: right;\"> 0.0927958</td><td style=\"text-align: right;\"> 0.00923313</td><td style=\"text-align: right;\">    0.092786</td><td style=\"text-align: right;\">   0.0354929</td><td style=\"text-align: right;\">    0.0061412</td><td style=\"text-align: right;\">     0.0354956</td><td style=\"text-align: right;\">  0.0682388</td><td style=\"text-align: right;\">  -0.0528443</td><td style=\"text-align: right;\">    0.0682586</td><td style=\"text-align: right;\">         0.20875</td></tr>\n",
       "</tbody>\n",
       "</table>"
      ]
     },
     "metadata": {},
     "output_type": "display_data"
    },
    {
     "data": {
      "text/plain": []
     },
     "execution_count": 10,
     "metadata": {},
     "output_type": "execute_result"
    }
   ],
   "source": [
    "numeric_cols = [k for k, v in data.types.items() if v in ['real', 'int']]\n",
    "churn_cor_hf = data['Churn?'].cor(data[numeric_cols])\n",
    "churn_cor_hf"
   ]
  },
  {
   "cell_type": "markdown",
   "metadata": {},
   "source": [
    "The result of the `cor` function is an H2O Frame with one row, showing the correlation of each variable to `Churn?`. Since this data is very small, we can convert it to a Pandas dataframe and order it based on absolute correlation."
   ]
  },
  {
   "cell_type": "code",
   "execution_count": 11,
   "metadata": {},
   "outputs": [
    {
     "data": {
      "text/html": [
       "<div>\n",
       "<style scoped>\n",
       "    .dataframe tbody tr th:only-of-type {\n",
       "        vertical-align: middle;\n",
       "    }\n",
       "\n",
       "    .dataframe tbody tr th {\n",
       "        vertical-align: top;\n",
       "    }\n",
       "\n",
       "    .dataframe thead th {\n",
       "        text-align: right;\n",
       "    }\n",
       "</style>\n",
       "<table border=\"1\" class=\"dataframe\">\n",
       "  <thead>\n",
       "    <tr style=\"text-align: right;\">\n",
       "      <th></th>\n",
       "      <th>Feature</th>\n",
       "      <th>Correlation</th>\n",
       "    </tr>\n",
       "  </thead>\n",
       "  <tbody>\n",
       "    <tr>\n",
       "      <th>15</th>\n",
       "      <td>CustServ Calls</td>\n",
       "      <td>0.208750</td>\n",
       "    </tr>\n",
       "    <tr>\n",
       "      <th>3</th>\n",
       "      <td>Day Mins</td>\n",
       "      <td>0.205151</td>\n",
       "    </tr>\n",
       "    <tr>\n",
       "      <th>5</th>\n",
       "      <td>Day Charge</td>\n",
       "      <td>0.205151</td>\n",
       "    </tr>\n",
       "    <tr>\n",
       "      <th>6</th>\n",
       "      <td>Eve Mins</td>\n",
       "      <td>0.092796</td>\n",
       "    </tr>\n",
       "    <tr>\n",
       "      <th>8</th>\n",
       "      <td>Eve Charge</td>\n",
       "      <td>0.092786</td>\n",
       "    </tr>\n",
       "  </tbody>\n",
       "</table>\n",
       "</div>"
      ],
      "text/plain": [
       "           Feature  Correlation\n",
       "15  CustServ Calls     0.208750\n",
       "3         Day Mins     0.205151\n",
       "5       Day Charge     0.205151\n",
       "6         Eve Mins     0.092796\n",
       "8       Eve Charge     0.092786"
      ]
     },
     "execution_count": 11,
     "metadata": {},
     "output_type": "execute_result"
    }
   ],
   "source": [
    "churn_cor = churn_cor_hf.as_data_frame().transpose().reset_index()\n",
    "churn_cor.columns = ['Feature', 'Correlation']\n",
    "churn_cor = churn_cor.iloc[(-churn_cor['Correlation'].abs()).argsort()]\n",
    "churn_cor.head()"
   ]
  },
  {
   "cell_type": "markdown",
   "metadata": {},
   "source": [
    "The greatest indicators of churn seem to be more calls to customer service as well as more calling minutes/charges.\n",
    "\n",
    "We can use the histogram function to see the distribution of these top features."
   ]
  },
  {
   "cell_type": "code",
   "execution_count": 12,
   "metadata": {},
   "outputs": [
    {
     "data": {
      "image/png": "[encoded data removed]",
      "text/plain": [
       "<Figure size 432x288 with 1 Axes>"
      ]
     },
     "metadata": {
      "needs_background": "light"
     },
     "output_type": "display_data"
    }
   ],
   "source": [
    "data['CustServ Calls'].hist();"
   ]
  },
  {
   "cell_type": "code",
   "execution_count": 13,
   "metadata": {},
   "outputs": [
    {
     "data": {
      "image/png": "[encoded data removed]",
      "text/plain": [
       "<Figure size 432x288 with 1 Axes>"
      ]
     },
     "metadata": {
      "needs_background": "light"
     },
     "output_type": "display_data"
    }
   ],
   "source": [
    "data['Day Mins'].hist();"
   ]
  },
  {
   "cell_type": "markdown",
   "metadata": {},
   "source": [
    "### Split a Dataset\n",
    "\n",
    "We will next split a dataset for training. When building models, we want to separate a section of data for validating how the model does.  This can be a good indicator of how well the model is at generalizing and predicting on unseen data.\n",
    "\n",
    "We will use the split function to create a random split on the dataset."
   ]
  },
  {
   "cell_type": "code",
   "execution_count": 14,
   "metadata": {},
   "outputs": [],
   "source": [
    "splits = data.split_frame(ratios=[0.7, 0.15], seed=1)  \n",
    "\n",
    "train = splits[0]\n",
    "valid = splits[1]\n",
    "test = splits[2]"
   ]
  },
  {
   "cell_type": "markdown",
   "metadata": {},
   "source": [
    "### Prepare columns for training"
   ]
  },
  {
   "cell_type": "code",
   "execution_count": 15,
   "metadata": {},
   "outputs": [],
   "source": [
    "y = 'Churn?'\n",
    "x = [i for i in data.columns if i not in [y, 'Phone']] # remove columns"
   ]
  },
  {
   "cell_type": "markdown",
   "metadata": {},
   "source": [
    "## Modeling\n",
    "\n",
    "In this section, we will create models predicting Churn using H2O-3's algorithms."
   ]
  },
  {
   "cell_type": "markdown",
   "metadata": {},
   "source": [
    "### Baseline Model\n",
    "\n",
    "We will start our modeling by building a baseline model.  This is a simple model that we will use as a control. In this example, we will build a Linear model to predict churn."
   ]
  },
  {
   "cell_type": "markdown",
   "metadata": {},
   "source": [
    "We first create an object of class, \"H2OGeneralizedLinearEstimator\". This does not actually do any training, it just sets the model up for training by specifying model parameters."
   ]
  },
  {
   "cell_type": "code",
   "execution_count": 16,
   "metadata": {},
   "outputs": [],
   "source": [
    "glm_fit1 = H2OGeneralizedLinearEstimator(model_id='glm_fit1',\n",
    "                                         ## fix a random number generator seed for reproducibility\n",
    "                                         seed=1234,\n",
    "                                         \n",
    "                                         ## predict a yes/no column\n",
    "                                         family='binomial',\n",
    "                                         \n",
    "                                         ## cross validation\n",
    "                                         nfolds=3, \n",
    "                                         \n",
    "                                         ## use cross validation to find the best regularization\n",
    "                                         lambda_search=True \n",
    "                                        )"
   ]
  },
  {
   "cell_type": "markdown",
   "metadata": {},
   "source": [
    "Now that `glm_fit1` object is initialized, we can train the model:"
   ]
  },
  {
   "cell_type": "code",
   "execution_count": 17,
   "metadata": {},
   "outputs": [
    {
     "name": "stdout",
     "output_type": "stream",
     "text": [
      "glm Model Build progress: |██████████████████████████████████████████████████████| (done) 100%\n"
     ]
    }
   ],
   "source": [
    "glm_fit1.train(x = x, y = y, training_frame = train, validation_frame = valid);"
   ]
  },
  {
   "cell_type": "markdown",
   "metadata": {},
   "source": [
    "The plot below shows the objective loss function as each iteration of the model is trained."
   ]
  },
  {
   "cell_type": "code",
   "execution_count": 18,
   "metadata": {
    "scrolled": true
   },
   "outputs": [
    {
     "data": {
      "image/png": "[encoded data removed]",
      "text/plain": [
       "<Figure size 432x288 with 1 Axes>"
      ]
     },
     "metadata": {
      "needs_background": "light"
     },
     "output_type": "display_data"
    }
   ],
   "source": [
    "glm_fit1.plot();"
   ]
  },
  {
   "cell_type": "markdown",
   "metadata": {},
   "source": [
    "#### Explore predictions"
   ]
  },
  {
   "cell_type": "markdown",
   "metadata": {},
   "source": [
    "Let's see the performance of the GLM that were just trained. "
   ]
  },
  {
   "cell_type": "code",
   "execution_count": 19,
   "metadata": {},
   "outputs": [],
   "source": [
    "glm_perf1 = glm_fit1.model_performance(test)"
   ]
  },
  {
   "cell_type": "code",
   "execution_count": 20,
   "metadata": {},
   "outputs": [
    {
     "data": {
      "image/png": "[encoded data removed]",
      "text/plain": [
       "<Figure size 432x288 with 1 Axes>"
      ]
     },
     "metadata": {
      "needs_background": "light"
     },
     "output_type": "display_data"
    }
   ],
   "source": [
    "glm_perf1.plot();"
   ]
  },
  {
   "cell_type": "markdown",
   "metadata": {},
   "source": [
    "We can see the AUC on the training dataset compared with the validation dataset.  The linear model is slighly better at predicting on the training dataset.  This is to be expected since the training data was seen by the model."
   ]
  },
  {
   "cell_type": "code",
   "execution_count": 21,
   "metadata": {},
   "outputs": [
    {
     "name": "stdout",
     "output_type": "stream",
     "text": [
      "AUC on Training Data: 0.834\n",
      "AUC on Validation Data: 0.817\n"
     ]
    }
   ],
   "source": [
    "print (\"AUC on Training Data: {0:.3f}\".format(glm_fit1.auc(train = True)))\n",
    "print (\"AUC on Validation Data: {0:.3f}\".format(glm_fit1.auc(valid = True)))"
   ]
  },
  {
   "cell_type": "markdown",
   "metadata": {},
   "source": [
    "Here are the predictions on the validation dataset."
   ]
  },
  {
   "cell_type": "code",
   "execution_count": 22,
   "metadata": {},
   "outputs": [
    {
     "name": "stdout",
     "output_type": "stream",
     "text": [
      "glm prediction progress: |███████████████████████████████████████████████████████| (done) 100%\n"
     ]
    },
    {
     "data": {
      "text/html": [
       "<table>\n",
       "<thead>\n",
       "<tr><th>predict  </th><th style=\"text-align: right;\">  False.</th><th style=\"text-align: right;\">    True.</th></tr>\n",
       "</thead>\n",
       "<tbody>\n",
       "<tr><td>False.   </td><td style=\"text-align: right;\">0.87653 </td><td style=\"text-align: right;\">0.12347  </td></tr>\n",
       "<tr><td>True.    </td><td style=\"text-align: right;\">0.486393</td><td style=\"text-align: right;\">0.513607 </td></tr>\n",
       "<tr><td>False.   </td><td style=\"text-align: right;\">0.71364 </td><td style=\"text-align: right;\">0.28636  </td></tr>\n",
       "<tr><td>False.   </td><td style=\"text-align: right;\">0.858283</td><td style=\"text-align: right;\">0.141717 </td></tr>\n",
       "<tr><td>False.   </td><td style=\"text-align: right;\">0.970588</td><td style=\"text-align: right;\">0.0294123</td></tr>\n",
       "<tr><td>False.   </td><td style=\"text-align: right;\">0.944882</td><td style=\"text-align: right;\">0.0551175</td></tr>\n",
       "<tr><td>False.   </td><td style=\"text-align: right;\">0.862908</td><td style=\"text-align: right;\">0.137092 </td></tr>\n",
       "<tr><td>False.   </td><td style=\"text-align: right;\">0.961935</td><td style=\"text-align: right;\">0.0380645</td></tr>\n",
       "<tr><td>False.   </td><td style=\"text-align: right;\">0.922746</td><td style=\"text-align: right;\">0.0772542</td></tr>\n",
       "<tr><td>False.   </td><td style=\"text-align: right;\">0.968175</td><td style=\"text-align: right;\">0.0318246</td></tr>\n",
       "</tbody>\n",
       "</table>"
      ]
     },
     "metadata": {},
     "output_type": "display_data"
    },
    {
     "data": {
      "text/plain": []
     },
     "execution_count": 22,
     "metadata": {},
     "output_type": "execute_result"
    }
   ],
   "source": [
    "glm_preds = glm_fit1.predict(valid)\n",
    "glm_preds.head()"
   ]
  },
  {
   "cell_type": "markdown",
   "metadata": {},
   "source": [
    "Since our model is a GLM model, we can also see the coefficients of each variable. The plot below shows that `Int'l Plan=Yes` increases the likelihood of churn."
   ]
  },
  {
   "cell_type": "code",
   "execution_count": null,
   "metadata": {},
   "outputs": [],
   "source": [
    "glm_fit1.std_coef_plot(num_of_features=5)"
   ]
  },
  {
   "cell_type": "code",
   "execution_count": 26,
   "metadata": {},
   "outputs": [
    {
     "name": "stdout",
     "output_type": "stream",
     "text": [
      "PartialDependencePlot progress: |████████████████████████████████████████████████| (done) 100%\n"
     ]
    },
    {
     "data": {
      "image/png": "[encoded data removed]",
      "text/plain": [
       "<Figure size 360x360 with 1 Axes>"
      ]
     },
     "metadata": {
      "needs_background": "light"
     },
     "output_type": "display_data"
    }
   ],
   "source": [
    "glm_fit1.partial_plot(data=train, cols=['Day Mins'], figsize=(5, 5));"
   ]
  },
  {
   "cell_type": "markdown",
   "metadata": {},
   "source": [
    "### AutoML\n",
    "\n",
    "We will now automate the machine learning process using AutoML and the `explain` function.  AutoML will automatically tune models and try out different algorithms for the user and provide a leaderboard. "
   ]
  },
  {
   "cell_type": "code",
   "execution_count": 27,
   "metadata": {},
   "outputs": [
    {
     "name": "stdout",
     "output_type": "stream",
     "text": [
      "AutoML progress: |\n",
      "00:39:30.975: AutoML: XGBoost is not available; skipping it.\n",
      "00:39:31.55: Step 'best_of_family_xgboost' not defined in provider 'StackedEnsemble': skipping it.\n",
      "00:39:31.55: Step 'all_xgboost' not defined in provider 'StackedEnsemble': skipping it.\n",
      "\n",
      "███████████████████████████████████████████████████████████████| (done) 100%\n"
     ]
    }
   ],
   "source": [
    "from h2o.automl import H2OAutoML\n",
    "\n",
    "aml = H2OAutoML(## train up to 10 models\n",
    "                max_models=10, \n",
    "    \n",
    "                ## set seed for reproducibility\n",
    "                seed=1234,\n",
    "                \n",
    "                ## option to exclude specific algorithms\n",
    "                exclude_algos=['StackedEnsemble', 'DeepLearning']\n",
    "                )\n",
    "aml.train(x=x, y=y, training_frame=train, leaderboard_frame=valid);"
   ]
  },
  {
   "cell_type": "markdown",
   "metadata": {},
   "source": [
    "The leaderboard belows shows us the AUC of each model on our `valid` data.  The best model is a Random Forest model."
   ]
  },
  {
   "cell_type": "code",
   "execution_count": 28,
   "metadata": {},
   "outputs": [
    {
     "data": {
      "text/html": [
       "<table>\n",
       "<thead>\n",
       "<tr><th>model_id                                  </th><th style=\"text-align: right;\">     auc</th><th style=\"text-align: right;\">  logloss</th><th style=\"text-align: right;\">   aucpr</th><th style=\"text-align: right;\">  mean_per_class_error</th><th style=\"text-align: right;\">    rmse</th><th style=\"text-align: right;\">      mse</th></tr>\n",
       "</thead>\n",
       "<tbody>\n",
       "<tr><td>GBM_2_AutoML_1_20220706_03930             </td><td style=\"text-align: right;\">0.899849</td><td style=\"text-align: right;\"> 0.183781</td><td style=\"text-align: right;\">0.818355</td><td style=\"text-align: right;\">              0.143308</td><td style=\"text-align: right;\">0.211693</td><td style=\"text-align: right;\">0.044814 </td></tr>\n",
       "<tr><td>GBM_grid_1_AutoML_1_20220706_03930_model_2</td><td style=\"text-align: right;\">0.895149</td><td style=\"text-align: right;\"> 0.199008</td><td style=\"text-align: right;\">0.80031 </td><td style=\"text-align: right;\">              0.13447 </td><td style=\"text-align: right;\">0.22478 </td><td style=\"text-align: right;\">0.0505258</td></tr>\n",
       "<tr><td>GBM_5_AutoML_1_20220706_03930             </td><td style=\"text-align: right;\">0.894465</td><td style=\"text-align: right;\"> 0.185459</td><td style=\"text-align: right;\">0.800027</td><td style=\"text-align: right;\">              0.148569</td><td style=\"text-align: right;\">0.211678</td><td style=\"text-align: right;\">0.0448074</td></tr>\n",
       "<tr><td>DRF_1_AutoML_1_20220706_03930             </td><td style=\"text-align: right;\">0.887819</td><td style=\"text-align: right;\"> 0.44122 </td><td style=\"text-align: right;\">0.837511</td><td style=\"text-align: right;\">              0.09375 </td><td style=\"text-align: right;\">0.217224</td><td style=\"text-align: right;\">0.0471862</td></tr>\n",
       "<tr><td>GBM_3_AutoML_1_20220706_03930             </td><td style=\"text-align: right;\">0.887276</td><td style=\"text-align: right;\"> 0.18667 </td><td style=\"text-align: right;\">0.812002</td><td style=\"text-align: right;\">              0.135732</td><td style=\"text-align: right;\">0.208377</td><td style=\"text-align: right;\">0.0434209</td></tr>\n",
       "<tr><td>GBM_grid_1_AutoML_1_20220706_03930_model_1</td><td style=\"text-align: right;\">0.883838</td><td style=\"text-align: right;\"> 0.178955</td><td style=\"text-align: right;\">0.828886</td><td style=\"text-align: right;\">              0.118266</td><td style=\"text-align: right;\">0.1988  </td><td style=\"text-align: right;\">0.0395214</td></tr>\n",
       "<tr><td>XRT_1_AutoML_1_20220706_03930             </td><td style=\"text-align: right;\">0.879787</td><td style=\"text-align: right;\"> 0.290344</td><td style=\"text-align: right;\">0.807797</td><td style=\"text-align: right;\">              0.123422</td><td style=\"text-align: right;\">0.237825</td><td style=\"text-align: right;\">0.0565606</td></tr>\n",
       "<tr><td>GBM_4_AutoML_1_20220706_03930             </td><td style=\"text-align: right;\">0.879577</td><td style=\"text-align: right;\"> 0.19549 </td><td style=\"text-align: right;\">0.813502</td><td style=\"text-align: right;\">              0.131629</td><td style=\"text-align: right;\">0.212793</td><td style=\"text-align: right;\">0.0452811</td></tr>\n",
       "<tr><td>GBM_1_AutoML_1_20220706_03930             </td><td style=\"text-align: right;\">0.873159</td><td style=\"text-align: right;\"> 0.245236</td><td style=\"text-align: right;\">0.713209</td><td style=\"text-align: right;\">              0.137311</td><td style=\"text-align: right;\">0.257353</td><td style=\"text-align: right;\">0.0662308</td></tr>\n",
       "<tr><td>GLM_1_AutoML_1_20220706_03930             </td><td style=\"text-align: right;\">0.817796</td><td style=\"text-align: right;\"> 0.309194</td><td style=\"text-align: right;\">0.459268</td><td style=\"text-align: right;\">              0.261258</td><td style=\"text-align: right;\">0.302586</td><td style=\"text-align: right;\">0.0915581</td></tr>\n",
       "</tbody>\n",
       "</table>"
      ]
     },
     "metadata": {},
     "output_type": "display_data"
    },
    {
     "data": {
      "text/plain": []
     },
     "execution_count": 28,
     "metadata": {},
     "output_type": "execute_result"
    }
   ],
   "source": [
    "aml.leaderboard"
   ]
  },
  {
   "cell_type": "code",
   "execution_count": 29,
   "metadata": {},
   "outputs": [
    {
     "name": "stdout",
     "output_type": "stream",
     "text": [
      "Model Details\n",
      "=============\n",
      "H2OGradientBoostingEstimator :  Gradient Boosting Machine\n",
      "Model Key:  GBM_2_AutoML_1_20220706_03930\n",
      "\n",
      "\n",
      "Model Summary: \n"
     ]
    },
    {
     "data": {
      "text/html": [
       "<div>\n",
       "<style scoped>\n",
       "    .dataframe tbody tr th:only-of-type {\n",
       "        vertical-align: middle;\n",
       "    }\n",
       "\n",
       "    .dataframe tbody tr th {\n",
       "        vertical-align: top;\n",
       "    }\n",
       "\n",
       "    .dataframe thead th {\n",
       "        text-align: right;\n",
       "    }\n",
       "</style>\n",
       "<table border=\"1\" class=\"dataframe\">\n",
       "  <thead>\n",
       "    <tr style=\"text-align: right;\">\n",
       "      <th></th>\n",
       "      <th></th>\n",
       "      <th>number_of_trees</th>\n",
       "      <th>number_of_internal_trees</th>\n",
       "      <th>model_size_in_bytes</th>\n",
       "      <th>min_depth</th>\n",
       "      <th>max_depth</th>\n",
       "      <th>mean_depth</th>\n",
       "      <th>min_leaves</th>\n",
       "      <th>max_leaves</th>\n",
       "      <th>mean_leaves</th>\n",
       "    </tr>\n",
       "  </thead>\n",
       "  <tbody>\n",
       "    <tr>\n",
       "      <th>0</th>\n",
       "      <td></td>\n",
       "      <td>46.0</td>\n",
       "      <td>46.0</td>\n",
       "      <td>33715.0</td>\n",
       "      <td>7.0</td>\n",
       "      <td>7.0</td>\n",
       "      <td>7.0</td>\n",
       "      <td>27.0</td>\n",
       "      <td>59.0</td>\n",
       "      <td>42.565216</td>\n",
       "    </tr>\n",
       "  </tbody>\n",
       "</table>\n",
       "</div>"
      ],
      "text/plain": [
       "     number_of_trees  number_of_internal_trees  model_size_in_bytes  \\\n",
       "0               46.0                      46.0              33715.0   \n",
       "\n",
       "   min_depth  max_depth  mean_depth  min_leaves  max_leaves  mean_leaves  \n",
       "0        7.0        7.0         7.0        27.0        59.0    42.565216  "
      ]
     },
     "metadata": {},
     "output_type": "display_data"
    },
    {
     "name": "stdout",
     "output_type": "stream",
     "text": [
      "\n",
      "\n",
      "ModelMetricsBinomial: gbm\n",
      "** Reported on train data. **\n",
      "\n",
      "MSE: 0.00867598318329953\n",
      "RMSE: 0.09314495790594104\n",
      "LogLoss: 0.04922249797381245\n",
      "Mean Per-Class Error: 0.004763876199177707\n",
      "AUC: 0.9999393273184102\n",
      "AUCPR: 0.9996675130515511\n",
      "Gini: 0.9998786546368204\n",
      "\n",
      "Confusion Matrix (Act/Pred) for max f1 @ threshold = 0.22615901479764813: \n"
     ]
    },
    {
     "data": {
      "text/html": [
       "<div>\n",
       "<style scoped>\n",
       "    .dataframe tbody tr th:only-of-type {\n",
       "        vertical-align: middle;\n",
       "    }\n",
       "\n",
       "    .dataframe tbody tr th {\n",
       "        vertical-align: top;\n",
       "    }\n",
       "\n",
       "    .dataframe thead th {\n",
       "        text-align: right;\n",
       "    }\n",
       "</style>\n",
       "<table border=\"1\" class=\"dataframe\">\n",
       "  <thead>\n",
       "    <tr style=\"text-align: right;\">\n",
       "      <th></th>\n",
       "      <th></th>\n",
       "      <th>False.</th>\n",
       "      <th>True.</th>\n",
       "      <th>Error</th>\n",
       "      <th>Rate</th>\n",
       "    </tr>\n",
       "  </thead>\n",
       "  <tbody>\n",
       "    <tr>\n",
       "      <th>0</th>\n",
       "      <td>False.</td>\n",
       "      <td>1988.0</td>\n",
       "      <td>2.0</td>\n",
       "      <td>0.001</td>\n",
       "      <td>(2.0/1990.0)</td>\n",
       "    </tr>\n",
       "    <tr>\n",
       "      <th>1</th>\n",
       "      <td>True.</td>\n",
       "      <td>3.0</td>\n",
       "      <td>349.0</td>\n",
       "      <td>0.0085</td>\n",
       "      <td>(3.0/352.0)</td>\n",
       "    </tr>\n",
       "    <tr>\n",
       "      <th>2</th>\n",
       "      <td>Total</td>\n",
       "      <td>1991.0</td>\n",
       "      <td>351.0</td>\n",
       "      <td>0.0021</td>\n",
       "      <td>(5.0/2342.0)</td>\n",
       "    </tr>\n",
       "  </tbody>\n",
       "</table>\n",
       "</div>"
      ],
      "text/plain": [
       "           False.  True.   Error           Rate\n",
       "0  False.  1988.0    2.0   0.001   (2.0/1990.0)\n",
       "1   True.     3.0  349.0  0.0085    (3.0/352.0)\n",
       "2   Total  1991.0  351.0  0.0021   (5.0/2342.0)"
      ]
     },
     "metadata": {},
     "output_type": "display_data"
    },
    {
     "name": "stdout",
     "output_type": "stream",
     "text": [
      "\n",
      "Maximum Metrics: Maximum metrics at their respective thresholds\n"
     ]
    },
    {
     "data": {
      "text/html": [
       "<div>\n",
       "<style scoped>\n",
       "    .dataframe tbody tr th:only-of-type {\n",
       "        vertical-align: middle;\n",
       "    }\n",
       "\n",
       "    .dataframe tbody tr th {\n",
       "        vertical-align: top;\n",
       "    }\n",
       "\n",
       "    .dataframe thead th {\n",
       "        text-align: right;\n",
       "    }\n",
       "</style>\n",
       "<table border=\"1\" class=\"dataframe\">\n",
       "  <thead>\n",
       "    <tr style=\"text-align: right;\">\n",
       "      <th></th>\n",
       "      <th>metric</th>\n",
       "      <th>threshold</th>\n",
       "      <th>value</th>\n",
       "      <th>idx</th>\n",
       "    </tr>\n",
       "  </thead>\n",
       "  <tbody>\n",
       "    <tr>\n",
       "      <th>0</th>\n",
       "      <td>max f1</td>\n",
       "      <td>0.226159</td>\n",
       "      <td>0.992888</td>\n",
       "      <td>180.0</td>\n",
       "    </tr>\n",
       "    <tr>\n",
       "      <th>1</th>\n",
       "      <td>max f2</td>\n",
       "      <td>0.190623</td>\n",
       "      <td>0.992647</td>\n",
       "      <td>188.0</td>\n",
       "    </tr>\n",
       "    <tr>\n",
       "      <th>2</th>\n",
       "      <td>max f0point5</td>\n",
       "      <td>0.245942</td>\n",
       "      <td>0.995423</td>\n",
       "      <td>178.0</td>\n",
       "    </tr>\n",
       "    <tr>\n",
       "      <th>3</th>\n",
       "      <td>max accuracy</td>\n",
       "      <td>0.245942</td>\n",
       "      <td>0.997865</td>\n",
       "      <td>178.0</td>\n",
       "    </tr>\n",
       "    <tr>\n",
       "      <th>4</th>\n",
       "      <td>max precision</td>\n",
       "      <td>0.989105</td>\n",
       "      <td>1.000000</td>\n",
       "      <td>0.0</td>\n",
       "    </tr>\n",
       "    <tr>\n",
       "      <th>5</th>\n",
       "      <td>max recall</td>\n",
       "      <td>0.143025</td>\n",
       "      <td>1.000000</td>\n",
       "      <td>198.0</td>\n",
       "    </tr>\n",
       "    <tr>\n",
       "      <th>6</th>\n",
       "      <td>max specificity</td>\n",
       "      <td>0.989105</td>\n",
       "      <td>1.000000</td>\n",
       "      <td>0.0</td>\n",
       "    </tr>\n",
       "    <tr>\n",
       "      <th>7</th>\n",
       "      <td>max absolute_mcc</td>\n",
       "      <td>0.226159</td>\n",
       "      <td>0.991633</td>\n",
       "      <td>180.0</td>\n",
       "    </tr>\n",
       "    <tr>\n",
       "      <th>8</th>\n",
       "      <td>max min_per_class_accuracy</td>\n",
       "      <td>0.190623</td>\n",
       "      <td>0.995477</td>\n",
       "      <td>188.0</td>\n",
       "    </tr>\n",
       "    <tr>\n",
       "      <th>9</th>\n",
       "      <td>max mean_per_class_accuracy</td>\n",
       "      <td>0.190623</td>\n",
       "      <td>0.996318</td>\n",
       "      <td>188.0</td>\n",
       "    </tr>\n",
       "    <tr>\n",
       "      <th>10</th>\n",
       "      <td>max tns</td>\n",
       "      <td>0.989105</td>\n",
       "      <td>1990.000000</td>\n",
       "      <td>0.0</td>\n",
       "    </tr>\n",
       "    <tr>\n",
       "      <th>11</th>\n",
       "      <td>max fns</td>\n",
       "      <td>0.989105</td>\n",
       "      <td>350.000000</td>\n",
       "      <td>0.0</td>\n",
       "    </tr>\n",
       "    <tr>\n",
       "      <th>12</th>\n",
       "      <td>max fps</td>\n",
       "      <td>0.003916</td>\n",
       "      <td>1990.000000</td>\n",
       "      <td>399.0</td>\n",
       "    </tr>\n",
       "    <tr>\n",
       "      <th>13</th>\n",
       "      <td>max tps</td>\n",
       "      <td>0.143025</td>\n",
       "      <td>352.000000</td>\n",
       "      <td>198.0</td>\n",
       "    </tr>\n",
       "    <tr>\n",
       "      <th>14</th>\n",
       "      <td>max tnr</td>\n",
       "      <td>0.989105</td>\n",
       "      <td>1.000000</td>\n",
       "      <td>0.0</td>\n",
       "    </tr>\n",
       "    <tr>\n",
       "      <th>15</th>\n",
       "      <td>max fnr</td>\n",
       "      <td>0.989105</td>\n",
       "      <td>0.994318</td>\n",
       "      <td>0.0</td>\n",
       "    </tr>\n",
       "    <tr>\n",
       "      <th>16</th>\n",
       "      <td>max fpr</td>\n",
       "      <td>0.003916</td>\n",
       "      <td>1.000000</td>\n",
       "      <td>399.0</td>\n",
       "    </tr>\n",
       "    <tr>\n",
       "      <th>17</th>\n",
       "      <td>max tpr</td>\n",
       "      <td>0.143025</td>\n",
       "      <td>1.000000</td>\n",
       "      <td>198.0</td>\n",
       "    </tr>\n",
       "  </tbody>\n",
       "</table>\n",
       "</div>"
      ],
      "text/plain": [
       "                         metric  threshold        value    idx\n",
       "0                        max f1   0.226159     0.992888  180.0\n",
       "1                        max f2   0.190623     0.992647  188.0\n",
       "2                  max f0point5   0.245942     0.995423  178.0\n",
       "3                  max accuracy   0.245942     0.997865  178.0\n",
       "4                 max precision   0.989105     1.000000    0.0\n",
       "5                    max recall   0.143025     1.000000  198.0\n",
       "6               max specificity   0.989105     1.000000    0.0\n",
       "7              max absolute_mcc   0.226159     0.991633  180.0\n",
       "8    max min_per_class_accuracy   0.190623     0.995477  188.0\n",
       "9   max mean_per_class_accuracy   0.190623     0.996318  188.0\n",
       "10                      max tns   0.989105  1990.000000    0.0\n",
       "11                      max fns   0.989105   350.000000    0.0\n",
       "12                      max fps   0.003916  1990.000000  399.0\n",
       "13                      max tps   0.143025   352.000000  198.0\n",
       "14                      max tnr   0.989105     1.000000    0.0\n",
       "15                      max fnr   0.989105     0.994318    0.0\n",
       "16                      max fpr   0.003916     1.000000  399.0\n",
       "17                      max tpr   0.143025     1.000000  198.0"
      ]
     },
     "metadata": {},
     "output_type": "display_data"
    },
    {
     "name": "stdout",
     "output_type": "stream",
     "text": [
      "\n",
      "Gains/Lift Table: Avg response rate: 15.03 %, avg score: 14.95 %\n"
     ]
    },
    {
     "data": {
      "text/html": [
       "<div>\n",
       "<style scoped>\n",
       "    .dataframe tbody tr th:only-of-type {\n",
       "        vertical-align: middle;\n",
       "    }\n",
       "\n",
       "    .dataframe tbody tr th {\n",
       "        vertical-align: top;\n",
       "    }\n",
       "\n",
       "    .dataframe thead th {\n",
       "        text-align: right;\n",
       "    }\n",
       "</style>\n",
       "<table border=\"1\" class=\"dataframe\">\n",
       "  <thead>\n",
       "    <tr style=\"text-align: right;\">\n",
       "      <th></th>\n",
       "      <th>group</th>\n",
       "      <th>cumulative_data_fraction</th>\n",
       "      <th>lower_threshold</th>\n",
       "      <th>lift</th>\n",
       "      <th>cumulative_lift</th>\n",
       "      <th>response_rate</th>\n",
       "      <th>score</th>\n",
       "      <th>cumulative_response_rate</th>\n",
       "      <th>cumulative_score</th>\n",
       "      <th>capture_rate</th>\n",
       "      <th>cumulative_capture_rate</th>\n",
       "      <th>gain</th>\n",
       "      <th>cumulative_gain</th>\n",
       "      <th>kolmogorov_smirnov</th>\n",
       "    </tr>\n",
       "  </thead>\n",
       "  <tbody>\n",
       "    <tr>\n",
       "      <th>0</th>\n",
       "      <td>1</td>\n",
       "      <td>0.010248</td>\n",
       "      <td>0.975916</td>\n",
       "      <td>6.653409</td>\n",
       "      <td>6.653409</td>\n",
       "      <td>1.000000</td>\n",
       "      <td>0.980852</td>\n",
       "      <td>1.000000</td>\n",
       "      <td>0.980852</td>\n",
       "      <td>0.068182</td>\n",
       "      <td>0.068182</td>\n",
       "      <td>565.340909</td>\n",
       "      <td>565.340909</td>\n",
       "      <td>0.068182</td>\n",
       "    </tr>\n",
       "    <tr>\n",
       "      <th>1</th>\n",
       "      <td>2</td>\n",
       "      <td>0.020068</td>\n",
       "      <td>0.966366</td>\n",
       "      <td>6.653409</td>\n",
       "      <td>6.653409</td>\n",
       "      <td>1.000000</td>\n",
       "      <td>0.970444</td>\n",
       "      <td>1.000000</td>\n",
       "      <td>0.975759</td>\n",
       "      <td>0.065341</td>\n",
       "      <td>0.133523</td>\n",
       "      <td>565.340909</td>\n",
       "      <td>565.340909</td>\n",
       "      <td>0.133523</td>\n",
       "    </tr>\n",
       "    <tr>\n",
       "      <th>2</th>\n",
       "      <td>3</td>\n",
       "      <td>0.030316</td>\n",
       "      <td>0.961086</td>\n",
       "      <td>6.653409</td>\n",
       "      <td>6.653409</td>\n",
       "      <td>1.000000</td>\n",
       "      <td>0.963300</td>\n",
       "      <td>1.000000</td>\n",
       "      <td>0.971547</td>\n",
       "      <td>0.068182</td>\n",
       "      <td>0.201705</td>\n",
       "      <td>565.340909</td>\n",
       "      <td>565.340909</td>\n",
       "      <td>0.201705</td>\n",
       "    </tr>\n",
       "    <tr>\n",
       "      <th>3</th>\n",
       "      <td>4</td>\n",
       "      <td>0.040137</td>\n",
       "      <td>0.955616</td>\n",
       "      <td>6.653409</td>\n",
       "      <td>6.653409</td>\n",
       "      <td>1.000000</td>\n",
       "      <td>0.958420</td>\n",
       "      <td>1.000000</td>\n",
       "      <td>0.968335</td>\n",
       "      <td>0.065341</td>\n",
       "      <td>0.267045</td>\n",
       "      <td>565.340909</td>\n",
       "      <td>565.340909</td>\n",
       "      <td>0.267045</td>\n",
       "    </tr>\n",
       "    <tr>\n",
       "      <th>4</th>\n",
       "      <td>5</td>\n",
       "      <td>0.050384</td>\n",
       "      <td>0.949942</td>\n",
       "      <td>6.653409</td>\n",
       "      <td>6.653409</td>\n",
       "      <td>1.000000</td>\n",
       "      <td>0.953596</td>\n",
       "      <td>1.000000</td>\n",
       "      <td>0.965338</td>\n",
       "      <td>0.068182</td>\n",
       "      <td>0.335227</td>\n",
       "      <td>565.340909</td>\n",
       "      <td>565.340909</td>\n",
       "      <td>0.335227</td>\n",
       "    </tr>\n",
       "    <tr>\n",
       "      <th>5</th>\n",
       "      <td>6</td>\n",
       "      <td>0.100342</td>\n",
       "      <td>0.889367</td>\n",
       "      <td>6.653409</td>\n",
       "      <td>6.653409</td>\n",
       "      <td>1.000000</td>\n",
       "      <td>0.924856</td>\n",
       "      <td>1.000000</td>\n",
       "      <td>0.945183</td>\n",
       "      <td>0.332386</td>\n",
       "      <td>0.667614</td>\n",
       "      <td>565.340909</td>\n",
       "      <td>565.340909</td>\n",
       "      <td>0.667614</td>\n",
       "    </tr>\n",
       "    <tr>\n",
       "      <th>6</th>\n",
       "      <td>7</td>\n",
       "      <td>0.150299</td>\n",
       "      <td>0.216799</td>\n",
       "      <td>6.482809</td>\n",
       "      <td>6.596704</td>\n",
       "      <td>0.974359</td>\n",
       "      <td>0.684568</td>\n",
       "      <td>0.991477</td>\n",
       "      <td>0.858558</td>\n",
       "      <td>0.323864</td>\n",
       "      <td>0.991477</td>\n",
       "      <td>548.280886</td>\n",
       "      <td>559.670390</td>\n",
       "      <td>0.989970</td>\n",
       "    </tr>\n",
       "    <tr>\n",
       "      <th>7</th>\n",
       "      <td>8</td>\n",
       "      <td>0.200256</td>\n",
       "      <td>0.065734</td>\n",
       "      <td>0.170600</td>\n",
       "      <td>4.993603</td>\n",
       "      <td>0.025641</td>\n",
       "      <td>0.109269</td>\n",
       "      <td>0.750533</td>\n",
       "      <td>0.671635</td>\n",
       "      <td>0.008523</td>\n",
       "      <td>1.000000</td>\n",
       "      <td>-82.939977</td>\n",
       "      <td>399.360341</td>\n",
       "      <td>0.941206</td>\n",
       "    </tr>\n",
       "    <tr>\n",
       "      <th>8</th>\n",
       "      <td>9</td>\n",
       "      <td>0.300171</td>\n",
       "      <td>0.035032</td>\n",
       "      <td>0.000000</td>\n",
       "      <td>3.331437</td>\n",
       "      <td>0.000000</td>\n",
       "      <td>0.046804</td>\n",
       "      <td>0.500711</td>\n",
       "      <td>0.463654</td>\n",
       "      <td>0.000000</td>\n",
       "      <td>1.000000</td>\n",
       "      <td>-100.000000</td>\n",
       "      <td>233.143670</td>\n",
       "      <td>0.823618</td>\n",
       "    </tr>\n",
       "    <tr>\n",
       "      <th>9</th>\n",
       "      <td>10</td>\n",
       "      <td>0.400085</td>\n",
       "      <td>0.024018</td>\n",
       "      <td>0.000000</td>\n",
       "      <td>2.499466</td>\n",
       "      <td>0.000000</td>\n",
       "      <td>0.028931</td>\n",
       "      <td>0.375667</td>\n",
       "      <td>0.355090</td>\n",
       "      <td>0.000000</td>\n",
       "      <td>1.000000</td>\n",
       "      <td>-100.000000</td>\n",
       "      <td>149.946638</td>\n",
       "      <td>0.706030</td>\n",
       "    </tr>\n",
       "    <tr>\n",
       "      <th>10</th>\n",
       "      <td>11</td>\n",
       "      <td>0.500000</td>\n",
       "      <td>0.018385</td>\n",
       "      <td>0.000000</td>\n",
       "      <td>2.000000</td>\n",
       "      <td>0.000000</td>\n",
       "      <td>0.021206</td>\n",
       "      <td>0.300598</td>\n",
       "      <td>0.288370</td>\n",
       "      <td>0.000000</td>\n",
       "      <td>1.000000</td>\n",
       "      <td>-100.000000</td>\n",
       "      <td>100.000000</td>\n",
       "      <td>0.588442</td>\n",
       "    </tr>\n",
       "    <tr>\n",
       "      <th>11</th>\n",
       "      <td>12</td>\n",
       "      <td>0.599915</td>\n",
       "      <td>0.014239</td>\n",
       "      <td>0.000000</td>\n",
       "      <td>1.666904</td>\n",
       "      <td>0.000000</td>\n",
       "      <td>0.016219</td>\n",
       "      <td>0.250534</td>\n",
       "      <td>0.243044</td>\n",
       "      <td>0.000000</td>\n",
       "      <td>1.000000</td>\n",
       "      <td>-100.000000</td>\n",
       "      <td>66.690391</td>\n",
       "      <td>0.470854</td>\n",
       "    </tr>\n",
       "    <tr>\n",
       "      <th>12</th>\n",
       "      <td>13</td>\n",
       "      <td>0.699829</td>\n",
       "      <td>0.011523</td>\n",
       "      <td>0.000000</td>\n",
       "      <td>1.428920</td>\n",
       "      <td>0.000000</td>\n",
       "      <td>0.012792</td>\n",
       "      <td>0.214765</td>\n",
       "      <td>0.210171</td>\n",
       "      <td>0.000000</td>\n",
       "      <td>1.000000</td>\n",
       "      <td>-100.000000</td>\n",
       "      <td>42.892007</td>\n",
       "      <td>0.353266</td>\n",
       "    </tr>\n",
       "    <tr>\n",
       "      <th>13</th>\n",
       "      <td>14</td>\n",
       "      <td>0.799744</td>\n",
       "      <td>0.009226</td>\n",
       "      <td>0.000000</td>\n",
       "      <td>1.250400</td>\n",
       "      <td>0.000000</td>\n",
       "      <td>0.010412</td>\n",
       "      <td>0.187934</td>\n",
       "      <td>0.185214</td>\n",
       "      <td>0.000000</td>\n",
       "      <td>1.000000</td>\n",
       "      <td>-100.000000</td>\n",
       "      <td>25.040043</td>\n",
       "      <td>0.235678</td>\n",
       "    </tr>\n",
       "    <tr>\n",
       "      <th>14</th>\n",
       "      <td>15</td>\n",
       "      <td>0.899658</td>\n",
       "      <td>0.007143</td>\n",
       "      <td>0.000000</td>\n",
       "      <td>1.111533</td>\n",
       "      <td>0.000000</td>\n",
       "      <td>0.008203</td>\n",
       "      <td>0.167062</td>\n",
       "      <td>0.165556</td>\n",
       "      <td>0.000000</td>\n",
       "      <td>1.000000</td>\n",
       "      <td>-100.000000</td>\n",
       "      <td>11.153299</td>\n",
       "      <td>0.118090</td>\n",
       "    </tr>\n",
       "    <tr>\n",
       "      <th>15</th>\n",
       "      <td>16</td>\n",
       "      <td>1.000000</td>\n",
       "      <td>0.003743</td>\n",
       "      <td>0.000000</td>\n",
       "      <td>1.000000</td>\n",
       "      <td>0.000000</td>\n",
       "      <td>0.005984</td>\n",
       "      <td>0.150299</td>\n",
       "      <td>0.149544</td>\n",
       "      <td>0.000000</td>\n",
       "      <td>1.000000</td>\n",
       "      <td>-100.000000</td>\n",
       "      <td>0.000000</td>\n",
       "      <td>0.000000</td>\n",
       "    </tr>\n",
       "  </tbody>\n",
       "</table>\n",
       "</div>"
      ],
      "text/plain": [
       "    group  cumulative_data_fraction  lower_threshold      lift  \\\n",
       "0       1                  0.010248         0.975916  6.653409   \n",
       "1       2                  0.020068         0.966366  6.653409   \n",
       "2       3                  0.030316         0.961086  6.653409   \n",
       "3       4                  0.040137         0.955616  6.653409   \n",
       "4       5                  0.050384         0.949942  6.653409   \n",
       "5       6                  0.100342         0.889367  6.653409   \n",
       "6       7                  0.150299         0.216799  6.482809   \n",
       "7       8                  0.200256         0.065734  0.170600   \n",
       "8       9                  0.300171         0.035032  0.000000   \n",
       "9      10                  0.400085         0.024018  0.000000   \n",
       "10     11                  0.500000         0.018385  0.000000   \n",
       "11     12                  0.599915         0.014239  0.000000   \n",
       "12     13                  0.699829         0.011523  0.000000   \n",
       "13     14                  0.799744         0.009226  0.000000   \n",
       "14     15                  0.899658         0.007143  0.000000   \n",
       "15     16                  1.000000         0.003743  0.000000   \n",
       "\n",
       "    cumulative_lift  response_rate     score  cumulative_response_rate  \\\n",
       "0          6.653409       1.000000  0.980852                  1.000000   \n",
       "1          6.653409       1.000000  0.970444                  1.000000   \n",
       "2          6.653409       1.000000  0.963300                  1.000000   \n",
       "3          6.653409       1.000000  0.958420                  1.000000   \n",
       "4          6.653409       1.000000  0.953596                  1.000000   \n",
       "5          6.653409       1.000000  0.924856                  1.000000   \n",
       "6          6.596704       0.974359  0.684568                  0.991477   \n",
       "7          4.993603       0.025641  0.109269                  0.750533   \n",
       "8          3.331437       0.000000  0.046804                  0.500711   \n",
       "9          2.499466       0.000000  0.028931                  0.375667   \n",
       "10         2.000000       0.000000  0.021206                  0.300598   \n",
       "11         1.666904       0.000000  0.016219                  0.250534   \n",
       "12         1.428920       0.000000  0.012792                  0.214765   \n",
       "13         1.250400       0.000000  0.010412                  0.187934   \n",
       "14         1.111533       0.000000  0.008203                  0.167062   \n",
       "15         1.000000       0.000000  0.005984                  0.150299   \n",
       "\n",
       "    cumulative_score  capture_rate  cumulative_capture_rate        gain  \\\n",
       "0           0.980852      0.068182                 0.068182  565.340909   \n",
       "1           0.975759      0.065341                 0.133523  565.340909   \n",
       "2           0.971547      0.068182                 0.201705  565.340909   \n",
       "3           0.968335      0.065341                 0.267045  565.340909   \n",
       "4           0.965338      0.068182                 0.335227  565.340909   \n",
       "5           0.945183      0.332386                 0.667614  565.340909   \n",
       "6           0.858558      0.323864                 0.991477  548.280886   \n",
       "7           0.671635      0.008523                 1.000000  -82.939977   \n",
       "8           0.463654      0.000000                 1.000000 -100.000000   \n",
       "9           0.355090      0.000000                 1.000000 -100.000000   \n",
       "10          0.288370      0.000000                 1.000000 -100.000000   \n",
       "11          0.243044      0.000000                 1.000000 -100.000000   \n",
       "12          0.210171      0.000000                 1.000000 -100.000000   \n",
       "13          0.185214      0.000000                 1.000000 -100.000000   \n",
       "14          0.165556      0.000000                 1.000000 -100.000000   \n",
       "15          0.149544      0.000000                 1.000000 -100.000000   \n",
       "\n",
       "    cumulative_gain  kolmogorov_smirnov  \n",
       "0        565.340909            0.068182  \n",
       "1        565.340909            0.133523  \n",
       "2        565.340909            0.201705  \n",
       "3        565.340909            0.267045  \n",
       "4        565.340909            0.335227  \n",
       "5        565.340909            0.667614  \n",
       "6        559.670390            0.989970  \n",
       "7        399.360341            0.941206  \n",
       "8        233.143670            0.823618  \n",
       "9        149.946638            0.706030  \n",
       "10       100.000000            0.588442  \n",
       "11        66.690391            0.470854  \n",
       "12        42.892007            0.353266  \n",
       "13        25.040043            0.235678  \n",
       "14        11.153299            0.118090  \n",
       "15         0.000000            0.000000  "
      ]
     },
     "metadata": {},
     "output_type": "display_data"
    },
    {
     "name": "stdout",
     "output_type": "stream",
     "text": [
      "\n",
      "\n",
      "ModelMetricsBinomial: gbm\n",
      "** Reported on cross-validation data. **\n",
      "\n",
      "MSE: 0.05539791243792369\n",
      "RMSE: 0.23536761127632597\n",
      "LogLoss: 0.21209361157716017\n",
      "Mean Per-Class Error: 0.14041371630881683\n",
      "AUC: 0.9063256624029238\n",
      "AUCPR: 0.8111767352655737\n",
      "Gini: 0.8126513248058476\n",
      "\n",
      "Confusion Matrix (Act/Pred) for max f1 @ threshold = 0.273778010748177: \n"
     ]
    },
    {
     "data": {
      "text/html": [
       "<div>\n",
       "<style scoped>\n",
       "    .dataframe tbody tr th:only-of-type {\n",
       "        vertical-align: middle;\n",
       "    }\n",
       "\n",
       "    .dataframe tbody tr th {\n",
       "        vertical-align: top;\n",
       "    }\n",
       "\n",
       "    .dataframe thead th {\n",
       "        text-align: right;\n",
       "    }\n",
       "</style>\n",
       "<table border=\"1\" class=\"dataframe\">\n",
       "  <thead>\n",
       "    <tr style=\"text-align: right;\">\n",
       "      <th></th>\n",
       "      <th></th>\n",
       "      <th>False.</th>\n",
       "      <th>True.</th>\n",
       "      <th>Error</th>\n",
       "      <th>Rate</th>\n",
       "    </tr>\n",
       "  </thead>\n",
       "  <tbody>\n",
       "    <tr>\n",
       "      <th>0</th>\n",
       "      <td>False.</td>\n",
       "      <td>1923.0</td>\n",
       "      <td>67.0</td>\n",
       "      <td>0.0337</td>\n",
       "      <td>(67.0/1990.0)</td>\n",
       "    </tr>\n",
       "    <tr>\n",
       "      <th>1</th>\n",
       "      <td>True.</td>\n",
       "      <td>87.0</td>\n",
       "      <td>265.0</td>\n",
       "      <td>0.2472</td>\n",
       "      <td>(87.0/352.0)</td>\n",
       "    </tr>\n",
       "    <tr>\n",
       "      <th>2</th>\n",
       "      <td>Total</td>\n",
       "      <td>2010.0</td>\n",
       "      <td>332.0</td>\n",
       "      <td>0.0658</td>\n",
       "      <td>(154.0/2342.0)</td>\n",
       "    </tr>\n",
       "  </tbody>\n",
       "</table>\n",
       "</div>"
      ],
      "text/plain": [
       "           False.  True.   Error             Rate\n",
       "0  False.  1923.0   67.0  0.0337    (67.0/1990.0)\n",
       "1   True.    87.0  265.0  0.2472     (87.0/352.0)\n",
       "2   Total  2010.0  332.0  0.0658   (154.0/2342.0)"
      ]
     },
     "metadata": {},
     "output_type": "display_data"
    },
    {
     "name": "stdout",
     "output_type": "stream",
     "text": [
      "\n",
      "Maximum Metrics: Maximum metrics at their respective thresholds\n"
     ]
    },
    {
     "data": {
      "text/html": [
       "<div>\n",
       "<style scoped>\n",
       "    .dataframe tbody tr th:only-of-type {\n",
       "        vertical-align: middle;\n",
       "    }\n",
       "\n",
       "    .dataframe tbody tr th {\n",
       "        vertical-align: top;\n",
       "    }\n",
       "\n",
       "    .dataframe thead th {\n",
       "        text-align: right;\n",
       "    }\n",
       "</style>\n",
       "<table border=\"1\" class=\"dataframe\">\n",
       "  <thead>\n",
       "    <tr style=\"text-align: right;\">\n",
       "      <th></th>\n",
       "      <th>metric</th>\n",
       "      <th>threshold</th>\n",
       "      <th>value</th>\n",
       "      <th>idx</th>\n",
       "    </tr>\n",
       "  </thead>\n",
       "  <tbody>\n",
       "    <tr>\n",
       "      <th>0</th>\n",
       "      <td>max f1</td>\n",
       "      <td>0.273778</td>\n",
       "      <td>0.774854</td>\n",
       "      <td>195.0</td>\n",
       "    </tr>\n",
       "    <tr>\n",
       "      <th>1</th>\n",
       "      <td>max f2</td>\n",
       "      <td>0.171170</td>\n",
       "      <td>0.777840</td>\n",
       "      <td>222.0</td>\n",
       "    </tr>\n",
       "    <tr>\n",
       "      <th>2</th>\n",
       "      <td>max f0point5</td>\n",
       "      <td>0.541599</td>\n",
       "      <td>0.813070</td>\n",
       "      <td>133.0</td>\n",
       "    </tr>\n",
       "    <tr>\n",
       "      <th>3</th>\n",
       "      <td>max accuracy</td>\n",
       "      <td>0.293202</td>\n",
       "      <td>0.934244</td>\n",
       "      <td>188.0</td>\n",
       "    </tr>\n",
       "    <tr>\n",
       "      <th>4</th>\n",
       "      <td>max precision</td>\n",
       "      <td>0.991429</td>\n",
       "      <td>1.000000</td>\n",
       "      <td>0.0</td>\n",
       "    </tr>\n",
       "    <tr>\n",
       "      <th>5</th>\n",
       "      <td>max recall</td>\n",
       "      <td>0.003266</td>\n",
       "      <td>1.000000</td>\n",
       "      <td>397.0</td>\n",
       "    </tr>\n",
       "    <tr>\n",
       "      <th>6</th>\n",
       "      <td>max specificity</td>\n",
       "      <td>0.991429</td>\n",
       "      <td>1.000000</td>\n",
       "      <td>0.0</td>\n",
       "    </tr>\n",
       "    <tr>\n",
       "      <th>7</th>\n",
       "      <td>max absolute_mcc</td>\n",
       "      <td>0.273778</td>\n",
       "      <td>0.736824</td>\n",
       "      <td>195.0</td>\n",
       "    </tr>\n",
       "    <tr>\n",
       "      <th>8</th>\n",
       "      <td>max min_per_class_accuracy</td>\n",
       "      <td>0.062005</td>\n",
       "      <td>0.843750</td>\n",
       "      <td>289.0</td>\n",
       "    </tr>\n",
       "    <tr>\n",
       "      <th>9</th>\n",
       "      <td>max mean_per_class_accuracy</td>\n",
       "      <td>0.171170</td>\n",
       "      <td>0.869509</td>\n",
       "      <td>222.0</td>\n",
       "    </tr>\n",
       "    <tr>\n",
       "      <th>10</th>\n",
       "      <td>max tns</td>\n",
       "      <td>0.991429</td>\n",
       "      <td>1990.000000</td>\n",
       "      <td>0.0</td>\n",
       "    </tr>\n",
       "    <tr>\n",
       "      <th>11</th>\n",
       "      <td>max fns</td>\n",
       "      <td>0.991429</td>\n",
       "      <td>350.000000</td>\n",
       "      <td>0.0</td>\n",
       "    </tr>\n",
       "    <tr>\n",
       "      <th>12</th>\n",
       "      <td>max fps</td>\n",
       "      <td>0.001907</td>\n",
       "      <td>1990.000000</td>\n",
       "      <td>399.0</td>\n",
       "    </tr>\n",
       "    <tr>\n",
       "      <th>13</th>\n",
       "      <td>max tps</td>\n",
       "      <td>0.003266</td>\n",
       "      <td>352.000000</td>\n",
       "      <td>397.0</td>\n",
       "    </tr>\n",
       "    <tr>\n",
       "      <th>14</th>\n",
       "      <td>max tnr</td>\n",
       "      <td>0.991429</td>\n",
       "      <td>1.000000</td>\n",
       "      <td>0.0</td>\n",
       "    </tr>\n",
       "    <tr>\n",
       "      <th>15</th>\n",
       "      <td>max fnr</td>\n",
       "      <td>0.991429</td>\n",
       "      <td>0.994318</td>\n",
       "      <td>0.0</td>\n",
       "    </tr>\n",
       "    <tr>\n",
       "      <th>16</th>\n",
       "      <td>max fpr</td>\n",
       "      <td>0.001907</td>\n",
       "      <td>1.000000</td>\n",
       "      <td>399.0</td>\n",
       "    </tr>\n",
       "    <tr>\n",
       "      <th>17</th>\n",
       "      <td>max tpr</td>\n",
       "      <td>0.003266</td>\n",
       "      <td>1.000000</td>\n",
       "      <td>397.0</td>\n",
       "    </tr>\n",
       "  </tbody>\n",
       "</table>\n",
       "</div>"
      ],
      "text/plain": [
       "                         metric  threshold        value    idx\n",
       "0                        max f1   0.273778     0.774854  195.0\n",
       "1                        max f2   0.171170     0.777840  222.0\n",
       "2                  max f0point5   0.541599     0.813070  133.0\n",
       "3                  max accuracy   0.293202     0.934244  188.0\n",
       "4                 max precision   0.991429     1.000000    0.0\n",
       "5                    max recall   0.003266     1.000000  397.0\n",
       "6               max specificity   0.991429     1.000000    0.0\n",
       "7              max absolute_mcc   0.273778     0.736824  195.0\n",
       "8    max min_per_class_accuracy   0.062005     0.843750  289.0\n",
       "9   max mean_per_class_accuracy   0.171170     0.869509  222.0\n",
       "10                      max tns   0.991429  1990.000000    0.0\n",
       "11                      max fns   0.991429   350.000000    0.0\n",
       "12                      max fps   0.001907  1990.000000  399.0\n",
       "13                      max tps   0.003266   352.000000  397.0\n",
       "14                      max tnr   0.991429     1.000000    0.0\n",
       "15                      max fnr   0.991429     0.994318    0.0\n",
       "16                      max fpr   0.001907     1.000000  399.0\n",
       "17                      max tpr   0.003266     1.000000  397.0"
      ]
     },
     "metadata": {},
     "output_type": "display_data"
    },
    {
     "name": "stdout",
     "output_type": "stream",
     "text": [
      "\n",
      "Gains/Lift Table: Avg response rate: 15.03 %, avg score: 12.72 %\n"
     ]
    },
    {
     "data": {
      "text/html": [
       "<div>\n",
       "<style scoped>\n",
       "    .dataframe tbody tr th:only-of-type {\n",
       "        vertical-align: middle;\n",
       "    }\n",
       "\n",
       "    .dataframe tbody tr th {\n",
       "        vertical-align: top;\n",
       "    }\n",
       "\n",
       "    .dataframe thead th {\n",
       "        text-align: right;\n",
       "    }\n",
       "</style>\n",
       "<table border=\"1\" class=\"dataframe\">\n",
       "  <thead>\n",
       "    <tr style=\"text-align: right;\">\n",
       "      <th></th>\n",
       "      <th>group</th>\n",
       "      <th>cumulative_data_fraction</th>\n",
       "      <th>lower_threshold</th>\n",
       "      <th>lift</th>\n",
       "      <th>cumulative_lift</th>\n",
       "      <th>response_rate</th>\n",
       "      <th>score</th>\n",
       "      <th>cumulative_response_rate</th>\n",
       "      <th>cumulative_score</th>\n",
       "      <th>capture_rate</th>\n",
       "      <th>cumulative_capture_rate</th>\n",
       "      <th>gain</th>\n",
       "      <th>cumulative_gain</th>\n",
       "      <th>kolmogorov_smirnov</th>\n",
       "    </tr>\n",
       "  </thead>\n",
       "  <tbody>\n",
       "    <tr>\n",
       "      <th>0</th>\n",
       "      <td>1</td>\n",
       "      <td>0.010248</td>\n",
       "      <td>0.955422</td>\n",
       "      <td>6.653409</td>\n",
       "      <td>6.653409</td>\n",
       "      <td>1.000000</td>\n",
       "      <td>0.970636</td>\n",
       "      <td>1.000000</td>\n",
       "      <td>0.970636</td>\n",
       "      <td>0.068182</td>\n",
       "      <td>0.068182</td>\n",
       "      <td>565.340909</td>\n",
       "      <td>565.340909</td>\n",
       "      <td>0.068182</td>\n",
       "    </tr>\n",
       "    <tr>\n",
       "      <th>1</th>\n",
       "      <td>2</td>\n",
       "      <td>0.020068</td>\n",
       "      <td>0.940095</td>\n",
       "      <td>6.364130</td>\n",
       "      <td>6.511847</td>\n",
       "      <td>0.956522</td>\n",
       "      <td>0.948753</td>\n",
       "      <td>0.978723</td>\n",
       "      <td>0.959927</td>\n",
       "      <td>0.062500</td>\n",
       "      <td>0.130682</td>\n",
       "      <td>536.413043</td>\n",
       "      <td>551.184720</td>\n",
       "      <td>0.130179</td>\n",
       "    </tr>\n",
       "    <tr>\n",
       "      <th>2</th>\n",
       "      <td>3</td>\n",
       "      <td>0.030316</td>\n",
       "      <td>0.925780</td>\n",
       "      <td>6.653409</td>\n",
       "      <td>6.559699</td>\n",
       "      <td>1.000000</td>\n",
       "      <td>0.933319</td>\n",
       "      <td>0.985915</td>\n",
       "      <td>0.950933</td>\n",
       "      <td>0.068182</td>\n",
       "      <td>0.198864</td>\n",
       "      <td>565.340909</td>\n",
       "      <td>555.969910</td>\n",
       "      <td>0.198361</td>\n",
       "    </tr>\n",
       "    <tr>\n",
       "      <th>3</th>\n",
       "      <td>4</td>\n",
       "      <td>0.040137</td>\n",
       "      <td>0.896228</td>\n",
       "      <td>6.653409</td>\n",
       "      <td>6.582628</td>\n",
       "      <td>1.000000</td>\n",
       "      <td>0.912015</td>\n",
       "      <td>0.989362</td>\n",
       "      <td>0.941410</td>\n",
       "      <td>0.065341</td>\n",
       "      <td>0.264205</td>\n",
       "      <td>565.340909</td>\n",
       "      <td>558.262814</td>\n",
       "      <td>0.263702</td>\n",
       "    </tr>\n",
       "    <tr>\n",
       "      <th>4</th>\n",
       "      <td>5</td>\n",
       "      <td>0.050384</td>\n",
       "      <td>0.868115</td>\n",
       "      <td>6.376184</td>\n",
       "      <td>6.540639</td>\n",
       "      <td>0.958333</td>\n",
       "      <td>0.882041</td>\n",
       "      <td>0.983051</td>\n",
       "      <td>0.929335</td>\n",
       "      <td>0.065341</td>\n",
       "      <td>0.329545</td>\n",
       "      <td>537.618371</td>\n",
       "      <td>554.063945</td>\n",
       "      <td>0.328540</td>\n",
       "    </tr>\n",
       "    <tr>\n",
       "      <th>5</th>\n",
       "      <td>6</td>\n",
       "      <td>0.100342</td>\n",
       "      <td>0.556494</td>\n",
       "      <td>5.345474</td>\n",
       "      <td>5.945600</td>\n",
       "      <td>0.803419</td>\n",
       "      <td>0.746239</td>\n",
       "      <td>0.893617</td>\n",
       "      <td>0.838177</td>\n",
       "      <td>0.267045</td>\n",
       "      <td>0.596591</td>\n",
       "      <td>434.547397</td>\n",
       "      <td>494.559961</td>\n",
       "      <td>0.584028</td>\n",
       "    </tr>\n",
       "    <tr>\n",
       "      <th>6</th>\n",
       "      <td>7</td>\n",
       "      <td>0.150299</td>\n",
       "      <td>0.233148</td>\n",
       "      <td>3.355138</td>\n",
       "      <td>5.084565</td>\n",
       "      <td>0.504274</td>\n",
       "      <td>0.368301</td>\n",
       "      <td>0.764205</td>\n",
       "      <td>0.681996</td>\n",
       "      <td>0.167614</td>\n",
       "      <td>0.764205</td>\n",
       "      <td>235.513792</td>\n",
       "      <td>408.456547</td>\n",
       "      <td>0.722496</td>\n",
       "    </tr>\n",
       "    <tr>\n",
       "      <th>7</th>\n",
       "      <td>8</td>\n",
       "      <td>0.200256</td>\n",
       "      <td>0.100612</td>\n",
       "      <td>1.137335</td>\n",
       "      <td>4.099862</td>\n",
       "      <td>0.170940</td>\n",
       "      <td>0.145543</td>\n",
       "      <td>0.616205</td>\n",
       "      <td>0.548169</td>\n",
       "      <td>0.056818</td>\n",
       "      <td>0.821023</td>\n",
       "      <td>13.733489</td>\n",
       "      <td>309.986189</td>\n",
       "      <td>0.730570</td>\n",
       "    </tr>\n",
       "    <tr>\n",
       "      <th>8</th>\n",
       "      <td>9</td>\n",
       "      <td>0.300171</td>\n",
       "      <td>0.044007</td>\n",
       "      <td>0.398067</td>\n",
       "      <td>2.867686</td>\n",
       "      <td>0.059829</td>\n",
       "      <td>0.064607</td>\n",
       "      <td>0.431010</td>\n",
       "      <td>0.387211</td>\n",
       "      <td>0.039773</td>\n",
       "      <td>0.860795</td>\n",
       "      <td>-60.193279</td>\n",
       "      <td>186.768557</td>\n",
       "      <td>0.659790</td>\n",
       "    </tr>\n",
       "    <tr>\n",
       "      <th>9</th>\n",
       "      <td>10</td>\n",
       "      <td>0.400085</td>\n",
       "      <td>0.027353</td>\n",
       "      <td>0.255900</td>\n",
       "      <td>2.215436</td>\n",
       "      <td>0.038462</td>\n",
       "      <td>0.034070</td>\n",
       "      <td>0.332978</td>\n",
       "      <td>0.299020</td>\n",
       "      <td>0.025568</td>\n",
       "      <td>0.886364</td>\n",
       "      <td>-74.409965</td>\n",
       "      <td>121.543611</td>\n",
       "      <td>0.572293</td>\n",
       "    </tr>\n",
       "    <tr>\n",
       "      <th>10</th>\n",
       "      <td>11</td>\n",
       "      <td>0.500000</td>\n",
       "      <td>0.019450</td>\n",
       "      <td>0.255900</td>\n",
       "      <td>1.823864</td>\n",
       "      <td>0.038462</td>\n",
       "      <td>0.023036</td>\n",
       "      <td>0.274125</td>\n",
       "      <td>0.243870</td>\n",
       "      <td>0.025568</td>\n",
       "      <td>0.911932</td>\n",
       "      <td>-74.409965</td>\n",
       "      <td>82.386364</td>\n",
       "      <td>0.484796</td>\n",
       "    </tr>\n",
       "    <tr>\n",
       "      <th>11</th>\n",
       "      <td>12</td>\n",
       "      <td>0.599915</td>\n",
       "      <td>0.014352</td>\n",
       "      <td>0.199034</td>\n",
       "      <td>1.553251</td>\n",
       "      <td>0.029915</td>\n",
       "      <td>0.016788</td>\n",
       "      <td>0.233452</td>\n",
       "      <td>0.206050</td>\n",
       "      <td>0.019886</td>\n",
       "      <td>0.931818</td>\n",
       "      <td>-80.096639</td>\n",
       "      <td>55.325137</td>\n",
       "      <td>0.390612</td>\n",
       "    </tr>\n",
       "    <tr>\n",
       "      <th>12</th>\n",
       "      <td>13</td>\n",
       "      <td>0.699829</td>\n",
       "      <td>0.011285</td>\n",
       "      <td>0.170600</td>\n",
       "      <td>1.355850</td>\n",
       "      <td>0.025641</td>\n",
       "      <td>0.012737</td>\n",
       "      <td>0.203783</td>\n",
       "      <td>0.178451</td>\n",
       "      <td>0.017045</td>\n",
       "      <td>0.948864</td>\n",
       "      <td>-82.939977</td>\n",
       "      <td>35.585030</td>\n",
       "      <td>0.293085</td>\n",
       "    </tr>\n",
       "    <tr>\n",
       "      <th>13</th>\n",
       "      <td>14</td>\n",
       "      <td>0.799744</td>\n",
       "      <td>0.009052</td>\n",
       "      <td>0.142167</td>\n",
       "      <td>1.204221</td>\n",
       "      <td>0.021368</td>\n",
       "      <td>0.010186</td>\n",
       "      <td>0.180993</td>\n",
       "      <td>0.157429</td>\n",
       "      <td>0.014205</td>\n",
       "      <td>0.963068</td>\n",
       "      <td>-85.783314</td>\n",
       "      <td>20.422087</td>\n",
       "      <td>0.192214</td>\n",
       "    </tr>\n",
       "    <tr>\n",
       "      <th>14</th>\n",
       "      <td>15</td>\n",
       "      <td>0.899658</td>\n",
       "      <td>0.006486</td>\n",
       "      <td>0.199034</td>\n",
       "      <td>1.092586</td>\n",
       "      <td>0.029915</td>\n",
       "      <td>0.007830</td>\n",
       "      <td>0.164215</td>\n",
       "      <td>0.140815</td>\n",
       "      <td>0.019886</td>\n",
       "      <td>0.982955</td>\n",
       "      <td>-80.096639</td>\n",
       "      <td>9.258640</td>\n",
       "      <td>0.098030</td>\n",
       "    </tr>\n",
       "    <tr>\n",
       "      <th>15</th>\n",
       "      <td>16</td>\n",
       "      <td>1.000000</td>\n",
       "      <td>0.001907</td>\n",
       "      <td>0.169874</td>\n",
       "      <td>1.000000</td>\n",
       "      <td>0.025532</td>\n",
       "      <td>0.004900</td>\n",
       "      <td>0.150299</td>\n",
       "      <td>0.127177</td>\n",
       "      <td>0.017045</td>\n",
       "      <td>1.000000</td>\n",
       "      <td>-83.012573</td>\n",
       "      <td>0.000000</td>\n",
       "      <td>0.000000</td>\n",
       "    </tr>\n",
       "  </tbody>\n",
       "</table>\n",
       "</div>"
      ],
      "text/plain": [
       "    group  cumulative_data_fraction  lower_threshold      lift  \\\n",
       "0       1                  0.010248         0.955422  6.653409   \n",
       "1       2                  0.020068         0.940095  6.364130   \n",
       "2       3                  0.030316         0.925780  6.653409   \n",
       "3       4                  0.040137         0.896228  6.653409   \n",
       "4       5                  0.050384         0.868115  6.376184   \n",
       "5       6                  0.100342         0.556494  5.345474   \n",
       "6       7                  0.150299         0.233148  3.355138   \n",
       "7       8                  0.200256         0.100612  1.137335   \n",
       "8       9                  0.300171         0.044007  0.398067   \n",
       "9      10                  0.400085         0.027353  0.255900   \n",
       "10     11                  0.500000         0.019450  0.255900   \n",
       "11     12                  0.599915         0.014352  0.199034   \n",
       "12     13                  0.699829         0.011285  0.170600   \n",
       "13     14                  0.799744         0.009052  0.142167   \n",
       "14     15                  0.899658         0.006486  0.199034   \n",
       "15     16                  1.000000         0.001907  0.169874   \n",
       "\n",
       "    cumulative_lift  response_rate     score  cumulative_response_rate  \\\n",
       "0          6.653409       1.000000  0.970636                  1.000000   \n",
       "1          6.511847       0.956522  0.948753                  0.978723   \n",
       "2          6.559699       1.000000  0.933319                  0.985915   \n",
       "3          6.582628       1.000000  0.912015                  0.989362   \n",
       "4          6.540639       0.958333  0.882041                  0.983051   \n",
       "5          5.945600       0.803419  0.746239                  0.893617   \n",
       "6          5.084565       0.504274  0.368301                  0.764205   \n",
       "7          4.099862       0.170940  0.145543                  0.616205   \n",
       "8          2.867686       0.059829  0.064607                  0.431010   \n",
       "9          2.215436       0.038462  0.034070                  0.332978   \n",
       "10         1.823864       0.038462  0.023036                  0.274125   \n",
       "11         1.553251       0.029915  0.016788                  0.233452   \n",
       "12         1.355850       0.025641  0.012737                  0.203783   \n",
       "13         1.204221       0.021368  0.010186                  0.180993   \n",
       "14         1.092586       0.029915  0.007830                  0.164215   \n",
       "15         1.000000       0.025532  0.004900                  0.150299   \n",
       "\n",
       "    cumulative_score  capture_rate  cumulative_capture_rate        gain  \\\n",
       "0           0.970636      0.068182                 0.068182  565.340909   \n",
       "1           0.959927      0.062500                 0.130682  536.413043   \n",
       "2           0.950933      0.068182                 0.198864  565.340909   \n",
       "3           0.941410      0.065341                 0.264205  565.340909   \n",
       "4           0.929335      0.065341                 0.329545  537.618371   \n",
       "5           0.838177      0.267045                 0.596591  434.547397   \n",
       "6           0.681996      0.167614                 0.764205  235.513792   \n",
       "7           0.548169      0.056818                 0.821023   13.733489   \n",
       "8           0.387211      0.039773                 0.860795  -60.193279   \n",
       "9           0.299020      0.025568                 0.886364  -74.409965   \n",
       "10          0.243870      0.025568                 0.911932  -74.409965   \n",
       "11          0.206050      0.019886                 0.931818  -80.096639   \n",
       "12          0.178451      0.017045                 0.948864  -82.939977   \n",
       "13          0.157429      0.014205                 0.963068  -85.783314   \n",
       "14          0.140815      0.019886                 0.982955  -80.096639   \n",
       "15          0.127177      0.017045                 1.000000  -83.012573   \n",
       "\n",
       "    cumulative_gain  kolmogorov_smirnov  \n",
       "0        565.340909            0.068182  \n",
       "1        551.184720            0.130179  \n",
       "2        555.969910            0.198361  \n",
       "3        558.262814            0.263702  \n",
       "4        554.063945            0.328540  \n",
       "5        494.559961            0.584028  \n",
       "6        408.456547            0.722496  \n",
       "7        309.986189            0.730570  \n",
       "8        186.768557            0.659790  \n",
       "9        121.543611            0.572293  \n",
       "10        82.386364            0.484796  \n",
       "11        55.325137            0.390612  \n",
       "12        35.585030            0.293085  \n",
       "13        20.422087            0.192214  \n",
       "14         9.258640            0.098030  \n",
       "15         0.000000            0.000000  "
      ]
     },
     "metadata": {},
     "output_type": "display_data"
    },
    {
     "name": "stdout",
     "output_type": "stream",
     "text": [
      "\n",
      "\n",
      "Cross-Validation Metrics Summary: \n"
     ]
    },
    {
     "data": {
      "text/html": [
       "<div>\n",
       "<style scoped>\n",
       "    .dataframe tbody tr th:only-of-type {\n",
       "        vertical-align: middle;\n",
       "    }\n",
       "\n",
       "    .dataframe tbody tr th {\n",
       "        vertical-align: top;\n",
       "    }\n",
       "\n",
       "    .dataframe thead th {\n",
       "        text-align: right;\n",
       "    }\n",
       "</style>\n",
       "<table border=\"1\" class=\"dataframe\">\n",
       "  <thead>\n",
       "    <tr style=\"text-align: right;\">\n",
       "      <th></th>\n",
       "      <th></th>\n",
       "      <th>mean</th>\n",
       "      <th>sd</th>\n",
       "      <th>cv_1_valid</th>\n",
       "      <th>cv_2_valid</th>\n",
       "      <th>cv_3_valid</th>\n",
       "      <th>cv_4_valid</th>\n",
       "      <th>cv_5_valid</th>\n",
       "    </tr>\n",
       "  </thead>\n",
       "  <tbody>\n",
       "    <tr>\n",
       "      <th>0</th>\n",
       "      <td>accuracy</td>\n",
       "      <td>0.936386</td>\n",
       "      <td>0.008663</td>\n",
       "      <td>0.929638</td>\n",
       "      <td>0.927505</td>\n",
       "      <td>0.944444</td>\n",
       "      <td>0.933761</td>\n",
       "      <td>0.946581</td>\n",
       "    </tr>\n",
       "    <tr>\n",
       "      <th>1</th>\n",
       "      <td>auc</td>\n",
       "      <td>0.905572</td>\n",
       "      <td>0.012673</td>\n",
       "      <td>0.902022</td>\n",
       "      <td>0.888939</td>\n",
       "      <td>0.912904</td>\n",
       "      <td>0.901584</td>\n",
       "      <td>0.922408</td>\n",
       "    </tr>\n",
       "    <tr>\n",
       "      <th>2</th>\n",
       "      <td>err</td>\n",
       "      <td>0.063614</td>\n",
       "      <td>0.008663</td>\n",
       "      <td>0.070362</td>\n",
       "      <td>0.072495</td>\n",
       "      <td>0.055556</td>\n",
       "      <td>0.066239</td>\n",
       "      <td>0.053419</td>\n",
       "    </tr>\n",
       "    <tr>\n",
       "      <th>3</th>\n",
       "      <td>err_count</td>\n",
       "      <td>29.800000</td>\n",
       "      <td>4.086563</td>\n",
       "      <td>33.000000</td>\n",
       "      <td>34.000000</td>\n",
       "      <td>26.000000</td>\n",
       "      <td>31.000000</td>\n",
       "      <td>25.000000</td>\n",
       "    </tr>\n",
       "    <tr>\n",
       "      <th>4</th>\n",
       "      <td>f0point5</td>\n",
       "      <td>0.799785</td>\n",
       "      <td>0.034051</td>\n",
       "      <td>0.822622</td>\n",
       "      <td>0.758621</td>\n",
       "      <td>0.822785</td>\n",
       "      <td>0.766773</td>\n",
       "      <td>0.828125</td>\n",
       "    </tr>\n",
       "    <tr>\n",
       "      <th>5</th>\n",
       "      <td>f1</td>\n",
       "      <td>0.776282</td>\n",
       "      <td>0.036851</td>\n",
       "      <td>0.795031</td>\n",
       "      <td>0.721311</td>\n",
       "      <td>0.800000</td>\n",
       "      <td>0.755906</td>\n",
       "      <td>0.809160</td>\n",
       "    </tr>\n",
       "    <tr>\n",
       "      <th>6</th>\n",
       "      <td>f2</td>\n",
       "      <td>0.754312</td>\n",
       "      <td>0.040922</td>\n",
       "      <td>0.769231</td>\n",
       "      <td>0.687500</td>\n",
       "      <td>0.778443</td>\n",
       "      <td>0.745342</td>\n",
       "      <td>0.791045</td>\n",
       "    </tr>\n",
       "    <tr>\n",
       "      <th>7</th>\n",
       "      <td>lift_top_group</td>\n",
       "      <td>6.433440</td>\n",
       "      <td>0.772937</td>\n",
       "      <td>5.517647</td>\n",
       "      <td>5.684848</td>\n",
       "      <td>6.882353</td>\n",
       "      <td>7.200000</td>\n",
       "      <td>6.882353</td>\n",
       "    </tr>\n",
       "    <tr>\n",
       "      <th>8</th>\n",
       "      <td>logloss</td>\n",
       "      <td>0.215290</td>\n",
       "      <td>0.034978</td>\n",
       "      <td>0.257172</td>\n",
       "      <td>0.242893</td>\n",
       "      <td>0.192797</td>\n",
       "      <td>0.211387</td>\n",
       "      <td>0.172201</td>\n",
       "    </tr>\n",
       "    <tr>\n",
       "      <th>9</th>\n",
       "      <td>max_per_class_error</td>\n",
       "      <td>0.259563</td>\n",
       "      <td>0.043904</td>\n",
       "      <td>0.247059</td>\n",
       "      <td>0.333333</td>\n",
       "      <td>0.235294</td>\n",
       "      <td>0.261538</td>\n",
       "      <td>0.220588</td>\n",
       "    </tr>\n",
       "    <tr>\n",
       "      <th>10</th>\n",
       "      <td>mcc</td>\n",
       "      <td>0.740633</td>\n",
       "      <td>0.039676</td>\n",
       "      <td>0.754438</td>\n",
       "      <td>0.682999</td>\n",
       "      <td>0.768926</td>\n",
       "      <td>0.717880</td>\n",
       "      <td>0.778924</td>\n",
       "    </tr>\n",
       "    <tr>\n",
       "      <th>11</th>\n",
       "      <td>mean_per_class_accuracy</td>\n",
       "      <td>0.855642</td>\n",
       "      <td>0.022869</td>\n",
       "      <td>0.860846</td>\n",
       "      <td>0.818445</td>\n",
       "      <td>0.869853</td>\n",
       "      <td>0.851861</td>\n",
       "      <td>0.877206</td>\n",
       "    </tr>\n",
       "    <tr>\n",
       "      <th>12</th>\n",
       "      <td>mean_per_class_error</td>\n",
       "      <td>0.144358</td>\n",
       "      <td>0.022869</td>\n",
       "      <td>0.139154</td>\n",
       "      <td>0.181555</td>\n",
       "      <td>0.130147</td>\n",
       "      <td>0.148139</td>\n",
       "      <td>0.122794</td>\n",
       "    </tr>\n",
       "    <tr>\n",
       "      <th>13</th>\n",
       "      <td>mse</td>\n",
       "      <td>0.055669</td>\n",
       "      <td>0.010611</td>\n",
       "      <td>0.068063</td>\n",
       "      <td>0.063995</td>\n",
       "      <td>0.047877</td>\n",
       "      <td>0.055651</td>\n",
       "      <td>0.042757</td>\n",
       "    </tr>\n",
       "    <tr>\n",
       "      <th>14</th>\n",
       "      <td>pr_auc</td>\n",
       "      <td>0.805132</td>\n",
       "      <td>0.062005</td>\n",
       "      <td>0.821680</td>\n",
       "      <td>0.706971</td>\n",
       "      <td>0.841642</td>\n",
       "      <td>0.788193</td>\n",
       "      <td>0.867174</td>\n",
       "    </tr>\n",
       "    <tr>\n",
       "      <th>15</th>\n",
       "      <td>precision</td>\n",
       "      <td>0.816399</td>\n",
       "      <td>0.033541</td>\n",
       "      <td>0.842105</td>\n",
       "      <td>0.785714</td>\n",
       "      <td>0.838710</td>\n",
       "      <td>0.774193</td>\n",
       "      <td>0.841270</td>\n",
       "    </tr>\n",
       "    <tr>\n",
       "      <th>16</th>\n",
       "      <td>r2</td>\n",
       "      <td>0.563393</td>\n",
       "      <td>0.072494</td>\n",
       "      <td>0.541323</td>\n",
       "      <td>0.470770</td>\n",
       "      <td>0.614476</td>\n",
       "      <td>0.534688</td>\n",
       "      <td>0.655708</td>\n",
       "    </tr>\n",
       "    <tr>\n",
       "      <th>17</th>\n",
       "      <td>recall</td>\n",
       "      <td>0.740437</td>\n",
       "      <td>0.043904</td>\n",
       "      <td>0.752941</td>\n",
       "      <td>0.666667</td>\n",
       "      <td>0.764706</td>\n",
       "      <td>0.738462</td>\n",
       "      <td>0.779412</td>\n",
       "    </tr>\n",
       "    <tr>\n",
       "      <th>18</th>\n",
       "      <td>rmse</td>\n",
       "      <td>0.235070</td>\n",
       "      <td>0.022654</td>\n",
       "      <td>0.260889</td>\n",
       "      <td>0.252973</td>\n",
       "      <td>0.218809</td>\n",
       "      <td>0.235904</td>\n",
       "      <td>0.206777</td>\n",
       "    </tr>\n",
       "    <tr>\n",
       "      <th>19</th>\n",
       "      <td>specificity</td>\n",
       "      <td>0.970847</td>\n",
       "      <td>0.004198</td>\n",
       "      <td>0.968750</td>\n",
       "      <td>0.970223</td>\n",
       "      <td>0.975000</td>\n",
       "      <td>0.965261</td>\n",
       "      <td>0.975000</td>\n",
       "    </tr>\n",
       "  </tbody>\n",
       "</table>\n",
       "</div>"
      ],
      "text/plain": [
       "                                  mean        sd  cv_1_valid  cv_2_valid  \\\n",
       "0                  accuracy   0.936386  0.008663    0.929638    0.927505   \n",
       "1                       auc   0.905572  0.012673    0.902022    0.888939   \n",
       "2                       err   0.063614  0.008663    0.070362    0.072495   \n",
       "3                 err_count  29.800000  4.086563   33.000000   34.000000   \n",
       "4                  f0point5   0.799785  0.034051    0.822622    0.758621   \n",
       "5                        f1   0.776282  0.036851    0.795031    0.721311   \n",
       "6                        f2   0.754312  0.040922    0.769231    0.687500   \n",
       "7            lift_top_group   6.433440  0.772937    5.517647    5.684848   \n",
       "8                   logloss   0.215290  0.034978    0.257172    0.242893   \n",
       "9       max_per_class_error   0.259563  0.043904    0.247059    0.333333   \n",
       "10                      mcc   0.740633  0.039676    0.754438    0.682999   \n",
       "11  mean_per_class_accuracy   0.855642  0.022869    0.860846    0.818445   \n",
       "12     mean_per_class_error   0.144358  0.022869    0.139154    0.181555   \n",
       "13                      mse   0.055669  0.010611    0.068063    0.063995   \n",
       "14                   pr_auc   0.805132  0.062005    0.821680    0.706971   \n",
       "15                precision   0.816399  0.033541    0.842105    0.785714   \n",
       "16                       r2   0.563393  0.072494    0.541323    0.470770   \n",
       "17                   recall   0.740437  0.043904    0.752941    0.666667   \n",
       "18                     rmse   0.235070  0.022654    0.260889    0.252973   \n",
       "19              specificity   0.970847  0.004198    0.968750    0.970223   \n",
       "\n",
       "    cv_3_valid  cv_4_valid  cv_5_valid  \n",
       "0     0.944444    0.933761    0.946581  \n",
       "1     0.912904    0.901584    0.922408  \n",
       "2     0.055556    0.066239    0.053419  \n",
       "3    26.000000   31.000000   25.000000  \n",
       "4     0.822785    0.766773    0.828125  \n",
       "5     0.800000    0.755906    0.809160  \n",
       "6     0.778443    0.745342    0.791045  \n",
       "7     6.882353    7.200000    6.882353  \n",
       "8     0.192797    0.211387    0.172201  \n",
       "9     0.235294    0.261538    0.220588  \n",
       "10    0.768926    0.717880    0.778924  \n",
       "11    0.869853    0.851861    0.877206  \n",
       "12    0.130147    0.148139    0.122794  \n",
       "13    0.047877    0.055651    0.042757  \n",
       "14    0.841642    0.788193    0.867174  \n",
       "15    0.838710    0.774193    0.841270  \n",
       "16    0.614476    0.534688    0.655708  \n",
       "17    0.764706    0.738462    0.779412  \n",
       "18    0.218809    0.235904    0.206777  \n",
       "19    0.975000    0.965261    0.975000  "
      ]
     },
     "metadata": {},
     "output_type": "display_data"
    },
    {
     "name": "stdout",
     "output_type": "stream",
     "text": [
      "\n",
      "Scoring History: \n"
     ]
    },
    {
     "data": {
      "text/html": [
       "<div>\n",
       "<style scoped>\n",
       "    .dataframe tbody tr th:only-of-type {\n",
       "        vertical-align: middle;\n",
       "    }\n",
       "\n",
       "    .dataframe tbody tr th {\n",
       "        vertical-align: top;\n",
       "    }\n",
       "\n",
       "    .dataframe thead th {\n",
       "        text-align: right;\n",
       "    }\n",
       "</style>\n",
       "<table border=\"1\" class=\"dataframe\">\n",
       "  <thead>\n",
       "    <tr style=\"text-align: right;\">\n",
       "      <th></th>\n",
       "      <th></th>\n",
       "      <th>timestamp</th>\n",
       "      <th>duration</th>\n",
       "      <th>number_of_trees</th>\n",
       "      <th>training_rmse</th>\n",
       "      <th>training_logloss</th>\n",
       "      <th>training_auc</th>\n",
       "      <th>training_pr_auc</th>\n",
       "      <th>training_lift</th>\n",
       "      <th>training_classification_error</th>\n",
       "    </tr>\n",
       "  </thead>\n",
       "  <tbody>\n",
       "    <tr>\n",
       "      <th>0</th>\n",
       "      <td></td>\n",
       "      <td>2022-07-06 00:40:12</td>\n",
       "      <td>7.601 sec</td>\n",
       "      <td>0.0</td>\n",
       "      <td>0.357364</td>\n",
       "      <td>0.423227</td>\n",
       "      <td>0.500000</td>\n",
       "      <td>0.150299</td>\n",
       "      <td>1.000000</td>\n",
       "      <td>0.849701</td>\n",
       "    </tr>\n",
       "    <tr>\n",
       "      <th>1</th>\n",
       "      <td></td>\n",
       "      <td>2022-07-06 00:40:12</td>\n",
       "      <td>7.709 sec</td>\n",
       "      <td>5.0</td>\n",
       "      <td>0.262344</td>\n",
       "      <td>0.252827</td>\n",
       "      <td>0.977169</td>\n",
       "      <td>0.937010</td>\n",
       "      <td>6.653409</td>\n",
       "      <td>0.029035</td>\n",
       "    </tr>\n",
       "    <tr>\n",
       "      <th>2</th>\n",
       "      <td></td>\n",
       "      <td>2022-07-06 00:40:13</td>\n",
       "      <td>7.800 sec</td>\n",
       "      <td>10.0</td>\n",
       "      <td>0.213610</td>\n",
       "      <td>0.188216</td>\n",
       "      <td>0.986771</td>\n",
       "      <td>0.957943</td>\n",
       "      <td>6.653409</td>\n",
       "      <td>0.025619</td>\n",
       "    </tr>\n",
       "    <tr>\n",
       "      <th>3</th>\n",
       "      <td></td>\n",
       "      <td>2022-07-06 00:40:13</td>\n",
       "      <td>7.913 sec</td>\n",
       "      <td>15.0</td>\n",
       "      <td>0.183660</td>\n",
       "      <td>0.149481</td>\n",
       "      <td>0.992215</td>\n",
       "      <td>0.969919</td>\n",
       "      <td>6.653409</td>\n",
       "      <td>0.022630</td>\n",
       "    </tr>\n",
       "    <tr>\n",
       "      <th>4</th>\n",
       "      <td></td>\n",
       "      <td>2022-07-06 00:40:13</td>\n",
       "      <td>8.023 sec</td>\n",
       "      <td>20.0</td>\n",
       "      <td>0.160428</td>\n",
       "      <td>0.120239</td>\n",
       "      <td>0.994861</td>\n",
       "      <td>0.979520</td>\n",
       "      <td>6.653409</td>\n",
       "      <td>0.020068</td>\n",
       "    </tr>\n",
       "    <tr>\n",
       "      <th>5</th>\n",
       "      <td></td>\n",
       "      <td>2022-07-06 00:40:13</td>\n",
       "      <td>8.130 sec</td>\n",
       "      <td>25.0</td>\n",
       "      <td>0.143984</td>\n",
       "      <td>0.099934</td>\n",
       "      <td>0.997068</td>\n",
       "      <td>0.987085</td>\n",
       "      <td>6.653409</td>\n",
       "      <td>0.014944</td>\n",
       "    </tr>\n",
       "    <tr>\n",
       "      <th>6</th>\n",
       "      <td></td>\n",
       "      <td>2022-07-06 00:40:13</td>\n",
       "      <td>8.300 sec</td>\n",
       "      <td>30.0</td>\n",
       "      <td>0.128760</td>\n",
       "      <td>0.081767</td>\n",
       "      <td>0.998196</td>\n",
       "      <td>0.991923</td>\n",
       "      <td>6.653409</td>\n",
       "      <td>0.010675</td>\n",
       "    </tr>\n",
       "    <tr>\n",
       "      <th>7</th>\n",
       "      <td></td>\n",
       "      <td>2022-07-06 00:40:13</td>\n",
       "      <td>8.409 sec</td>\n",
       "      <td>35.0</td>\n",
       "      <td>0.117805</td>\n",
       "      <td>0.069675</td>\n",
       "      <td>0.998991</td>\n",
       "      <td>0.995165</td>\n",
       "      <td>6.653409</td>\n",
       "      <td>0.007686</td>\n",
       "    </tr>\n",
       "    <tr>\n",
       "      <th>8</th>\n",
       "      <td></td>\n",
       "      <td>2022-07-06 00:40:13</td>\n",
       "      <td>8.519 sec</td>\n",
       "      <td>40.0</td>\n",
       "      <td>0.105686</td>\n",
       "      <td>0.058905</td>\n",
       "      <td>0.999643</td>\n",
       "      <td>0.998147</td>\n",
       "      <td>6.653409</td>\n",
       "      <td>0.005551</td>\n",
       "    </tr>\n",
       "    <tr>\n",
       "      <th>9</th>\n",
       "      <td></td>\n",
       "      <td>2022-07-06 00:40:13</td>\n",
       "      <td>8.625 sec</td>\n",
       "      <td>45.0</td>\n",
       "      <td>0.096039</td>\n",
       "      <td>0.051241</td>\n",
       "      <td>0.999920</td>\n",
       "      <td>0.999557</td>\n",
       "      <td>6.653409</td>\n",
       "      <td>0.003416</td>\n",
       "    </tr>\n",
       "    <tr>\n",
       "      <th>10</th>\n",
       "      <td></td>\n",
       "      <td>2022-07-06 00:40:13</td>\n",
       "      <td>8.704 sec</td>\n",
       "      <td>46.0</td>\n",
       "      <td>0.093145</td>\n",
       "      <td>0.049222</td>\n",
       "      <td>0.999939</td>\n",
       "      <td>0.999668</td>\n",
       "      <td>6.653409</td>\n",
       "      <td>0.002135</td>\n",
       "    </tr>\n",
       "  </tbody>\n",
       "</table>\n",
       "</div>"
      ],
      "text/plain": [
       "                timestamp    duration  number_of_trees  training_rmse  \\\n",
       "0     2022-07-06 00:40:12   7.601 sec              0.0       0.357364   \n",
       "1     2022-07-06 00:40:12   7.709 sec              5.0       0.262344   \n",
       "2     2022-07-06 00:40:13   7.800 sec             10.0       0.213610   \n",
       "3     2022-07-06 00:40:13   7.913 sec             15.0       0.183660   \n",
       "4     2022-07-06 00:40:13   8.023 sec             20.0       0.160428   \n",
       "5     2022-07-06 00:40:13   8.130 sec             25.0       0.143984   \n",
       "6     2022-07-06 00:40:13   8.300 sec             30.0       0.128760   \n",
       "7     2022-07-06 00:40:13   8.409 sec             35.0       0.117805   \n",
       "8     2022-07-06 00:40:13   8.519 sec             40.0       0.105686   \n",
       "9     2022-07-06 00:40:13   8.625 sec             45.0       0.096039   \n",
       "10    2022-07-06 00:40:13   8.704 sec             46.0       0.093145   \n",
       "\n",
       "    training_logloss  training_auc  training_pr_auc  training_lift  \\\n",
       "0           0.423227      0.500000         0.150299       1.000000   \n",
       "1           0.252827      0.977169         0.937010       6.653409   \n",
       "2           0.188216      0.986771         0.957943       6.653409   \n",
       "3           0.149481      0.992215         0.969919       6.653409   \n",
       "4           0.120239      0.994861         0.979520       6.653409   \n",
       "5           0.099934      0.997068         0.987085       6.653409   \n",
       "6           0.081767      0.998196         0.991923       6.653409   \n",
       "7           0.069675      0.998991         0.995165       6.653409   \n",
       "8           0.058905      0.999643         0.998147       6.653409   \n",
       "9           0.051241      0.999920         0.999557       6.653409   \n",
       "10          0.049222      0.999939         0.999668       6.653409   \n",
       "\n",
       "    training_classification_error  \n",
       "0                        0.849701  \n",
       "1                        0.029035  \n",
       "2                        0.025619  \n",
       "3                        0.022630  \n",
       "4                        0.020068  \n",
       "5                        0.014944  \n",
       "6                        0.010675  \n",
       "7                        0.007686  \n",
       "8                        0.005551  \n",
       "9                        0.003416  \n",
       "10                       0.002135  "
      ]
     },
     "metadata": {},
     "output_type": "display_data"
    },
    {
     "name": "stdout",
     "output_type": "stream",
     "text": [
      "\n",
      "Variable Importances: \n"
     ]
    },
    {
     "data": {
      "text/html": [
       "<div>\n",
       "<style scoped>\n",
       "    .dataframe tbody tr th:only-of-type {\n",
       "        vertical-align: middle;\n",
       "    }\n",
       "\n",
       "    .dataframe tbody tr th {\n",
       "        vertical-align: top;\n",
       "    }\n",
       "\n",
       "    .dataframe thead th {\n",
       "        text-align: right;\n",
       "    }\n",
       "</style>\n",
       "<table border=\"1\" class=\"dataframe\">\n",
       "  <thead>\n",
       "    <tr style=\"text-align: right;\">\n",
       "      <th></th>\n",
       "      <th>variable</th>\n",
       "      <th>relative_importance</th>\n",
       "      <th>scaled_importance</th>\n",
       "      <th>percentage</th>\n",
       "    </tr>\n",
       "  </thead>\n",
       "  <tbody>\n",
       "    <tr>\n",
       "      <th>0</th>\n",
       "      <td>State</td>\n",
       "      <td>261.457062</td>\n",
       "      <td>1.000000</td>\n",
       "      <td>0.216850</td>\n",
       "    </tr>\n",
       "    <tr>\n",
       "      <th>1</th>\n",
       "      <td>Day Mins</td>\n",
       "      <td>196.744736</td>\n",
       "      <td>0.752493</td>\n",
       "      <td>0.163178</td>\n",
       "    </tr>\n",
       "    <tr>\n",
       "      <th>2</th>\n",
       "      <td>CustServ Calls</td>\n",
       "      <td>154.550491</td>\n",
       "      <td>0.591112</td>\n",
       "      <td>0.128183</td>\n",
       "    </tr>\n",
       "    <tr>\n",
       "      <th>3</th>\n",
       "      <td>Day Charge</td>\n",
       "      <td>110.697166</td>\n",
       "      <td>0.423386</td>\n",
       "      <td>0.091811</td>\n",
       "    </tr>\n",
       "    <tr>\n",
       "      <th>4</th>\n",
       "      <td>Int'l Plan</td>\n",
       "      <td>86.897903</td>\n",
       "      <td>0.332360</td>\n",
       "      <td>0.072072</td>\n",
       "    </tr>\n",
       "    <tr>\n",
       "      <th>5</th>\n",
       "      <td>Intl Calls</td>\n",
       "      <td>79.236420</td>\n",
       "      <td>0.303057</td>\n",
       "      <td>0.065718</td>\n",
       "    </tr>\n",
       "    <tr>\n",
       "      <th>6</th>\n",
       "      <td>Eve Charge</td>\n",
       "      <td>61.366600</td>\n",
       "      <td>0.234710</td>\n",
       "      <td>0.050897</td>\n",
       "    </tr>\n",
       "    <tr>\n",
       "      <th>7</th>\n",
       "      <td>Intl Mins</td>\n",
       "      <td>53.108543</td>\n",
       "      <td>0.203125</td>\n",
       "      <td>0.044048</td>\n",
       "    </tr>\n",
       "    <tr>\n",
       "      <th>8</th>\n",
       "      <td>Eve Mins</td>\n",
       "      <td>50.958187</td>\n",
       "      <td>0.194901</td>\n",
       "      <td>0.042264</td>\n",
       "    </tr>\n",
       "    <tr>\n",
       "      <th>9</th>\n",
       "      <td>Intl Charge</td>\n",
       "      <td>38.061172</td>\n",
       "      <td>0.145573</td>\n",
       "      <td>0.031568</td>\n",
       "    </tr>\n",
       "    <tr>\n",
       "      <th>10</th>\n",
       "      <td>VMail Message</td>\n",
       "      <td>25.536459</td>\n",
       "      <td>0.097670</td>\n",
       "      <td>0.021180</td>\n",
       "    </tr>\n",
       "    <tr>\n",
       "      <th>11</th>\n",
       "      <td>VMail Plan</td>\n",
       "      <td>24.010521</td>\n",
       "      <td>0.091834</td>\n",
       "      <td>0.019914</td>\n",
       "    </tr>\n",
       "    <tr>\n",
       "      <th>12</th>\n",
       "      <td>Night Mins</td>\n",
       "      <td>13.251447</td>\n",
       "      <td>0.050683</td>\n",
       "      <td>0.010991</td>\n",
       "    </tr>\n",
       "    <tr>\n",
       "      <th>13</th>\n",
       "      <td>Day Calls</td>\n",
       "      <td>10.961466</td>\n",
       "      <td>0.041925</td>\n",
       "      <td>0.009091</td>\n",
       "    </tr>\n",
       "    <tr>\n",
       "      <th>14</th>\n",
       "      <td>Night Calls</td>\n",
       "      <td>10.943468</td>\n",
       "      <td>0.041856</td>\n",
       "      <td>0.009076</td>\n",
       "    </tr>\n",
       "    <tr>\n",
       "      <th>15</th>\n",
       "      <td>Night Charge</td>\n",
       "      <td>10.605638</td>\n",
       "      <td>0.040564</td>\n",
       "      <td>0.008796</td>\n",
       "    </tr>\n",
       "    <tr>\n",
       "      <th>16</th>\n",
       "      <td>Account Length</td>\n",
       "      <td>8.637052</td>\n",
       "      <td>0.033034</td>\n",
       "      <td>0.007163</td>\n",
       "    </tr>\n",
       "    <tr>\n",
       "      <th>17</th>\n",
       "      <td>Eve Calls</td>\n",
       "      <td>7.112403</td>\n",
       "      <td>0.027203</td>\n",
       "      <td>0.005899</td>\n",
       "    </tr>\n",
       "    <tr>\n",
       "      <th>18</th>\n",
       "      <td>Area Code</td>\n",
       "      <td>1.568077</td>\n",
       "      <td>0.005997</td>\n",
       "      <td>0.001301</td>\n",
       "    </tr>\n",
       "  </tbody>\n",
       "</table>\n",
       "</div>"
      ],
      "text/plain": [
       "          variable  relative_importance  scaled_importance  percentage\n",
       "0            State           261.457062           1.000000    0.216850\n",
       "1         Day Mins           196.744736           0.752493    0.163178\n",
       "2   CustServ Calls           154.550491           0.591112    0.128183\n",
       "3       Day Charge           110.697166           0.423386    0.091811\n",
       "4       Int'l Plan            86.897903           0.332360    0.072072\n",
       "5       Intl Calls            79.236420           0.303057    0.065718\n",
       "6       Eve Charge            61.366600           0.234710    0.050897\n",
       "7        Intl Mins            53.108543           0.203125    0.044048\n",
       "8         Eve Mins            50.958187           0.194901    0.042264\n",
       "9      Intl Charge            38.061172           0.145573    0.031568\n",
       "10   VMail Message            25.536459           0.097670    0.021180\n",
       "11      VMail Plan            24.010521           0.091834    0.019914\n",
       "12      Night Mins            13.251447           0.050683    0.010991\n",
       "13       Day Calls            10.961466           0.041925    0.009091\n",
       "14     Night Calls            10.943468           0.041856    0.009076\n",
       "15    Night Charge            10.605638           0.040564    0.008796\n",
       "16  Account Length             8.637052           0.033034    0.007163\n",
       "17       Eve Calls             7.112403           0.027203    0.005899\n",
       "18       Area Code             1.568077           0.005997    0.001301"
      ]
     },
     "metadata": {},
     "output_type": "display_data"
    },
    {
     "data": {
      "text/plain": []
     },
     "execution_count": 29,
     "metadata": {},
     "output_type": "execute_result"
    }
   ],
   "source": [
    "aml.leader"
   ]
  },
  {
   "cell_type": "markdown",
   "metadata": {},
   "source": [
    "We can examine the model automatically by calling the explain function.  The explain function returns performance metrics, comparison between the models, and explains the best model."
   ]
  },
  {
   "cell_type": "code",
   "execution_count": 30,
   "metadata": {},
   "outputs": [
    {
     "data": {
      "text/html": [
       "<h1>Leaderboard</h1>"
      ],
      "text/markdown": [
       "\n",
       "\n",
       "# Leaderboard"
      ],
      "text/plain": [
       "\n",
       "\n",
       "# Leaderboard"
      ]
     },
     "metadata": {},
     "output_type": "display_data"
    },
    {
     "data": {
      "text/html": [
       "<blockquote>Leaderboard shows models with their metrics. When provided with H2OAutoML object, the leaderboard shows 5-fold cross-validated metrics by default (depending on the H2OAutoML settings), otherwise it shows metrics computed on the frame. At most 20 models are shown by default.</blockquote>"
      ],
      "text/markdown": [
       "\n",
       "> Leaderboard shows models with their metrics. When provided with H2OAutoML object, the leaderboard shows 5-fold cross-validated metrics by default (depending on the H2OAutoML settings), otherwise it shows metrics computed on the frame. At most 20 models are shown by default."
      ],
      "text/plain": [
       "\n",
       "> Leaderboard shows models with their metrics. When provided with H2OAutoML object, the leaderboard shows 5-fold cross-validated metrics by default (depending on the H2OAutoML settings), otherwise it shows metrics computed on the frame. At most 20 models are shown by default."
      ]
     },
     "metadata": {},
     "output_type": "display_data"
    },
    {
     "data": {
      "text/html": [
       "<table>\n",
       "<thead>\n",
       "<tr><th>model_id                                  </th><th style=\"text-align: right;\">     auc</th><th style=\"text-align: right;\">  logloss</th><th style=\"text-align: right;\">   aucpr</th><th style=\"text-align: right;\">  mean_per_class_error</th><th style=\"text-align: right;\">    rmse</th><th style=\"text-align: right;\">      mse</th><th style=\"text-align: right;\">  training_time_ms</th><th style=\"text-align: right;\">  predict_time_per_row_ms</th><th>algo  </th></tr>\n",
       "</thead>\n",
       "<tbody>\n",
       "<tr><td>GBM_2_AutoML_1_20220706_03930             </td><td style=\"text-align: right;\">0.899849</td><td style=\"text-align: right;\"> 0.183781</td><td style=\"text-align: right;\">0.818355</td><td style=\"text-align: right;\">              0.143308</td><td style=\"text-align: right;\">0.211693</td><td style=\"text-align: right;\">0.044814 </td><td style=\"text-align: right;\">              1118</td><td style=\"text-align: right;\">                 0.054919</td><td>GBM   </td></tr>\n",
       "<tr><td>GBM_grid_1_AutoML_1_20220706_03930_model_2</td><td style=\"text-align: right;\">0.895149</td><td style=\"text-align: right;\"> 0.199008</td><td style=\"text-align: right;\">0.80031 </td><td style=\"text-align: right;\">              0.13447 </td><td style=\"text-align: right;\">0.22478 </td><td style=\"text-align: right;\">0.0505258</td><td style=\"text-align: right;\">               840</td><td style=\"text-align: right;\">                 0.059752</td><td>GBM   </td></tr>\n",
       "<tr><td>GBM_5_AutoML_1_20220706_03930             </td><td style=\"text-align: right;\">0.894465</td><td style=\"text-align: right;\"> 0.185459</td><td style=\"text-align: right;\">0.800027</td><td style=\"text-align: right;\">              0.148569</td><td style=\"text-align: right;\">0.211678</td><td style=\"text-align: right;\">0.0448074</td><td style=\"text-align: right;\">               572</td><td style=\"text-align: right;\">                 0.043864</td><td>GBM   </td></tr>\n",
       "<tr><td>DRF_1_AutoML_1_20220706_03930             </td><td style=\"text-align: right;\">0.887819</td><td style=\"text-align: right;\"> 0.44122 </td><td style=\"text-align: right;\">0.837511</td><td style=\"text-align: right;\">              0.09375 </td><td style=\"text-align: right;\">0.217224</td><td style=\"text-align: right;\">0.0471862</td><td style=\"text-align: right;\">              1698</td><td style=\"text-align: right;\">                 0.056871</td><td>DRF   </td></tr>\n",
       "<tr><td>GBM_3_AutoML_1_20220706_03930             </td><td style=\"text-align: right;\">0.887276</td><td style=\"text-align: right;\"> 0.18667 </td><td style=\"text-align: right;\">0.812002</td><td style=\"text-align: right;\">              0.135732</td><td style=\"text-align: right;\">0.208377</td><td style=\"text-align: right;\">0.0434209</td><td style=\"text-align: right;\">              1298</td><td style=\"text-align: right;\">                 0.091041</td><td>GBM   </td></tr>\n",
       "<tr><td>GBM_grid_1_AutoML_1_20220706_03930_model_1</td><td style=\"text-align: right;\">0.883838</td><td style=\"text-align: right;\"> 0.178955</td><td style=\"text-align: right;\">0.828886</td><td style=\"text-align: right;\">              0.118266</td><td style=\"text-align: right;\">0.1988  </td><td style=\"text-align: right;\">0.0395214</td><td style=\"text-align: right;\">               747</td><td style=\"text-align: right;\">                 0.049364</td><td>GBM   </td></tr>\n",
       "<tr><td>XRT_1_AutoML_1_20220706_03930             </td><td style=\"text-align: right;\">0.879787</td><td style=\"text-align: right;\"> 0.290344</td><td style=\"text-align: right;\">0.807797</td><td style=\"text-align: right;\">              0.123422</td><td style=\"text-align: right;\">0.237825</td><td style=\"text-align: right;\">0.0565606</td><td style=\"text-align: right;\">              1140</td><td style=\"text-align: right;\">                 0.056676</td><td>DRF   </td></tr>\n",
       "<tr><td>GBM_4_AutoML_1_20220706_03930             </td><td style=\"text-align: right;\">0.879577</td><td style=\"text-align: right;\"> 0.19549 </td><td style=\"text-align: right;\">0.813502</td><td style=\"text-align: right;\">              0.131629</td><td style=\"text-align: right;\">0.212793</td><td style=\"text-align: right;\">0.0452811</td><td style=\"text-align: right;\">              1092</td><td style=\"text-align: right;\">                 0.081414</td><td>GBM   </td></tr>\n",
       "<tr><td>GBM_1_AutoML_1_20220706_03930             </td><td style=\"text-align: right;\">0.873159</td><td style=\"text-align: right;\"> 0.245236</td><td style=\"text-align: right;\">0.713209</td><td style=\"text-align: right;\">              0.137311</td><td style=\"text-align: right;\">0.257353</td><td style=\"text-align: right;\">0.0662308</td><td style=\"text-align: right;\">              3525</td><td style=\"text-align: right;\">                 0.065486</td><td>GBM   </td></tr>\n",
       "<tr><td>GLM_1_AutoML_1_20220706_03930             </td><td style=\"text-align: right;\">0.817796</td><td style=\"text-align: right;\"> 0.309194</td><td style=\"text-align: right;\">0.459268</td><td style=\"text-align: right;\">              0.261258</td><td style=\"text-align: right;\">0.302586</td><td style=\"text-align: right;\">0.0915581</td><td style=\"text-align: right;\">              1235</td><td style=\"text-align: right;\">                 0.00937 </td><td>GLM   </td></tr>\n",
       "</tbody>\n",
       "</table>"
      ]
     },
     "metadata": {},
     "output_type": "display_data"
    },
    {
     "data": {
      "text/plain": []
     },
     "metadata": {},
     "output_type": "display_data"
    },
    {
     "data": {
      "text/html": [
       "<h1>Confusion Matrix</h1>"
      ],
      "text/markdown": [
       "\n",
       "\n",
       "# Confusion Matrix"
      ],
      "text/plain": [
       "\n",
       "\n",
       "# Confusion Matrix"
      ]
     },
     "metadata": {},
     "output_type": "display_data"
    },
    {
     "data": {
      "text/html": [
       "<blockquote>Confusion matrix shows a predicted class vs an actual class.</blockquote>"
      ],
      "text/markdown": [
       "\n",
       "> Confusion matrix shows a predicted class vs an actual class."
      ],
      "text/plain": [
       "\n",
       "> Confusion matrix shows a predicted class vs an actual class."
      ]
     },
     "metadata": {},
     "output_type": "display_data"
    },
    {
     "data": {
      "text/html": [
       "<h2>GBM_2_AutoML_1_20220706_03930</h2>"
      ],
      "text/markdown": [
       "\n",
       "\n",
       "## GBM_2_AutoML_1_20220706_03930"
      ],
      "text/plain": [
       "\n",
       "\n",
       "## GBM_2_AutoML_1_20220706_03930"
      ]
     },
     "metadata": {},
     "output_type": "display_data"
    },
    {
     "name": "stdout",
     "output_type": "stream",
     "text": [
      "\n",
      "Confusion Matrix (Act/Pred) for max f1 @ threshold = 0.22615900593018554: \n"
     ]
    },
    {
     "data": {
      "text/html": [
       "<div>\n",
       "<style scoped>\n",
       "    .dataframe tbody tr th:only-of-type {\n",
       "        vertical-align: middle;\n",
       "    }\n",
       "\n",
       "    .dataframe tbody tr th {\n",
       "        vertical-align: top;\n",
       "    }\n",
       "\n",
       "    .dataframe thead th {\n",
       "        text-align: right;\n",
       "    }\n",
       "</style>\n",
       "<table border=\"1\" class=\"dataframe\">\n",
       "  <thead>\n",
       "    <tr style=\"text-align: right;\">\n",
       "      <th></th>\n",
       "      <th></th>\n",
       "      <th>False.</th>\n",
       "      <th>True.</th>\n",
       "      <th>Error</th>\n",
       "      <th>Rate</th>\n",
       "    </tr>\n",
       "  </thead>\n",
       "  <tbody>\n",
       "    <tr>\n",
       "      <th>0</th>\n",
       "      <td>False.</td>\n",
       "      <td>1988.0</td>\n",
       "      <td>2.0</td>\n",
       "      <td>0.001</td>\n",
       "      <td>(2.0/1990.0)</td>\n",
       "    </tr>\n",
       "    <tr>\n",
       "      <th>1</th>\n",
       "      <td>True.</td>\n",
       "      <td>3.0</td>\n",
       "      <td>349.0</td>\n",
       "      <td>0.0085</td>\n",
       "      <td>(3.0/352.0)</td>\n",
       "    </tr>\n",
       "    <tr>\n",
       "      <th>2</th>\n",
       "      <td>Total</td>\n",
       "      <td>1991.0</td>\n",
       "      <td>351.0</td>\n",
       "      <td>0.0021</td>\n",
       "      <td>(5.0/2342.0)</td>\n",
       "    </tr>\n",
       "  </tbody>\n",
       "</table>\n",
       "</div>"
      ],
      "text/plain": [
       "           False.  True.   Error           Rate\n",
       "0  False.  1988.0    2.0   0.001   (2.0/1990.0)\n",
       "1   True.     3.0  349.0  0.0085    (3.0/352.0)\n",
       "2   Total  1991.0  351.0  0.0021   (5.0/2342.0)"
      ]
     },
     "metadata": {},
     "output_type": "display_data"
    },
    {
     "data": {
      "text/plain": []
     },
     "metadata": {},
     "output_type": "display_data"
    },
    {
     "data": {
      "text/html": [
       "<h1>Variable Importance</h1>"
      ],
      "text/markdown": [
       "\n",
       "\n",
       "# Variable Importance"
      ],
      "text/plain": [
       "\n",
       "\n",
       "# Variable Importance"
      ]
     },
     "metadata": {},
     "output_type": "display_data"
    },
    {
     "data": {
      "text/html": [
       "<blockquote>The variable importance plot shows the relative importance of the most important variables in the model.</blockquote>"
      ],
      "text/markdown": [
       "\n",
       "> The variable importance plot shows the relative importance of the most important variables in the model."
      ],
      "text/plain": [
       "\n",
       "> The variable importance plot shows the relative importance of the most important variables in the model."
      ]
     },
     "metadata": {},
     "output_type": "display_data"
    },
    {
     "data": {
      "image/png": "[encoded data removed]",
      "text/plain": [
       "<Figure size 1152x648 with 1 Axes>"
      ]
     },
     "metadata": {
      "needs_background": "light"
     },
     "output_type": "display_data"
    },
    {
     "name": "stdout",
     "output_type": "stream",
     "text": [
      "\n",
      "\n"
     ]
    },
    {
     "data": {
      "text/html": [
       "<h1>Variable Importance Heatmap</h1>"
      ],
      "text/markdown": [
       "\n",
       "\n",
       "# Variable Importance Heatmap"
      ],
      "text/plain": [
       "\n",
       "\n",
       "# Variable Importance Heatmap"
      ]
     },
     "metadata": {},
     "output_type": "display_data"
    },
    {
     "data": {
      "text/html": [
       "<blockquote>Variable importance heatmap shows variable importance across multiple models. Some models in H2O return variable importance for one-hot (binary indicator) encoded versions of categorical columns (e.g. Deep Learning, XGBoost). In order for the variable importance of categorical columns to be compared across all model types we compute a summarization of the the variable importance across all one-hot encoded features and return a single variable importance for the original categorical feature. By default, the models and variables are ordered by their similarity.</blockquote>"
      ],
      "text/markdown": [
       "\n",
       "> Variable importance heatmap shows variable importance across multiple models. Some models in H2O return variable importance for one-hot (binary indicator) encoded versions of categorical columns (e.g. Deep Learning, XGBoost). In order for the variable importance of categorical columns to be compared across all model types we compute a summarization of the the variable importance across all one-hot encoded features and return a single variable importance for the original categorical feature. By default, the models and variables are ordered by their similarity."
      ],
      "text/plain": [
       "\n",
       "> Variable importance heatmap shows variable importance across multiple models. Some models in H2O return variable importance for one-hot (binary indicator) encoded versions of categorical columns (e.g. Deep Learning, XGBoost). In order for the variable importance of categorical columns to be compared across all model types we compute a summarization of the the variable importance across all one-hot encoded features and return a single variable importance for the original categorical feature. By default, the models and variables are ordered by their similarity."
      ]
     },
     "metadata": {},
     "output_type": "display_data"
    },
    {
     "data": {
      "image/png": "[encoded data removed]",
      "text/plain": [
       "<Figure size 1152x648 with 2 Axes>"
      ]
     },
     "metadata": {
      "needs_background": "light"
     },
     "output_type": "display_data"
    },
    {
     "name": "stdout",
     "output_type": "stream",
     "text": [
      "\n",
      "\n"
     ]
    },
    {
     "data": {
      "text/html": [
       "<h1>Model Correlation</h1>"
      ],
      "text/markdown": [
       "\n",
       "\n",
       "# Model Correlation"
      ],
      "text/plain": [
       "\n",
       "\n",
       "# Model Correlation"
      ]
     },
     "metadata": {},
     "output_type": "display_data"
    },
    {
     "data": {
      "text/html": [
       "<blockquote>This plot shows the correlation between the predictions of the models. For classification, frequency of identical predictions is used. By default, models are ordered by their similarity (as computed by hierarchical clustering). Interpretable models, such as GAM, GLM, and RuleFit are highlighted using red colored text.</blockquote>"
      ],
      "text/markdown": [
       "\n",
       "> This plot shows the correlation between the predictions of the models. For classification, frequency of identical predictions is used. By default, models are ordered by their similarity (as computed by hierarchical clustering). Interpretable models, such as GAM, GLM, and RuleFit are highlighted using red colored text."
      ],
      "text/plain": [
       "\n",
       "> This plot shows the correlation between the predictions of the models. For classification, frequency of identical predictions is used. By default, models are ordered by their similarity (as computed by hierarchical clustering). Interpretable models, such as GAM, GLM, and RuleFit are highlighted using red colored text."
      ]
     },
     "metadata": {},
     "output_type": "display_data"
    },
    {
     "data": {
      "image/png": "[encoded data removed]",
      "text/plain": [
       "<Figure size 1152x648 with 2 Axes>"
      ]
     },
     "metadata": {
      "needs_background": "light"
     },
     "output_type": "display_data"
    },
    {
     "name": "stdout",
     "output_type": "stream",
     "text": [
      "\n",
      "\n"
     ]
    },
    {
     "data": {
      "text/html": [
       "<h1>SHAP Summary</h1>"
      ],
      "text/markdown": [
       "\n",
       "\n",
       "# SHAP Summary"
      ],
      "text/plain": [
       "\n",
       "\n",
       "# SHAP Summary"
      ]
     },
     "metadata": {},
     "output_type": "display_data"
    },
    {
     "data": {
      "text/html": [
       "<blockquote>SHAP summary plot shows the contribution of the features for each instance (row of data). The sum of the feature contributions and the bias term is equal to the raw prediction of the model, i.e., prediction before applying inverse link function.</blockquote>"
      ],
      "text/markdown": [
       "\n",
       "> SHAP summary plot shows the contribution of the features for each instance (row of data). The sum of the feature contributions and the bias term is equal to the raw prediction of the model, i.e., prediction before applying inverse link function."
      ],
      "text/plain": [
       "\n",
       "> SHAP summary plot shows the contribution of the features for each instance (row of data). The sum of the feature contributions and the bias term is equal to the raw prediction of the model, i.e., prediction before applying inverse link function."
      ]
     },
     "metadata": {},
     "output_type": "display_data"
    },
    {
     "data": {
      "image/png": "[encoded data removed]",
      "text/plain": [
       "<Figure size 1152x648 with 2 Axes>"
      ]
     },
     "metadata": {
      "needs_background": "light"
     },
     "output_type": "display_data"
    },
    {
     "name": "stdout",
     "output_type": "stream",
     "text": [
      "\n",
      "\n"
     ]
    },
    {
     "data": {
      "text/html": [
       "<h1>Partial Dependence Plots</h1>"
      ],
      "text/markdown": [
       "\n",
       "\n",
       "# Partial Dependence Plots"
      ],
      "text/plain": [
       "\n",
       "\n",
       "# Partial Dependence Plots"
      ]
     },
     "metadata": {},
     "output_type": "display_data"
    },
    {
     "data": {
      "text/html": [
       "<blockquote>Partial dependence plot (PDP) gives a graphical depiction of the marginal effect of a variable on the response. The effect of a variable is measured in change in the mean response. PDP assumes independence between the feature for which is the PDP computed and the rest.</blockquote>"
      ],
      "text/markdown": [
       "\n",
       "> Partial dependence plot (PDP) gives a graphical depiction of the marginal effect of a variable on the response. The effect of a variable is measured in change in the mean response. PDP assumes independence between the feature for which is the PDP computed and the rest."
      ],
      "text/plain": [
       "\n",
       "> Partial dependence plot (PDP) gives a graphical depiction of the marginal effect of a variable on the response. The effect of a variable is measured in change in the mean response. PDP assumes independence between the feature for which is the PDP computed and the rest."
      ]
     },
     "metadata": {},
     "output_type": "display_data"
    },
    {
     "data": {
      "image/png": "[encoded data removed]",
      "text/plain": [
       "<Figure size 1152x648 with 1 Axes>"
      ]
     },
     "metadata": {
      "needs_background": "light"
     },
     "output_type": "display_data"
    },
    {
     "name": "stdout",
     "output_type": "stream",
     "text": [
      "\n",
      "\n"
     ]
    },
    {
     "data": {
      "image/png": "[encoded data removed]",
      "text/plain": [
       "<Figure size 1152x648 with 1 Axes>"
      ]
     },
     "metadata": {
      "needs_background": "light"
     },
     "output_type": "display_data"
    },
    {
     "name": "stdout",
     "output_type": "stream",
     "text": [
      "\n",
      "\n"
     ]
    },
    {
     "data": {
      "image/png": "[encoded data removed]",
      "text/plain": [
       "<Figure size 1152x648 with 1 Axes>"
      ]
     },
     "metadata": {
      "needs_background": "light"
     },
     "output_type": "display_data"
    },
    {
     "name": "stdout",
     "output_type": "stream",
     "text": [
      "\n",
      "\n"
     ]
    },
    {
     "data": {
      "image/png": "[encoded data removed]",
      "text/plain": [
       "<Figure size 1152x648 with 1 Axes>"
      ]
     },
     "metadata": {
      "needs_background": "light"
     },
     "output_type": "display_data"
    },
    {
     "name": "stdout",
     "output_type": "stream",
     "text": [
      "\n",
      "\n"
     ]
    },
    {
     "data": {
      "image/png": "[encoded data removed]",
      "text/plain": [
       "<Figure size 1152x648 with 1 Axes>"
      ]
     },
     "metadata": {
      "needs_background": "light"
     },
     "output_type": "display_data"
    },
    {
     "name": "stdout",
     "output_type": "stream",
     "text": [
      "\n",
      "\n"
     ]
    },
    {
     "data": {
      "text/html": [
       "<h1>Leaderboard</h1>"
      ],
      "text/markdown": [
       "\n",
       "\n",
       "# Leaderboard"
      ],
      "text/plain": [
       "\n",
       "\n",
       "# Leaderboard"
      ]
     },
     "metadata": {},
     "output_type": "display_data"
    },
    {
     "data": {
      "text/html": [
       "<blockquote>Leaderboard shows models with their metrics. When provided with H2OAutoML object, the leaderboard shows 5-fold cross-validated metrics by default (depending on the H2OAutoML settings), otherwise it shows metrics computed on the frame. At most 20 models are shown by default.</blockquote>"
      ],
      "text/markdown": [
       "\n",
       "> Leaderboard shows models with their metrics. When provided with H2OAutoML object, the leaderboard shows 5-fold cross-validated metrics by default (depending on the H2OAutoML settings), otherwise it shows metrics computed on the frame. At most 20 models are shown by default."
      ],
      "text/plain": [
       "\n",
       "> Leaderboard shows models with their metrics. When provided with H2OAutoML object, the leaderboard shows 5-fold cross-validated metrics by default (depending on the H2OAutoML settings), otherwise it shows metrics computed on the frame. At most 20 models are shown by default."
      ]
     },
     "metadata": {},
     "output_type": "display_data"
    },
    {
     "data": {
      "text/html": [
       "<table>\n",
       "<thead>\n",
       "<tr><th>model_id                                  </th><th style=\"text-align: right;\">     auc</th><th style=\"text-align: right;\">  logloss</th><th style=\"text-align: right;\">   aucpr</th><th style=\"text-align: right;\">  mean_per_class_error</th><th style=\"text-align: right;\">    rmse</th><th style=\"text-align: right;\">      mse</th><th style=\"text-align: right;\">  training_time_ms</th><th style=\"text-align: right;\">  predict_time_per_row_ms</th><th>algo  </th></tr>\n",
       "</thead>\n",
       "<tbody>\n",
       "<tr><td>GBM_2_AutoML_1_20220706_03930             </td><td style=\"text-align: right;\">0.899849</td><td style=\"text-align: right;\"> 0.183781</td><td style=\"text-align: right;\">0.818355</td><td style=\"text-align: right;\">              0.143308</td><td style=\"text-align: right;\">0.211693</td><td style=\"text-align: right;\">0.044814 </td><td style=\"text-align: right;\">              1118</td><td style=\"text-align: right;\">                 0.054919</td><td>GBM   </td></tr>\n",
       "<tr><td>GBM_grid_1_AutoML_1_20220706_03930_model_2</td><td style=\"text-align: right;\">0.895149</td><td style=\"text-align: right;\"> 0.199008</td><td style=\"text-align: right;\">0.80031 </td><td style=\"text-align: right;\">              0.13447 </td><td style=\"text-align: right;\">0.22478 </td><td style=\"text-align: right;\">0.0505258</td><td style=\"text-align: right;\">               840</td><td style=\"text-align: right;\">                 0.059752</td><td>GBM   </td></tr>\n",
       "<tr><td>GBM_5_AutoML_1_20220706_03930             </td><td style=\"text-align: right;\">0.894465</td><td style=\"text-align: right;\"> 0.185459</td><td style=\"text-align: right;\">0.800027</td><td style=\"text-align: right;\">              0.148569</td><td style=\"text-align: right;\">0.211678</td><td style=\"text-align: right;\">0.0448074</td><td style=\"text-align: right;\">               572</td><td style=\"text-align: right;\">                 0.043864</td><td>GBM   </td></tr>\n",
       "<tr><td>DRF_1_AutoML_1_20220706_03930             </td><td style=\"text-align: right;\">0.887819</td><td style=\"text-align: right;\"> 0.44122 </td><td style=\"text-align: right;\">0.837511</td><td style=\"text-align: right;\">              0.09375 </td><td style=\"text-align: right;\">0.217224</td><td style=\"text-align: right;\">0.0471862</td><td style=\"text-align: right;\">              1698</td><td style=\"text-align: right;\">                 0.056871</td><td>DRF   </td></tr>\n",
       "<tr><td>GBM_3_AutoML_1_20220706_03930             </td><td style=\"text-align: right;\">0.887276</td><td style=\"text-align: right;\"> 0.18667 </td><td style=\"text-align: right;\">0.812002</td><td style=\"text-align: right;\">              0.135732</td><td style=\"text-align: right;\">0.208377</td><td style=\"text-align: right;\">0.0434209</td><td style=\"text-align: right;\">              1298</td><td style=\"text-align: right;\">                 0.091041</td><td>GBM   </td></tr>\n",
       "<tr><td>GBM_grid_1_AutoML_1_20220706_03930_model_1</td><td style=\"text-align: right;\">0.883838</td><td style=\"text-align: right;\"> 0.178955</td><td style=\"text-align: right;\">0.828886</td><td style=\"text-align: right;\">              0.118266</td><td style=\"text-align: right;\">0.1988  </td><td style=\"text-align: right;\">0.0395214</td><td style=\"text-align: right;\">               747</td><td style=\"text-align: right;\">                 0.049364</td><td>GBM   </td></tr>\n",
       "<tr><td>XRT_1_AutoML_1_20220706_03930             </td><td style=\"text-align: right;\">0.879787</td><td style=\"text-align: right;\"> 0.290344</td><td style=\"text-align: right;\">0.807797</td><td style=\"text-align: right;\">              0.123422</td><td style=\"text-align: right;\">0.237825</td><td style=\"text-align: right;\">0.0565606</td><td style=\"text-align: right;\">              1140</td><td style=\"text-align: right;\">                 0.056676</td><td>DRF   </td></tr>\n",
       "<tr><td>GBM_4_AutoML_1_20220706_03930             </td><td style=\"text-align: right;\">0.879577</td><td style=\"text-align: right;\"> 0.19549 </td><td style=\"text-align: right;\">0.813502</td><td style=\"text-align: right;\">              0.131629</td><td style=\"text-align: right;\">0.212793</td><td style=\"text-align: right;\">0.0452811</td><td style=\"text-align: right;\">              1092</td><td style=\"text-align: right;\">                 0.081414</td><td>GBM   </td></tr>\n",
       "<tr><td>GBM_1_AutoML_1_20220706_03930             </td><td style=\"text-align: right;\">0.873159</td><td style=\"text-align: right;\"> 0.245236</td><td style=\"text-align: right;\">0.713209</td><td style=\"text-align: right;\">              0.137311</td><td style=\"text-align: right;\">0.257353</td><td style=\"text-align: right;\">0.0662308</td><td style=\"text-align: right;\">              3525</td><td style=\"text-align: right;\">                 0.065486</td><td>GBM   </td></tr>\n",
       "<tr><td>GLM_1_AutoML_1_20220706_03930             </td><td style=\"text-align: right;\">0.817796</td><td style=\"text-align: right;\"> 0.309194</td><td style=\"text-align: right;\">0.459268</td><td style=\"text-align: right;\">              0.261258</td><td style=\"text-align: right;\">0.302586</td><td style=\"text-align: right;\">0.0915581</td><td style=\"text-align: right;\">              1235</td><td style=\"text-align: right;\">                 0.00937 </td><td>GLM   </td></tr>\n",
       "</tbody>\n",
       "</table>"
      ]
     },
     "metadata": {},
     "output_type": "display_data"
    },
    {
     "data": {
      "text/plain": []
     },
     "metadata": {},
     "output_type": "display_data"
    },
    {
     "data": {
      "text/html": [
       "<h1>Confusion Matrix</h1>"
      ],
      "text/markdown": [
       "\n",
       "\n",
       "# Confusion Matrix"
      ],
      "text/plain": [
       "\n",
       "\n",
       "# Confusion Matrix"
      ]
     },
     "metadata": {},
     "output_type": "display_data"
    },
    {
     "data": {
      "text/html": [
       "<blockquote>Confusion matrix shows a predicted class vs an actual class.</blockquote>"
      ],
      "text/markdown": [
       "\n",
       "> Confusion matrix shows a predicted class vs an actual class."
      ],
      "text/plain": [
       "\n",
       "> Confusion matrix shows a predicted class vs an actual class."
      ]
     },
     "metadata": {},
     "output_type": "display_data"
    },
    {
     "data": {
      "text/html": [
       "<h2>GBM_2_AutoML_1_20220706_03930</h2>"
      ],
      "text/markdown": [
       "\n",
       "\n",
       "## GBM_2_AutoML_1_20220706_03930"
      ],
      "text/plain": [
       "\n",
       "\n",
       "## GBM_2_AutoML_1_20220706_03930"
      ]
     },
     "metadata": {},
     "output_type": "display_data"
    },
    {
     "name": "stdout",
     "output_type": "stream",
     "text": [
      "\n",
      "Confusion Matrix (Act/Pred) for max f1 @ threshold = 0.22615900593018554: \n"
     ]
    },
    {
     "data": {
      "text/html": [
       "<div>\n",
       "<style scoped>\n",
       "    .dataframe tbody tr th:only-of-type {\n",
       "        vertical-align: middle;\n",
       "    }\n",
       "\n",
       "    .dataframe tbody tr th {\n",
       "        vertical-align: top;\n",
       "    }\n",
       "\n",
       "    .dataframe thead th {\n",
       "        text-align: right;\n",
       "    }\n",
       "</style>\n",
       "<table border=\"1\" class=\"dataframe\">\n",
       "  <thead>\n",
       "    <tr style=\"text-align: right;\">\n",
       "      <th></th>\n",
       "      <th></th>\n",
       "      <th>False.</th>\n",
       "      <th>True.</th>\n",
       "      <th>Error</th>\n",
       "      <th>Rate</th>\n",
       "    </tr>\n",
       "  </thead>\n",
       "  <tbody>\n",
       "    <tr>\n",
       "      <th>0</th>\n",
       "      <td>False.</td>\n",
       "      <td>1988.0</td>\n",
       "      <td>2.0</td>\n",
       "      <td>0.001</td>\n",
       "      <td>(2.0/1990.0)</td>\n",
       "    </tr>\n",
       "    <tr>\n",
       "      <th>1</th>\n",
       "      <td>True.</td>\n",
       "      <td>3.0</td>\n",
       "      <td>349.0</td>\n",
       "      <td>0.0085</td>\n",
       "      <td>(3.0/352.0)</td>\n",
       "    </tr>\n",
       "    <tr>\n",
       "      <th>2</th>\n",
       "      <td>Total</td>\n",
       "      <td>1991.0</td>\n",
       "      <td>351.0</td>\n",
       "      <td>0.0021</td>\n",
       "      <td>(5.0/2342.0)</td>\n",
       "    </tr>\n",
       "  </tbody>\n",
       "</table>\n",
       "</div>"
      ],
      "text/plain": [
       "           False.  True.   Error           Rate\n",
       "0  False.  1988.0    2.0   0.001   (2.0/1990.0)\n",
       "1   True.     3.0  349.0  0.0085    (3.0/352.0)\n",
       "2   Total  1991.0  351.0  0.0021   (5.0/2342.0)"
      ]
     },
     "metadata": {},
     "output_type": "display_data"
    },
    {
     "data": {
      "text/plain": []
     },
     "metadata": {},
     "output_type": "display_data"
    },
    {
     "data": {
      "text/html": [
       "<h1>Variable Importance</h1>"
      ],
      "text/markdown": [
       "\n",
       "\n",
       "# Variable Importance"
      ],
      "text/plain": [
       "\n",
       "\n",
       "# Variable Importance"
      ]
     },
     "metadata": {},
     "output_type": "display_data"
    },
    {
     "data": {
      "text/html": [
       "<blockquote>The variable importance plot shows the relative importance of the most important variables in the model.</blockquote>"
      ],
      "text/markdown": [
       "\n",
       "> The variable importance plot shows the relative importance of the most important variables in the model."
      ],
      "text/plain": [
       "\n",
       "> The variable importance plot shows the relative importance of the most important variables in the model."
      ]
     },
     "metadata": {},
     "output_type": "display_data"
    },
    {
     "data": {
      "text/plain": [
       "<h2o.plot._plot_result._MObject at 0x1245c34c0>"
      ]
     },
     "metadata": {},
     "output_type": "display_data"
    },
    {
     "data": {
      "text/html": [
       "<h1>Variable Importance Heatmap</h1>"
      ],
      "text/markdown": [
       "\n",
       "\n",
       "# Variable Importance Heatmap"
      ],
      "text/plain": [
       "\n",
       "\n",
       "# Variable Importance Heatmap"
      ]
     },
     "metadata": {},
     "output_type": "display_data"
    },
    {
     "data": {
      "text/html": [
       "<blockquote>Variable importance heatmap shows variable importance across multiple models. Some models in H2O return variable importance for one-hot (binary indicator) encoded versions of categorical columns (e.g. Deep Learning, XGBoost). In order for the variable importance of categorical columns to be compared across all model types we compute a summarization of the the variable importance across all one-hot encoded features and return a single variable importance for the original categorical feature. By default, the models and variables are ordered by their similarity.</blockquote>"
      ],
      "text/markdown": [
       "\n",
       "> Variable importance heatmap shows variable importance across multiple models. Some models in H2O return variable importance for one-hot (binary indicator) encoded versions of categorical columns (e.g. Deep Learning, XGBoost). In order for the variable importance of categorical columns to be compared across all model types we compute a summarization of the the variable importance across all one-hot encoded features and return a single variable importance for the original categorical feature. By default, the models and variables are ordered by their similarity."
      ],
      "text/plain": [
       "\n",
       "> Variable importance heatmap shows variable importance across multiple models. Some models in H2O return variable importance for one-hot (binary indicator) encoded versions of categorical columns (e.g. Deep Learning, XGBoost). In order for the variable importance of categorical columns to be compared across all model types we compute a summarization of the the variable importance across all one-hot encoded features and return a single variable importance for the original categorical feature. By default, the models and variables are ordered by their similarity."
      ]
     },
     "metadata": {},
     "output_type": "display_data"
    },
    {
     "data": {
      "text/plain": [
       "<h2o.plot._plot_result._MObject at 0x121f69730>"
      ]
     },
     "metadata": {},
     "output_type": "display_data"
    },
    {
     "data": {
      "text/html": [
       "<h1>Model Correlation</h1>"
      ],
      "text/markdown": [
       "\n",
       "\n",
       "# Model Correlation"
      ],
      "text/plain": [
       "\n",
       "\n",
       "# Model Correlation"
      ]
     },
     "metadata": {},
     "output_type": "display_data"
    },
    {
     "data": {
      "text/html": [
       "<blockquote>This plot shows the correlation between the predictions of the models. For classification, frequency of identical predictions is used. By default, models are ordered by their similarity (as computed by hierarchical clustering). Interpretable models, such as GAM, GLM, and RuleFit are highlighted using red colored text.</blockquote>"
      ],
      "text/markdown": [
       "\n",
       "> This plot shows the correlation between the predictions of the models. For classification, frequency of identical predictions is used. By default, models are ordered by their similarity (as computed by hierarchical clustering). Interpretable models, such as GAM, GLM, and RuleFit are highlighted using red colored text."
      ],
      "text/plain": [
       "\n",
       "> This plot shows the correlation between the predictions of the models. For classification, frequency of identical predictions is used. By default, models are ordered by their similarity (as computed by hierarchical clustering). Interpretable models, such as GAM, GLM, and RuleFit are highlighted using red colored text."
      ]
     },
     "metadata": {},
     "output_type": "display_data"
    },
    {
     "data": {
      "text/plain": [
       "<h2o.plot._plot_result._MObject at 0x12522cd30>"
      ]
     },
     "metadata": {},
     "output_type": "display_data"
    },
    {
     "data": {
      "text/html": [
       "<h1>SHAP Summary</h1>"
      ],
      "text/markdown": [
       "\n",
       "\n",
       "# SHAP Summary"
      ],
      "text/plain": [
       "\n",
       "\n",
       "# SHAP Summary"
      ]
     },
     "metadata": {},
     "output_type": "display_data"
    },
    {
     "data": {
      "text/html": [
       "<blockquote>SHAP summary plot shows the contribution of the features for each instance (row of data). The sum of the feature contributions and the bias term is equal to the raw prediction of the model, i.e., prediction before applying inverse link function.</blockquote>"
      ],
      "text/markdown": [
       "\n",
       "> SHAP summary plot shows the contribution of the features for each instance (row of data). The sum of the feature contributions and the bias term is equal to the raw prediction of the model, i.e., prediction before applying inverse link function."
      ],
      "text/plain": [
       "\n",
       "> SHAP summary plot shows the contribution of the features for each instance (row of data). The sum of the feature contributions and the bias term is equal to the raw prediction of the model, i.e., prediction before applying inverse link function."
      ]
     },
     "metadata": {},
     "output_type": "display_data"
    },
    {
     "data": {
      "text/plain": [
       "<h2o.plot._plot_result._MObject at 0x124e443d0>"
      ]
     },
     "metadata": {},
     "output_type": "display_data"
    },
    {
     "data": {
      "text/html": [
       "<h1>Partial Dependence Plots</h1>"
      ],
      "text/markdown": [
       "\n",
       "\n",
       "# Partial Dependence Plots"
      ],
      "text/plain": [
       "\n",
       "\n",
       "# Partial Dependence Plots"
      ]
     },
     "metadata": {},
     "output_type": "display_data"
    },
    {
     "data": {
      "text/html": [
       "<blockquote>Partial dependence plot (PDP) gives a graphical depiction of the marginal effect of a variable on the response. The effect of a variable is measured in change in the mean response. PDP assumes independence between the feature for which is the PDP computed and the rest.</blockquote>"
      ],
      "text/markdown": [
       "\n",
       "> Partial dependence plot (PDP) gives a graphical depiction of the marginal effect of a variable on the response. The effect of a variable is measured in change in the mean response. PDP assumes independence between the feature for which is the PDP computed and the rest."
      ],
      "text/plain": [
       "\n",
       "> Partial dependence plot (PDP) gives a graphical depiction of the marginal effect of a variable on the response. The effect of a variable is measured in change in the mean response. PDP assumes independence between the feature for which is the PDP computed and the rest."
      ]
     },
     "metadata": {},
     "output_type": "display_data"
    },
    {
     "data": {
      "text/plain": [
       "<h2o.plot._plot_result._MObject at 0x1254235b0>"
      ]
     },
     "metadata": {},
     "output_type": "display_data"
    },
    {
     "data": {
      "text/plain": [
       "<h2o.plot._plot_result._MObject at 0x125840dc0>"
      ]
     },
     "metadata": {},
     "output_type": "display_data"
    },
    {
     "data": {
      "text/plain": [
       "<h2o.plot._plot_result._MObject at 0x125bf71c0>"
      ]
     },
     "metadata": {},
     "output_type": "display_data"
    },
    {
     "data": {
      "text/plain": [
       "<h2o.plot._plot_result._MObject at 0x125fcfbe0>"
      ]
     },
     "metadata": {},
     "output_type": "display_data"
    },
    {
     "data": {
      "text/plain": [
       "<h2o.plot._plot_result._MObject at 0x123653490>"
      ]
     },
     "metadata": {},
     "output_type": "display_data"
    }
   ],
   "source": [
    "aml.explain(train)"
   ]
  },
  {
   "cell_type": "markdown",
   "metadata": {},
   "source": [
    "## Deployment objects"
   ]
  },
  {
   "cell_type": "markdown",
   "metadata": {},
   "source": [
    "We can download the Model Deployment Object (the MOJO) for easy deployment in MLOps."
   ]
  },
  {
   "cell_type": "code",
   "execution_count": 31,
   "metadata": {},
   "outputs": [],
   "source": [
    "local_mojo = aml.leader.download_mojo()"
   ]
  },
  {
   "cell_type": "markdown",
   "metadata": {},
   "source": [
    "## Clean up"
   ]
  },
  {
   "cell_type": "code",
   "execution_count": null,
   "metadata": {},
   "outputs": [],
   "source": [
    "h2o_engine.delete()"
   ]
  }
 ],
 "metadata": {
  "kernelspec": {
   "display_name": "Python 3 (ipykernel)",
   "language": "python",
   "name": "python3"
  },
  "language_info": {
   "codemirror_mode": {
    "name": "ipython",
    "version": 3
   },
   "file_extension": ".py",
   "mimetype": "text/x-python",
   "name": "python",
   "nbconvert_exporter": "python",
   "pygments_lexer": "ipython3",
   "version": "3.8.12"
  },
  "toc": {
   "base_numbering": 1,
   "nav_menu": {},
   "number_sections": true,
   "sideBar": true,
   "skip_h1_title": true,
   "title_cell": "Table of Contents",
   "title_sidebar": "Contents",
   "toc_cell": false,
   "toc_position": {},
   "toc_section_display": true,
   "toc_window_display": true
  }
 },
 "nbformat": 4,
 "nbformat_minor": 5
}

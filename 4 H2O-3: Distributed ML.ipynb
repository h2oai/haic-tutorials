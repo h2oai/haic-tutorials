{
 "cells": [
  {
   "cell_type": "markdown",
   "metadata": {},
   "source": [
    "# H2O-3 for Distributed ML\n",
    "\n",
    "This notebook is intended to help you get started with distributed machine learning in the H2O AI Cloud using python.\n",
    "\n",
    "* **Product Documentation:** https://docs.h2o.ai/h2o/latest-stable/h2o-docs/index.html\n",
    "* **Python Documentation:** https://docs.h2o.ai/h2o/latest-stable/h2o-py/docs/index.html\n",
    "* **Additional Tutorials:** https://github.com/h2oai/h2o-tutorials"
   ]
  },
  {
   "cell_type": "code",
   "execution_count": 1,
   "metadata": {},
   "outputs": [],
   "source": [
    "import h2o_engine_manager\n",
    "\n",
    "from h2o.estimators.glm import H2OGeneralizedLinearEstimator\n",
    "import h2o\n",
    "\n",
    "import pandas as pd\n",
    "import numpy as np"
   ]
  },
  {
   "cell_type": "markdown",
   "metadata": {},
   "source": [
    "## Securely connect to the platform"
   ]
  },
  {
   "cell_type": "code",
   "execution_count": null,
   "metadata": {},
   "outputs": [],
   "source": [
    "engine_manager = h2o_engine_manager.login()"
   ]
  },
  {
   "cell_type": "markdown",
   "metadata": {},
   "source": [
    "## Connect to H2O-3\n",
    "We will create and connect to a new H2O-3 engine. This step will connect our imported `h2o` library which we can then use to interact with the cluster. "
   ]
  },
  {
   "cell_type": "code",
   "execution_count": null,
   "metadata": {},
   "outputs": [],
   "source": [
    "h2o_engine = engine_manager.h2o_engine_client.create_engine(\n",
    "    display_name=\"My-Tutorial-Engine-04\",\n",
    "    version=\"latest\"\n",
    ")\n",
    "\n",
    "h2o_engine.wait()"
   ]
  },
  {
   "cell_type": "code",
   "execution_count": null,
   "id": "67e71f61",
   "metadata": {},
   "outputs": [],
   "source": [
    "h2o.connect(config=h2o_engine.get_connection_config())"
   ]
  },
  {
   "cell_type": "markdown",
   "metadata": {},
   "source": [
    "## Data\n",
    "\n",
    "We can create an H2O Dataframe object with data from our local machine or a URL. "
   ]
  },
  {
   "cell_type": "code",
   "execution_count": null,
   "metadata": {},
   "outputs": [],
   "source": [
    "data = h2o.import_file(\"https://h2o-internal-release.s3-us-west-2.amazonaws.com/data/Splunk/churn.csv\")"
   ]
  },
  {
   "cell_type": "code",
   "execution_count": null,
   "metadata": {},
   "outputs": [],
   "source": [
    "data.shape"
   ]
  },
  {
   "cell_type": "code",
   "execution_count": null,
   "metadata": {},
   "outputs": [],
   "source": [
    "data.head()"
   ]
  },
  {
   "cell_type": "code",
   "execution_count": null,
   "metadata": {},
   "outputs": [],
   "source": [
    "data.types"
   ]
  },
  {
   "cell_type": "markdown",
   "metadata": {},
   "source": [
    "### Data Exploration"
   ]
  },
  {
   "cell_type": "markdown",
   "metadata": {},
   "source": [
    "We can use H2O-3 to explore our dataset.  We can find correlations, build decision trees, and visualize our dataset.  In this demo, we will view the correlations and plot distributions."
   ]
  },
  {
   "cell_type": "markdown",
   "metadata": {},
   "source": [
    "We will first use H2O-3 to find the numeric columns that are correlated to Churn. "
   ]
  },
  {
   "cell_type": "code",
   "execution_count": null,
   "metadata": {},
   "outputs": [],
   "source": [
    "numeric_cols = [k for k, v in data.types.items() if v in ['real', 'int']]\n",
    "churn_cor_hf = data['Churn?'].cor(data[numeric_cols])\n",
    "churn_cor_hf"
   ]
  },
  {
   "cell_type": "markdown",
   "metadata": {},
   "source": [
    "The result of the `cor` function is an H2O Frame with one row, showing the correlation of each variable to `Churn?`. Since this data is very small, we can convert it to a Pandas dataframe and order it based on absolute correlation."
   ]
  },
  {
   "cell_type": "code",
   "execution_count": null,
   "metadata": {},
   "outputs": [],
   "source": [
    "churn_cor = churn_cor_hf.as_data_frame().transpose().reset_index()\n",
    "churn_cor.columns = ['Feature', 'Correlation']\n",
    "churn_cor = churn_cor.iloc[(-churn_cor['Correlation'].abs()).argsort()]\n",
    "churn_cor.head()"
   ]
  },
  {
   "cell_type": "markdown",
   "metadata": {},
   "source": [
    "The greatest indicators of churn seem to be more calls to customer service as well as more calling minutes/charges.\n",
    "\n",
    "We can use the histogram function to see the distribution of these top features."
   ]
  },
  {
   "cell_type": "code",
   "execution_count": null,
   "metadata": {},
   "outputs": [],
   "source": [
    "data['CustServ Calls'].hist();"
   ]
  },
  {
   "cell_type": "code",
   "execution_count": null,
   "metadata": {},
   "outputs": [],
   "source": [
    "data['Day Mins'].hist();"
   ]
  },
  {
   "cell_type": "markdown",
   "metadata": {},
   "source": [
    "### Split a Dataset\n",
    "\n",
    "We will next split a dataset for training. When building models, we want to separate a section of data for validating how the model does.  This can be a good indicator of how well the model is at generalizing and predicting on unseen data.\n",
    "\n",
    "We will use the split function to create a random split on the dataset."
   ]
  },
  {
   "cell_type": "code",
   "execution_count": 14,
   "metadata": {},
   "outputs": [],
   "source": [
    "splits = data.split_frame(ratios=[0.7, 0.15], seed=1)\n",
    "\n",
    "train = splits[0]\n",
    "valid = splits[1]\n",
    "test = splits[2]"
   ]
  },
  {
   "cell_type": "markdown",
   "metadata": {},
   "source": [
    "### Prepare columns for training"
   ]
  },
  {
   "cell_type": "code",
   "execution_count": 15,
   "metadata": {},
   "outputs": [],
   "source": [
    "y = 'Churn?'\n",
    "x = [i for i in data.columns if i not in [y, 'Phone']] # remove columns"
   ]
  },
  {
   "cell_type": "markdown",
   "metadata": {},
   "source": [
    "## Modeling\n",
    "\n",
    "In this section, we will create models predicting Churn using H2O-3's algorithms."
   ]
  },
  {
   "cell_type": "markdown",
   "metadata": {},
   "source": [
    "### Baseline Model\n",
    "\n",
    "We will start our modeling by building a baseline model.  This is a simple model that we will use as a control. In this example, we will build a Linear model to predict churn."
   ]
  },
  {
   "cell_type": "markdown",
   "metadata": {},
   "source": [
    "We first create an object of class, \"H2OGeneralizedLinearEstimator\". This does not actually do any training, it just sets the model up for training by specifying model parameters."
   ]
  },
  {
   "cell_type": "code",
   "execution_count": 16,
   "metadata": {},
   "outputs": [],
   "source": [
    "glm_fit1 = H2OGeneralizedLinearEstimator(model_id='glm_fit1',\n",
    "                                         ## fix a random number generator seed for reproducibility\n",
    "                                         seed=1234,\n",
    "\n",
    "                                         ## predict a yes/no column\n",
    "                                         family='binomial',\n",
    "\n",
    "                                         ## cross validation\n",
    "                                         nfolds=3,\n",
    "\n",
    "                                         ## use cross validation to find the best regularization\n",
    "                                         lambda_search=True\n",
    "                                        )"
   ]
  },
  {
   "cell_type": "markdown",
   "metadata": {},
   "source": [
    "Now that `glm_fit1` object is initialized, we can train the model:"
   ]
  },
  {
   "cell_type": "code",
   "execution_count": null,
   "metadata": {},
   "outputs": [],
   "source": [
    "glm_fit1.train(x = x, y = y, training_frame = train, validation_frame = valid);"
   ]
  },
  {
   "cell_type": "markdown",
   "metadata": {},
   "source": [
    "The plot below shows the objective loss function as each iteration of the model is trained."
   ]
  },
  {
   "cell_type": "code",
   "execution_count": null,
   "metadata": {
    "scrolled": true
   },
   "outputs": [],
   "source": [
    "glm_fit1.plot();"
   ]
  },
  {
   "cell_type": "markdown",
   "metadata": {},
   "source": [
    "#### Explore predictions"
   ]
  },
  {
   "cell_type": "markdown",
   "metadata": {},
   "source": [
    "Let's see the performance of the GLM that were just trained. "
   ]
  },
  {
   "cell_type": "code",
   "execution_count": 19,
   "metadata": {},
   "outputs": [],
   "source": [
    "glm_perf1 = glm_fit1.model_performance(test)"
   ]
  },
  {
   "cell_type": "code",
   "execution_count": null,
   "metadata": {},
   "outputs": [],
   "source": [
    "glm_perf1.plot();"
   ]
  },
  {
   "cell_type": "markdown",
   "metadata": {},
   "source": [
    "We can see the AUC on the training dataset compared with the validation dataset.  The linear model is slighly better at predicting on the training dataset.  This is to be expected since the training data was seen by the model."
   ]
  },
  {
   "cell_type": "code",
   "execution_count": null,
   "metadata": {},
   "outputs": [],
   "source": [
    "print (\"AUC on Training Data: {0:.3f}\".format(glm_fit1.auc(train = True)))\n",
    "print (\"AUC on Validation Data: {0:.3f}\".format(glm_fit1.auc(valid = True)))"
   ]
  },
  {
   "cell_type": "markdown",
   "metadata": {},
   "source": [
    "Here are the predictions on the validation dataset."
   ]
  },
  {
   "cell_type": "code",
   "execution_count": null,
   "metadata": {},
   "outputs": [],
   "source": [
    "glm_preds = glm_fit1.predict(valid)\n",
    "glm_preds.head()"
   ]
  },
  {
   "cell_type": "markdown",
   "metadata": {},
   "source": [
    "Since our model is a GLM model, we can also see the coefficients of each variable. The plot below shows that `Int'l Plan=Yes` increases the likelihood of churn."
   ]
  },
  {
   "cell_type": "code",
   "execution_count": null,
   "metadata": {},
   "outputs": [],
   "source": [
    "glm_fit1.std_coef_plot(num_of_features=5)"
   ]
  },
  {
   "cell_type": "code",
   "execution_count": null,
   "metadata": {},
   "outputs": [],
   "source": [
    "glm_fit1.partial_plot(data=train, cols=['Day Mins'], figsize=(5, 5));"
   ]
  },
  {
   "cell_type": "markdown",
   "metadata": {},
   "source": [
    "### AutoML\n",
    "\n",
    "We will now automate the machine learning process using AutoML and the `explain` function.  AutoML will automatically tune models and try out different algorithms for the user and provide a leaderboard. "
   ]
  },
  {
   "cell_type": "code",
   "execution_count": null,
   "metadata": {},
   "outputs": [],
   "source": [
    "from h2o.automl import H2OAutoML\n",
    "\n",
    "aml = H2OAutoML(## train up to 10 models\n",
    "                max_models=10,\n",
    "\n",
    "                ## set seed for reproducibility\n",
    "                seed=1234,\n",
    "\n",
    "                ## option to exclude specific algorithms\n",
    "                exclude_algos=['StackedEnsemble', 'DeepLearning']\n",
    "                )\n",
    "aml.train(x=x, y=y, training_frame=train, leaderboard_frame=valid);"
   ]
  },
  {
   "cell_type": "markdown",
   "metadata": {},
   "source": [
    "The leaderboard belows shows us the AUC of each model on our `valid` data.  The best model is a Random Forest model."
   ]
  },
  {
   "cell_type": "code",
   "execution_count": null,
   "metadata": {},
   "outputs": [],
   "source": [
    "aml.leaderboard"
   ]
  },
  {
   "cell_type": "code",
   "execution_count": null,
   "metadata": {},
   "outputs": [],
   "source": [
    "aml.leader"
   ]
  },
  {
   "cell_type": "markdown",
   "metadata": {},
   "source": [
    "We can examine the model automatically by calling the explain function.  The explain function returns performance metrics, comparison between the models, and explains the best model."
   ]
  },
  {
   "cell_type": "code",
   "execution_count": null,
   "metadata": {},
   "outputs": [],
   "source": [
    "aml.explain(train)"
   ]
  },
  {
   "cell_type": "markdown",
   "metadata": {},
   "source": [
    "## Deployment objects"
   ]
  },
  {
   "cell_type": "markdown",
   "metadata": {},
   "source": [
    "We can download the Model Deployment Object (the MOJO) for easy deployment in MLOps."
   ]
  },
  {
   "cell_type": "code",
   "execution_count": 31,
   "metadata": {},
   "outputs": [],
   "source": [
    "local_mojo = aml.leader.download_mojo()"
   ]
  },
  {
   "cell_type": "markdown",
   "metadata": {},
   "source": [
    "## Clean up"
   ]
  },
  {
   "cell_type": "code",
   "execution_count": null,
   "metadata": {},
   "outputs": [],
   "source": [
    "h2o_engine.delete()"
   ]
  }
 ],
 "metadata": {
  "kernelspec": {
   "display_name": "Python 3 (ipykernel)",
   "language": "python",
   "name": "python3"
  },
  "language_info": {
   "codemirror_mode": {
    "name": "ipython",
    "version": 3
   },
   "file_extension": ".py",
   "mimetype": "text/x-python",
   "name": "python",
   "nbconvert_exporter": "python",
   "pygments_lexer": "ipython3",
   "version": "3.8.12"
  },
  "toc": {
   "base_numbering": 1,
   "nav_menu": {},
   "number_sections": true,
   "sideBar": true,
   "skip_h1_title": true,
   "title_cell": "Table of Contents",
   "title_sidebar": "Contents",
   "toc_cell": false,
   "toc_position": {},
   "toc_section_display": true,
   "toc_window_display": true
  }
 },
 "nbformat": 4,
 "nbformat_minor": 5
}

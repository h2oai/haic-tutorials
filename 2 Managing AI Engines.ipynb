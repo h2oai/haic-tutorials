{
 "cells": [
  {
   "cell_type": "markdown",
   "id": "ec32f424",
   "metadata": {
    "tags": []
   },
   "source": [
    "# Managing AI Engines (Driverless AI, H2O)\n",
    "\n",
    "This notebook is intended to help you get started managing your AI Engines in the H2O AI Cloud using Python.\n",
    "\n",
    "* **Product Documentation:** https://h2oai.github.io/ai-engine-manager/\n",
    "* **Python Documentation:** https://h2oai.github.io/ai-engine-manager/docs/py/clients/"
   ]
  },
  {
   "cell_type": "code",
   "execution_count": 1,
   "id": "8078fbd6",
   "metadata": {},
   "outputs": [],
   "source": [
    "import os\n",
    "\n",
    "import h2o\n",
    "import h2o_authn\n",
    "import h2o_discovery\n",
    "import h2o_engine_manager"
   ]
  },
  {
   "cell_type": "markdown",
   "id": "74395472",
   "metadata": {},
   "source": [
    "## Securely connect\n",
    "\n",
    "We first connect to the H2O AI Cloud by creating a token provider object. We can then use this object to log into AI Engine Manager and other APIs."
   ]
  },
  {
   "cell_type": "code",
   "execution_count": 2,
   "id": "b31db342",
   "metadata": {},
   "outputs": [],
   "source": [
    "discovery = h2o_discovery.discover()\n",
    "\n",
    "token_provider = h2o_authn.TokenProvider(\n",
    "    refresh_token=os.getenv(\"H2O_CLOUD_CLIENT_PLATFORM_TOKEN\"),\n",
    "    issuer_url=discovery.environment.issuer_url,\n",
    "    client_id=discovery.clients[\"platform\"].oauth2_client_id,\n",
    ")\n",
    "\n",
    "engine_manager = h2o_engine_manager.login(token_provider=token_provider)"
   ]
  },
  {
   "cell_type": "markdown",
   "id": "5264693e",
   "metadata": {},
   "source": [
    "## Managing Driverless AI"
   ]
  },
  {
   "cell_type": "code",
   "execution_count": 4,
   "id": "95c5cb70-f57a-40b8-a738-f0b063fcda75",
   "metadata": {},
   "outputs": [],
   "source": [
    "dai_manager = engine_manager.dai_engine_client"
   ]
  },
  {
   "cell_type": "markdown",
   "id": "07325e2a",
   "metadata": {},
   "source": [
    "### View available versions"
   ]
  },
  {
   "cell_type": "code",
   "execution_count": null,
   "id": "909d53b5",
   "metadata": {},
   "outputs": [],
   "source": [
    "dai_manager.list_all_versions()"
   ]
  },
  {
   "cell_type": "markdown",
   "id": "e24c2ac7",
   "metadata": {},
   "source": [
    "### Create an engine\n",
    "See the `3 AutoML` tutorial for what to do once you've connected to the AutoML platform. "
   ]
  },
  {
   "cell_type": "code",
   "execution_count": 7,
   "id": "48388258-2df4-4a1c-bbcf-b9a07dc5eda6",
   "metadata": {},
   "outputs": [],
   "source": [
    "dai_engine = dai_manager.create_engine(\n",
    "    display_name=\"My test engine\",\n",
    ")\n",
    "\n",
    "dai_engine.wait()"
   ]
  },
  {
   "cell_type": "code",
   "execution_count": null,
   "id": "8b3edbf9",
   "metadata": {},
   "outputs": [],
   "source": [
    "dai_engine"
   ]
  },
  {
   "cell_type": "code",
   "execution_count": null,
   "id": "e959982e",
   "metadata": {},
   "outputs": [],
   "source": [
    "print(dai_engine.login_url)"
   ]
  },
  {
   "cell_type": "code",
   "execution_count": null,
   "id": "31cdcf8b-7a46-4b16-970d-d4378c4bfaf3",
   "metadata": {},
   "outputs": [],
   "source": [
    "dai = dai_engine.connect()\n",
    "dai.server.version"
   ]
  },
  {
   "cell_type": "markdown",
   "id": "d5319560",
   "metadata": {},
   "source": [
    "### List my engines"
   ]
  },
  {
   "cell_type": "code",
   "execution_count": null,
   "id": "59af10e9-8071-4a29-8000-c790ba33ea0e",
   "metadata": {},
   "outputs": [],
   "source": [
    "for engine in dai_manager.list_all_engines():\n",
    "    print(engine.name, \"\\t\", engine.state.name, \"\\t\", engine.display_name)"
   ]
  },
  {
   "cell_type": "markdown",
   "id": "462ddce3",
   "metadata": {},
   "source": [
    "### Download engine logs"
   ]
  },
  {
   "cell_type": "code",
   "execution_count": null,
   "id": "79ee854a",
   "metadata": {},
   "outputs": [],
   "source": [
    "dai_engine.download_logs()[:1000] # show only first 1000 characters"
   ]
  },
  {
   "cell_type": "markdown",
   "id": "e9d4657f",
   "metadata": {},
   "source": [
    "### Pause an engine"
   ]
  },
  {
   "cell_type": "markdown",
   "id": "69aa1c0c",
   "metadata": {},
   "source": [
    "You can pause an engine that is currently running. Pausing an engine shuts it down to save resources, it is similar to powering off a server. You will not loose any data and you can resume the engine at any time."
   ]
  },
  {
   "cell_type": "code",
   "execution_count": 12,
   "id": "6cc2c5cf",
   "metadata": {},
   "outputs": [],
   "source": [
    "dai_engine.pause()\n",
    "dai_engine.wait()"
   ]
  },
  {
   "cell_type": "markdown",
   "id": "1d563460",
   "metadata": {},
   "source": [
    "### Resume the engine"
   ]
  },
  {
   "cell_type": "markdown",
   "id": "f023e547",
   "metadata": {},
   "source": [
    "You can resume a paused engine by running:"
   ]
  },
  {
   "cell_type": "code",
   "execution_count": 13,
   "id": "253710a0",
   "metadata": {},
   "outputs": [],
   "source": [
    "dai_engine.resume()\n",
    "dai_engine.wait()"
   ]
  },
  {
   "cell_type": "markdown",
   "id": "ec67493b",
   "metadata": {},
   "source": [
    "### Delete the engine"
   ]
  },
  {
   "cell_type": "markdown",
   "id": "a647c079",
   "metadata": {},
   "source": [
    "When you no longer need an engine, you can terminate it. Once deleted, there is no way to restart the engine or access any data."
   ]
  },
  {
   "cell_type": "code",
   "execution_count": 14,
   "id": "87a5a03e",
   "metadata": {},
   "outputs": [],
   "source": [
    "dai_engine.delete()\n",
    "dai_engine.wait()"
   ]
  },
  {
   "cell_type": "code",
   "execution_count": null,
   "id": "6dcde9e3",
   "metadata": {},
   "outputs": [],
   "source": [
    "for engine in dai_manager.list_all_engines():\n",
    "    print(engine.name, \"\\t\", engine.state.name, \"\\t\", engine.display_name)"
   ]
  },
  {
   "cell_type": "markdown",
   "id": "b8ba5008",
   "metadata": {},
   "source": [
    "## Managing H2O-3"
   ]
  },
  {
   "cell_type": "code",
   "execution_count": 15,
   "id": "ff458f9a-b1a1-4905-a110-b9befd8a50ad",
   "metadata": {},
   "outputs": [],
   "source": [
    "h2o_manager = engine_manager.h2o_engine_client"
   ]
  },
  {
   "cell_type": "markdown",
   "id": "f527db02",
   "metadata": {},
   "source": [
    "### View available versions"
   ]
  },
  {
   "cell_type": "code",
   "execution_count": null,
   "id": "8b4c3e63",
   "metadata": {},
   "outputs": [],
   "source": [
    "h2o_manager.list_all_versions()"
   ]
  },
  {
   "cell_type": "markdown",
   "id": "ddeacc43",
   "metadata": {},
   "source": [
    "### Create a H2O engine\n",
    "See the H2O-3 Tutorial for what to do once you've connected to the distributed ML platform. "
   ]
  },
  {
   "cell_type": "code",
   "execution_count": 17,
   "id": "95dd59a8",
   "metadata": {},
   "outputs": [],
   "source": [
    "h2o_engine = h2o_manager.create_engine(\n",
    "    display_name=\"My test engine\",\n",
    "    version=\"latest\"\n",
    ")\n",
    "\n",
    "h2o_engine.wait()"
   ]
  },
  {
   "cell_type": "code",
   "execution_count": null,
   "id": "bcf2ef12-43b0-43b0-bb65-22de4966cf45",
   "metadata": {},
   "outputs": [],
   "source": [
    "print(h2o_engine.login_url)"
   ]
  },
  {
   "cell_type": "code",
   "execution_count": null,
   "id": "4eaa9752",
   "metadata": {},
   "outputs": [],
   "source": [
    "h2o.connect(config=h2o_engine.get_connection_config())"
   ]
  },
  {
   "cell_type": "markdown",
   "id": "315812f7",
   "metadata": {},
   "source": [
    "### List my H2O engines"
   ]
  },
  {
   "cell_type": "code",
   "execution_count": null,
   "id": "92aa84b9",
   "metadata": {},
   "outputs": [],
   "source": [
    "for engine in h2o_manager.list_all_engines():\n",
    "    print(engine.name, \"\\t\", engine.state.name, \"\\t\", engine.display_name)"
   ]
  },
  {
   "cell_type": "markdown",
   "id": "842d7ebb",
   "metadata": {},
   "source": [
    "### Download H2O logs"
   ]
  },
  {
   "cell_type": "code",
   "execution_count": null,
   "id": "94abeb96",
   "metadata": {},
   "outputs": [],
   "source": [
    "h2o_engine.download_logs()[:1000] # show only first 1000 characters"
   ]
  },
  {
   "cell_type": "markdown",
   "id": "a32297db",
   "metadata": {},
   "source": [
    "### Stop an engine\n",
    "H2O engines cannot be resumed after they are stopped. Only turn off your cluster once you are permanately done with it."
   ]
  },
  {
   "cell_type": "code",
   "execution_count": null,
   "id": "27cd7f90",
   "metadata": {},
   "outputs": [],
   "source": [
    "h2o_engine.delete()\n",
    "h2o_engine.wait()"
   ]
  },
  {
   "cell_type": "code",
   "execution_count": null,
   "id": "07c87304",
   "metadata": {},
   "outputs": [],
   "source": [
    "for engine in h2o_manager.list_all_engines():\n",
    "    print(engine.name, \"\\t\", engine.state.name, \"\\t\", engine.display_name)"
   ]
  }
 ],
 "metadata": {
  "kernelspec": {
   "display_name": "Python",
   "language": "python",
   "name": "python_kubernetes"
  },
  "language_info": {
   "codemirror_mode": {
    "name": "ipython",
    "version": 3
   },
   "file_extension": ".py",
   "mimetype": "text/x-python",
   "name": "python",
   "nbconvert_exporter": "python",
   "pygments_lexer": "ipython3",
   "version": "3.10.9"
  },
  "toc": {
   "base_numbering": 1,
   "nav_menu": {},
   "number_sections": true,
   "sideBar": true,
   "skip_h1_title": true,
   "title_cell": "Table of Contents",
   "title_sidebar": "Contents",
   "toc_cell": false,
   "toc_position": {
    "height": "calc(100% - 180px)",
    "left": "10px",
    "top": "150px",
    "width": "336px"
   },
   "toc_section_display": true,
   "toc_window_display": true
  }
 },
 "nbformat": 4,
 "nbformat_minor": 5
}

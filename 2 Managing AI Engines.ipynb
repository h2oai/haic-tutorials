{
 "cells": [
  {
   "cell_type": "markdown",
   "id": "ec32f424",
   "metadata": {
    "tags": []
   },
   "source": [
    "# Managing AI Engines (Driverless AI, H2O)\n",
    "\n",
    "This notebook is intended to help you get started managing your AI Engines in the H2O AI Cloud using Python.\n",
    "\n",
    "* **Product Documentation:** https://h2oai.github.io/ai-engine-manager/\n",
    "* **Python Documentation:** https://h2oai.github.io/ai-engine-manager/docs/py/clients/"
   ]
  },
  {
   "cell_type": "code",
   "execution_count": 1,
   "id": "8078fbd6",
   "metadata": {},
   "outputs": [],
   "source": [
    "import os\n",
    "import uuid\n",
    "\n",
    "import h2o\n",
    "import h2o_authn\n",
    "import h2o_discovery\n",
    "import h2o_engine_manager"
   ]
  },
  {
   "cell_type": "markdown",
   "id": "74395472",
   "metadata": {},
   "source": [
    "## Securely connect\n",
    "\n",
    "We first connect to the H2O AI Cloud by creating a token provider object. We can then use this object to log into AI Engine Manager and other APIs."
   ]
  },
  {
   "cell_type": "code",
   "execution_count": 2,
   "id": "b31db342",
   "metadata": {},
   "outputs": [],
   "source": [
    "discovery = h2o_discovery.discover()\n",
    "\n",
    "token_provider = h2o_authn.TokenProvider(\n",
    "    refresh_token=os.getenv(\"PLATFORM_TOKEN\"),\n",
    "    issuer_url=discovery.environment.issuer_url,\n",
    "    client_id=discovery.clients[\"platform\"].oauth2_client_id,\n",
    ")"
   ]
  },
  {
   "cell_type": "code",
   "execution_count": 3,
   "id": "eb45585b-e35b-4598-a2c0-913f3d99b1de",
   "metadata": {},
   "outputs": [],
   "source": [
    "engine_manager = h2o_engine_manager.login(token_provider=token_provider)"
   ]
  },
  {
   "cell_type": "markdown",
   "id": "5264693e",
   "metadata": {},
   "source": [
    "## Managing Driverless AI"
   ]
  },
  {
   "cell_type": "code",
   "execution_count": 4,
   "id": "95c5cb70-f57a-40b8-a738-f0b063fcda75",
   "metadata": {},
   "outputs": [],
   "source": [
    "dai_manager = engine_manager.dai_engine_client"
   ]
  },
  {
   "cell_type": "markdown",
   "id": "07325e2a",
   "metadata": {},
   "source": [
    "### View available versions"
   ]
  },
  {
   "cell_type": "code",
   "execution_count": 5,
   "id": "909d53b5",
   "metadata": {},
   "outputs": [
    {
     "data": {
      "text/plain": [
       "[{'aliases': ['latest'], 'annotations': {}, 'version': '1.10.5'},\n",
       " {'aliases': [], 'annotations': {}, 'version': '1.10.4.3'},\n",
       " {'aliases': [], 'annotations': {}, 'version': '1.10.4.2'},\n",
       " {'aliases': [], 'annotations': {}, 'version': '1.10.4.1'},\n",
       " {'aliases': [], 'annotations': {}, 'version': '1.10.4'}]"
      ]
     },
     "execution_count": 5,
     "metadata": {},
     "output_type": "execute_result"
    }
   ],
   "source": [
    "dai_manager.list_all_versions()"
   ]
  },
  {
   "cell_type": "markdown",
   "id": "e24c2ac7",
   "metadata": {},
   "source": [
    "### Create an engine\n",
    "See the `3 AutoML` tutorial for what to do once you've connected to the AutoML platform. "
   ]
  },
  {
   "cell_type": "code",
   "execution_count": 7,
   "id": "48388258-2df4-4a1c-bbcf-b9a07dc5eda6",
   "metadata": {},
   "outputs": [],
   "source": [
    "dai_engine = dai_manager.create_engine(\n",
    "    display_name=\"My test engine\",\n",
    "    engine_id=\"test-\" + str(uuid.uuid4())[:8], # random engine id\n",
    ")\n",
    "\n",
    "dai_engine.wait()"
   ]
  },
  {
   "cell_type": "code",
   "execution_count": 8,
   "id": "8b3edbf9",
   "metadata": {},
   "outputs": [
    {
     "data": {
      "text/plain": [
       "{'annotations': {},\n",
       " 'api_url': 'https://enginemanager.cloud-dev.h2o.ai/workspaces/default/daiEngines/test-eae58cd2',\n",
       " 'client_info': <h2o_engine_manager.clients.dai_engine.client_info.ClientInfo object at 0x7fdcf9d3d060>,\n",
       " 'config': {},\n",
       " 'cpu': 2,\n",
       " 'create_time': datetime.datetime(2023, 5, 9, 20, 59, 35, tzinfo=tzlocal()),\n",
       " 'creator': 'users/56449fb7-31a5-4f4e-b05d-e66aba884bfe',\n",
       " 'creator_display_name': 'ondrej.bilek@h2o.ai',\n",
       " 'delete_time': None,\n",
       " 'display_name': 'My test engine',\n",
       " 'engine_id': 'test-eae58cd2',\n",
       " 'gpu': 0,\n",
       " 'login_url': 'https://enginemanager.cloud-dev.h2o.ai/workspaces/default/daiEngines/test-eae58cd2/oidc/login',\n",
       " 'max_idle_duration': '1h',\n",
       " 'max_running_duration': '4h',\n",
       " 'memory_bytes': '8Gi',\n",
       " 'name': 'workspaces/default/daiEngines/test-eae58cd2',\n",
       " 'reconciling': False,\n",
       " 'resume_time': datetime.datetime(2023, 5, 9, 20, 59, 35, tzinfo=tzlocal()),\n",
       " 'state': <DAIEngineState.STATE_RUNNING: 'STATE_RUNNING'>,\n",
       " 'storage_bytes': '8Gi',\n",
       " 'uid': '4c2cecec-7acf-472d-94d5-9055bec96f10',\n",
       " 'update_time': None,\n",
       " 'upgrade_available': False,\n",
       " 'version': '1.10.5',\n",
       " 'workspace_id': 'default'}"
      ]
     },
     "execution_count": 8,
     "metadata": {},
     "output_type": "execute_result"
    }
   ],
   "source": [
    "dai_engine"
   ]
  },
  {
   "cell_type": "code",
   "execution_count": 9,
   "id": "e959982e",
   "metadata": {},
   "outputs": [
    {
     "data": {
      "text/plain": [
       "'https://enginemanager.cloud-dev.h2o.ai/workspaces/default/daiEngines/test-eae58cd2/oidc/login'"
      ]
     },
     "execution_count": 9,
     "metadata": {},
     "output_type": "execute_result"
    }
   ],
   "source": [
    "dai_engine.login_url"
   ]
  },
  {
   "cell_type": "code",
   "execution_count": 10,
   "id": "31cdcf8b-7a46-4b16-970d-d4378c4bfaf3",
   "metadata": {},
   "outputs": [
    {
     "data": {
      "text/plain": [
       "'1.10.5'"
      ]
     },
     "execution_count": 10,
     "metadata": {},
     "output_type": "execute_result"
    }
   ],
   "source": [
    "dai = dai_engine.connect()\n",
    "dai.server.version"
   ]
  },
  {
   "cell_type": "markdown",
   "id": "d5319560",
   "metadata": {},
   "source": [
    "### List my engines"
   ]
  },
  {
   "cell_type": "code",
   "execution_count": null,
   "id": "59af10e9-8071-4a29-8000-c790ba33ea0e",
   "metadata": {},
   "outputs": [],
   "source": [
    "for engine in dai_manager.list_all_engines():\n",
    "    print(engine.name, \"\\t\", engine.state.name, \"\\t\", engine.display_name)"
   ]
  },
  {
   "cell_type": "markdown",
   "id": "462ddce3",
   "metadata": {},
   "source": [
    "### Download engine logs"
   ]
  },
  {
   "cell_type": "code",
   "execution_count": 11,
   "id": "79ee854a",
   "metadata": {},
   "outputs": [
    {
     "data": {
      "text/plain": [
       "\"2023-05-09 20:59:49 BEGIN: run.sh\\n---------------------------------\\nWelcome to H2O.ai's Driverless AI\\n---------------------------------\\n\\n- Put data in the volume mounted at /data\\n- Logs are written to the volume mounted at /dai-data/log\\n- Connect to Driverless AI on port 12345 inside the container\\n2023-05-09 20:59:49 Begin running run-dai.sh\\n2023-05-09 20:59:49 BEGIN: run-dai.sh\\n2023-05-09 20:59:49 BEGIN: DAI ENV setup\\n  % Total    % Received % Xferd  Average Speed   Time    Time     Time  Current\\n                                 Dload  Upload   Total   Spent    Left  Speed\\n\\r  0     0    0     0    0     0      0      0 --:--:-- --:--:-- --:--:--     0\\r  0     0    0     0    0     0      0      0 --:--:--  0:00:01 --:--:--     0\\ncurl: (28) Connection timed out after 1001 milliseconds\\nNormal setup of conda\\n2023-05-09 20:59:50 END: DAI ENV setup\\n2023-05-09 20:59:50 Running:\\n2023-05-09 20:59:50 BEGIN: start-dai.sh\\n2023-05-09 20:59:50 Setting ulimits\\n2023-05-09 20:59:50 Starting DAI\\nrun_s\""
      ]
     },
     "execution_count": 11,
     "metadata": {},
     "output_type": "execute_result"
    }
   ],
   "source": [
    "dai_engine.download_logs()[:1000] # show only first 1000 characters"
   ]
  },
  {
   "cell_type": "markdown",
   "id": "e9d4657f",
   "metadata": {},
   "source": [
    "### Pause an engine"
   ]
  },
  {
   "cell_type": "markdown",
   "id": "69aa1c0c",
   "metadata": {},
   "source": [
    "You can pause an engine that is currently running. Pausing an engine shuts it down to save resources, it is similar to powering off a server. You will not loose any data and you can resume the engine at any time."
   ]
  },
  {
   "cell_type": "code",
   "execution_count": 12,
   "id": "6cc2c5cf",
   "metadata": {},
   "outputs": [],
   "source": [
    "dai_engine.pause()\n",
    "dai_engine.wait()"
   ]
  },
  {
   "cell_type": "markdown",
   "id": "1d563460",
   "metadata": {},
   "source": [
    "### Resume the engine"
   ]
  },
  {
   "cell_type": "markdown",
   "id": "f023e547",
   "metadata": {},
   "source": [
    "You can resume a paused engine by running:"
   ]
  },
  {
   "cell_type": "code",
   "execution_count": 13,
   "id": "253710a0",
   "metadata": {},
   "outputs": [],
   "source": [
    "dai_engine.resume()\n",
    "dai_engine.wait()"
   ]
  },
  {
   "cell_type": "markdown",
   "id": "ec67493b",
   "metadata": {},
   "source": [
    "### Delete the engine"
   ]
  },
  {
   "cell_type": "markdown",
   "id": "a647c079",
   "metadata": {},
   "source": [
    "When you no longer need an engine, you can terminate it. Once deleted, there is no way to restart the engine or access any data."
   ]
  },
  {
   "cell_type": "code",
   "execution_count": 14,
   "id": "87a5a03e",
   "metadata": {},
   "outputs": [],
   "source": [
    "dai_engine.delete()\n",
    "dai_engine.wait()"
   ]
  },
  {
   "cell_type": "code",
   "execution_count": null,
   "id": "6dcde9e3",
   "metadata": {},
   "outputs": [],
   "source": [
    "for engine in dai_manager.list_all_engines():\n",
    "    print(engine.name, \"\\t\", engine.state.name, \"\\t\", engine.display_name)"
   ]
  },
  {
   "cell_type": "markdown",
   "id": "b8ba5008",
   "metadata": {},
   "source": [
    "## Managing H2O-3"
   ]
  },
  {
   "cell_type": "code",
   "execution_count": 15,
   "id": "ff458f9a-b1a1-4905-a110-b9befd8a50ad",
   "metadata": {},
   "outputs": [],
   "source": [
    "h2o_manager = engine_manager.h2o_engine_client"
   ]
  },
  {
   "cell_type": "markdown",
   "id": "f527db02",
   "metadata": {},
   "source": [
    "### View available versions"
   ]
  },
  {
   "cell_type": "code",
   "execution_count": 16,
   "id": "8b4c3e63",
   "metadata": {},
   "outputs": [
    {
     "data": {
      "text/plain": [
       "[{'aliases': ['latest'], 'annotations': {}, 'version': '3.38.0.3'},\n",
       " {'aliases': [], 'annotations': {}, 'version': '3.36.1.5'}]"
      ]
     },
     "execution_count": 16,
     "metadata": {},
     "output_type": "execute_result"
    }
   ],
   "source": [
    "h2o_manager.list_all_versions()"
   ]
  },
  {
   "cell_type": "markdown",
   "id": "ddeacc43",
   "metadata": {},
   "source": [
    "### Create a H2O engine\n",
    "See the H2O-3 Tutorial for what to do once you've connected to the distributed ML platform. "
   ]
  },
  {
   "cell_type": "code",
   "execution_count": 17,
   "id": "95dd59a8",
   "metadata": {},
   "outputs": [],
   "source": [
    "h2o_engine = h2o_manager.create_engine(\n",
    "    display_name=\"My test engine\",\n",
    "    engine_id=\"test-\" + str(uuid.uuid4())[:8], # random engine id\n",
    "    version=\"latest\"\n",
    ")\n",
    "\n",
    "h2o_engine.wait()"
   ]
  },
  {
   "cell_type": "code",
   "execution_count": 18,
   "id": "bcf2ef12-43b0-43b0-bb65-22de4966cf45",
   "metadata": {},
   "outputs": [
    {
     "data": {
      "text/plain": [
       "'https://enginemanager.cloud-dev.h2o.ai/workspaces/default/h2oEngines/test-7f448e05/flow/index.html'"
      ]
     },
     "execution_count": 18,
     "metadata": {},
     "output_type": "execute_result"
    }
   ],
   "source": [
    "h2o_engine.login_url"
   ]
  },
  {
   "cell_type": "code",
   "execution_count": 19,
   "id": "4eaa9752",
   "metadata": {},
   "outputs": [
    {
     "name": "stdout",
     "output_type": "stream",
     "text": [
      "Connecting to H2O server at https://enginemanager.cloud-dev.h2o.ai:443/workspaces/default/h2oEngines/test-7f448e05 ... successful.\n",
      "Warning: Your H2O cluster version is too old (5 months and 16 days)!Please download and install the latest version from http://h2o.ai/download/\n"
     ]
    },
    {
     "data": {
      "text/html": [
       "\n",
       "<style>\n",
       "\n",
       "#h2o-table-1.h2o-container {\n",
       "  overflow-x: auto;\n",
       "}\n",
       "#h2o-table-1 .h2o-table {\n",
       "  /* width: 100%; */\n",
       "  margin-top: 1em;\n",
       "  margin-bottom: 1em;\n",
       "}\n",
       "#h2o-table-1 .h2o-table caption {\n",
       "  white-space: nowrap;\n",
       "  caption-side: top;\n",
       "  text-align: left;\n",
       "  /* margin-left: 1em; */\n",
       "  margin: 0;\n",
       "  font-size: larger;\n",
       "}\n",
       "#h2o-table-1 .h2o-table thead {\n",
       "  white-space: nowrap; \n",
       "  position: sticky;\n",
       "  top: 0;\n",
       "  box-shadow: 0 -1px inset;\n",
       "}\n",
       "#h2o-table-1 .h2o-table tbody {\n",
       "  overflow: auto;\n",
       "}\n",
       "#h2o-table-1 .h2o-table th,\n",
       "#h2o-table-1 .h2o-table td {\n",
       "  text-align: right;\n",
       "  /* border: 1px solid; */\n",
       "}\n",
       "#h2o-table-1 .h2o-table tr:nth-child(even) {\n",
       "  /* background: #F5F5F5 */\n",
       "}\n",
       "\n",
       "</style>      \n",
       "<div id=\"h2o-table-1\" class=\"h2o-container\">\n",
       "  <table class=\"h2o-table\">\n",
       "    <caption></caption>\n",
       "    <thead></thead>\n",
       "    <tbody><tr><td>H2O_cluster_uptime:</td>\n",
       "<td>14 secs</td></tr>\n",
       "<tr><td>H2O_cluster_timezone:</td>\n",
       "<td>Etc/GMT</td></tr>\n",
       "<tr><td>H2O_data_parsing_timezone:</td>\n",
       "<td>UTC</td></tr>\n",
       "<tr><td>H2O_cluster_version:</td>\n",
       "<td>3.38.0.3</td></tr>\n",
       "<tr><td>H2O_cluster_version_age:</td>\n",
       "<td>5 months and 16 days !!!</td></tr>\n",
       "<tr><td>H2O_cluster_name:</td>\n",
       "<td>test-7f448e05</td></tr>\n",
       "<tr><td>H2O_cluster_total_nodes:</td>\n",
       "<td>1</td></tr>\n",
       "<tr><td>H2O_cluster_free_memory:</td>\n",
       "<td>3.469 Gb</td></tr>\n",
       "<tr><td>H2O_cluster_total_cores:</td>\n",
       "<td>1</td></tr>\n",
       "<tr><td>H2O_cluster_allowed_cores:</td>\n",
       "<td>1</td></tr>\n",
       "<tr><td>H2O_cluster_status:</td>\n",
       "<td>locked, healthy</td></tr>\n",
       "<tr><td>H2O_connection_url:</td>\n",
       "<td>https://enginemanager.cloud-dev.h2o.ai:443/workspaces/default/h2oEngines/test-7f448e05</td></tr>\n",
       "<tr><td>H2O_connection_proxy:</td>\n",
       "<td>null</td></tr>\n",
       "<tr><td>H2O_internal_security:</td>\n",
       "<td>False</td></tr>\n",
       "<tr><td>Python_version:</td>\n",
       "<td>3.10.9 final</td></tr></tbody>\n",
       "  </table>\n",
       "</div>\n"
      ],
      "text/plain": [
       "--------------------------  --------------------------------------------------------------------------------------\n",
       "H2O_cluster_uptime:         14 secs\n",
       "H2O_cluster_timezone:       Etc/GMT\n",
       "H2O_data_parsing_timezone:  UTC\n",
       "H2O_cluster_version:        3.38.0.3\n",
       "H2O_cluster_version_age:    5 months and 16 days !!!\n",
       "H2O_cluster_name:           test-7f448e05\n",
       "H2O_cluster_total_nodes:    1\n",
       "H2O_cluster_free_memory:    3.469 Gb\n",
       "H2O_cluster_total_cores:    1\n",
       "H2O_cluster_allowed_cores:  1\n",
       "H2O_cluster_status:         locked, healthy\n",
       "H2O_connection_url:         https://enginemanager.cloud-dev.h2o.ai:443/workspaces/default/h2oEngines/test-7f448e05\n",
       "H2O_connection_proxy:       null\n",
       "H2O_internal_security:      False\n",
       "Python_version:             3.10.9 final\n",
       "--------------------------  --------------------------------------------------------------------------------------"
      ]
     },
     "metadata": {},
     "output_type": "display_data"
    },
    {
     "data": {
      "text/plain": [
       "<H2OConnection to https://enginemanager.cloud-dev.h2o.ai:443/workspaces/default/h2oEngines/test-7f448e05, no session>"
      ]
     },
     "execution_count": 19,
     "metadata": {},
     "output_type": "execute_result"
    }
   ],
   "source": [
    "h2o.connect(config=h2o_engine.get_connection_config())"
   ]
  },
  {
   "cell_type": "markdown",
   "id": "315812f7",
   "metadata": {},
   "source": [
    "### List my H2O engines"
   ]
  },
  {
   "cell_type": "code",
   "execution_count": 20,
   "id": "92aa84b9",
   "metadata": {},
   "outputs": [
    {
     "name": "stdout",
     "output_type": "stream",
     "text": [
      "workspaces/default/h2oEngines/test-7f448e05 \t STATE_RUNNING \t My test engine\n"
     ]
    }
   ],
   "source": [
    "for engine in h2o_manager.list_all_engines():\n",
    "    print(engine.name, \"\\t\", engine.state.name, \"\\t\", engine.display_name)"
   ]
  },
  {
   "cell_type": "markdown",
   "id": "842d7ebb",
   "metadata": {},
   "source": [
    "### Download H2O logs"
   ]
  },
  {
   "cell_type": "code",
   "execution_count": 21,
   "id": "94abeb96",
   "metadata": {},
   "outputs": [
    {
     "data": {
      "text/plain": [
       "\"WARNING: An illegal reflective access operation has occurred\\nWARNING: Illegal reflective access by ai.h2o.xgboost4j.java.NativeLibLoader (file:/opt/h2oai/h2o-3/h2o.jar) to field java.lang.ClassLoader.usr_paths\\nWARNING: Please consider reporting this to the maintainers of ai.h2o.xgboost4j.java.NativeLibLoader\\nWARNING: Use --illegal-access=warn to enable warnings of further illegal reflective access operations\\nWARNING: All illegal access operations will be denied in a future release\\n21:43:28.735 [main] INFO  hex.tree.xgboost.util.NativeLibrary - Loaded library from lib/linux_64/libxgboost4j_gpu.so (/ephemeral/libxgboost4j_gpu6760282705797699447.so)\\n21:43:28.758 [main] INFO  water.k8s.H2OCluster - Starting Kubernetes-related REST API services\\n21:43:28.834 [main] INFO  water.k8s.H2OCluster - Kubernetes REST API services successfully started.\\n21:43:28.834 [main] INFO  water.k8s.H2OCluster - Initializing H2O Kubernetes cluster\\n21:43:28.835 [main] INFO  water.k8s.H2OCluster - 'H2O_NODE_LOOKUP\""
      ]
     },
     "execution_count": 21,
     "metadata": {},
     "output_type": "execute_result"
    }
   ],
   "source": [
    "h2o_engine.download_logs()[:1000] # show only first 1000 characters"
   ]
  },
  {
   "cell_type": "markdown",
   "id": "a32297db",
   "metadata": {},
   "source": [
    "### Stop an engine\n",
    "H2O engines cannot be resumed after they are stopped. Only turn off your cluster once you are permanately done with it."
   ]
  },
  {
   "cell_type": "code",
   "execution_count": null,
   "id": "27cd7f90",
   "metadata": {},
   "outputs": [],
   "source": [
    "h2o_engine.delete()\n",
    "h2o_engine.wait()"
   ]
  },
  {
   "cell_type": "code",
   "execution_count": null,
   "id": "07c87304",
   "metadata": {},
   "outputs": [],
   "source": [
    "for engine in h2o_manager.list_all_engines():\n",
    "    print(engine.name, \"\\t\", engine.state.name, \"\\t\", engine.display_name)"
   ]
  },
  {
   "cell_type": "code",
   "execution_count": null,
   "id": "865f0093-114b-4936-8ffe-08a033360767",
   "metadata": {},
   "outputs": [],
   "source": []
  }
 ],
 "metadata": {
  "kernelspec": {
   "display_name": "Python",
   "language": "python",
   "name": "python_kubernetes"
  },
  "language_info": {
   "codemirror_mode": {
    "name": "ipython",
    "version": 3
   },
   "file_extension": ".py",
   "mimetype": "text/x-python",
   "name": "python",
   "nbconvert_exporter": "python",
   "pygments_lexer": "ipython3",
   "version": "3.10.9"
  },
  "toc": {
   "base_numbering": 1,
   "nav_menu": {},
   "number_sections": true,
   "sideBar": true,
   "skip_h1_title": true,
   "title_cell": "Table of Contents",
   "title_sidebar": "Contents",
   "toc_cell": false,
   "toc_position": {
    "height": "calc(100% - 180px)",
    "left": "10px",
    "top": "150px",
    "width": "336px"
   },
   "toc_section_display": true,
   "toc_window_display": true
  }
 },
 "nbformat": 4,
 "nbformat_minor": 5
}

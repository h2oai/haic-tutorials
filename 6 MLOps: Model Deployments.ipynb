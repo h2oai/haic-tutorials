{
 "cells": [
  {
   "cell_type": "markdown",
   "id": "82c10703",
   "metadata": {
    "tags": []
   },
   "source": [
    "# MLOps \n",
    "\n",
    "This notebook is intended to help you get started managing your machine learning models and deployments in the H2O AI Cloud using python. \n",
    "\n",
    "**_This notebook assumes you have run 1 End to End Demo and have a project with a deployed model that exists with a specific name_**\n",
    "\n",
    "* **Product Documentation:** https://docs.h2o.ai/mlops/\n",
    "* **Python Documentation:** https://docs.h2o.ai/mlops/py-client-installing/"
   ]
  },
  {
   "cell_type": "code",
   "execution_count": 1,
   "id": "73fa543b",
   "metadata": {},
   "outputs": [],
   "source": [
    "import os\n",
    "import requests\n",
    "import json\n",
    "\n",
    "import h2o_authn\n",
    "import h2o_discovery\n",
    "import h2o_mlops\n",
    "\n",
    "import pandas as pd"
   ]
  },
  {
   "cell_type": "markdown",
   "id": "60a06aa5",
   "metadata": {},
   "source": [
    "## Connect to MLOps"
   ]
  },
  {
   "cell_type": "code",
   "execution_count": 2,
   "id": "c28dc011",
   "metadata": {},
   "outputs": [],
   "source": [
    "discovery = h2o_discovery.discover()\n",
    "\n",
    "token_provider = h2o_authn.TokenProvider(\n",
    "    refresh_token=os.getenv(\"H2O_CLOUD_CLIENT_PLATFORM_TOKEN\"),\n",
    "    issuer_url=discovery.environment.issuer_url,\n",
    "    client_id=discovery.clients[\"platform\"].oauth2_client_id,\n",
    ")"
   ]
  },
  {
   "cell_type": "code",
   "execution_count": 3,
   "id": "6f259598",
   "metadata": {},
   "outputs": [],
   "source": [
    "mlops = h2o_mlops.Client(\n",
    "    gateway_url=discovery.services['mlops-api'].uri,\n",
    "    token_provider=token_provider\n",
    ")"
   ]
  },
  {
   "cell_type": "markdown",
   "id": "22cabfd2",
   "metadata": {},
   "source": [
    "## Projects"
   ]
  },
  {
   "cell_type": "markdown",
   "id": "2b6c914f",
   "metadata": {},
   "source": [
    "### Create a project"
   ]
  },
  {
   "cell_type": "code",
   "execution_count": 4,
   "id": "59092cca",
   "metadata": {},
   "outputs": [],
   "source": [
    "project = mlops.projects.create(\n",
    "    name=\"my_test_project\",\n",
    "    description=\"Demo project for a tutorial\"\n",
    ")"
   ]
  },
  {
   "cell_type": "markdown",
   "id": "3743fec0",
   "metadata": {},
   "source": [
    "### List all projects you have access to"
   ]
  },
  {
   "cell_type": "code",
   "execution_count": 5,
   "id": "c7d58e90",
   "metadata": {},
   "outputs": [
    {
     "data": {
      "text/plain": [
       "    | name                    | uid\n",
       "----+-------------------------+--------------------------------------\n",
       "  0 | scoring-client-tests    | 0ea7b425-461d-470a-af3c-cef8be604306\n",
       "  1 | my_test_project         | 73472726-a051-4d72-a8e7-957614c18782\n",
       "  2 | Telco Churn Predictions | e559825f-b8ba-4812-8191-433df5613c67\n",
       "  3 | demo                    | f980135b-b38a-4dbd-88f0-f91bc1400eba"
      ]
     },
     "execution_count": 5,
     "metadata": {},
     "output_type": "execute_result"
    }
   ],
   "source": [
    "mlops.projects.list()"
   ]
  },
  {
   "cell_type": "markdown",
   "id": "619f0185",
   "metadata": {},
   "source": [
    "### Delete a project "
   ]
  },
  {
   "cell_type": "code",
   "execution_count": 6,
   "id": "d9d0ffe5",
   "metadata": {},
   "outputs": [],
   "source": [
    "project.delete()"
   ]
  },
  {
   "cell_type": "code",
   "execution_count": 7,
   "id": "ead8dcf5",
   "metadata": {},
   "outputs": [
    {
     "data": {
      "text/plain": [
       "    | name                    | uid\n",
       "----+-------------------------+--------------------------------------\n",
       "  0 | scoring-client-tests    | 0ea7b425-461d-470a-af3c-cef8be604306\n",
       "  1 | Telco Churn Predictions | e559825f-b8ba-4812-8191-433df5613c67\n",
       "  2 | demo                    | f980135b-b38a-4dbd-88f0-f91bc1400eba"
      ]
     },
     "execution_count": 7,
     "metadata": {},
     "output_type": "execute_result"
    }
   ],
   "source": [
    "mlops.projects.list()"
   ]
  },
  {
   "cell_type": "markdown",
   "id": "540d7fae",
   "metadata": {},
   "source": [
    "### Select a specific project to work with\n",
    "We have previously created this project using Driverless AI and added models to it in our first tutorial."
   ]
  },
  {
   "cell_type": "code",
   "execution_count": 8,
   "id": "5caf0d53",
   "metadata": {},
   "outputs": [],
   "source": [
    "project = mlops.projects.list(name=\"Telco Churn Predictions\")[0]"
   ]
  },
  {
   "cell_type": "markdown",
   "id": "60bb52a9",
   "metadata": {},
   "source": [
    "## Experiments"
   ]
  },
  {
   "cell_type": "markdown",
   "id": "b2c965dd",
   "metadata": {},
   "source": [
    "### List experiments\n",
    "Get a list of all experiments that are in our project"
   ]
  },
  {
   "cell_type": "code",
   "execution_count": 9,
   "id": "6390a95d",
   "metadata": {},
   "outputs": [
    {
     "data": {
      "text/plain": [
       "    | name             | uid\n",
       "----+------------------+--------------------------------------\n",
       "  0 | Default Baseline | ca85ba4a-a01a-11ee-95af-425f7a7f3fbf"
      ]
     },
     "execution_count": 9,
     "metadata": {},
     "output_type": "execute_result"
    }
   ],
   "source": [
    "project.experiments.list()"
   ]
  },
  {
   "cell_type": "markdown",
   "id": "1ef45763",
   "metadata": {},
   "source": [
    "### Select an experiment"
   ]
  },
  {
   "cell_type": "code",
   "execution_count": 10,
   "id": "a53ffa63",
   "metadata": {},
   "outputs": [],
   "source": [
    "experiment = project.experiments.get(uid=\"ca85ba4a-a01a-11ee-95af-425f7a7f3fbf\")"
   ]
  },
  {
   "cell_type": "markdown",
   "id": "94b56e8b-3df1-43e9-9198-5c5b3bb0b2a2",
   "metadata": {},
   "source": [
    "## Models"
   ]
  },
  {
   "cell_type": "markdown",
   "id": "91fb1ec5-4db0-4e18-94e2-36d2a61ff152",
   "metadata": {},
   "source": [
    "### List models\n",
    "\n",
    "Get a list of all models that are in our project"
   ]
  },
  {
   "cell_type": "code",
   "execution_count": 11,
   "id": "8ce278ff-01fd-4633-a76b-dbd6ae5f9e5a",
   "metadata": {},
   "outputs": [
    {
     "data": {
      "text/plain": [
       "    | name             | uid\n",
       "----+------------------+--------------------------------------\n",
       "  0 | Default Baseline | 7737d493-83cd-46b6-a7e9-3f47008d359e"
      ]
     },
     "execution_count": 11,
     "metadata": {},
     "output_type": "execute_result"
    }
   ],
   "source": [
    "project.models.list()"
   ]
  },
  {
   "cell_type": "markdown",
   "id": "2a8b34d5-a3f7-4650-a6bf-0e8279eca173",
   "metadata": {},
   "source": [
    "### Select a model"
   ]
  },
  {
   "cell_type": "code",
   "execution_count": 12,
   "id": "aaa1d841-4a9f-4b7d-a433-00c83099d98f",
   "metadata": {},
   "outputs": [],
   "source": [
    "model = project.models.get(uid=\"7737d493-83cd-46b6-a7e9-3f47008d359e\")"
   ]
  },
  {
   "cell_type": "markdown",
   "id": "063f99ec",
   "metadata": {},
   "source": [
    "## Deployments"
   ]
  },
  {
   "cell_type": "markdown",
   "id": "3a102764",
   "metadata": {},
   "source": [
    "### Deployment environment \n",
    "`DEV` and `PROD` are deployment environment tags that you can use for your model deployements. "
   ]
  },
  {
   "cell_type": "code",
   "execution_count": 13,
   "id": "4e86bed8",
   "metadata": {},
   "outputs": [],
   "source": [
    "environment = project.environments.list(name=\"DEV\")[0]"
   ]
  },
  {
   "cell_type": "markdown",
   "id": "aff3fd5c-f500-4d00-a6b4-cd12de49466b",
   "metadata": {},
   "source": [
    "### Deployment runtime\n",
    "\n",
    "The scoring runtime is used to load and score a scoring artifact from a model."
   ]
  },
  {
   "cell_type": "code",
   "execution_count": 14,
   "id": "b0c8db24-752d-461c-9608-da47c88badf9",
   "metadata": {},
   "outputs": [],
   "source": [
    "runtime = mlops.runtimes.scoring.list(\n",
    "    artifact_type=model.get_experiment().artifact_types[0],\n",
    "    uid=\"dai_mojo_runtime\"\n",
    ")[0]"
   ]
  },
  {
   "cell_type": "markdown",
   "id": "9bfaef24-005a-484b-b226-f28424b0002b",
   "metadata": {},
   "source": [
    "## Deployment creation"
   ]
  },
  {
   "cell_type": "code",
   "execution_count": 15,
   "id": "74b11eb1-24b0-44dd-9d6f-585895881ecf",
   "metadata": {},
   "outputs": [],
   "source": [
    "deployment = environment.deployments.create_single(\n",
    "    name=model.name,\n",
    "    model=model,\n",
    "    scoring_runtime=runtime\n",
    ")"
   ]
  },
  {
   "cell_type": "markdown",
   "id": "4468786c",
   "metadata": {},
   "source": [
    "### Deployment health\n",
    "Wait until our deployment has gone from launching to healthy"
   ]
  },
  {
   "cell_type": "code",
   "execution_count": 16,
   "id": "05f0f457",
   "metadata": {},
   "outputs": [],
   "source": [
    "import time\n",
    "\n",
    "\n",
    "while not deployment.is_healthy():\n",
    "    deployment.raise_for_failure()\n",
    "    time.sleep(5)"
   ]
  },
  {
   "cell_type": "code",
   "execution_count": 17,
   "id": "fa2eeda1",
   "metadata": {},
   "outputs": [
    {
     "name": "stdout",
     "output_type": "stream",
     "text": [
      "HEALTHY\n",
      "https://model.internal.dedicated.h2o.ai/83250a77-68fd-48bd-8a83-99561fcdc2b8/model/score\n",
      "{'fields': ['State', 'Account Length', 'Area Code', \"Int'l Plan\", 'VMail Plan', 'VMail Message', 'Day Mins', 'Day Calls', 'Day Charge', 'Eve Mins', 'Eve Calls', 'Eve Charge', 'Night Mins', 'Night Calls', 'Night Charge', 'Intl Mins', 'Intl Calls', 'Intl Charge', 'CustServ Calls'], 'rows': [['text', '0', '0', 'text', 'text', '0', '0', '0', '0', '0', '0', '0', '0', '0', '0', '0', '0', '0', '0']]}\n"
     ]
    }
   ],
   "source": [
    "print(deployment.status())\n",
    "print(deployment.url_for_scoring)\n",
    "print(deployment.get_sample_request())"
   ]
  },
  {
   "cell_type": "markdown",
   "id": "aaac4171",
   "metadata": {},
   "source": [
    "## Make predictions\n",
    "Using the `requests` library, we make predictions on new data"
   ]
  },
  {
   "cell_type": "code",
   "execution_count": 18,
   "id": "27d39f60",
   "metadata": {},
   "outputs": [],
   "source": [
    "predictions = requests.post(\n",
    "    url=deployment.url_for_scoring,\n",
    "    json=deployment.get_sample_request()\n",
    ")"
   ]
  },
  {
   "cell_type": "code",
   "execution_count": 19,
   "id": "98e90a8d",
   "metadata": {},
   "outputs": [
    {
     "data": {
      "text/plain": [
       "{'fields': ['Churn?.False.', 'Churn?.True.'],\n",
       " 'id': 'ca85ba4a-a01a-11ee-95af-425f7a7f3fbf',\n",
       " 'score': [['0.1944492202717737', '0.8055507797282263']]}"
      ]
     },
     "execution_count": 19,
     "metadata": {},
     "output_type": "execute_result"
    }
   ],
   "source": [
    "predictions.json()"
   ]
  },
  {
   "cell_type": "code",
   "execution_count": 20,
   "id": "5f3b2579",
   "metadata": {},
   "outputs": [
    {
     "data": {
      "text/html": [
       "<div>\n",
       "<style scoped>\n",
       "    .dataframe tbody tr th:only-of-type {\n",
       "        vertical-align: middle;\n",
       "    }\n",
       "\n",
       "    .dataframe tbody tr th {\n",
       "        vertical-align: top;\n",
       "    }\n",
       "\n",
       "    .dataframe thead th {\n",
       "        text-align: right;\n",
       "    }\n",
       "</style>\n",
       "<table border=\"1\" class=\"dataframe\">\n",
       "  <thead>\n",
       "    <tr style=\"text-align: right;\">\n",
       "      <th></th>\n",
       "      <th>Churn?.False.</th>\n",
       "      <th>Churn?.True.</th>\n",
       "    </tr>\n",
       "  </thead>\n",
       "  <tbody>\n",
       "    <tr>\n",
       "      <th>0</th>\n",
       "      <td>0.1944492202717737</td>\n",
       "      <td>0.8055507797282263</td>\n",
       "    </tr>\n",
       "  </tbody>\n",
       "</table>\n",
       "</div>"
      ],
      "text/plain": [
       "        Churn?.False.        Churn?.True.\n",
       "0  0.1944492202717737  0.8055507797282263"
      ]
     },
     "execution_count": 20,
     "metadata": {},
     "output_type": "execute_result"
    }
   ],
   "source": [
    "pd.DataFrame(predictions.json()[\"score\"], columns=predictions.json()[\"fields\"])"
   ]
  },
  {
   "cell_type": "markdown",
   "id": "b214bddc",
   "metadata": {},
   "source": [
    "## Delete a deployment"
   ]
  },
  {
   "cell_type": "code",
   "execution_count": 21,
   "id": "c4e60d55",
   "metadata": {},
   "outputs": [],
   "source": [
    "deployment.delete()"
   ]
  }
 ],
 "metadata": {
  "kernelspec": {
   "display_name": "Python",
   "language": "python",
   "name": "python_kubernetes"
  },
  "language_info": {
   "codemirror_mode": {
    "name": "ipython",
    "version": 3
   },
   "file_extension": ".py",
   "mimetype": "text/x-python",
   "name": "python",
   "nbconvert_exporter": "python",
   "pygments_lexer": "ipython3",
   "version": "3.10.9"
  },
  "toc": {
   "base_numbering": 1,
   "nav_menu": {},
   "number_sections": true,
   "sideBar": true,
   "skip_h1_title": true,
   "title_cell": "Table of Contents",
   "title_sidebar": "Contents",
   "toc_cell": false,
   "toc_position": {},
   "toc_section_display": true,
   "toc_window_display": true
  }
 },
 "nbformat": 4,
 "nbformat_minor": 5
}

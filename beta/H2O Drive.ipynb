{
 "cells": [
  {
   "cell_type": "markdown",
   "id": "c5c91d56-70d5-4810-9e91-44543eb18f0c",
   "metadata": {},
   "source": [
    "# H2O Drive\n",
    "This tutorial walks through how to import data that a user has uploaded into the H2O Drive app to use in your own apps or notebooks. It also shows how to save data so that you can access it in new versions of the app or notebook. \n",
    "\n",
    "**Requirement:** This code will only run from inside of an H2O AI Cloud system - it will fail for local development. "
   ]
  },
  {
   "cell_type": "code",
   "execution_count": 1,
   "id": "8e67192b-f927-4263-90a7-eab530cc57bb",
   "metadata": {},
   "outputs": [],
   "source": [
    "CLIENT_ID = \"q8s-internal-platform\"\n",
    "TOKEN_ENDPOINT = \"https://auth.demo.h2o.ai/auth/realms/q8s-internal/protocol/openid-connect/token\"\n",
    "REFRESH_TOKEN = \"https://cloud-internal.h2o.ai/auth/get-platform-token\"\n",
    "\n",
    "DRIVE_URL = \"http://drive-internal-drive-service.drive-internal:8081\""
   ]
  },
  {
   "cell_type": "code",
   "execution_count": 2,
   "id": "d9eef36b-d52b-4e57-8a21-b0dbf5d13d24",
   "metadata": {},
   "outputs": [],
   "source": [
    "# !pip install https://s3.amazonaws.com/artifacts.h2o.ai/releases/ai/h2o/drive/v0.5.1/python/h2o-drive-0.5.1.tar.gz\n",
    "# !pip install h2o_authn"
   ]
  },
  {
   "cell_type": "code",
   "execution_count": 3,
   "id": "55e569bc-dcea-41d1-b867-4efadd887201",
   "metadata": {},
   "outputs": [],
   "source": [
    "from getpass import getpass\n",
    "\n",
    "import h2o_drive\n",
    "import h2o_authn\n",
    "\n",
    "import pandas as pd"
   ]
  },
  {
   "cell_type": "markdown",
   "id": "365cdbb6-9e4a-42a7-83c9-7cc0f553e7ca",
   "metadata": {},
   "source": [
    "## Securely connect to the platform\n",
    "We first connect to the H2O AI Cloud using our personal access token to create a token provider object. We can then use this object to log into Drive and other APIs."
   ]
  },
  {
   "cell_type": "code",
   "execution_count": 4,
   "id": "4af8fb20-9fb2-4804-8c6f-8ee09ac558e8",
   "metadata": {},
   "outputs": [
    {
     "name": "stdout",
     "output_type": "stream",
     "text": [
      "Visit https://cloud-internal.h2o.ai/auth/get-platform-token to get your personal access token\n"
     ]
    },
    {
     "name": "stdin",
     "output_type": "stream",
     "text": [
      "Enter your access token:  ···········································································································································································································································································································································································································································································································································································································································································································································································································\n"
     ]
    }
   ],
   "source": [
    "print(f\"Visit {REFRESH_TOKEN} to get your personal access token\")\n",
    "tp = h2o_authn.TokenProvider(\n",
    "    refresh_token=getpass(\"Enter your access token: \"),\n",
    "    client_id=CLIENT_ID,\n",
    "    token_endpoint_url=TOKEN_ENDPOINT\n",
    ")"
   ]
  },
  {
   "cell_type": "markdown",
   "id": "1c766db6-a6bc-4da7-ba2c-2ad2f3dc13e0",
   "metadata": {},
   "source": [
    "## Access all Drive data for this user\n",
    "For whichever user is logged in, presumably \"you\" in a Notebook but your app-users in a Wave App, list everything in the bucket that they own."
   ]
  },
  {
   "cell_type": "code",
   "execution_count": 5,
   "id": "7c4599ad-2a5e-42e0-860b-83a1e5e7a9fb",
   "metadata": {},
   "outputs": [],
   "source": [
    "user_bucket = await h2o_drive.MyBucket(token=tp.as_async(), endpoint_url=DRIVE_URL)"
   ]
  },
  {
   "cell_type": "code",
   "execution_count": 6,
   "id": "159bd96f-58ee-400a-b108-562e63133cca",
   "metadata": {},
   "outputs": [],
   "source": [
    "user_files = await user_bucket.list_objects()"
   ]
  },
  {
   "cell_type": "code",
   "execution_count": 7,
   "id": "4a22b73a-c320-4046-9f98-b9f0ddeefb4b",
   "metadata": {},
   "outputs": [
    {
     "name": "stdout",
     "output_type": "stream",
     "text": [
      "ai.h2o.drive/workspace/connector_credentials.json\n",
      "apps/jupter-poc/workspace/h2o_drive-2022-03-30.ipynb\n",
      "home/churnTest.csv\n",
      "home/demo_datasets/Amazon_Reviews/amazon_reviews.csv\n",
      "home/demo_datasets/Employee_Attrition/employee_attrition.csv\n",
      "home/demo_datasets/Home_Prices/house_prices.csv\n",
      "home/demo_datasets/S_P_Forecasting/sandp_test.csv\n",
      "home/demo_datasets/S_P_Forecasting/sandp_train.csv\n",
      "home/demo_datasets/Telco_Churn/telco_customer_churn.csv\n",
      "home/demo_datasets/Walmart_Forecasting/walmart_test.csv\n",
      "home/demo_datasets/Walmart_Forecasting/walmart_train.csv\n",
      "jupter-poc/workspace/my_chanages_churnTest.csv\n"
     ]
    }
   ],
   "source": [
    "for f in user_files:\n",
    "    print(f.key)"
   ]
  },
  {
   "cell_type": "markdown",
   "id": "a184494e-9ca8-46fe-b2af-292b45adce07",
   "metadata": {},
   "source": [
    "## User's uploaded data\n",
    "All files uploaded by the user in the H2O Drive App. We filter by looking data in the `Home` workspace of this user. \n",
    "\n",
    "This is what you might show on an `Import Data` drop downlist in a wave app: \n",
    "```python\n",
    "file_choices = [ui.choice(name=f.key, label=f.key) for f in user_drive_app_files]\n",
    "```\n"
   ]
  },
  {
   "cell_type": "code",
   "execution_count": 8,
   "id": "14e49c80-990c-48d5-bc4a-97915b0dcd5d",
   "metadata": {},
   "outputs": [
    {
     "name": "stdout",
     "output_type": "stream",
     "text": [
      "churnTest.csv\n",
      "demo_datasets/Amazon_Reviews/amazon_reviews.csv\n",
      "demo_datasets/Employee_Attrition/employee_attrition.csv\n",
      "demo_datasets/Home_Prices/house_prices.csv\n",
      "demo_datasets/S_P_Forecasting/sandp_test.csv\n",
      "demo_datasets/S_P_Forecasting/sandp_train.csv\n",
      "demo_datasets/Telco_Churn/telco_customer_churn.csv\n",
      "demo_datasets/Walmart_Forecasting/walmart_test.csv\n",
      "demo_datasets/Walmart_Forecasting/walmart_train.csv\n"
     ]
    }
   ],
   "source": [
    "user_drive_app_files = await user_bucket.workspace(h2o_drive.Workspace.HOME).list_objects()\n",
    "\n",
    "for f in user_drive_app_files:\n",
    "    print(f.key)"
   ]
  },
  {
   "cell_type": "markdown",
   "id": "955ec5af-51ef-444f-a68f-e857f68264b3",
   "metadata": {},
   "source": [
    "### Download a dataset"
   ]
  },
  {
   "cell_type": "code",
   "execution_count": 9,
   "id": "34cb3f99-8dde-49f1-8641-362db3e0fb0a",
   "metadata": {},
   "outputs": [
    {
     "data": {
      "text/html": [
       "<div>\n",
       "<style scoped>\n",
       "    .dataframe tbody tr th:only-of-type {\n",
       "        vertical-align: middle;\n",
       "    }\n",
       "\n",
       "    .dataframe tbody tr th {\n",
       "        vertical-align: top;\n",
       "    }\n",
       "\n",
       "    .dataframe thead th {\n",
       "        text-align: right;\n",
       "    }\n",
       "</style>\n",
       "<table border=\"1\" class=\"dataframe\">\n",
       "  <thead>\n",
       "    <tr style=\"text-align: right;\">\n",
       "      <th></th>\n",
       "      <th>State</th>\n",
       "      <th>Account_Length</th>\n",
       "      <th>Area_Code</th>\n",
       "      <th>Phone_No</th>\n",
       "      <th>International_Plan</th>\n",
       "      <th>Voice_Mail_Plan</th>\n",
       "      <th>No_Vmail_Messages</th>\n",
       "      <th>Total_Day_minutes</th>\n",
       "      <th>Total_Day_Calls</th>\n",
       "      <th>Total_Day_charge</th>\n",
       "      <th>Total_Eve_Minutes</th>\n",
       "      <th>Total_Eve_Calls</th>\n",
       "      <th>Total_Eve_Charge</th>\n",
       "      <th>Total_Night_Minutes</th>\n",
       "      <th>Total_Night_Calls</th>\n",
       "      <th>Total_Night_Charge</th>\n",
       "      <th>Total_Intl_Minutes</th>\n",
       "      <th>Total_Intl_Calls</th>\n",
       "      <th>Total_Intl_Charge</th>\n",
       "      <th>No_CS_Calls</th>\n",
       "    </tr>\n",
       "  </thead>\n",
       "  <tbody>\n",
       "    <tr>\n",
       "      <th>0</th>\n",
       "      <td>HI</td>\n",
       "      <td>101.0</td>\n",
       "      <td>510.0</td>\n",
       "      <td>3548815</td>\n",
       "      <td>no</td>\n",
       "      <td>no</td>\n",
       "      <td>0</td>\n",
       "      <td>70.9</td>\n",
       "      <td>123.0</td>\n",
       "      <td>12.05</td>\n",
       "      <td>211.9</td>\n",
       "      <td>73.0</td>\n",
       "      <td>18.01</td>\n",
       "      <td>236.0</td>\n",
       "      <td>73.0</td>\n",
       "      <td>10.62</td>\n",
       "      <td>10.6</td>\n",
       "      <td>3.0</td>\n",
       "      <td>2.86</td>\n",
       "      <td>3</td>\n",
       "    </tr>\n",
       "    <tr>\n",
       "      <th>1</th>\n",
       "      <td>MT</td>\n",
       "      <td>137.0</td>\n",
       "      <td>510.0</td>\n",
       "      <td>3817211</td>\n",
       "      <td>no</td>\n",
       "      <td>no</td>\n",
       "      <td>0</td>\n",
       "      <td>223.6</td>\n",
       "      <td>86.0</td>\n",
       "      <td>38.01</td>\n",
       "      <td>244.8</td>\n",
       "      <td>139.0</td>\n",
       "      <td>20.81</td>\n",
       "      <td>94.2</td>\n",
       "      <td>81.0</td>\n",
       "      <td>4.24</td>\n",
       "      <td>9.5</td>\n",
       "      <td>7.0</td>\n",
       "      <td>2.57</td>\n",
       "      <td>0</td>\n",
       "    </tr>\n",
       "    <tr>\n",
       "      <th>2</th>\n",
       "      <td>OH</td>\n",
       "      <td>103.0</td>\n",
       "      <td>408.0</td>\n",
       "      <td>4119481</td>\n",
       "      <td>no</td>\n",
       "      <td>yes</td>\n",
       "      <td>29</td>\n",
       "      <td>294.7</td>\n",
       "      <td>95.0</td>\n",
       "      <td>50.10</td>\n",
       "      <td>237.3</td>\n",
       "      <td>105.0</td>\n",
       "      <td>20.17</td>\n",
       "      <td>300.3</td>\n",
       "      <td>127.0</td>\n",
       "      <td>13.51</td>\n",
       "      <td>13.7</td>\n",
       "      <td>6.0</td>\n",
       "      <td>3.70</td>\n",
       "      <td>1</td>\n",
       "    </tr>\n",
       "    <tr>\n",
       "      <th>3</th>\n",
       "      <td>NM</td>\n",
       "      <td>99.0</td>\n",
       "      <td>415.0</td>\n",
       "      <td>4189100</td>\n",
       "      <td>no</td>\n",
       "      <td>no</td>\n",
       "      <td>0</td>\n",
       "      <td>216.8</td>\n",
       "      <td>123.0</td>\n",
       "      <td>36.86</td>\n",
       "      <td>126.4</td>\n",
       "      <td>88.0</td>\n",
       "      <td>10.74</td>\n",
       "      <td>220.6</td>\n",
       "      <td>82.0</td>\n",
       "      <td>9.93</td>\n",
       "      <td>15.7</td>\n",
       "      <td>2.0</td>\n",
       "      <td>4.24</td>\n",
       "      <td>1</td>\n",
       "    </tr>\n",
       "    <tr>\n",
       "      <th>4</th>\n",
       "      <td>SC</td>\n",
       "      <td>108.0</td>\n",
       "      <td>415.0</td>\n",
       "      <td>4133643</td>\n",
       "      <td>no</td>\n",
       "      <td>no</td>\n",
       "      <td>0</td>\n",
       "      <td>197.4</td>\n",
       "      <td>78.0</td>\n",
       "      <td>33.56</td>\n",
       "      <td>124.0</td>\n",
       "      <td>101.0</td>\n",
       "      <td>10.54</td>\n",
       "      <td>204.5</td>\n",
       "      <td>107.0</td>\n",
       "      <td>9.20</td>\n",
       "      <td>7.7</td>\n",
       "      <td>4.0</td>\n",
       "      <td>2.08</td>\n",
       "      <td>2</td>\n",
       "    </tr>\n",
       "  </tbody>\n",
       "</table>\n",
       "</div>"
      ],
      "text/plain": [
       "  State  Account_Length  Area_Code  Phone_No International_Plan  \\\n",
       "0    HI           101.0      510.0   3548815                 no   \n",
       "1    MT           137.0      510.0   3817211                 no   \n",
       "2    OH           103.0      408.0   4119481                 no   \n",
       "3    NM            99.0      415.0   4189100                 no   \n",
       "4    SC           108.0      415.0   4133643                 no   \n",
       "\n",
       "  Voice_Mail_Plan  No_Vmail_Messages  Total_Day_minutes  Total_Day_Calls  \\\n",
       "0              no                  0               70.9            123.0   \n",
       "1              no                  0              223.6             86.0   \n",
       "2             yes                 29              294.7             95.0   \n",
       "3              no                  0              216.8            123.0   \n",
       "4              no                  0              197.4             78.0   \n",
       "\n",
       "   Total_Day_charge  Total_Eve_Minutes  Total_Eve_Calls  Total_Eve_Charge  \\\n",
       "0             12.05              211.9             73.0             18.01   \n",
       "1             38.01              244.8            139.0             20.81   \n",
       "2             50.10              237.3            105.0             20.17   \n",
       "3             36.86              126.4             88.0             10.74   \n",
       "4             33.56              124.0            101.0             10.54   \n",
       "\n",
       "   Total_Night_Minutes  Total_Night_Calls  Total_Night_Charge  \\\n",
       "0                236.0               73.0               10.62   \n",
       "1                 94.2               81.0                4.24   \n",
       "2                300.3              127.0               13.51   \n",
       "3                220.6               82.0                9.93   \n",
       "4                204.5              107.0                9.20   \n",
       "\n",
       "   Total_Intl_Minutes  Total_Intl_Calls  Total_Intl_Charge  No_CS_Calls  \n",
       "0                10.6               3.0               2.86            3  \n",
       "1                 9.5               7.0               2.57            0  \n",
       "2                13.7               6.0               3.70            1  \n",
       "3                15.7               2.0               4.24            1  \n",
       "4                 7.7               4.0               2.08            2  "
      ]
     },
     "execution_count": 9,
     "metadata": {},
     "output_type": "execute_result"
    }
   ],
   "source": [
    "file_name = user_drive_app_files[0].key.replace(\"home/\", \"\")\n",
    "await user_bucket.workspace(h2o_drive.Workspace.HOME).download_file(\n",
    "    object_name=user_drive_app_files[0].key, \n",
    "    file_name=file_name\n",
    ")\n",
    "\n",
    "df = pd.read_csv(file_name)\n",
    "df.head()"
   ]
  },
  {
   "cell_type": "markdown",
   "id": "583bb2f2-b370-4206-a390-373c8ad33115",
   "metadata": {},
   "source": [
    "## Data for this app\n",
    "* **App Data**: Data you may want to have access to any time this user uses any version of this application\n",
    "* **Version Data:** Data users want to access for any instance of this version of this app, will not be in other versions\n",
    "* **Instance Data:** Data for this user to access in this specific instance of the app, for restarts"
   ]
  },
  {
   "cell_type": "code",
   "execution_count": 10,
   "id": "733a63de-7ffc-42c4-a00f-0cdd06f081a5",
   "metadata": {},
   "outputs": [
    {
     "name": "stdout",
     "output_type": "stream",
     "text": [
      "Files for this App\n",
      "\t my_chanages_churnTest.csv\n",
      "Files for this Version\n",
      "Files for this Instance\n"
     ]
    }
   ],
   "source": [
    "app_workspace = await user_bucket.workspace(h2o_drive.Workspace.APP).list_objects()\n",
    "version_workspace = await user_bucket.workspace(h2o_drive.Workspace.APP_VERSION).list_objects()\n",
    "instance_workspace = await user_bucket.workspace(h2o_drive.Workspace.APP_INSTANCE).list_objects()\n",
    "\n",
    "print(\"Files for this App\")\n",
    "for f in app_workspace:\n",
    "    print(\"\\t\", f.key)\n",
    "    \n",
    "print(\"Files for this Version\")\n",
    "for f in version_workspace:\n",
    "    print(\"\\t\", f.key)\n",
    "    \n",
    "print(\"Files for this Instance\")\n",
    "for f in instance_workspace:\n",
    "    print(\"\\t\", f.key)"
   ]
  },
  {
   "cell_type": "markdown",
   "id": "03166224-2d76-49df-898f-b8b9868f972f",
   "metadata": {},
   "source": [
    "### Save a file \n",
    "Let's say the user edits our data some how and wants to save it for later. We _might_ save the data back to their Home directory if we are building a \"edit data\" app. But in this case let's say that they would want to use the edited data in future vesions of this specific app. "
   ]
  },
  {
   "cell_type": "code",
   "execution_count": 9,
   "id": "8f75fec8-87bf-4751-be24-5a483b667dcd",
   "metadata": {},
   "outputs": [],
   "source": [
    "df = pd.read_csv(\"churnTest.csv\")\n",
    "top_customers = df.head()\n",
    "\n",
    "new_file_name = \"my_changes_churnTest.csv\"\n",
    "top_customers.to_csv(new_file_name)"
   ]
  },
  {
   "cell_type": "code",
   "execution_count": 11,
   "id": "9672a015-9305-42d5-aef7-42dcecefa250",
   "metadata": {},
   "outputs": [],
   "source": [
    "await user_bucket.workspace(h2o_drive.Workspace.APP).upload_file(\n",
    "    file_name=new_file_name, \n",
    "    object_name=new_file_name\n",
    ")"
   ]
  }
 ],
 "metadata": {
  "kernelspec": {
   "display_name": "Python 3 (ipykernel)",
   "language": "python",
   "name": "python3"
  },
  "language_info": {
   "codemirror_mode": {
    "name": "ipython",
    "version": 3
   },
   "file_extension": ".py",
   "mimetype": "text/x-python",
   "name": "python",
   "nbconvert_exporter": "python",
   "pygments_lexer": "ipython3",
   "version": "3.9.7"
  }
 },
 "nbformat": 4,
 "nbformat_minor": 5
}

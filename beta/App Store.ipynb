{
 "cells": [
  {
   "cell_type": "markdown",
   "metadata": {},
   "source": [
    "# App Store\n",
    "\n",
    "This notebook is intended to help you get started with managing apps and app instances in the H2O AI Cloud.\n",
    "\n",
    "* **Product Documention:** https://h2oai.github.io/h2o-ai-cloud/ \n",
    "\n",
    "**WARNING:** Please note that this API is considered alpha and can be expected to have breaking changes. "
   ]
  },
  {
   "cell_type": "markdown",
   "metadata": {},
   "source": [
    "## Prerequistites\n",
    "\n",
    "This tutorial replies on the alpha App Store API which can be installed into a python environment by:\n",
    "`pip install https://h2o-public-test-data.s3.amazonaws.com/e2e-testing/appstore-0.8.0-py3-none-any.whl`\n",
    "\n",
    "\n",
    "We also set the following variables to connect to a specific H2O AI Cloud environment. They can be found by logging into the platform, clicking on your name, and choosing the CLI & API Access page. Then, copy values from the Configuring the H2O CLI section."
   ]
  },
  {
   "cell_type": "code",
   "execution_count": 12,
   "metadata": {},
   "outputs": [],
   "source": [
    "OIDC_ADDRESS = 'https://auth.demo.h2o.ai/auth/realms/q8s-internal'\n",
    "CLIENT_ID = 'q8s-internal-platform'\n",
    "REFRESH_TOKEN = 'https://cloud-internal.h2o.ai/auth/get-platform-token'\n",
    "ENDPOINT = 'https://cloud-internal.h2o.ai'"
   ]
  },
  {
   "cell_type": "code",
   "execution_count": 13,
   "metadata": {},
   "outputs": [],
   "source": [
    "from getpass import getpass\n",
    "from datetime import datetime\n",
    "\n",
    "import appstore\n",
    "\n",
    "import pandas as pd"
   ]
  },
  {
   "cell_type": "markdown",
   "metadata": {},
   "source": [
    "## Securely Connect\n",
    "\n",
    "We connect to the App Store, and then create a service object for interacting with App and Tag objects."
   ]
  },
  {
   "cell_type": "code",
   "execution_count": 20,
   "metadata": {},
   "outputs": [
    {
     "name": "stdout",
     "output_type": "stream",
     "text": [
      "Visit https://cloud-internal.h2o.ai/auth/get-platform-token to get your personal access token\n",
      "Enter your access token: ········\n"
     ]
    }
   ],
   "source": [
    "print(f\"Visit {REFRESH_TOKEN} to get your personal access token\")\n",
    "cp = appstore.TokenContextProvider(\n",
    "    oidc_address=OIDC_ADDRESS,\n",
    "    client_id=CLIENT_ID,\n",
    "    token=getpass(\"Enter your access token: \")\n",
    ")"
   ]
  },
  {
   "cell_type": "code",
   "execution_count": 21,
   "metadata": {},
   "outputs": [],
   "source": [
    "app_service = appstore.AppServiceClient(ENDPOINT)\n",
    "tag_service = appstore.TagServiceClient(ENDPOINT)"
   ]
  },
  {
   "cell_type": "markdown",
   "metadata": {},
   "source": [
    "\n",
    "## Listing Apps"
   ]
  },
  {
   "cell_type": "markdown",
   "metadata": {},
   "source": [
    "### All Apps\n",
    "\n",
    "The clinent returnes a protobuf object, we then iterate through this to make it user-friendly."
   ]
  },
  {
   "cell_type": "code",
   "execution_count": 31,
   "metadata": {},
   "outputs": [],
   "source": [
    "apps_protobuf = app_service.ListApps(\n",
    "    ctx = cp.ctx(),\n",
    "    request = appstore.ListAppsRequest(\n",
    "        offset = 0,\n",
    "        limit = 1000,\n",
    "        all_users = True\n",
    "    ),\n",
    ").apps"
   ]
  },
  {
   "cell_type": "code",
   "execution_count": 33,
   "metadata": {},
   "outputs": [
    {
     "data": {
      "text/html": [
       "<div>\n",
       "<style scoped>\n",
       "    .dataframe tbody tr th:only-of-type {\n",
       "        vertical-align: middle;\n",
       "    }\n",
       "\n",
       "    .dataframe tbody tr th {\n",
       "        vertical-align: top;\n",
       "    }\n",
       "\n",
       "    .dataframe thead th {\n",
       "        text-align: right;\n",
       "    }\n",
       "</style>\n",
       "<table border=\"1\" class=\"dataframe\">\n",
       "  <thead>\n",
       "    <tr style=\"text-align: right;\">\n",
       "      <th></th>\n",
       "      <th>App Title</th>\n",
       "      <th>App Version</th>\n",
       "      <th>App ID</th>\n",
       "      <th>Owner</th>\n",
       "    </tr>\n",
       "  </thead>\n",
       "  <tbody>\n",
       "    <tr>\n",
       "      <th>0</th>\n",
       "      <td>AI Photo Restoration</td>\n",
       "      <td>1.0.0</td>\n",
       "      <td>edf72ad9-1976-4b7c-91f9-fd7a16408102</td>\n",
       "      <td>marcos.conde@h2o.ai</td>\n",
       "    </tr>\n",
       "    <tr>\n",
       "      <th>1</th>\n",
       "      <td>AI Unit Consumption</td>\n",
       "      <td>0.0.4</td>\n",
       "      <td>5017d664-43d4-4c3c-93b4-2de221db9115</td>\n",
       "      <td>tomasz.cichoszewski@h2o.ai</td>\n",
       "    </tr>\n",
       "    <tr>\n",
       "      <th>2</th>\n",
       "      <td>AI Unit Consumption</td>\n",
       "      <td>0.0.5</td>\n",
       "      <td>c93b1ff8-4a48-4850-a167-ac83b47cec02</td>\n",
       "      <td>tomasz.cichoszewski@h2o.ai</td>\n",
       "    </tr>\n",
       "    <tr>\n",
       "      <th>3</th>\n",
       "      <td>AI Unit Consumption</td>\n",
       "      <td>0.0.6</td>\n",
       "      <td>48d39a39-2b84-4477-b0d9-b6395a773b36</td>\n",
       "      <td>ashritha.eswaran@h2o.ai</td>\n",
       "    </tr>\n",
       "    <tr>\n",
       "      <th>4</th>\n",
       "      <td>Admin Analytics</td>\n",
       "      <td>1.0.0</td>\n",
       "      <td>2c13634a-4157-4097-a20d-36ac50ac9d79</td>\n",
       "      <td>michal.wysokinski@h2o.ai</td>\n",
       "    </tr>\n",
       "    <tr>\n",
       "      <th>...</th>\n",
       "      <td>...</td>\n",
       "      <td>...</td>\n",
       "      <td>...</td>\n",
       "      <td>...</td>\n",
       "    </tr>\n",
       "    <tr>\n",
       "      <th>218</th>\n",
       "      <td>User Usage Reporting</td>\n",
       "      <td>0.1.24</td>\n",
       "      <td>02efe015-ead3-44f0-89c9-bb1a39c67659</td>\n",
       "      <td>ashritha.eswaran@h2o.ai</td>\n",
       "    </tr>\n",
       "    <tr>\n",
       "      <th>219</th>\n",
       "      <td>Using H2O Drive</td>\n",
       "      <td>0.0.1-20220114135619</td>\n",
       "      <td>0c2a16e5-4976-4ce6-b8e5-252ad741aab8</td>\n",
       "      <td>michelle.tanco@h2o.ai</td>\n",
       "    </tr>\n",
       "    <tr>\n",
       "      <th>220</th>\n",
       "      <td>Vaccine NLP</td>\n",
       "      <td>0.1.6</td>\n",
       "      <td>86f78c48-dec9-42e2-b615-a9978ba62027</td>\n",
       "      <td>trushant.kalyanpur@h2o.ai</td>\n",
       "    </tr>\n",
       "    <tr>\n",
       "      <th>221</th>\n",
       "      <td>Wave App Tester</td>\n",
       "      <td>0.1.6</td>\n",
       "      <td>e3c97c97-5888-48d2-a3af-83f4784a8cd0</td>\n",
       "      <td>karthik.guruswamy@h2o.ai</td>\n",
       "    </tr>\n",
       "    <tr>\n",
       "      <th>222</th>\n",
       "      <td>Wave App Tester</td>\n",
       "      <td>0.2.1</td>\n",
       "      <td>22053b5c-28b1-429d-8861-63b5ae551318</td>\n",
       "      <td>karthik.guruswamy@h2o.ai</td>\n",
       "    </tr>\n",
       "  </tbody>\n",
       "</table>\n",
       "<p>223 rows × 4 columns</p>\n",
       "</div>"
      ],
      "text/plain": [
       "                App Title           App Version  \\\n",
       "0    AI Photo Restoration                 1.0.0   \n",
       "1     AI Unit Consumption                 0.0.4   \n",
       "2     AI Unit Consumption                 0.0.5   \n",
       "3     AI Unit Consumption                 0.0.6   \n",
       "4         Admin Analytics                 1.0.0   \n",
       "..                    ...                   ...   \n",
       "218  User Usage Reporting                0.1.24   \n",
       "219       Using H2O Drive  0.0.1-20220114135619   \n",
       "220           Vaccine NLP                 0.1.6   \n",
       "221       Wave App Tester                 0.1.6   \n",
       "222       Wave App Tester                 0.2.1   \n",
       "\n",
       "                                   App ID                       Owner  \n",
       "0    edf72ad9-1976-4b7c-91f9-fd7a16408102         marcos.conde@h2o.ai  \n",
       "1    5017d664-43d4-4c3c-93b4-2de221db9115  tomasz.cichoszewski@h2o.ai  \n",
       "2    c93b1ff8-4a48-4850-a167-ac83b47cec02  tomasz.cichoszewski@h2o.ai  \n",
       "3    48d39a39-2b84-4477-b0d9-b6395a773b36     ashritha.eswaran@h2o.ai  \n",
       "4    2c13634a-4157-4097-a20d-36ac50ac9d79    michal.wysokinski@h2o.ai  \n",
       "..                                    ...                         ...  \n",
       "218  02efe015-ead3-44f0-89c9-bb1a39c67659     ashritha.eswaran@h2o.ai  \n",
       "219  0c2a16e5-4976-4ce6-b8e5-252ad741aab8       michelle.tanco@h2o.ai  \n",
       "220  86f78c48-dec9-42e2-b615-a9978ba62027   trushant.kalyanpur@h2o.ai  \n",
       "221  e3c97c97-5888-48d2-a3af-83f4784a8cd0    karthik.guruswamy@h2o.ai  \n",
       "222  22053b5c-28b1-429d-8861-63b5ae551318    karthik.guruswamy@h2o.ai  \n",
       "\n",
       "[223 rows x 4 columns]"
      ]
     },
     "execution_count": 33,
     "metadata": {},
     "output_type": "execute_result"
    }
   ],
   "source": [
    "app_list = []\n",
    "\n",
    "for i in apps_protobuf:\n",
    "        \n",
    "    app_list.append([i.title, i.version, i.id, i.owner])\n",
    "    \n",
    "apps = pd.DataFrame(\n",
    "    app_list,\n",
    "    columns = ['App Title', 'App Version', 'App ID',  'Owner']\n",
    ")\n",
    "\n",
    "apps = apps.sort_values([\"App Title\", \"App Version\"]).reset_index(drop=True)\n",
    "\n",
    "apps"
   ]
  },
  {
   "cell_type": "markdown",
   "metadata": {},
   "source": [
    "### Find the app with the most versions"
   ]
  },
  {
   "cell_type": "markdown",
   "metadata": {},
   "source": [
    "An app can have many versions. You can see how many versions an app has by running:"
   ]
  },
  {
   "cell_type": "code",
   "execution_count": 35,
   "metadata": {},
   "outputs": [
    {
     "data": {
      "text/html": [
       "<div>\n",
       "<style scoped>\n",
       "    .dataframe tbody tr th:only-of-type {\n",
       "        vertical-align: middle;\n",
       "    }\n",
       "\n",
       "    .dataframe tbody tr th {\n",
       "        vertical-align: top;\n",
       "    }\n",
       "\n",
       "    .dataframe thead th {\n",
       "        text-align: right;\n",
       "    }\n",
       "</style>\n",
       "<table border=\"1\" class=\"dataframe\">\n",
       "  <thead>\n",
       "    <tr style=\"text-align: right;\">\n",
       "      <th></th>\n",
       "      <th>App Title</th>\n",
       "      <th>Count</th>\n",
       "    </tr>\n",
       "  </thead>\n",
       "  <tbody>\n",
       "    <tr>\n",
       "      <th>12</th>\n",
       "      <td>COVID-19 Hospital Occupancy Simulator</td>\n",
       "      <td>11</td>\n",
       "    </tr>\n",
       "    <tr>\n",
       "      <th>38</th>\n",
       "      <td>H2O AutoDoc</td>\n",
       "      <td>10</td>\n",
       "    </tr>\n",
       "    <tr>\n",
       "      <th>45</th>\n",
       "      <td>H2O Gene Mutation AI</td>\n",
       "      <td>8</td>\n",
       "    </tr>\n",
       "    <tr>\n",
       "      <th>53</th>\n",
       "      <td>H2O Olympics</td>\n",
       "      <td>8</td>\n",
       "    </tr>\n",
       "    <tr>\n",
       "      <th>39</th>\n",
       "      <td>H2O AutoInsights</td>\n",
       "      <td>7</td>\n",
       "    </tr>\n",
       "    <tr>\n",
       "      <th>...</th>\n",
       "      <td>...</td>\n",
       "      <td>...</td>\n",
       "    </tr>\n",
       "    <tr>\n",
       "      <th>65</th>\n",
       "      <td>Hello, World!</td>\n",
       "      <td>1</td>\n",
       "    </tr>\n",
       "    <tr>\n",
       "      <th>19</th>\n",
       "      <td>Customer Churn Demo</td>\n",
       "      <td>1</td>\n",
       "    </tr>\n",
       "    <tr>\n",
       "      <th>18</th>\n",
       "      <td>Customer 360</td>\n",
       "      <td>1</td>\n",
       "    </tr>\n",
       "    <tr>\n",
       "      <th>17</th>\n",
       "      <td>Create AI Engine</td>\n",
       "      <td>1</td>\n",
       "    </tr>\n",
       "    <tr>\n",
       "      <th>0</th>\n",
       "      <td>AI Photo Restoration</td>\n",
       "      <td>1</td>\n",
       "    </tr>\n",
       "  </tbody>\n",
       "</table>\n",
       "<p>103 rows × 2 columns</p>\n",
       "</div>"
      ],
      "text/plain": [
       "                                 App Title  Count\n",
       "12  COVID-19 Hospital Occupancy Simulator      11\n",
       "38                             H2O AutoDoc     10\n",
       "45                    H2O Gene Mutation AI      8\n",
       "53                            H2O Olympics      8\n",
       "39                        H2O AutoInsights      7\n",
       "..                                     ...    ...\n",
       "65                           Hello, World!      1\n",
       "19                     Customer Churn Demo      1\n",
       "18                            Customer 360      1\n",
       "17                        Create AI Engine      1\n",
       "0                     AI Photo Restoration      1\n",
       "\n",
       "[103 rows x 2 columns]"
      ]
     },
     "execution_count": 35,
     "metadata": {},
     "output_type": "execute_result"
    }
   ],
   "source": [
    "apps.groupby(\"App Title\").size().reset_index(name=\"Count\").sort_values(\"Count\",ascending = False)"
   ]
  },
  {
   "cell_type": "markdown",
   "metadata": {},
   "source": [
    "### List all apps I own\n",
    "\n",
    "To list all the apps that you own, the code is same as to how to list all the apps. The only change needed is to change all_users to False."
   ]
  },
  {
   "cell_type": "code",
   "execution_count": 38,
   "metadata": {},
   "outputs": [],
   "source": [
    "apps_protobuf = app_service.ListApps(\n",
    "    ctx = cp.ctx(),\n",
    "    request = appstore.ListAppsRequest(\n",
    "        offset = 0,\n",
    "        limit = 100,\n",
    "        all_users = False \n",
    "    ),\n",
    ").apps"
   ]
  },
  {
   "cell_type": "code",
   "execution_count": 40,
   "metadata": {},
   "outputs": [
    {
     "data": {
      "text/plain": [
       "['Create AI Engine - 0.0.1-20220427112953 - cdfeb2f6-21fd-409c-b0ba-74b1b6c09b5e',\n",
       " 'Customer Churn Demo - 1.2.0 - e5a4e715-3695-41e9-8c25-d3546f20eb87',\n",
       " 'Theme Generator - 1.0.0 - 90cfefc2-a54b-47e8-9878-180a96535975',\n",
       " 'Data Profiling - 1.0.1 - c090d7bd-22f1-45f2-9ebf-967c73849ab6',\n",
       " 'Exploring Telco Churn - 1.0.0 - e5860b48-9ee5-4efc-ad26-7fb9f4df5929',\n",
       " 'Telco Churn Predictions - 1.0.0 - dcb1abff-52b1-4829-a74e-c39ac5edff3f',\n",
       " 'Hello, World! - 0.0.1 - c101c116-d050-455a-834b-eb4fc2ad67d7',\n",
       " 'MLOps Prediction Demo - 0.0.1 - b7504ccf-aed5-466b-ba02-12bc922a7a5b',\n",
       " 'Using H2O Drive - 0.0.1-20220114135619 - 0c2a16e5-4976-4ce6-b8e5-252ad741aab8',\n",
       " 'App Store Management - 0.0.5 - b338ddf7-90ab-4d9f-96a6-2e2e79298a9a',\n",
       " 'H2O AutoViz - 0.0.1 - 8d32c025-fdfe-4daa-8a40-5e69c17a75f3',\n",
       " 'User Usage Reporting - 0.1.10 - a79653c9-a050-479e-8dcd-179c2e24f6a6',\n",
       " 'H2O Feature Store - 1.0.0 - e450f814-6fab-40c7-b37a-b20a827c7e15']"
      ]
     },
     "execution_count": 40,
     "metadata": {},
     "output_type": "execute_result"
    }
   ],
   "source": [
    "my_apps = [f\"{i.title} - {i.version} - {i.id}\" for i in apps_protobuf]\n",
    "my_apps"
   ]
  },
  {
   "cell_type": "markdown",
   "metadata": {},
   "source": [
    "## Edit an App\n",
    "Make changes to an existing app version."
   ]
  },
  {
   "cell_type": "markdown",
   "metadata": {},
   "source": [
    "Set the variable `app_id` to an App ID found in the table above"
   ]
  },
  {
   "cell_type": "code",
   "execution_count": 41,
   "metadata": {},
   "outputs": [],
   "source": [
    "app_id = 'c101c116-d050-455a-834b-eb4fc2ad67d7'"
   ]
  },
  {
   "cell_type": "markdown",
   "metadata": {},
   "source": [
    "### Change the visibility of an app\n",
    "\n",
    "Decide if the app should be visible in the App Store (2) or only in your My Apps page (1)."
   ]
  },
  {
   "cell_type": "code",
   "execution_count": 43,
   "metadata": {},
   "outputs": [
    {
     "data": {
      "text/plain": [
       "2"
      ]
     },
     "execution_count": 43,
     "metadata": {},
     "output_type": "execute_result"
    }
   ],
   "source": [
    "app_service.GetApp(\n",
    "    ctx=cp.ctx(),\n",
    "    request=appstore.GetAppRequest(\n",
    "        id=app_id\n",
    "    )\n",
    ").app.visibility"
   ]
  },
  {
   "cell_type": "code",
   "execution_count": 44,
   "metadata": {},
   "outputs": [
    {
     "data": {
      "text/plain": [
       "app {\n",
       "  id: \"c101c116-d050-455a-834b-eb4fc2ad67d7\"\n",
       "  create_time {\n",
       "    seconds: 1647013089\n",
       "    nanos: 353916000\n",
       "  }\n",
       "  update_time {\n",
       "    seconds: 1647013089\n",
       "    nanos: 353916000\n",
       "  }\n",
       "  owner: \"michelle.tanco@h2o.ai\"\n",
       "  name: \"ai.h2o.wave.my-first-app\"\n",
       "  title: \"Hello, World!\"\n",
       "  description: \"Show a card to the user explaining this is my first app.\"\n",
       "  version: \"0.0.1\"\n",
       "  bundle_location: \"ai.h2o.wave.my-first-app.0.0.1.wave\"\n",
       "  visibility: PRIVATE\n",
       "  tags {\n",
       "    id: \"5fa07cef-6ea0-4b1a-9cf2-ab0e2dc7e5ea\"\n",
       "    assign_time {\n",
       "      seconds: 1649100347\n",
       "      nanos: 98551000\n",
       "    }\n",
       "    name: \"APP_DEV\"\n",
       "    title: \"App Development\"\n",
       "    is_category: true\n",
       "  }\n",
       "  runtime_version: \"deb10_py37_wlatest\"\n",
       "}"
      ]
     },
     "execution_count": 44,
     "metadata": {},
     "output_type": "execute_result"
    }
   ],
   "source": [
    "app_service.UpdateApp(\n",
    "    ctx = cp.ctx(),\n",
    "    request = appstore.UpdateAppRequest(\n",
    "        id = app_id,\n",
    "        visibility = 1 \n",
    "    ),\n",
    ")"
   ]
  },
  {
   "cell_type": "markdown",
   "metadata": {},
   "source": [
    "### View all tags assigned to an app"
   ]
  },
  {
   "cell_type": "markdown",
   "metadata": {},
   "source": [
    "To view tags assigned to an app, pass in the ID of the app in the code below."
   ]
  },
  {
   "cell_type": "code",
   "execution_count": 45,
   "metadata": {},
   "outputs": [
    {
     "data": {
      "text/plain": [
       "[id: \"5fa07cef-6ea0-4b1a-9cf2-ab0e2dc7e5ea\"\n",
       "assign_time {\n",
       "  seconds: 1649100347\n",
       "  nanos: 98551000\n",
       "}\n",
       "name: \"APP_DEV\"\n",
       "title: \"App Development\"\n",
       "is_category: true\n",
       "]"
      ]
     },
     "execution_count": 45,
     "metadata": {},
     "output_type": "execute_result"
    }
   ],
   "source": [
    "app = app_service.GetApp(\n",
    "    ctx = cp.ctx(),\n",
    "    request = appstore.GetAppRequest(\n",
    "        id = app_id,\n",
    "    ),\n",
    ").app\n",
    "\n",
    "app.tags"
   ]
  },
  {
   "cell_type": "markdown",
   "metadata": {},
   "source": [
    "### List of tags"
   ]
  },
  {
   "cell_type": "markdown",
   "metadata": {},
   "source": [
    "Here you can see the list of all the available tags and ID."
   ]
  },
  {
   "cell_type": "code",
   "execution_count": 46,
   "metadata": {},
   "outputs": [],
   "source": [
    "tag_list = tag_service.ListTags(\n",
    "    ctx = cp.ctx(),\n",
    "    request = appstore.ListTagsRequest(\n",
    "    )\n",
    ").tags"
   ]
  },
  {
   "cell_type": "code",
   "execution_count": 47,
   "metadata": {},
   "outputs": [
    {
     "data": {
      "text/html": [
       "<div>\n",
       "<style scoped>\n",
       "    .dataframe tbody tr th:only-of-type {\n",
       "        vertical-align: middle;\n",
       "    }\n",
       "\n",
       "    .dataframe tbody tr th {\n",
       "        vertical-align: top;\n",
       "    }\n",
       "\n",
       "    .dataframe thead th {\n",
       "        text-align: right;\n",
       "    }\n",
       "</style>\n",
       "<table border=\"1\" class=\"dataframe\">\n",
       "  <thead>\n",
       "    <tr style=\"text-align: right;\">\n",
       "      <th></th>\n",
       "      <th>Tag Title</th>\n",
       "      <th>Tag Name</th>\n",
       "      <th>Tag ID</th>\n",
       "    </tr>\n",
       "  </thead>\n",
       "  <tbody>\n",
       "    <tr>\n",
       "      <th>0</th>\n",
       "      <td>Federal Government</td>\n",
       "      <td>FEDGOV</td>\n",
       "      <td>9948ad1d-2381-4c5d-84f5-636e11290fc7</td>\n",
       "    </tr>\n",
       "    <tr>\n",
       "      <th>1</th>\n",
       "      <td>H2O Tools</td>\n",
       "      <td>H2O_TOOLS</td>\n",
       "      <td>852c67fc-2aa6-4945-9f1e-8c2a1e1933bb</td>\n",
       "    </tr>\n",
       "    <tr>\n",
       "      <th>2</th>\n",
       "      <td>AI for Good</td>\n",
       "      <td>AI_FOR_GOOD</td>\n",
       "      <td>7d260cbb-8ef1-4df4-bcb0-ce1cfca54426</td>\n",
       "    </tr>\n",
       "    <tr>\n",
       "      <th>3</th>\n",
       "      <td>Exploratory Data Analysis</td>\n",
       "      <td>EDA</td>\n",
       "      <td>ae3afa33-de2e-428b-80f2-97d24bac9fb9</td>\n",
       "    </tr>\n",
       "    <tr>\n",
       "      <th>4</th>\n",
       "      <td>Machine Learning</td>\n",
       "      <td>MACHINE_LEARNING</td>\n",
       "      <td>a2bda56c-ae3b-4e41-9c6f-ee97d18ddeae</td>\n",
       "    </tr>\n",
       "    <tr>\n",
       "      <th>5</th>\n",
       "      <td>Explainability</td>\n",
       "      <td>EXPLAINABILITY</td>\n",
       "      <td>73bba919-c7a6-4ef0-a228-d1d3c78cbb86</td>\n",
       "    </tr>\n",
       "    <tr>\n",
       "      <th>6</th>\n",
       "      <td>Computer Vision</td>\n",
       "      <td>COMP_VISION</td>\n",
       "      <td>ad23aa48-58c3-41c5-85b2-734909ff27db</td>\n",
       "    </tr>\n",
       "    <tr>\n",
       "      <th>7</th>\n",
       "      <td>Forecasting</td>\n",
       "      <td>FORECASTING</td>\n",
       "      <td>4fc24fd4-c16f-4927-8cd2-10a1f24005df</td>\n",
       "    </tr>\n",
       "    <tr>\n",
       "      <th>8</th>\n",
       "      <td>Natural Language Processing</td>\n",
       "      <td>NLP</td>\n",
       "      <td>d66eb9e3-21e1-4d3c-b1c8-2014171e3a0b</td>\n",
       "    </tr>\n",
       "    <tr>\n",
       "      <th>9</th>\n",
       "      <td>Unsupervised Learning</td>\n",
       "      <td>UNSUPERVISED_LEARNING</td>\n",
       "      <td>76ed8390-cf38-486e-b3ca-4d1bb38130cc</td>\n",
       "    </tr>\n",
       "    <tr>\n",
       "      <th>10</th>\n",
       "      <td>App Development</td>\n",
       "      <td>APP_DEV</td>\n",
       "      <td>5fa07cef-6ea0-4b1a-9cf2-ab0e2dc7e5ea</td>\n",
       "    </tr>\n",
       "    <tr>\n",
       "      <th>11</th>\n",
       "      <td>Data Science</td>\n",
       "      <td>DATA_SCIENCE</td>\n",
       "      <td>0385ebe0-2155-11ec-9647-0a382865161b</td>\n",
       "    </tr>\n",
       "    <tr>\n",
       "      <th>12</th>\n",
       "      <td>Telecom</td>\n",
       "      <td>TELECOM</td>\n",
       "      <td>0385f45a-2155-11ec-9650-0a382865161b</td>\n",
       "    </tr>\n",
       "    <tr>\n",
       "      <th>13</th>\n",
       "      <td>Sales</td>\n",
       "      <td>SALES</td>\n",
       "      <td>0385f414-2155-11ec-964f-0a382865161b</td>\n",
       "    </tr>\n",
       "    <tr>\n",
       "      <th>14</th>\n",
       "      <td>Retail</td>\n",
       "      <td>RETAIL</td>\n",
       "      <td>0385f3d8-2155-11ec-964e-0a382865161b</td>\n",
       "    </tr>\n",
       "    <tr>\n",
       "      <th>15</th>\n",
       "      <td>Marketing</td>\n",
       "      <td>MARKETING</td>\n",
       "      <td>0385f392-2155-11ec-964d-0a382865161b</td>\n",
       "    </tr>\n",
       "    <tr>\n",
       "      <th>16</th>\n",
       "      <td>Manufacturing</td>\n",
       "      <td>MANUFACTURING</td>\n",
       "      <td>0385f356-2155-11ec-964c-0a382865161b</td>\n",
       "    </tr>\n",
       "    <tr>\n",
       "      <th>17</th>\n",
       "      <td>Insurance</td>\n",
       "      <td>INSURANCE</td>\n",
       "      <td>0385f310-2155-11ec-964b-0a382865161b</td>\n",
       "    </tr>\n",
       "    <tr>\n",
       "      <th>18</th>\n",
       "      <td>Healthcare</td>\n",
       "      <td>HEALTHCARE</td>\n",
       "      <td>0385f2c0-2155-11ec-964a-0a382865161b</td>\n",
       "    </tr>\n",
       "    <tr>\n",
       "      <th>19</th>\n",
       "      <td>Financial Services</td>\n",
       "      <td>FINSERV</td>\n",
       "      <td>0385f27a-2155-11ec-9649-0a382865161b</td>\n",
       "    </tr>\n",
       "    <tr>\n",
       "      <th>20</th>\n",
       "      <td>Document</td>\n",
       "      <td>DOCUMENT</td>\n",
       "      <td>0385f1b2-2155-11ec-9648-0a382865161b</td>\n",
       "    </tr>\n",
       "  </tbody>\n",
       "</table>\n",
       "</div>"
      ],
      "text/plain": [
       "                      Tag Title               Tag Name  \\\n",
       "0            Federal Government                 FEDGOV   \n",
       "1                     H2O Tools              H2O_TOOLS   \n",
       "2                   AI for Good            AI_FOR_GOOD   \n",
       "3     Exploratory Data Analysis                    EDA   \n",
       "4              Machine Learning       MACHINE_LEARNING   \n",
       "5                Explainability         EXPLAINABILITY   \n",
       "6               Computer Vision            COMP_VISION   \n",
       "7                   Forecasting            FORECASTING   \n",
       "8   Natural Language Processing                    NLP   \n",
       "9         Unsupervised Learning  UNSUPERVISED_LEARNING   \n",
       "10              App Development                APP_DEV   \n",
       "11                 Data Science           DATA_SCIENCE   \n",
       "12                      Telecom                TELECOM   \n",
       "13                        Sales                  SALES   \n",
       "14                       Retail                 RETAIL   \n",
       "15                    Marketing              MARKETING   \n",
       "16                Manufacturing          MANUFACTURING   \n",
       "17                    Insurance              INSURANCE   \n",
       "18                   Healthcare             HEALTHCARE   \n",
       "19           Financial Services                FINSERV   \n",
       "20                     Document               DOCUMENT   \n",
       "\n",
       "                                  Tag ID  \n",
       "0   9948ad1d-2381-4c5d-84f5-636e11290fc7  \n",
       "1   852c67fc-2aa6-4945-9f1e-8c2a1e1933bb  \n",
       "2   7d260cbb-8ef1-4df4-bcb0-ce1cfca54426  \n",
       "3   ae3afa33-de2e-428b-80f2-97d24bac9fb9  \n",
       "4   a2bda56c-ae3b-4e41-9c6f-ee97d18ddeae  \n",
       "5   73bba919-c7a6-4ef0-a228-d1d3c78cbb86  \n",
       "6   ad23aa48-58c3-41c5-85b2-734909ff27db  \n",
       "7   4fc24fd4-c16f-4927-8cd2-10a1f24005df  \n",
       "8   d66eb9e3-21e1-4d3c-b1c8-2014171e3a0b  \n",
       "9   76ed8390-cf38-486e-b3ca-4d1bb38130cc  \n",
       "10  5fa07cef-6ea0-4b1a-9cf2-ab0e2dc7e5ea  \n",
       "11  0385ebe0-2155-11ec-9647-0a382865161b  \n",
       "12  0385f45a-2155-11ec-9650-0a382865161b  \n",
       "13  0385f414-2155-11ec-964f-0a382865161b  \n",
       "14  0385f3d8-2155-11ec-964e-0a382865161b  \n",
       "15  0385f392-2155-11ec-964d-0a382865161b  \n",
       "16  0385f356-2155-11ec-964c-0a382865161b  \n",
       "17  0385f310-2155-11ec-964b-0a382865161b  \n",
       "18  0385f2c0-2155-11ec-964a-0a382865161b  \n",
       "19  0385f27a-2155-11ec-9649-0a382865161b  \n",
       "20  0385f1b2-2155-11ec-9648-0a382865161b  "
      ]
     },
     "execution_count": 47,
     "metadata": {},
     "output_type": "execute_result"
    }
   ],
   "source": [
    "list_tags = []\n",
    "\n",
    "for i in tag_list:       \n",
    "    list_tags.append([i.title, i.name, i.id])\n",
    "    \n",
    "df_tags = pd.DataFrame(\n",
    "   list_tags,\n",
    "    columns = ['Tag Title', 'Tag Name', 'Tag ID']\n",
    ")\n",
    "\n",
    "df_tags"
   ]
  },
  {
   "cell_type": "markdown",
   "metadata": {},
   "source": [
    "### Add a new category tag to an app"
   ]
  },
  {
   "cell_type": "markdown",
   "metadata": {},
   "source": [
    "To add a tag to an app, pass in the ID of the app and the ID of the tag you want to add! Here we are adding tag `Financial Services` to the app.\n",
    "\n",
    "The ID of the tags can be found in the table where all the tags available are listed."
   ]
  },
  {
   "cell_type": "code",
   "execution_count": 48,
   "metadata": {},
   "outputs": [
    {
     "data": {
      "text/plain": []
     },
     "execution_count": 48,
     "metadata": {},
     "output_type": "execute_result"
    }
   ],
   "source": [
    "tag_service.AssignTag(\n",
    "    ctx = cp.ctx(),\n",
    "    request = appstore.AssignTagRequest(\n",
    "        app_id = app_id,\n",
    "        tag_id = '0385f27a-2155-11ec-9649-0a382865161b'),\n",
    ")"
   ]
  },
  {
   "cell_type": "markdown",
   "metadata": {},
   "source": [
    "### Remove a category tag from an app"
   ]
  },
  {
   "cell_type": "markdown",
   "metadata": {},
   "source": [
    "To remove a tag from an app, again pass in the ID of the app and the ID of the tag you want to remove! Here we are removing tag `Financial Services` from the app."
   ]
  },
  {
   "cell_type": "code",
   "execution_count": 49,
   "metadata": {},
   "outputs": [
    {
     "data": {
      "text/plain": []
     },
     "execution_count": 49,
     "metadata": {},
     "output_type": "execute_result"
    }
   ],
   "source": [
    "tag_service.UnassignTag(\n",
    "    ctx = cp.ctx(),\n",
    "    request = appstore.UnassignTagRequest(\n",
    "        app_id = app_id,\n",
    "        tag_id ='0385f27a-2155-11ec-9649-0a382865161b'),\n",
    ")"
   ]
  },
  {
   "cell_type": "markdown",
   "metadata": {},
   "source": [
    "## App Instances"
   ]
  },
  {
   "cell_type": "markdown",
   "metadata": {},
   "source": [
    "### Find the app with the most running instances\n",
    "The following function lists the number the apps instances, running or suspended, of all the apps that are owned by all users."
   ]
  },
  {
   "cell_type": "code",
   "execution_count": 54,
   "metadata": {},
   "outputs": [],
   "source": [
    "all_instances = app_service.ListAppInstances(\n",
    "    ctx=cp.ctx(),\n",
    "    request=appstore.ListAppInstancesRequest(\n",
    "        all_users=True,\n",
    "        include_app_details=True\n",
    "    ),\n",
    ").instances"
   ]
  },
  {
   "cell_type": "code",
   "execution_count": 58,
   "metadata": {},
   "outputs": [
    {
     "data": {
      "text/html": [
       "<div>\n",
       "<style scoped>\n",
       "    .dataframe tbody tr th:only-of-type {\n",
       "        vertical-align: middle;\n",
       "    }\n",
       "\n",
       "    .dataframe tbody tr th {\n",
       "        vertical-align: top;\n",
       "    }\n",
       "\n",
       "    .dataframe thead th {\n",
       "        text-align: right;\n",
       "    }\n",
       "</style>\n",
       "<table border=\"1\" class=\"dataframe\">\n",
       "  <thead>\n",
       "    <tr style=\"text-align: right;\">\n",
       "      <th></th>\n",
       "      <th>App Name</th>\n",
       "      <th>Count</th>\n",
       "    </tr>\n",
       "  </thead>\n",
       "  <tbody>\n",
       "    <tr>\n",
       "      <th>0</th>\n",
       "      <td>H2O AutoDoc</td>\n",
       "      <td>41</td>\n",
       "    </tr>\n",
       "    <tr>\n",
       "      <th>1</th>\n",
       "      <td>H2O AI Cloud Notebook (alpha)</td>\n",
       "      <td>33</td>\n",
       "    </tr>\n",
       "    <tr>\n",
       "      <th>2</th>\n",
       "      <td>H2O AutoInsights</td>\n",
       "      <td>32</td>\n",
       "    </tr>\n",
       "    <tr>\n",
       "      <th>3</th>\n",
       "      <td>H2O Hydrogen Torch</td>\n",
       "      <td>32</td>\n",
       "    </tr>\n",
       "    <tr>\n",
       "      <th>4</th>\n",
       "      <td>Model Validation</td>\n",
       "      <td>29</td>\n",
       "    </tr>\n",
       "    <tr>\n",
       "      <th>...</th>\n",
       "      <td>...</td>\n",
       "      <td>...</td>\n",
       "    </tr>\n",
       "    <tr>\n",
       "      <th>107</th>\n",
       "      <td>Medical Appointment No-Show</td>\n",
       "      <td>1</td>\n",
       "    </tr>\n",
       "    <tr>\n",
       "      <th>108</th>\n",
       "      <td>Medical Appointment no-show</td>\n",
       "      <td>1</td>\n",
       "    </tr>\n",
       "    <tr>\n",
       "      <th>109</th>\n",
       "      <td>Experiment Comparer</td>\n",
       "      <td>1</td>\n",
       "    </tr>\n",
       "    <tr>\n",
       "      <th>110</th>\n",
       "      <td>Notebooks to Wave Apps</td>\n",
       "      <td>1</td>\n",
       "    </tr>\n",
       "    <tr>\n",
       "      <th>111</th>\n",
       "      <td>oidc example</td>\n",
       "      <td>1</td>\n",
       "    </tr>\n",
       "  </tbody>\n",
       "</table>\n",
       "<p>112 rows × 2 columns</p>\n",
       "</div>"
      ],
      "text/plain": [
       "                          App Name  Count\n",
       "0                      H2O AutoDoc     41\n",
       "1    H2O AI Cloud Notebook (alpha)     33\n",
       "2                 H2O AutoInsights     32\n",
       "3               H2O Hydrogen Torch     32\n",
       "4                 Model Validation     29\n",
       "..                             ...    ...\n",
       "107    Medical Appointment No-Show      1\n",
       "108    Medical Appointment no-show      1\n",
       "109            Experiment Comparer      1\n",
       "110         Notebooks to Wave Apps      1\n",
       "111                   oidc example      1\n",
       "\n",
       "[112 rows x 2 columns]"
      ]
     },
     "execution_count": 58,
     "metadata": {},
     "output_type": "execute_result"
    }
   ],
   "source": [
    "all_instance_list = [i.app_details.title for i in all_instances]\n",
    "\n",
    "df_all_instances = pd.DataFrame(\n",
    "    all_instance_list, \n",
    "    columns = ['App Name']\n",
    ")\n",
    "\n",
    "app_instance_counts = df_all_instances.groupby(['App Name']).size().reset_index(name='Count')\n",
    "app_instance_counts = app_instance_counts.sort_values('Count', ascending=False).reset_index(drop = True)\n",
    "\n",
    "app_instance_counts"
   ]
  },
  {
   "cell_type": "markdown",
   "metadata": {},
   "source": [
    "### Start a new instance"
   ]
  },
  {
   "cell_type": "markdown",
   "metadata": {},
   "source": [
    "Now lets start an instance of the app! Pass in the id of the app that you would like to start an instance of."
   ]
  },
  {
   "cell_type": "code",
   "execution_count": null,
   "metadata": {},
   "outputs": [],
   "source": [
    "app_id = '***'"
   ]
  },
  {
   "cell_type": "code",
   "execution_count": null,
   "metadata": {},
   "outputs": [],
   "source": [
    "app_service.RunApp(\n",
    "    ctx = cp.ctx(),\n",
    "    request = appstore.RunAppRequest(\n",
    "        id = app_id,\n",
    "        visibility = 1\n",
    "    ),\n",
    ")"
   ]
  },
  {
   "cell_type": "markdown",
   "metadata": {},
   "source": [
    "### List all instances I own\n",
    "To list all the app instances that you own, the code is same as to how to list all the instances. The only change needed is to change all_users to False."
   ]
  },
  {
   "cell_type": "code",
   "execution_count": null,
   "metadata": {},
   "outputs": [],
   "source": [
    "instances_protobuf = app_service.ListAppInstances(\n",
    "    ctx=cp.ctx(),\n",
    "    request=appstore.ListAppInstancesRequest(\n",
    "        all_users=False,\n",
    "        include_app_details=True\n",
    "    ),\n",
    ").instances"
   ]
  },
  {
   "cell_type": "code",
   "execution_count": null,
   "metadata": {},
   "outputs": [],
   "source": [
    "instance_list = []\n",
    "for i in instances_protobuf:\n",
    "    status = i.status\n",
    "    if status == 5:\n",
    "        status = 'Suspended'\n",
    "    elif status == 3:\n",
    "        status = 'Deployed'\n",
    "    elif status == 2:\n",
    "        status = 'Pending'\n",
    "        \n",
    "    instance_list.append(\n",
    "        [i.owner, i.app_id, i.visibility, i.id, status]\n",
    "    )\n",
    "    \n",
    "df_instances = pd.DataFrame(\n",
    "    instance_list, \n",
    "    columns = ['App Name', 'App ID', 'App Visbility', 'Instance ID', 'Instance Status']\n",
    ")\n",
    "\n",
    "df_instances"
   ]
  },
  {
   "cell_type": "markdown",
   "metadata": {},
   "source": [
    "### Pause and resume an instance"
   ]
  },
  {
   "cell_type": "markdown",
   "metadata": {},
   "source": [
    "To pause an instance, pass in the ID of the instance and simply set suspend to True. To resume an instance, set suspend to False. "
   ]
  },
  {
   "cell_type": "code",
   "execution_count": null,
   "metadata": {},
   "outputs": [],
   "source": [
    "instance_id = '***'"
   ]
  },
  {
   "cell_type": "code",
   "execution_count": null,
   "metadata": {},
   "outputs": [],
   "source": [
    "app_service.SetAppInstanceSuspension(\n",
    "    ctx = cp.ctx(),\n",
    "    request = appstore.SetAppInstanceSuspensionRequest(\n",
    "        id = instance_id,\n",
    "        suspend = True\n",
    "    ),\n",
    ")"
   ]
  },
  {
   "cell_type": "markdown",
   "metadata": {},
   "source": [
    "### Delete an instance"
   ]
  },
  {
   "cell_type": "markdown",
   "metadata": {},
   "source": [
    "When you no longer need an instance, you can terminate it. Remember to pass in the ID of the instance you want to delete!"
   ]
  },
  {
   "cell_type": "code",
   "execution_count": null,
   "metadata": {},
   "outputs": [],
   "source": [
    "instance_id = '***'"
   ]
  },
  {
   "cell_type": "code",
   "execution_count": null,
   "metadata": {},
   "outputs": [],
   "source": [
    "app_service.TerminateAppInstance(\n",
    "    ctx = cp.ctx(),\n",
    "    request = appstore.TerminateAppInstanceRequest(id = instance_id)\n",
    ")"
   ]
  }
 ],
 "metadata": {
  "kernelspec": {
   "display_name": "Python 3 (ipykernel)",
   "language": "python",
   "name": "python3"
  },
  "language_info": {
   "codemirror_mode": {
    "name": "ipython",
    "version": 3
   },
   "file_extension": ".py",
   "mimetype": "text/x-python",
   "name": "python",
   "nbconvert_exporter": "python",
   "pygments_lexer": "ipython3",
   "version": "3.8.12"
  },
  "toc": {
   "base_numbering": 1,
   "nav_menu": {},
   "number_sections": true,
   "sideBar": true,
   "skip_h1_title": true,
   "title_cell": "Table of Contents",
   "title_sidebar": "Contents",
   "toc_cell": false,
   "toc_position": {},
   "toc_section_display": true,
   "toc_window_display": true
  }
 },
 "nbformat": 4,
 "nbformat_minor": 4
}

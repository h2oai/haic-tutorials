{
 "cells": [
  {
   "cell_type": "markdown",
   "id": "5b75cff6",
   "metadata": {},
   "source": [
    "# End-to-end workflow in the H2O AI Cloud\n",
    "\n",
    "Get started building and deploying machine learning models in the H2O AI Cloud.\n",
    "\n",
    "* Create an AI engine for building models\n",
    "* Use AutoML to build a machine learning model\n",
    "* Deploy the model to production"
   ]
  },
  {
   "cell_type": "markdown",
   "id": "4cdf7172",
   "metadata": {},
   "source": [
    "## Create an AI engine\n",
    "Create a Driverless AI engine for access to automated machine learning to build models for us on our data. \n",
    "\n",
    "See the `2 Managing AI Engines` tutorial for more details on how to use and interact with **Engine Manager** for creating and managing your AI Engines."
   ]
  },
  {
   "cell_type": "code",
   "execution_count": null,
   "id": "7b0b899b",
   "metadata": {},
   "outputs": [],
   "source": [
    "import h2o_engine_manager\n",
    "\n",
    "engine_manager = h2o_engine_manager.login()"
   ]
  },
  {
   "cell_type": "markdown",
   "id": "b298ecbf",
   "metadata": {},
   "source": [
    "Creating a new engine can take 2-20 minutes depending on your environment and configuration settings. Please reach out to your admin as needed to reduce start times. "
   ]
  },
  {
   "cell_type": "code",
   "execution_count": null,
   "id": "9b128e6c",
   "metadata": {},
   "outputs": [],
   "source": [
    "dai_engine = engine_manager.dai_engine_client.create_engine(\n",
    "    display_name=\"My test engine\",\n",
    ")\n",
    "\n",
    "dai_engine.wait()"
   ]
  },
  {
   "cell_type": "code",
   "execution_count": null,
   "id": "b4642c67",
   "metadata": {},
   "outputs": [],
   "source": [
    "dai = dai_engine.connect()"
   ]
  },
  {
   "cell_type": "markdown",
   "id": "0ec257a2",
   "metadata": {},
   "source": [
    "## Build a model"
   ]
  },
  {
   "cell_type": "markdown",
   "id": "35c0f616",
   "metadata": {},
   "source": [
    "### Import data"
   ]
  },
  {
   "cell_type": "code",
   "execution_count": null,
   "id": "70a1734a",
   "metadata": {},
   "outputs": [
    {
     "name": "stdout",
     "output_type": "stream",
     "text": [
      "Complete 100.00% - [4/4] Computed stats for column Account Length\n"
     ]
    }
   ],
   "source": [
    "telco_churn = dai.datasets.create(\n",
    "    data=\"https://h2o-internal-release.s3-us-west-2.amazonaws.com/data/Splunk/churn.csv\",  \n",
    "    data_source=\"s3\", \n",
    "    name=\"Telco_Churn\",\n",
    "    force=True\n",
    ")"
   ]
  },
  {
   "cell_type": "code",
   "execution_count": null,
   "id": "19c228c2",
   "metadata": {},
   "outputs": [
    {
     "name": "stdout",
     "output_type": "stream",
     "text": [
      "c8d264dc-a01a-11ee-95af-425f7a7f3fbf | Telco_Churn\n",
      "\n",
      "Columns: ['State', 'Account Length', 'Area Code', 'Phone', \"Int'l Plan\", 'VMail Plan', 'VMail Message', 'Day Mins', 'Day Calls', 'Day Charge', 'Eve Mins', 'Eve Calls', 'Eve Charge', 'Night Mins', 'Night Calls', 'Night Charge', 'Intl Mins', 'Intl Calls', 'Intl Charge', 'CustServ Calls', 'Churn?']\n",
      "\n",
      "Shape: (3333, 21)\n"
     ]
    }
   ],
   "source": [
    "print(telco_churn.key, \"|\", telco_churn.name)\n",
    "print(\"\\nColumns:\", telco_churn.columns)\n",
    "print('\\nShape:', telco_churn.shape)"
   ]
  },
  {
   "cell_type": "markdown",
   "id": "fe2273ea",
   "metadata": {},
   "source": [
    "### Run an AutoML experiment\n",
    "\n",
    "See the `3 AutoML` tutorial for more details on how to use and interact with Driverless AI for AutoML. "
   ]
  },
  {
   "cell_type": "code",
   "execution_count": null,
   "id": "555338ad",
   "metadata": {},
   "outputs": [
    {
     "name": "stdout",
     "output_type": "stream",
     "text": [
      "INFO - Experiment launched at: https://enginemanager.internal.dedicated.h2o.ai/workspaces/default/daiEngines/my-test-engine-9859/#/experiment?key=ca85ba4a-a01a-11ee-95af-425f7a7f3fbf\n"
     ]
    },
    {
     "name": "stderr",
     "output_type": "stream",
     "text": [
      "[I 2023-12-21 16:05:42,337.337 driverlessai] Experiment launched at: https://enginemanager.internal.dedicated.h2o.ai/workspaces/default/daiEngines/my-test-engine-9859/#/experiment?key=ca85ba4a-a01a-11ee-95af-425f7a7f3fbf\n"
     ]
    },
    {
     "name": "stdout",
     "output_type": "stream",
     "text": [
      "Complete 100.00% - Status: Complete                                                \n"
     ]
    }
   ],
   "source": [
    "default_baseline = dai.experiments.create(\n",
    "    name='Default Baseline', \n",
    "    train_dataset=telco_churn, \n",
    "    target_column=\"Churn?\", \n",
    "    task=\"classification\",\n",
    "    accuracy=1, time=1, interpretability=6  # a quick AutoML experiment to see a baseline    \n",
    ")"
   ]
  },
  {
   "cell_type": "code",
   "execution_count": null,
   "id": "5bf84827",
   "metadata": {},
   "outputs": [
    {
     "name": "stdout",
     "output_type": "stream",
     "text": [
      "INFO - Status: Complete\n",
      "Experiment: Default Baseline (ca85ba4a-a01a-11ee-95af-425f7a7f3fbf)\n",
      "  Version: 1.10.6.1, 2023-12-21 16:08, Py client\n",
      "  Settings: 1/1/6, seed=722131253, GPUs disabled\n",
      "  Train data: Telco_Churn (3333, 21)\n",
      "  Validation data: N/A\n",
      "  Test data: N/A\n",
      "  Target column: Churn? (binary, 14.491% target class)\n",
      "System specs: Docker/Linux, 4 GB, 32 CPU cores, 0/0 GPU\n",
      "  Max memory usage: 0.616 GB, 0 GB GPU, 0.0789 GB MOJO\n",
      "Recipe: AutoDL (7 iterations, 2 individuals)\n",
      "  Validation scheme: stratified, 9 internal holdouts (3-fold CV)\n",
      "  Feature engineering: 74 features scored (22 selected)\n",
      "Timing: MOJO latency 0.1699 millis (3.0MB), Python latency 123.6660 millis (22.6kB)\n",
      "  Data preparation: 6.27 secs\n",
      "  Shift/Leakage detection: 0.43 secs\n",
      "  Model and feature tuning: 50.78 secs (64 models trained)\n",
      "  Feature evolution: 1.08 secs (0 of 27 model trained)\n",
      "  Final pipeline training: 48.62 secs (18 models trained)\n",
      "  Python / MOJO scorer building: 33.20 secs / 19.69 secs\n",
      "Validation score: LOGLOSS = 0.4137853 (constant preds of -1.775)\n",
      "Validation score: LOGLOSS = 0.2069524 +/- 0.01674996 (baseline)\n",
      "Validation score: LOGLOSS = 0.1579356 +/- 0.01553221 (final pipeline)\n",
      "Test score:       LOGLOSS = N/A\n"
     ]
    },
    {
     "name": "stderr",
     "output_type": "stream",
     "text": [
      "[I 2023-12-21 16:08:26,279.279 driverlessai] Status: Complete\n",
      "Experiment: Default Baseline (ca85ba4a-a01a-11ee-95af-425f7a7f3fbf)\n",
      "  Version: 1.10.6.1, 2023-12-21 16:08, Py client\n",
      "  Settings: 1/1/6, seed=722131253, GPUs disabled\n",
      "  Train data: Telco_Churn (3333, 21)\n",
      "  Validation data: N/A\n",
      "  Test data: N/A\n",
      "  Target column: Churn? (binary, 14.491% target class)\n",
      "System specs: Docker/Linux, 4 GB, 32 CPU cores, 0/0 GPU\n",
      "  Max memory usage: 0.616 GB, 0 GB GPU, 0.0789 GB MOJO\n",
      "Recipe: AutoDL (7 iterations, 2 individuals)\n",
      "  Validation scheme: stratified, 9 internal holdouts (3-fold CV)\n",
      "  Feature engineering: 74 features scored (22 selected)\n",
      "Timing: MOJO latency 0.1699 millis (3.0MB), Python latency 123.6660 millis (22.6kB)\n",
      "  Data preparation: 6.27 secs\n",
      "  Shift/Leakage detection: 0.43 secs\n",
      "  Model and feature tuning: 50.78 secs (64 models trained)\n",
      "  Feature evolution: 1.08 secs (0 of 27 model trained)\n",
      "  Final pipeline training: 48.62 secs (18 models trained)\n",
      "  Python / MOJO scorer building: 33.20 secs / 19.69 secs\n",
      "Validation score: LOGLOSS = 0.4137853 (constant preds of -1.775)\n",
      "Validation score: LOGLOSS = 0.2069524 +/- 0.01674996 (baseline)\n",
      "Validation score: LOGLOSS = 0.1579356 +/- 0.01553221 (final pipeline)\n",
      "Test score:       LOGLOSS = N/A\n"
     ]
    }
   ],
   "source": [
    "default_baseline.summary()"
   ]
  },
  {
   "cell_type": "markdown",
   "id": "2a10c709",
   "metadata": {},
   "source": [
    "## Deploy the model"
   ]
  },
  {
   "cell_type": "markdown",
   "id": "e60f1512",
   "metadata": {},
   "source": [
    "### Create a project\n",
    "We willl create a project for our use case to easily share our work with others and deploy the models"
   ]
  },
  {
   "cell_type": "code",
   "execution_count": null,
   "id": "319c49eb",
   "metadata": {},
   "outputs": [],
   "source": [
    "churn_project = dai.projects.create(\n",
    "    name=\"Telco Churn Predictions\", \n",
    "    description=\"Which of our customers is likely to cancel their contract?\",\n",
    "    force=\"True\"\n",
    ")"
   ]
  },
  {
   "cell_type": "code",
   "execution_count": null,
   "id": "2d2d7bb5",
   "metadata": {},
   "outputs": [
    {
     "data": {
      "text/plain": [
       "<driverlessai._projects.Project>"
      ]
     },
     "execution_count": null,
     "metadata": {},
     "output_type": "execute_result"
    }
   ],
   "source": [
    "churn_project.link_experiment(default_baseline)"
   ]
  },
  {
   "cell_type": "markdown",
   "id": "25c1335d",
   "metadata": {},
   "source": [
    "### Connect to MLOps\n",
    "See the `5 Model Deployment` tutorial for more details on how to use and interact with MLOps for managing models and deploymnets. "
   ]
  },
  {
   "cell_type": "code",
   "execution_count": null,
   "id": "a94fe53b",
   "metadata": {},
   "outputs": [],
   "source": [
    "import h2o_mlops\n",
    "import h2o_authn\n",
    "import h2o_discovery\n",
    "import os"
   ]
  },
  {
   "cell_type": "code",
   "execution_count": null,
   "id": "2d97bed3",
   "metadata": {},
   "outputs": [],
   "source": [
    "discovery = h2o_discovery.discover()\n",
    "\n",
    "token_provider = h2o_authn.TokenProvider(\n",
    "    refresh_token=os.getenv(\"H2O_CLOUD_CLIENT_PLATFORM_TOKEN\"),\n",
    "    issuer_url=discovery.environment.issuer_url,\n",
    "    client_id=discovery.clients[\"platform\"].oauth2_client_id,\n",
    ")"
   ]
  },
  {
   "cell_type": "code",
   "execution_count": null,
   "id": "bacebb70",
   "metadata": {},
   "outputs": [],
   "source": [
    "mlops = h2o_mlops.Client(\n",
    "    gateway_url=discovery.services['mlops-api'].uri,\n",
    "    token_provider=token_provider\n",
    ")"
   ]
  },
  {
   "cell_type": "markdown",
   "id": "28429224",
   "metadata": {},
   "source": [
    "### Register experiment to a model"
   ]
  },
  {
   "cell_type": "code",
   "execution_count": null,
   "id": "e64891ac-4acf-422a-ab18-387208ee1d75",
   "metadata": {},
   "outputs": [],
   "source": [
    "mlops_churn_project = mlops.projects.get(uid=churn_project.key)\n",
    "mlops_churn_experiment = mlops_churn_project.experiments.get(uid=default_baseline.key)\n",
    "mlops_churn_model = mlops_churn_project.models.create(name=mlops_churn_experiment.name)"
   ]
  },
  {
   "cell_type": "code",
   "execution_count": null,
   "id": "e101e355-6c6a-4f4b-92c8-cc34426d8c3c",
   "metadata": {},
   "outputs": [],
   "source": [
    "mlops_churn_model.register(experiment=mlops_churn_experiment)"
   ]
  },
  {
   "cell_type": "markdown",
   "id": "e3fa770e-577d-435a-90c4-9eddd7158558",
   "metadata": {},
   "source": [
    "### Create a deployment"
   ]
  },
  {
   "cell_type": "code",
   "execution_count": null,
   "id": "886c1087-869a-48d8-a918-e2b87549eb43",
   "metadata": {},
   "outputs": [],
   "source": [
    "mlops_scoring_runtime = mlops.runtimes.scoring.list(\n",
    "    artifact_type=mlops_churn_model.get_experiment().artifact_types[0],\n",
    "    uid=\"dai_mojo_runtime\"\n",
    ")[0]"
   ]
  },
  {
   "cell_type": "code",
   "execution_count": null,
   "id": "72622bf6",
   "metadata": {},
   "outputs": [],
   "source": [
    "mlops_environment = mlops_churn_project.environments.list(name=\"DEV\")[0]"
   ]
  },
  {
   "cell_type": "code",
   "execution_count": null,
   "id": "83122d3f-1caf-4153-84de-465072397db8",
   "metadata": {},
   "outputs": [],
   "source": [
    "mlops_churn_deployment = mlops_environment.deployments.create_single(\n",
    "    name=mlops_churn_model.name,\n",
    "    model=mlops_churn_model,\n",
    "    scoring_runtime=mlops_scoring_runtime\n",
    ")"
   ]
  },
  {
   "cell_type": "markdown",
   "id": "aad0ea4c",
   "metadata": {},
   "source": [
    "### View information about our deployment"
   ]
  },
  {
   "cell_type": "code",
   "execution_count": null,
   "id": "586652bc",
   "metadata": {},
   "outputs": [
    {
     "data": {
      "text/plain": [
       "'LAUNCHING'"
      ]
     },
     "execution_count": null,
     "metadata": {},
     "output_type": "execute_result"
    }
   ],
   "source": [
    "mlops_churn_deployment.status()"
   ]
  },
  {
   "cell_type": "markdown",
   "id": "c70d9a79",
   "metadata": {},
   "source": [
    "### Wait for deployment to become healthy"
   ]
  },
  {
   "cell_type": "code",
   "execution_count": null,
   "id": "6d622b01",
   "metadata": {},
   "outputs": [
    {
     "data": {
      "text/plain": [
       "'HEALTHY'"
      ]
     },
     "execution_count": null,
     "metadata": {},
     "output_type": "execute_result"
    }
   ],
   "source": [
    "import time\n",
    "\n",
    "\n",
    "while not mlops_churn_deployment.is_healthy():\n",
    "    mlops_churn_deployment.raise_for_failure()\n",
    "    time.sleep(5)\n",
    "\n",
    "mlops_churn_deployment.status()"
   ]
  },
  {
   "cell_type": "markdown",
   "id": "4a13706d",
   "metadata": {},
   "source": [
    "### Make a prediction with new data"
   ]
  },
  {
   "cell_type": "code",
   "execution_count": null,
   "id": "1ebb6c43",
   "metadata": {},
   "outputs": [],
   "source": [
    "import requests\n",
    "import json"
   ]
  },
  {
   "cell_type": "code",
   "execution_count": null,
   "id": "ab5266a4",
   "metadata": {},
   "outputs": [
    {
     "data": {
      "text/plain": [
       "{'fields': ['State',\n",
       "  'Account Length',\n",
       "  'Area Code',\n",
       "  \"Int'l Plan\",\n",
       "  'VMail Plan',\n",
       "  'VMail Message',\n",
       "  'Day Mins',\n",
       "  'Day Calls',\n",
       "  'Day Charge',\n",
       "  'Eve Mins',\n",
       "  'Eve Calls',\n",
       "  'Eve Charge',\n",
       "  'Night Mins',\n",
       "  'Night Calls',\n",
       "  'Night Charge',\n",
       "  'Intl Mins',\n",
       "  'Intl Calls',\n",
       "  'Intl Charge',\n",
       "  'CustServ Calls'],\n",
       " 'rows': [['text',\n",
       "   '0',\n",
       "   '0',\n",
       "   'text',\n",
       "   'text',\n",
       "   '0',\n",
       "   '0',\n",
       "   '0',\n",
       "   '0',\n",
       "   '0',\n",
       "   '0',\n",
       "   '0',\n",
       "   '0',\n",
       "   '0',\n",
       "   '0',\n",
       "   '0',\n",
       "   '0',\n",
       "   '0',\n",
       "   '0']]}"
      ]
     },
     "execution_count": null,
     "metadata": {},
     "output_type": "execute_result"
    }
   ],
   "source": [
    "mlops_churn_deployment.get_sample_request()"
   ]
  },
  {
   "cell_type": "code",
   "execution_count": null,
   "id": "e148c10f",
   "metadata": {},
   "outputs": [
    {
     "data": {
      "text/plain": [
       "{'fields': ['Churn?.False.', 'Churn?.True.'],\n",
       " 'id': 'ca85ba4a-a01a-11ee-95af-425f7a7f3fbf',\n",
       " 'score': [['0.1944492202717737', '0.8055507797282263']]}"
      ]
     },
     "execution_count": null,
     "metadata": {},
     "output_type": "execute_result"
    }
   ],
   "source": [
    "import requests\n",
    "\n",
    "\n",
    "predictions = requests.post(\n",
    "    url=mlops_churn_deployment.url_for_scoring,\n",
    "    json=mlops_churn_deployment.get_sample_request()\n",
    ")\n",
    "\n",
    "predictions.json()"
   ]
  },
  {
   "cell_type": "code",
   "execution_count": null,
   "id": "e7623a0a",
   "metadata": {},
   "outputs": [
    {
     "name": "stdout",
     "output_type": "stream",
     "text": [
      "Churn Percent: 80.6%\n"
     ]
    }
   ],
   "source": [
    "print(f\"Churn Percent: {round(float(predictions.json()['score'][0][1]) * 100, 1)}%\")"
   ]
  },
  {
   "cell_type": "markdown",
   "id": "487f7042",
   "metadata": {},
   "source": [
    "## Clean up\n",
    "Delete our AutoML machine - we can import the project to any new Driverless AI machine, and the model will remain deployed to MLOps"
   ]
  },
  {
   "cell_type": "code",
   "execution_count": null,
   "id": "2ab0e051",
   "metadata": {},
   "outputs": [],
   "source": [
    "dai_engine.delete()"
   ]
  }
 ],
 "metadata": {
  "kernelspec": {
   "display_name": "python_kubernetes",
   "language": "python",
   "name": "python_kubernetes"
  }
 },
 "nbformat": 4,
 "nbformat_minor": 5
}

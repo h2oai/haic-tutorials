{
 "cells": [
  {
   "cell_type": "markdown",
   "metadata": {},
   "source": [
    "# MLOps \n",
    "\n",
    "This notebook is intended to help you get started managing your machine learning models and deployments in the H2O AI Cloud using python. \n",
    "\n",
    "* **Product Documentation:** https://docs.h2o.ai/mlops/\n",
    "* **Python Documentation:** https://docs.h2o.ai/mlops/py-client-installing/"
   ]
  },
  {
   "cell_type": "markdown",
   "metadata": {},
   "source": [
    "## Prerequisites\n",
    "This tutorial relies on the latest Steam SDK (1.8.11) which can be installed into a python environment by:\n",
    "\n",
    "1. Click on My AI Engines from the H2O AI Cloud and then `Python client` to download the wheel file\n",
    "2. Navigate to the location where the python client was downloaded and install the client using `pip install h2osteam-1.8.11-py2.py3-none-any.whl`\n",
    "\n",
    "We require the `h2o_authn` library for securely connecting to the H2O AI Cloud platform: `pip install h2o_authn`.\n",
    "\n",
    "We also set the following variables to connect to a specific H2O AI Cloud environment. They can be found by logging into the platform, clicking on your name, and choosing the `CLI & API Access` page. Then, copy values from the `Accessing H2O AI Cloud APIs` section."
   ]
  },
  {
   "cell_type": "code",
   "execution_count": 2,
   "metadata": {},
   "outputs": [],
   "source": [
    "CLIENT_ID = \"q8s-internal-platform\"\n",
    "TOKEN_ENDPOINT = \"https://auth.demo.h2o.ai/auth/realms/q8s-internal/protocol/openid-connect/token\"\n",
    "REFRESH_TOKEN = \"https://cloud-internal.h2o.ai/auth/get-platform-token\"\n",
    "\n",
    "H2O_MLOPS_GATEWAY = \"https://mlops-api.cloud-internal.h2o.ai\""
   ]
  },
  {
   "cell_type": "code",
   "execution_count": 54,
   "metadata": {},
   "outputs": [],
   "source": [
    "import requests\n",
    "import json\n",
    "from getpass import getpass\n",
    "\n",
    "import h2o_authn\n",
    "import h2o_mlops_client\n",
    "\n",
    "import pandas as pd"
   ]
  },
  {
   "cell_type": "markdown",
   "metadata": {},
   "source": [
    "## Securely connect to the platform\n",
    "We first connect to the H2O AI Cloud using our personal access token to create a token provider object. We can then use this object to log into Steam and other APIs."
   ]
  },
  {
   "cell_type": "code",
   "execution_count": 3,
   "metadata": {},
   "outputs": [
    {
     "name": "stdout",
     "output_type": "stream",
     "text": [
      "Visit https://cloud-internal.h2o.ai/auth/get-platform-token to get your personal access token\n",
      "Enter your access token: ········\n"
     ]
    }
   ],
   "source": [
    "print(f\"Visit {REFRESH_TOKEN} to get your personal access token\")\n",
    "tp = h2o_authn.TokenProvider(\n",
    "    refresh_token=getpass(\"Enter your access token: \"),\n",
    "    client_id=CLIENT_ID,\n",
    "    token_endpoint_url=TOKEN_ENDPOINT\n",
    ")"
   ]
  },
  {
   "cell_type": "markdown",
   "metadata": {},
   "source": [
    "## Connect to MLOps"
   ]
  },
  {
   "cell_type": "code",
   "execution_count": 6,
   "metadata": {},
   "outputs": [],
   "source": [
    "mlops = h2o_mlops_client.Client(\n",
    "    gateway_url=\"https://mlops-api.cloud-internal.h2o.ai\",\n",
    "    token_provider=tp,\n",
    ")"
   ]
  },
  {
   "cell_type": "markdown",
   "metadata": {},
   "source": [
    "## Projects"
   ]
  },
  {
   "cell_type": "markdown",
   "metadata": {},
   "source": [
    "### Create a project"
   ]
  },
  {
   "cell_type": "code",
   "execution_count": 12,
   "metadata": {},
   "outputs": [
    {
     "data": {
      "text/plain": [
       "{'project': {'created_time': datetime.datetime(2022, 4, 14, 0, 55, 28, 831332, tzinfo=tzutc()),\n",
       "             'description': 'Demo project for a tutorial',\n",
       "             'display_name': 'my_test_project',\n",
       "             'id': 'a53460b8-ef51-4940-8d6f-2a9ee1559413',\n",
       "             'last_modified_time': datetime.datetime(2022, 4, 14, 0, 55, 28, 831332, tzinfo=tzutc()),\n",
       "             'owner_id': '8e1c1f5d-4f7c-4385-96e5-373a6c7f01b8'}}"
      ]
     },
     "execution_count": 12,
     "metadata": {},
     "output_type": "execute_result"
    }
   ],
   "source": [
    "mlops.storage.project.create_project({\n",
    "    'project': {\n",
    "        'created_time': None,\n",
    "         'description': \"Demo project for a tutorial\",\n",
    "         'display_name': \"my_test_project\",\n",
    "         'id': None,\n",
    "         'last_modified_time': None,\n",
    "         'owner_id': None\n",
    "    }\n",
    "})"
   ]
  },
  {
   "cell_type": "markdown",
   "metadata": {},
   "source": [
    "### List all projects you have access to"
   ]
  },
  {
   "cell_type": "code",
   "execution_count": 14,
   "metadata": {},
   "outputs": [
    {
     "name": "stdout",
     "output_type": "stream",
     "text": [
      "4f3e354f-2881-4205-90df-a14733f7b012 ddeloy - test - 3 - link exp\n",
      "8da2ca70-5f56-41cf-a49a-299ce6656cca Customer Churn\n",
      "96898320-c062-4c9b-8ffc-167f14daeab3 Demo Diabetes\n",
      "a53460b8-ef51-4940-8d6f-2a9ee1559413 my_test_project\n",
      "d3f8a6dd-ae5a-42a4-ac2a-98dcc064e0b5 Credit Card Risk\n",
      "f4c890fb-a073-499e-9d17-806e7119b89b DAI 1.10.0\n",
      "fed67454-a829-4cb8-84f1-600171e5115f DAI 1.10.1 Test\n"
     ]
    }
   ],
   "source": [
    "my_projects = mlops.storage.project.list_projects(body={\n",
    "    'filter': None, \n",
    "    'paging': None, \n",
    "    'sorting': None\n",
    "}).project\n",
    "\n",
    "for p in my_projects:\n",
    "    print(p.id, p.display_name)"
   ]
  },
  {
   "cell_type": "markdown",
   "metadata": {},
   "source": [
    "### Select a specific project to work with\n",
    "We have previously created this project using Driverless AI and added models to it."
   ]
  },
  {
   "cell_type": "code",
   "execution_count": 15,
   "metadata": {},
   "outputs": [
    {
     "data": {
      "text/plain": [
       "{'project': {'created_time': datetime.datetime(2022, 2, 3, 14, 17, 32, 512774, tzinfo=tzutc()),\n",
       "             'description': 'Is my customer going to leave for a competitor?',\n",
       "             'display_name': 'Customer Churn',\n",
       "             'id': '8da2ca70-5f56-41cf-a49a-299ce6656cca',\n",
       "             'last_modified_time': datetime.datetime(2022, 2, 3, 14, 17, 32, 512774, tzinfo=tzutc()),\n",
       "             'owner_id': '8e1c1f5d-4f7c-4385-96e5-373a6c7f01b8'}}"
      ]
     },
     "execution_count": 15,
     "metadata": {},
     "output_type": "execute_result"
    }
   ],
   "source": [
    "USE_CASE_PROJECT = mlops.storage.project.get_project(body={\n",
    "    'project_id': '8da2ca70-5f56-41cf-a49a-299ce6656cca'\n",
    "})\n",
    "USE_CASE_PROJECT"
   ]
  },
  {
   "cell_type": "markdown",
   "metadata": {},
   "source": [
    "## Experiments"
   ]
  },
  {
   "cell_type": "markdown",
   "metadata": {},
   "source": [
    "### List experiments\n",
    "Get a list of all experiments that are in our project"
   ]
  },
  {
   "cell_type": "code",
   "execution_count": 16,
   "metadata": {},
   "outputs": [
    {
     "name": "stdout",
     "output_type": "stream",
     "text": [
      "ef67f078-84f9-11ec-a666-763498f6ea98 maforudu\n"
     ]
    }
   ],
   "source": [
    "my_project_experiments = mlops.storage.experiment.list_experiments({\n",
    "    'filter': None,\n",
    "    'paging': None,\n",
    "    'project_id': USE_CASE_PROJECT.project.id,\n",
    "    'response_metadata': None,\n",
    "    'sorting': None\n",
    "}).experiment\n",
    "\n",
    "for e in my_project_experiments:\n",
    "    print(e.id, e.display_name)"
   ]
  },
  {
   "cell_type": "markdown",
   "metadata": {},
   "source": [
    "### Select an experiment"
   ]
  },
  {
   "cell_type": "code",
   "execution_count": 17,
   "metadata": {},
   "outputs": [
    {
     "data": {
      "text/plain": [
       "{'experiment': {'created_time': datetime.datetime(2022, 2, 3, 14, 17, 40, 196245, tzinfo=tzutc()),\n",
       "                'display_name': 'maforudu',\n",
       "                'id': 'ef67f078-84f9-11ec-a666-763498f6ea98',\n",
       "                'last_modified_time': datetime.datetime(2022, 2, 3, 14, 17, 40, 196245, tzinfo=tzutc()),\n",
       "                'metadata': None,\n",
       "                'owner_id': '8e1c1f5d-4f7c-4385-96e5-373a6c7f01b8',\n",
       "                'parameters': {'fold_column': '',\n",
       "                               'target_column': 'Churn',\n",
       "                               'test_dataset_id': '',\n",
       "                               'training_dataset_id': '',\n",
       "                               'validation_dataset_id': '',\n",
       "                               'weight_column': ''},\n",
       "                'statistics': {'training_duration': '580s'},\n",
       "                'status': 'EXPERIMENT_STATUS_UNSPECIFIED',\n",
       "                'tag': []}}"
      ]
     },
     "execution_count": 17,
     "metadata": {},
     "output_type": "execute_result"
    }
   ],
   "source": [
    "USE_CASE_EXPERIMENT = mlops.storage.experiment.get_experiment({\n",
    "    'id': 'ef67f078-84f9-11ec-a666-763498f6ea98', \n",
    "    'response_metadata': None\n",
    "})\n",
    "USE_CASE_EXPERIMENT"
   ]
  },
  {
   "cell_type": "markdown",
   "metadata": {},
   "source": [
    "## Deployments"
   ]
  },
  {
   "cell_type": "markdown",
   "metadata": {},
   "source": [
    "### Deployment environment \n",
    "`Dev` and `Prod` are deployment environment tags that you can use for your model deployements. "
   ]
  },
  {
   "cell_type": "code",
   "execution_count": 19,
   "metadata": {},
   "outputs": [
    {
     "name": "stdout",
     "output_type": "stream",
     "text": [
      "0401dd3b-5804-478e-9e63-d4acbd3cee36 PROD\n",
      "4ad75d1f-18fc-4b8b-acb2-6ecf053d29f3 DEV\n"
     ]
    }
   ],
   "source": [
    "my_project_deployment_environments = mlops.storage.deployment_environment.list_deployment_environments(body={\n",
    "    'filter': None, \n",
    "    'paging': None, \n",
    "    'project_id': USE_CASE_PROJECT.project.id, \n",
    "    'sorting': None\n",
    "}).deployment_environment\n",
    "\n",
    "for de in my_project_deployment_environments:\n",
    "    print(de.id, de.display_name)"
   ]
  },
  {
   "cell_type": "code",
   "execution_count": 20,
   "metadata": {},
   "outputs": [
    {
     "data": {
      "text/plain": [
       "{'deployment_environment': {'created_time': datetime.datetime(2022, 2, 3, 14, 17, 32, 519740, tzinfo=tzutc()),\n",
       "                            'deployment_target_name': 'kubernetes',\n",
       "                            'display_name': 'DEV',\n",
       "                            'id': '4ad75d1f-18fc-4b8b-acb2-6ecf053d29f3',\n",
       "                            'last_modified_time': datetime.datetime(2022, 2, 3, 14, 17, 32, 519740, tzinfo=tzutc()),\n",
       "                            'project_id': '8da2ca70-5f56-41cf-a49a-299ce6656cca'}}"
      ]
     },
     "execution_count": 20,
     "metadata": {},
     "output_type": "execute_result"
    }
   ],
   "source": [
    "USE_CASE_DEPLOYMENT_EVN = mlops.storage.deployment_environment.get_deployment_environment({\n",
    "    'deployment_environment_id': '4ad75d1f-18fc-4b8b-acb2-6ecf053d29f3'\n",
    "})\n",
    "USE_CASE_DEPLOYMENT_EVN"
   ]
  },
  {
   "cell_type": "markdown",
   "metadata": {},
   "source": [
    "### Deployment Types\n",
    "Deployment types help MLOps understand how traffic should be routed when new data is sent for predictions."
   ]
  },
  {
   "cell_type": "code",
   "execution_count": 22,
   "metadata": {},
   "outputs": [
    {
     "data": {
      "text/plain": [
       "['DEPLOYMENT_TYPE_UNSPECIFIED',\n",
       " 'SINGLE_MODEL',\n",
       " 'SHADOW_TRAFFIC',\n",
       " 'SPLIT_TRAFFIC']"
      ]
     },
     "execution_count": 22,
     "metadata": {},
     "output_type": "execute_result"
    }
   ],
   "source": [
    "h2o_mlops_client.StorageDeploymentType().allowable_values"
   ]
  },
  {
   "cell_type": "code",
   "execution_count": 23,
   "metadata": {},
   "outputs": [],
   "source": [
    "USE_CASE_DEPLOYMENT = mlops.storage.deployment_environment.deploy({\n",
    "    'deployment_environment_id': USE_CASE_DEPLOYMENT_EVN.deployment_environment.id,\n",
    "    'experiment_id': USE_CASE_EXPERIMENT.experiment.id,\n",
    "    'metadata': None,\n",
    "    'response_metadata': None,\n",
    "    'secondary_scorer': None,\n",
    "    'type': h2o_mlops_client.StorageDeploymentType().SINGLE_MODEL\n",
    "})"
   ]
  },
  {
   "cell_type": "code",
   "execution_count": 24,
   "metadata": {},
   "outputs": [
    {
     "data": {
      "text/plain": [
       "{'deployment': {'created_time': datetime.datetime(2022, 4, 14, 1, 1, 40, 158206, tzinfo=tzutc()),\n",
       "                'deployer_data': '',\n",
       "                'deployer_data_version': '',\n",
       "                'deployment_environment_id': '4ad75d1f-18fc-4b8b-acb2-6ecf053d29f3',\n",
       "                'experiment_id': 'ef67f078-84f9-11ec-a666-763498f6ea98',\n",
       "                'id': 'bb4ae08e-1304-4245-a5a1-7837f9243d76',\n",
       "                'last_modified_time': datetime.datetime(2022, 4, 14, 1, 1, 40, 158206, tzinfo=tzutc()),\n",
       "                'metadata': None,\n",
       "                'project_id': '8da2ca70-5f56-41cf-a49a-299ce6656cca',\n",
       "                'secondary_scorer': [],\n",
       "                'type': 'SINGLE_MODEL'}}"
      ]
     },
     "execution_count": 24,
     "metadata": {},
     "output_type": "execute_result"
    }
   ],
   "source": [
    "USE_CASE_DEPLOYMENT"
   ]
  },
  {
   "cell_type": "markdown",
   "metadata": {},
   "source": [
    "### Deployment health\n",
    "Wait until our deployment has gone from launching to healthy"
   ]
  },
  {
   "cell_type": "code",
   "execution_count": 26,
   "metadata": {},
   "outputs": [],
   "source": [
    "while mlops.deployer.deployment_status.get_deployment_status({\n",
    "    'deployment_id': USE_CASE_DEPLOYMENT.deployment.id\n",
    "}).deployment_status == \"LAUNCHING\":\n",
    "    pass"
   ]
  },
  {
   "cell_type": "code",
   "execution_count": 27,
   "metadata": {},
   "outputs": [
    {
     "name": "stdout",
     "output_type": "stream",
     "text": [
      "HEALTHY\n",
      "https://model.cloud-internal.h2o.ai/bb4ae08e-1304-4245-a5a1-7837f9243d76/model/sample_request\n",
      "https://model.cloud-internal.h2o.ai/bb4ae08e-1304-4245-a5a1-7837f9243d76/model/score\n"
     ]
    }
   ],
   "source": [
    "DEPLOYMENT_STATUS = mlops.deployer.deployment_status.get_deployment_status({\n",
    "    'deployment_id': USE_CASE_DEPLOYMENT.deployment.id\n",
    "}).deployment_status\n",
    "\n",
    "print(DEPLOYMENT_STATUS.state)\n",
    "print(DEPLOYMENT_STATUS.scorer.sample_request.url)\n",
    "print(DEPLOYMENT_STATUS.scorer.score.url)"
   ]
  },
  {
   "cell_type": "markdown",
   "metadata": {},
   "source": [
    "## Make predictions\n",
    "Using the `https` library, we make predictions on new data"
   ]
  },
  {
   "cell_type": "code",
   "execution_count": 29,
   "metadata": {},
   "outputs": [
    {
     "data": {
      "text/plain": [
       "{'fields': ['Account_Length',\n",
       "  'International_Plan',\n",
       "  'No_Vmail_Messages',\n",
       "  'Total_Day_minutes',\n",
       "  'Total_Day_charge',\n",
       "  'Total_Eve_Minutes',\n",
       "  'Total_Eve_Charge',\n",
       "  'Total_Night_Minutes',\n",
       "  'Total_Night_Charge',\n",
       "  'Total_Intl_Calls',\n",
       "  'Total_Intl_Charge',\n",
       "  'No_CS_Calls'],\n",
       " 'rows': [['0', 'text', '0', '0', '0', '0', '0', '0', '0', '0', '0', '0']]}"
      ]
     },
     "execution_count": 29,
     "metadata": {},
     "output_type": "execute_result"
    }
   ],
   "source": [
    "sample_request_as_text = requests.get(DEPLOYMENT_STATUS.scorer.sample_request.url).text\n",
    "sample_request = json.loads(sample_request_as_text)\n",
    "sample_request"
   ]
  },
  {
   "cell_type": "code",
   "execution_count": 31,
   "metadata": {},
   "outputs": [
    {
     "data": {
      "text/plain": [
       "['Account_Length',\n",
       " 'International_Plan',\n",
       " 'No_Vmail_Messages',\n",
       " 'Total_Day_minutes',\n",
       " 'Total_Day_charge',\n",
       " 'Total_Eve_Minutes',\n",
       " 'Total_Eve_Charge',\n",
       " 'Total_Night_Minutes',\n",
       " 'Total_Night_Charge',\n",
       " 'Total_Intl_Calls',\n",
       " 'Total_Intl_Charge',\n",
       " 'No_CS_Calls']"
      ]
     },
     "execution_count": 31,
     "metadata": {},
     "output_type": "execute_result"
    }
   ],
   "source": [
    "fields = sample_request[\"fields\"]\n",
    "fields"
   ]
  },
  {
   "cell_type": "code",
   "execution_count": 32,
   "metadata": {},
   "outputs": [
    {
     "data": {
      "text/plain": [
       "['0', 'text', '0', '0', '0', '0', '0', '0', '0', '0', '0', '0']"
      ]
     },
     "execution_count": 32,
     "metadata": {},
     "output_type": "execute_result"
    }
   ],
   "source": [
    "sample_row = sample_request[\"rows\"][0]\n",
    "sample_row"
   ]
  },
  {
   "cell_type": "code",
   "execution_count": 50,
   "metadata": {},
   "outputs": [],
   "source": [
    "new_row = ['100', 'text', '100', '100', '100', '100', '100', '100', '100', '100', '100', '100']"
   ]
  },
  {
   "cell_type": "code",
   "execution_count": 51,
   "metadata": {},
   "outputs": [],
   "source": [
    "new_predictions = requests.post(\n",
    "    url=DEPLOYMENT_STATUS.scorer.score.url,\n",
    "    json={\n",
    "        'fields': fields,\n",
    "        'rows': [sample_row, new_row]\n",
    "    }\n",
    ")"
   ]
  },
  {
   "cell_type": "code",
   "execution_count": 52,
   "metadata": {},
   "outputs": [
    {
     "data": {
      "text/plain": [
       "<Response [200]>"
      ]
     },
     "execution_count": 52,
     "metadata": {},
     "output_type": "execute_result"
    }
   ],
   "source": [
    "new_predictions"
   ]
  },
  {
   "cell_type": "code",
   "execution_count": 55,
   "metadata": {},
   "outputs": [
    {
     "data": {
      "text/plain": [
       "{'fields': ['Churn.0', 'Churn.1'],\n",
       " 'id': 'ef67f078-84f9-11ec-a666-763498f6ea98',\n",
       " 'score': [['0.9908681401159277', '0.009131859884072276'],\n",
       "  ['0.40318780592960823', '0.5968121940703918']]}"
      ]
     },
     "execution_count": 55,
     "metadata": {},
     "output_type": "execute_result"
    }
   ],
   "source": [
    "predictions_dict = json.loads(new_predictions.text)\n",
    "predictions_dict"
   ]
  },
  {
   "cell_type": "code",
   "execution_count": 57,
   "metadata": {},
   "outputs": [
    {
     "data": {
      "text/html": [
       "<div>\n",
       "<style scoped>\n",
       "    .dataframe tbody tr th:only-of-type {\n",
       "        vertical-align: middle;\n",
       "    }\n",
       "\n",
       "    .dataframe tbody tr th {\n",
       "        vertical-align: top;\n",
       "    }\n",
       "\n",
       "    .dataframe thead th {\n",
       "        text-align: right;\n",
       "    }\n",
       "</style>\n",
       "<table border=\"1\" class=\"dataframe\">\n",
       "  <thead>\n",
       "    <tr style=\"text-align: right;\">\n",
       "      <th></th>\n",
       "      <th>Churn.0</th>\n",
       "      <th>Churn.1</th>\n",
       "    </tr>\n",
       "  </thead>\n",
       "  <tbody>\n",
       "    <tr>\n",
       "      <th>0</th>\n",
       "      <td>0.9908681401159277</td>\n",
       "      <td>0.009131859884072276</td>\n",
       "    </tr>\n",
       "    <tr>\n",
       "      <th>1</th>\n",
       "      <td>0.40318780592960823</td>\n",
       "      <td>0.5968121940703918</td>\n",
       "    </tr>\n",
       "  </tbody>\n",
       "</table>\n",
       "</div>"
      ],
      "text/plain": [
       "               Churn.0               Churn.1\n",
       "0   0.9908681401159277  0.009131859884072276\n",
       "1  0.40318780592960823    0.5968121940703918"
      ]
     },
     "execution_count": 57,
     "metadata": {},
     "output_type": "execute_result"
    }
   ],
   "source": [
    "pd.DataFrame(predictions_dict[\"score\"], columns=predictions_dict[\"fields\"])"
   ]
  },
  {
   "cell_type": "code",
   "execution_count": null,
   "metadata": {},
   "outputs": [],
   "source": []
  }
 ],
 "metadata": {
  "kernelspec": {
   "display_name": "Python 3 (ipykernel)",
   "language": "python",
   "name": "python3"
  },
  "language_info": {
   "codemirror_mode": {
    "name": "ipython",
    "version": 3
   },
   "file_extension": ".py",
   "mimetype": "text/x-python",
   "name": "python",
   "nbconvert_exporter": "python",
   "pygments_lexer": "ipython3",
   "version": "3.8.12"
  },
  "toc": {
   "base_numbering": 1,
   "nav_menu": {},
   "number_sections": true,
   "sideBar": true,
   "skip_h1_title": true,
   "title_cell": "Table of Contents",
   "title_sidebar": "Contents",
   "toc_cell": false,
   "toc_position": {},
   "toc_section_display": true,
   "toc_window_display": true
  }
 },
 "nbformat": 4,
 "nbformat_minor": 5
}

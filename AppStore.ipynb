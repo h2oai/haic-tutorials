{
 "cells": [
  {
   "cell_type": "markdown",
   "metadata": {},
   "source": [
    "# H2O App Store\n",
    "This notebook provides a getting started tutorial for how to securely connect to an instance of the H2O AI Cloud from a local workstation and then accomplish common tasks using the App Store SDK."
   ]
  },
  {
   "cell_type": "markdown",
   "metadata": {},
   "source": [
    "### Notebook Setup\n",
    "\n",
    "This tutorial relies on the latest App Store SDK which can be installed into a python environment using `https://h2o-public-test-data.s3.amazonaws.com/e2e-testing/appstore-0.8.0-py3-none-any.whl`.\n"
   ]
  },
  {
   "cell_type": "code",
   "execution_count": 3,
   "metadata": {},
   "outputs": [],
   "source": [
    "import appstore\n",
    "import getpass\n",
    "import pandas as pd"
   ]
  },
  {
   "cell_type": "markdown",
   "metadata": {},
   "source": [
    "## Table of Contents\n",
    "<div class=\"toc\"><ul class=\"toc-item\"><li><span><a href=\"#Notebook-Setup\" data-toc-modified-id=\"Notebook-Setup-1\"><span class=\"toc-item-num\">1&nbsp;&nbsp;</span>Notebook Setup</a></span></li><li><span><a href=\"#Securely-Connect\" data-toc-modified-id=\"Securely-Connect-2\"><span class=\"toc-item-num\">2&nbsp;&nbsp;</span>Securely Connect</a></span></li><li><span><a href=\"#Apps\" data-toc-modified-id=\"Apps-3\"><span class=\"toc-item-num\">3&nbsp;&nbsp;</span>Apps</a></span><ul class=\"toc-item\"><li><span><a href=\"#List-all-apps\" data-toc-modified-id=\"List-all-apps-3.1\"><span class=\"toc-item-num\">3.1&nbsp;&nbsp;</span>List all apps</a></span></li><li><span><a href=\"#Find-the-app-with-the-most-versions\" data-toc-modified-id=\"Find-the-app-with-the-most-versions-3.2\"><span class=\"toc-item-num\">3.2&nbsp;&nbsp;</span>Find the app with the most versions</a></span></li><li><span><a href=\"#List-all-apps-I-own\" data-toc-modified-id=\"List-all-apps-I-own-3.3\"><span class=\"toc-item-num\">3.3&nbsp;&nbsp;</span>List all apps I own</a></span></li><li><span><a href=\"#Change-the-visibility-of-an-app\" data-toc-modified-id=\"Change-the-visibility-of-an-app-3.4\"><span class=\"toc-item-num\">3.4&nbsp;&nbsp;</span>Change the visibility of an app</a></span></li><li><span><a href=\"#View-all-tags-assigned-to-an-app\" data-toc-modified-id=\"View-all-tags-assigned-to-an-app-3.5\"><span class=\"toc-item-num\">3.5&nbsp;&nbsp;</span>View all tags assigned to an app</a></span></li><li><span><a href=\"#List-of-tags\" data-toc-modified-id=\"List-of-tags-3.6\"><span class=\"toc-item-num\">3.6&nbsp;&nbsp;</span>List of tags</a></span></li><li><span><a href=\"#Add-a-new-category-tag-to-an-app\" data-toc-modified-id=\"Add-a-new-category-tag-to-an-app-3.7\"><span class=\"toc-item-num\">3.7&nbsp;&nbsp;</span>Add a new category tag to an app</a></span></li><li><span><a href=\"#Remove-a-category-tag-from-an-app\" data-toc-modified-id=\"Remove-a-category-tag-from-an-app-3.8\"><span class=\"toc-item-num\">3.8&nbsp;&nbsp;</span>Remove a category tag from an app</a></span></li></ul></li><li><span><a href=\"#App-Instances\" data-toc-modified-id=\"App-Instances-4\"><span class=\"toc-item-num\">4&nbsp;&nbsp;</span>App Instances</a></span><ul class=\"toc-item\"><li><span><a href=\"#Find-the-app-with-the-most-running-instances\" data-toc-modified-id=\"Find-the-app-with-the-most-running-instances-4.1\"><span class=\"toc-item-num\">4.1&nbsp;&nbsp;</span>Find the app with the most running instances</a></span></li><li><span><a href=\"#Start-a-new-instance\" data-toc-modified-id=\"Start-a-new-instance-4.2\"><span class=\"toc-item-num\">4.2&nbsp;&nbsp;</span>Start a new instance</a></span></li><li><span><a href=\"#List-all-instances-I-own\" data-toc-modified-id=\"List-all-instances-I-own-4.3\"><span class=\"toc-item-num\">4.3&nbsp;&nbsp;</span>List all instances I own</a></span></li><li><span><a href=\"#Pause-and-resume-an-instance\" data-toc-modified-id=\"Pause-and-resume-an-instance-4.4\"><span class=\"toc-item-num\">4.4&nbsp;&nbsp;</span>Pause and resume an instance</a></span></li><li><span><a href=\"#Delete-an-instance\" data-toc-modified-id=\"Delete-an-instance-4.5\"><span class=\"toc-item-num\">4.5&nbsp;&nbsp;</span>Delete an instance</a></span></li></ul></li></ul></div>"
   ]
  },
  {
   "cell_type": "markdown",
   "metadata": {},
   "source": [
    "## Securely Connect\n",
    "\n",
    "This setup will likely drastictly change later this week as the new connection method is released. We are starting with the App Store notebook as it is one of the few products which has an \"old way\" of connecting so we can begin before the feature is available"
   ]
  },
  {
   "cell_type": "markdown",
   "metadata": {},
   "source": [
    "### Appstore-Cloud-DEV"
   ]
  },
  {
   "cell_type": "code",
   "execution_count": null,
   "metadata": {},
   "outputs": [],
   "source": [
    "oidc_address = 'https://auth.cloud-dev.h2o.ai/auth/realms/hac-dev'\n",
    "client_id = 'hac-platform-public'\n",
    "refresh_token = 'https://cloud-dev.h2o.ai/auth/get-platform-token'\n",
    "endpoint = 'https://cloud-dev.h2o.ai'"
   ]
  },
  {
   "cell_type": "markdown",
   "metadata": {},
   "source": [
    "### Appstore-Cloud-Internal"
   ]
  },
  {
   "cell_type": "code",
   "execution_count": 7,
   "metadata": {},
   "outputs": [],
   "source": [
    "oidc_address = 'https://auth.demo.h2o.ai/auth/realms/q8s-internal'\n",
    "client_id = 'q8s-internal-platform'\n",
    "refresh_token = 'https://cloud-internal.h2o.ai/auth/get-platform-token'\n",
    "endpoint='https://cloud-internal.h2o.ai'"
   ]
  },
  {
   "cell_type": "markdown",
   "metadata": {},
   "source": [
    "### Appstore-Cloud-QA"
   ]
  },
  {
   "cell_type": "code",
   "execution_count": null,
   "metadata": {},
   "outputs": [],
   "source": [
    "oidc_address = 'https://auth.demo.h2o.ai/auth/realms/q8s-qa'\n",
    "client_id = 'q8s-qa-public'\n",
    "refresh_token = 'https://cloud-qa.h2o.ai/auth/get-platform-token'\n",
    "endpoint='https://cloud-qa.h2o.ai'"
   ]
  },
  {
   "cell_type": "markdown",
   "metadata": {},
   "source": [
    "### Appstore-ManagedCloud-QA"
   ]
  },
  {
   "cell_type": "code",
   "execution_count": null,
   "metadata": {},
   "outputs": [],
   "source": [
    "oidc_address = 'https://auth.1736965.dedicated.h2o.ai/auth/realms/hac'\n",
    "client_id = 'hac-appstore-public'\n",
    "refresh_token = 'https://1736965.dedicated.h2o.ai/auth/get-platform-token'\n",
    "endpoint = 'https://1736965.dedicated.h2o.ai'"
   ]
  },
  {
   "cell_type": "markdown",
   "metadata": {},
   "source": [
    "### Appstore-Cloud.H2O.Ai"
   ]
  },
  {
   "cell_type": "code",
   "execution_count": 1,
   "metadata": {},
   "outputs": [],
   "source": [
    "oidc_address = 'https://auth.cloud.h2o.ai/auth/realms/hac'\n",
    "client_id = 'appstore-public'\n",
    "refresh_token = 'https://cloud.h2o.ai/auth/get-platform-token'\n",
    "endpoint = 'https://cloud.h2o.ai'"
   ]
  },
  {
   "cell_type": "markdown",
   "metadata": {},
   "source": [
    "Refresh token"
   ]
  },
  {
   "cell_type": "code",
   "execution_count": 8,
   "metadata": {},
   "outputs": [
    {
     "name": "stdout",
     "output_type": "stream",
     "text": [
      "Click link to get personalized password: https://cloud-internal.h2o.ai/auth/get-platform-token\n",
      "········\n"
     ]
    }
   ],
   "source": [
    "print('Click link to get personalized password:', refresh_token)\n",
    "cp = appstore.TokenContextProvider(\n",
    "    oidc_address,\n",
    "    client_id,\n",
    "    token = getpass.getpass()\n",
    ")\n"
   ]
  },
  {
   "cell_type": "code",
   "execution_count": 9,
   "metadata": {},
   "outputs": [],
   "source": [
    "app_service = appstore.AppServiceClient(endpoint)\n",
    "tag_service = appstore.TagServiceClient(endpoint)"
   ]
  },
  {
   "cell_type": "markdown",
   "metadata": {},
   "source": [
    "\n",
    "## Apps"
   ]
  },
  {
   "cell_type": "markdown",
   "metadata": {},
   "source": [
    "### List all apps\n",
    "The following function lists all the apps that are owned by all users, running or suspended. You can see various attributes of the app such as id, version, title, status, visibility, and more!\n"
   ]
  },
  {
   "cell_type": "code",
   "execution_count": 10,
   "metadata": {},
   "outputs": [],
   "source": [
    "apps_protobuf = app_service.ListApps(\n",
    "    ctx = cp.ctx(),\n",
    "    request = appstore.ListAppsRequest(\n",
    "        offset = 0,\n",
    "        limit = 100,\n",
    "        all_users = True\n",
    "    ),\n",
    ").apps"
   ]
  },
  {
   "cell_type": "code",
   "execution_count": 11,
   "metadata": {},
   "outputs": [
    {
     "data": {
      "text/html": [
       "<div>\n",
       "<style scoped>\n",
       "    .dataframe tbody tr th:only-of-type {\n",
       "        vertical-align: middle;\n",
       "    }\n",
       "\n",
       "    .dataframe tbody tr th {\n",
       "        vertical-align: top;\n",
       "    }\n",
       "\n",
       "    .dataframe thead th {\n",
       "        text-align: right;\n",
       "    }\n",
       "</style>\n",
       "<table border=\"1\" class=\"dataframe\">\n",
       "  <thead>\n",
       "    <tr style=\"text-align: right;\">\n",
       "      <th></th>\n",
       "      <th>App Name</th>\n",
       "      <th>App Version</th>\n",
       "      <th>App ID</th>\n",
       "      <th>Creation Date</th>\n",
       "      <th>Visibility</th>\n",
       "    </tr>\n",
       "  </thead>\n",
       "  <tbody>\n",
       "    <tr>\n",
       "      <th>0</th>\n",
       "      <td>Model Validation</td>\n",
       "      <td>0.13.0</td>\n",
       "      <td>da204808-f642-45d2-8c38-a2121002cb9a</td>\n",
       "      <td>seconds: 1648492959\\nnanos: 934145000\\n</td>\n",
       "      <td>H2O Employees</td>\n",
       "    </tr>\n",
       "    <tr>\n",
       "      <th>1</th>\n",
       "      <td>H2O Model Analyzer</td>\n",
       "      <td>0.0.4</td>\n",
       "      <td>befefe3b-60b6-4ff4-9d6d-689009dc61f4</td>\n",
       "      <td>seconds: 1648491083\\nnanos: 694042000\\n</td>\n",
       "      <td>H2O Employees</td>\n",
       "    </tr>\n",
       "    <tr>\n",
       "      <th>2</th>\n",
       "      <td>User Usage Reporting Dev</td>\n",
       "      <td>0.1.22</td>\n",
       "      <td>9922725a-6b48-48c2-8fad-d74e8b1af7ea</td>\n",
       "      <td>seconds: 1648232462\\nnanos: 740402000\\n</td>\n",
       "      <td>H2O Employees</td>\n",
       "    </tr>\n",
       "    <tr>\n",
       "      <th>3</th>\n",
       "      <td>Vaccine NLP</td>\n",
       "      <td>0.1.6</td>\n",
       "      <td>86f78c48-dec9-42e2-b615-a9978ba62027</td>\n",
       "      <td>seconds: 1648153755\\nnanos: 60939000\\n</td>\n",
       "      <td>H2O Employees</td>\n",
       "    </tr>\n",
       "    <tr>\n",
       "      <th>4</th>\n",
       "      <td>H2O Image Styling playground</td>\n",
       "      <td>0.0.2</td>\n",
       "      <td>fb001b69-46f2-44e4-9c32-ac4874277e33</td>\n",
       "      <td>seconds: 1648115116\\nnanos: 959528000\\n</td>\n",
       "      <td>H2O Employees</td>\n",
       "    </tr>\n",
       "    <tr>\n",
       "      <th>5</th>\n",
       "      <td>Data Profiling</td>\n",
       "      <td>1.0.1</td>\n",
       "      <td>c090d7bd-22f1-45f2-9ebf-967c73849ab6</td>\n",
       "      <td>seconds: 1647987669\\nnanos: 193662000\\n</td>\n",
       "      <td>H2O Employees</td>\n",
       "    </tr>\n",
       "    <tr>\n",
       "      <th>6</th>\n",
       "      <td>H2O Drive</td>\n",
       "      <td>0.3.3</td>\n",
       "      <td>746fef67-261b-457a-8baa-ac9aa49b3d30</td>\n",
       "      <td>seconds: 1647833117\\nnanos: 687929000\\n</td>\n",
       "      <td>H2O Employees</td>\n",
       "    </tr>\n",
       "    <tr>\n",
       "      <th>7</th>\n",
       "      <td>H2O.ai and Snowflake Integration</td>\n",
       "      <td>4.2.2</td>\n",
       "      <td>af7763c3-cdd7-4216-bf3b-f4cc0d0e42ec</td>\n",
       "      <td>seconds: 1647809156\\nnanos: 300820000\\n</td>\n",
       "      <td>H2O Employees</td>\n",
       "    </tr>\n",
       "    <tr>\n",
       "      <th>8</th>\n",
       "      <td>AI Unit Consumption</td>\n",
       "      <td>0.0.6</td>\n",
       "      <td>48d39a39-2b84-4477-b0d9-b6395a773b36</td>\n",
       "      <td>seconds: 1647757955\\nnanos: 853243000\\n</td>\n",
       "      <td>H2O Employees</td>\n",
       "    </tr>\n",
       "    <tr>\n",
       "      <th>9</th>\n",
       "      <td>Tree analysis app</td>\n",
       "      <td>0.1.1-20220318184237</td>\n",
       "      <td>b58f88b6-fb7a-4f65-9077-09514cd28ac5</td>\n",
       "      <td>seconds: 1647650562\\nnanos: 435646000\\n</td>\n",
       "      <td>H2O Employees</td>\n",
       "    </tr>\n",
       "    <tr>\n",
       "      <th>10</th>\n",
       "      <td>Exploring Telco Churn</td>\n",
       "      <td>1.0.0</td>\n",
       "      <td>e5860b48-9ee5-4efc-ad26-7fb9f4df5929</td>\n",
       "      <td>seconds: 1647638114\\nnanos: 461879000\\n</td>\n",
       "      <td>H2O Employees</td>\n",
       "    </tr>\n",
       "    <tr>\n",
       "      <th>11</th>\n",
       "      <td>Telco Churn Predictions</td>\n",
       "      <td>1.0.0</td>\n",
       "      <td>dcb1abff-52b1-4829-a74e-c39ac5edff3f</td>\n",
       "      <td>seconds: 1647628258\\nnanos: 91705000\\n</td>\n",
       "      <td>H2O Employees</td>\n",
       "    </tr>\n",
       "    <tr>\n",
       "      <th>12</th>\n",
       "      <td>Text Data Labeling</td>\n",
       "      <td>0.10.5</td>\n",
       "      <td>4a17cd17-92a7-4086-ab26-ccce34d217cb</td>\n",
       "      <td>seconds: 1647555670\\nnanos: 400586000\\n</td>\n",
       "      <td>H2O Employees</td>\n",
       "    </tr>\n",
       "    <tr>\n",
       "      <th>13</th>\n",
       "      <td>Meta Kaggle</td>\n",
       "      <td>0.0.12-20220317151334</td>\n",
       "      <td>d0394e56-3513-4597-9788-e4164afe6849</td>\n",
       "      <td>seconds: 1647526418\\nnanos: 668032000\\n</td>\n",
       "      <td>H2O Employees</td>\n",
       "    </tr>\n",
       "    <tr>\n",
       "      <th>14</th>\n",
       "      <td>Covid-19 Vaccination Progress</td>\n",
       "      <td>0.5</td>\n",
       "      <td>decef640-f198-4ad6-8e15-fbd36842a214</td>\n",
       "      <td>seconds: 1647411483\\nnanos: 598742000\\n</td>\n",
       "      <td>H2O Employees</td>\n",
       "    </tr>\n",
       "    <tr>\n",
       "      <th>15</th>\n",
       "      <td>H2O AutoDoc</td>\n",
       "      <td>0.8.0</td>\n",
       "      <td>282afe5d-435e-456e-8951-9398cf23f393</td>\n",
       "      <td>seconds: 1647408479\\nnanos: 602599000\\n</td>\n",
       "      <td>H2O Employees</td>\n",
       "    </tr>\n",
       "    <tr>\n",
       "      <th>16</th>\n",
       "      <td>H2O Zen</td>\n",
       "      <td>0.1.1</td>\n",
       "      <td>be15f712-e00a-4cdf-a421-4b52787a9c9b</td>\n",
       "      <td>seconds: 1647382130\\nnanos: 373048000\\n</td>\n",
       "      <td>H2O Employees</td>\n",
       "    </tr>\n",
       "    <tr>\n",
       "      <th>17</th>\n",
       "      <td>Cloud Trial Management</td>\n",
       "      <td>0.0.10</td>\n",
       "      <td>9cc863b9-35c0-4145-8c7e-216e484eeb43</td>\n",
       "      <td>seconds: 1647377014\\nnanos: 467355000\\n</td>\n",
       "      <td>H2O Employees</td>\n",
       "    </tr>\n",
       "    <tr>\n",
       "      <th>18</th>\n",
       "      <td>Text Data Labeling</td>\n",
       "      <td>0.10.4</td>\n",
       "      <td>d937c0f1-8689-468d-9264-6a1cc27b4e61</td>\n",
       "      <td>seconds: 1647369743\\nnanos: 815668000\\n</td>\n",
       "      <td>H2O Employees</td>\n",
       "    </tr>\n",
       "    <tr>\n",
       "      <th>19</th>\n",
       "      <td>H2O.ai and Snowflake Integration</td>\n",
       "      <td>4.2.1</td>\n",
       "      <td>5111e1e0-87d6-4590-aa49-d2eeb6a7ae8b</td>\n",
       "      <td>seconds: 1647368641\\nnanos: 753772000\\n</td>\n",
       "      <td>H2O Employees</td>\n",
       "    </tr>\n",
       "    <tr>\n",
       "      <th>20</th>\n",
       "      <td>Inter-County Mobility (During Covid19)</td>\n",
       "      <td>0.1</td>\n",
       "      <td>428b9a03-535e-4d9f-a253-35e517651d75</td>\n",
       "      <td>seconds: 1647349168\\nnanos: 298912000\\n</td>\n",
       "      <td>H2O Employees</td>\n",
       "    </tr>\n",
       "    <tr>\n",
       "      <th>21</th>\n",
       "      <td>H2O AutoInsights</td>\n",
       "      <td>0.6.8</td>\n",
       "      <td>351263c7-5317-404a-a1c6-17ce95e908a1</td>\n",
       "      <td>seconds: 1647108845\\nnanos: 697461000\\n</td>\n",
       "      <td>H2O Employees</td>\n",
       "    </tr>\n",
       "    <tr>\n",
       "      <th>22</th>\n",
       "      <td>Auth Testing</td>\n",
       "      <td>0.0.1-20220311145629</td>\n",
       "      <td>63150161-654d-4e0d-8fa1-8f2d00296816</td>\n",
       "      <td>seconds: 1647039391\\nnanos: 246048000\\n</td>\n",
       "      <td>H2O Employees</td>\n",
       "    </tr>\n",
       "    <tr>\n",
       "      <th>23</th>\n",
       "      <td>Debiasing app</td>\n",
       "      <td>0.1.3</td>\n",
       "      <td>5ad7317e-5ed0-499f-b117-3f66f261e1b1</td>\n",
       "      <td>seconds: 1647035322\\nnanos: 92011000\\n</td>\n",
       "      <td>H2O Employees</td>\n",
       "    </tr>\n",
       "    <tr>\n",
       "      <th>24</th>\n",
       "      <td>Debiasing app</td>\n",
       "      <td>0.1.2</td>\n",
       "      <td>515bd29e-9bd5-4335-b373-896a74546753</td>\n",
       "      <td>seconds: 1647034342\\nnanos: 137923000\\n</td>\n",
       "      <td>H2O Employees</td>\n",
       "    </tr>\n",
       "    <tr>\n",
       "      <th>25</th>\n",
       "      <td>H2O.ai and Snowflake Integration</td>\n",
       "      <td>4.2.0</td>\n",
       "      <td>563762c1-9e21-42fa-a32e-1fb0e0e919d1</td>\n",
       "      <td>seconds: 1647032215\\nnanos: 453339000\\n</td>\n",
       "      <td>H2O Employees</td>\n",
       "    </tr>\n",
       "    <tr>\n",
       "      <th>26</th>\n",
       "      <td>Chest Abnormality Detection</td>\n",
       "      <td>0.1.1</td>\n",
       "      <td>3a16c811-ecae-4b7d-9c2b-e28614ed2027</td>\n",
       "      <td>seconds: 1647028603\\nnanos: 891314000\\n</td>\n",
       "      <td>H2O Employees</td>\n",
       "    </tr>\n",
       "    <tr>\n",
       "      <th>27</th>\n",
       "      <td>H2O MLOps</td>\n",
       "      <td>0.54.5</td>\n",
       "      <td>0a3391a3-33f5-4642-9b46-2a1e38283e20</td>\n",
       "      <td>seconds: 1647027073\\nnanos: 738945000\\n</td>\n",
       "      <td>H2O Employees</td>\n",
       "    </tr>\n",
       "    <tr>\n",
       "      <th>28</th>\n",
       "      <td>Hello, World!</td>\n",
       "      <td>0.0.1</td>\n",
       "      <td>c101c116-d050-455a-834b-eb4fc2ad67d7</td>\n",
       "      <td>seconds: 1647013089\\nnanos: 353916000\\n</td>\n",
       "      <td>H2O Employees</td>\n",
       "    </tr>\n",
       "    <tr>\n",
       "      <th>29</th>\n",
       "      <td>H2O Model Analyzer</td>\n",
       "      <td>0.0.3</td>\n",
       "      <td>18987445-cf5a-406c-ab6b-7ee014541370</td>\n",
       "      <td>seconds: 1647001414\\nnanos: 655367000\\n</td>\n",
       "      <td>H2O Employees</td>\n",
       "    </tr>\n",
       "    <tr>\n",
       "      <th>30</th>\n",
       "      <td>MLOps Prediction Demo</td>\n",
       "      <td>0.0.1</td>\n",
       "      <td>b7504ccf-aed5-466b-ba02-12bc922a7a5b</td>\n",
       "      <td>seconds: 1646955067\\nnanos: 306193000\\n</td>\n",
       "      <td>H2O Employees</td>\n",
       "    </tr>\n",
       "    <tr>\n",
       "      <th>31</th>\n",
       "      <td>Employee Churn Prediction</td>\n",
       "      <td>1.4.1</td>\n",
       "      <td>57fb5b15-1846-454f-87cc-05bc4a25a5ee</td>\n",
       "      <td>seconds: 1646925927\\nnanos: 55467000\\n</td>\n",
       "      <td>H2O Employees</td>\n",
       "    </tr>\n",
       "    <tr>\n",
       "      <th>32</th>\n",
       "      <td>COVID-19 Hospital Occupancy Simulator</td>\n",
       "      <td>0.2.5</td>\n",
       "      <td>c4727711-ece0-41db-ae08-8e6681724786</td>\n",
       "      <td>seconds: 1646916498\\nnanos: 36211000\\n</td>\n",
       "      <td>H2O Employees</td>\n",
       "    </tr>\n",
       "    <tr>\n",
       "      <th>33</th>\n",
       "      <td>Gene Mutation AI</td>\n",
       "      <td>0.1.1</td>\n",
       "      <td>9070b583-f739-4015-a33d-ec6f2aa4089a</td>\n",
       "      <td>seconds: 1646899965\\nnanos: 157899000\\n</td>\n",
       "      <td>H2O Employees</td>\n",
       "    </tr>\n",
       "    <tr>\n",
       "      <th>34</th>\n",
       "      <td>Snowflake &amp; H2O.ai</td>\n",
       "      <td>4.1.0</td>\n",
       "      <td>7981f5ed-958b-4190-8886-2dadf6f8c3a9</td>\n",
       "      <td>seconds: 1646859000\\nnanos: 475567000\\n</td>\n",
       "      <td>H2O Employees</td>\n",
       "    </tr>\n",
       "    <tr>\n",
       "      <th>35</th>\n",
       "      <td>Loan Application Default Risk</td>\n",
       "      <td>0.0.4</td>\n",
       "      <td>583c8798-9a7f-48b1-92c7-6647773df5b6</td>\n",
       "      <td>seconds: 1646847934\\nnanos: 972837000\\n</td>\n",
       "      <td>H2O Employees</td>\n",
       "    </tr>\n",
       "    <tr>\n",
       "      <th>36</th>\n",
       "      <td>COVID-19 Hospital Occupancy Simulator</td>\n",
       "      <td>0.2.4</td>\n",
       "      <td>d9fb477f-0bd3-4887-bbce-bf4828304fcf</td>\n",
       "      <td>seconds: 1646843130\\nnanos: 634660000\\n</td>\n",
       "      <td>H2O Employees</td>\n",
       "    </tr>\n",
       "    <tr>\n",
       "      <th>37</th>\n",
       "      <td>Gene Mutation AI</td>\n",
       "      <td>0.1.0</td>\n",
       "      <td>65baf94f-364b-405d-901b-201d39b06215</td>\n",
       "      <td>seconds: 1646837706\\nnanos: 145335000\\n</td>\n",
       "      <td>H2O Employees</td>\n",
       "    </tr>\n",
       "    <tr>\n",
       "      <th>38</th>\n",
       "      <td>Predicting Vaccine's adverse impact</td>\n",
       "      <td>0.1.0</td>\n",
       "      <td>b6be36ca-80a2-40eb-bcf7-923e79f30458</td>\n",
       "      <td>seconds: 1646835431\\nnanos: 677080000\\n</td>\n",
       "      <td>H2O Employees</td>\n",
       "    </tr>\n",
       "    <tr>\n",
       "      <th>39</th>\n",
       "      <td>Customer 360</td>\n",
       "      <td>0.0.3</td>\n",
       "      <td>c14b598c-c17f-4b15-baaf-8f967271c960</td>\n",
       "      <td>seconds: 1646831130\\nnanos: 635366000\\n</td>\n",
       "      <td>H2O Employees</td>\n",
       "    </tr>\n",
       "    <tr>\n",
       "      <th>40</th>\n",
       "      <td>Cytopathology AI</td>\n",
       "      <td>1.0.0</td>\n",
       "      <td>ec7fe8b9-a89e-4bae-9a88-3e76d64bb7aa</td>\n",
       "      <td>seconds: 1646811571\\nnanos: 909984000\\n</td>\n",
       "      <td>H2O Employees</td>\n",
       "    </tr>\n",
       "    <tr>\n",
       "      <th>41</th>\n",
       "      <td>H2O AutoDoc</td>\n",
       "      <td>0.8.0-beta.2</td>\n",
       "      <td>517d1797-0ec1-4ef5-ba90-6df424759aea</td>\n",
       "      <td>seconds: 1646800307\\nnanos: 812400000\\n</td>\n",
       "      <td>H2O Employees</td>\n",
       "    </tr>\n",
       "    <tr>\n",
       "      <th>42</th>\n",
       "      <td>H2O &amp; Snowflake Partner Connect</td>\n",
       "      <td>1.0.3</td>\n",
       "      <td>3f7bf52c-d6e0-4e90-9972-ff41577f81b9</td>\n",
       "      <td>seconds: 1646741075\\nnanos: 722800000\\n</td>\n",
       "      <td>H2O Employees</td>\n",
       "    </tr>\n",
       "    <tr>\n",
       "      <th>43</th>\n",
       "      <td>Loan Application Default Risk</td>\n",
       "      <td>0.0.2</td>\n",
       "      <td>3c3aeddd-4c63-4e3e-b7f3-1083a9c97823</td>\n",
       "      <td>seconds: 1646737508\\nnanos: 304729000\\n</td>\n",
       "      <td>H2O Employees</td>\n",
       "    </tr>\n",
       "    <tr>\n",
       "      <th>44</th>\n",
       "      <td>H2O Image Styling playground</td>\n",
       "      <td>0.0.1</td>\n",
       "      <td>88320b44-65cf-4cf9-b754-3152c433ced9</td>\n",
       "      <td>seconds: 1646673304\\nnanos: 372284000\\n</td>\n",
       "      <td>H2O Employees</td>\n",
       "    </tr>\n",
       "    <tr>\n",
       "      <th>45</th>\n",
       "      <td>H2O Gene Mutation AI</td>\n",
       "      <td>1.7.9</td>\n",
       "      <td>16965aa6-66ac-4940-a0fc-bd4f90f04ea8</td>\n",
       "      <td>seconds: 1646659601\\nnanos: 399390000\\n</td>\n",
       "      <td>H2O Employees</td>\n",
       "    </tr>\n",
       "    <tr>\n",
       "      <th>46</th>\n",
       "      <td>Debiasing app</td>\n",
       "      <td>0.1.1</td>\n",
       "      <td>9107e475-5736-406f-a579-fbab1a2dc932</td>\n",
       "      <td>seconds: 1646335977\\nnanos: 840113000\\n</td>\n",
       "      <td>H2O Employees</td>\n",
       "    </tr>\n",
       "    <tr>\n",
       "      <th>47</th>\n",
       "      <td>H2O Model Analyzer</td>\n",
       "      <td>0.0.2</td>\n",
       "      <td>ac3b96ea-d603-4c0a-9005-c1a9644a5d85</td>\n",
       "      <td>seconds: 1646334142\\nnanos: 241610000\\n</td>\n",
       "      <td>H2O Employees</td>\n",
       "    </tr>\n",
       "  </tbody>\n",
       "</table>\n",
       "</div>"
      ],
      "text/plain": [
       "                                  App Name            App Version  \\\n",
       "0                         Model Validation                 0.13.0   \n",
       "1                       H2O Model Analyzer                  0.0.4   \n",
       "2                 User Usage Reporting Dev                 0.1.22   \n",
       "3                              Vaccine NLP                  0.1.6   \n",
       "4             H2O Image Styling playground                  0.0.2   \n",
       "5                           Data Profiling                  1.0.1   \n",
       "6                                H2O Drive                  0.3.3   \n",
       "7         H2O.ai and Snowflake Integration                  4.2.2   \n",
       "8                      AI Unit Consumption                  0.0.6   \n",
       "9                        Tree analysis app   0.1.1-20220318184237   \n",
       "10                   Exploring Telco Churn                  1.0.0   \n",
       "11                 Telco Churn Predictions                  1.0.0   \n",
       "12                      Text Data Labeling                 0.10.5   \n",
       "13                             Meta Kaggle  0.0.12-20220317151334   \n",
       "14           Covid-19 Vaccination Progress                    0.5   \n",
       "15                             H2O AutoDoc                  0.8.0   \n",
       "16                                 H2O Zen                  0.1.1   \n",
       "17                  Cloud Trial Management                 0.0.10   \n",
       "18                      Text Data Labeling                 0.10.4   \n",
       "19        H2O.ai and Snowflake Integration                  4.2.1   \n",
       "20  Inter-County Mobility (During Covid19)                    0.1   \n",
       "21                        H2O AutoInsights                  0.6.8   \n",
       "22                            Auth Testing   0.0.1-20220311145629   \n",
       "23                           Debiasing app                  0.1.3   \n",
       "24                           Debiasing app                  0.1.2   \n",
       "25        H2O.ai and Snowflake Integration                  4.2.0   \n",
       "26             Chest Abnormality Detection                  0.1.1   \n",
       "27                               H2O MLOps                 0.54.5   \n",
       "28                           Hello, World!                  0.0.1   \n",
       "29                      H2O Model Analyzer                  0.0.3   \n",
       "30                   MLOps Prediction Demo                  0.0.1   \n",
       "31               Employee Churn Prediction                  1.4.1   \n",
       "32  COVID-19 Hospital Occupancy Simulator                   0.2.5   \n",
       "33                        Gene Mutation AI                  0.1.1   \n",
       "34                      Snowflake & H2O.ai                  4.1.0   \n",
       "35           Loan Application Default Risk                  0.0.4   \n",
       "36  COVID-19 Hospital Occupancy Simulator                   0.2.4   \n",
       "37                        Gene Mutation AI                  0.1.0   \n",
       "38     Predicting Vaccine's adverse impact                  0.1.0   \n",
       "39                            Customer 360                  0.0.3   \n",
       "40                        Cytopathology AI                  1.0.0   \n",
       "41                             H2O AutoDoc           0.8.0-beta.2   \n",
       "42         H2O & Snowflake Partner Connect                  1.0.3   \n",
       "43           Loan Application Default Risk                  0.0.2   \n",
       "44            H2O Image Styling playground                  0.0.1   \n",
       "45                    H2O Gene Mutation AI                  1.7.9   \n",
       "46                           Debiasing app                  0.1.1   \n",
       "47                      H2O Model Analyzer                  0.0.2   \n",
       "\n",
       "                                  App ID  \\\n",
       "0   da204808-f642-45d2-8c38-a2121002cb9a   \n",
       "1   befefe3b-60b6-4ff4-9d6d-689009dc61f4   \n",
       "2   9922725a-6b48-48c2-8fad-d74e8b1af7ea   \n",
       "3   86f78c48-dec9-42e2-b615-a9978ba62027   \n",
       "4   fb001b69-46f2-44e4-9c32-ac4874277e33   \n",
       "5   c090d7bd-22f1-45f2-9ebf-967c73849ab6   \n",
       "6   746fef67-261b-457a-8baa-ac9aa49b3d30   \n",
       "7   af7763c3-cdd7-4216-bf3b-f4cc0d0e42ec   \n",
       "8   48d39a39-2b84-4477-b0d9-b6395a773b36   \n",
       "9   b58f88b6-fb7a-4f65-9077-09514cd28ac5   \n",
       "10  e5860b48-9ee5-4efc-ad26-7fb9f4df5929   \n",
       "11  dcb1abff-52b1-4829-a74e-c39ac5edff3f   \n",
       "12  4a17cd17-92a7-4086-ab26-ccce34d217cb   \n",
       "13  d0394e56-3513-4597-9788-e4164afe6849   \n",
       "14  decef640-f198-4ad6-8e15-fbd36842a214   \n",
       "15  282afe5d-435e-456e-8951-9398cf23f393   \n",
       "16  be15f712-e00a-4cdf-a421-4b52787a9c9b   \n",
       "17  9cc863b9-35c0-4145-8c7e-216e484eeb43   \n",
       "18  d937c0f1-8689-468d-9264-6a1cc27b4e61   \n",
       "19  5111e1e0-87d6-4590-aa49-d2eeb6a7ae8b   \n",
       "20  428b9a03-535e-4d9f-a253-35e517651d75   \n",
       "21  351263c7-5317-404a-a1c6-17ce95e908a1   \n",
       "22  63150161-654d-4e0d-8fa1-8f2d00296816   \n",
       "23  5ad7317e-5ed0-499f-b117-3f66f261e1b1   \n",
       "24  515bd29e-9bd5-4335-b373-896a74546753   \n",
       "25  563762c1-9e21-42fa-a32e-1fb0e0e919d1   \n",
       "26  3a16c811-ecae-4b7d-9c2b-e28614ed2027   \n",
       "27  0a3391a3-33f5-4642-9b46-2a1e38283e20   \n",
       "28  c101c116-d050-455a-834b-eb4fc2ad67d7   \n",
       "29  18987445-cf5a-406c-ab6b-7ee014541370   \n",
       "30  b7504ccf-aed5-466b-ba02-12bc922a7a5b   \n",
       "31  57fb5b15-1846-454f-87cc-05bc4a25a5ee   \n",
       "32  c4727711-ece0-41db-ae08-8e6681724786   \n",
       "33  9070b583-f739-4015-a33d-ec6f2aa4089a   \n",
       "34  7981f5ed-958b-4190-8886-2dadf6f8c3a9   \n",
       "35  583c8798-9a7f-48b1-92c7-6647773df5b6   \n",
       "36  d9fb477f-0bd3-4887-bbce-bf4828304fcf   \n",
       "37  65baf94f-364b-405d-901b-201d39b06215   \n",
       "38  b6be36ca-80a2-40eb-bcf7-923e79f30458   \n",
       "39  c14b598c-c17f-4b15-baaf-8f967271c960   \n",
       "40  ec7fe8b9-a89e-4bae-9a88-3e76d64bb7aa   \n",
       "41  517d1797-0ec1-4ef5-ba90-6df424759aea   \n",
       "42  3f7bf52c-d6e0-4e90-9972-ff41577f81b9   \n",
       "43  3c3aeddd-4c63-4e3e-b7f3-1083a9c97823   \n",
       "44  88320b44-65cf-4cf9-b754-3152c433ced9   \n",
       "45  16965aa6-66ac-4940-a0fc-bd4f90f04ea8   \n",
       "46  9107e475-5736-406f-a579-fbab1a2dc932   \n",
       "47  ac3b96ea-d603-4c0a-9005-c1a9644a5d85   \n",
       "\n",
       "                              Creation Date     Visibility  \n",
       "0   seconds: 1648492959\\nnanos: 934145000\\n  H2O Employees  \n",
       "1   seconds: 1648491083\\nnanos: 694042000\\n  H2O Employees  \n",
       "2   seconds: 1648232462\\nnanos: 740402000\\n  H2O Employees  \n",
       "3    seconds: 1648153755\\nnanos: 60939000\\n  H2O Employees  \n",
       "4   seconds: 1648115116\\nnanos: 959528000\\n  H2O Employees  \n",
       "5   seconds: 1647987669\\nnanos: 193662000\\n  H2O Employees  \n",
       "6   seconds: 1647833117\\nnanos: 687929000\\n  H2O Employees  \n",
       "7   seconds: 1647809156\\nnanos: 300820000\\n  H2O Employees  \n",
       "8   seconds: 1647757955\\nnanos: 853243000\\n  H2O Employees  \n",
       "9   seconds: 1647650562\\nnanos: 435646000\\n  H2O Employees  \n",
       "10  seconds: 1647638114\\nnanos: 461879000\\n  H2O Employees  \n",
       "11   seconds: 1647628258\\nnanos: 91705000\\n  H2O Employees  \n",
       "12  seconds: 1647555670\\nnanos: 400586000\\n  H2O Employees  \n",
       "13  seconds: 1647526418\\nnanos: 668032000\\n  H2O Employees  \n",
       "14  seconds: 1647411483\\nnanos: 598742000\\n  H2O Employees  \n",
       "15  seconds: 1647408479\\nnanos: 602599000\\n  H2O Employees  \n",
       "16  seconds: 1647382130\\nnanos: 373048000\\n  H2O Employees  \n",
       "17  seconds: 1647377014\\nnanos: 467355000\\n  H2O Employees  \n",
       "18  seconds: 1647369743\\nnanos: 815668000\\n  H2O Employees  \n",
       "19  seconds: 1647368641\\nnanos: 753772000\\n  H2O Employees  \n",
       "20  seconds: 1647349168\\nnanos: 298912000\\n  H2O Employees  \n",
       "21  seconds: 1647108845\\nnanos: 697461000\\n  H2O Employees  \n",
       "22  seconds: 1647039391\\nnanos: 246048000\\n  H2O Employees  \n",
       "23   seconds: 1647035322\\nnanos: 92011000\\n  H2O Employees  \n",
       "24  seconds: 1647034342\\nnanos: 137923000\\n  H2O Employees  \n",
       "25  seconds: 1647032215\\nnanos: 453339000\\n  H2O Employees  \n",
       "26  seconds: 1647028603\\nnanos: 891314000\\n  H2O Employees  \n",
       "27  seconds: 1647027073\\nnanos: 738945000\\n  H2O Employees  \n",
       "28  seconds: 1647013089\\nnanos: 353916000\\n  H2O Employees  \n",
       "29  seconds: 1647001414\\nnanos: 655367000\\n  H2O Employees  \n",
       "30  seconds: 1646955067\\nnanos: 306193000\\n  H2O Employees  \n",
       "31   seconds: 1646925927\\nnanos: 55467000\\n  H2O Employees  \n",
       "32   seconds: 1646916498\\nnanos: 36211000\\n  H2O Employees  \n",
       "33  seconds: 1646899965\\nnanos: 157899000\\n  H2O Employees  \n",
       "34  seconds: 1646859000\\nnanos: 475567000\\n  H2O Employees  \n",
       "35  seconds: 1646847934\\nnanos: 972837000\\n  H2O Employees  \n",
       "36  seconds: 1646843130\\nnanos: 634660000\\n  H2O Employees  \n",
       "37  seconds: 1646837706\\nnanos: 145335000\\n  H2O Employees  \n",
       "38  seconds: 1646835431\\nnanos: 677080000\\n  H2O Employees  \n",
       "39  seconds: 1646831130\\nnanos: 635366000\\n  H2O Employees  \n",
       "40  seconds: 1646811571\\nnanos: 909984000\\n  H2O Employees  \n",
       "41  seconds: 1646800307\\nnanos: 812400000\\n  H2O Employees  \n",
       "42  seconds: 1646741075\\nnanos: 722800000\\n  H2O Employees  \n",
       "43  seconds: 1646737508\\nnanos: 304729000\\n  H2O Employees  \n",
       "44  seconds: 1646673304\\nnanos: 372284000\\n  H2O Employees  \n",
       "45  seconds: 1646659601\\nnanos: 399390000\\n  H2O Employees  \n",
       "46  seconds: 1646335977\\nnanos: 840113000\\n  H2O Employees  \n",
       "47  seconds: 1646334142\\nnanos: 241610000\\n  H2O Employees  "
      ]
     },
     "execution_count": 11,
     "metadata": {},
     "output_type": "execute_result"
    }
   ],
   "source": [
    "app_list = []\n",
    "\n",
    "for i in apps_protobuf:\n",
    "  \n",
    "    visibility = i.visibility\n",
    "    \n",
    "    if visibility == 1:\n",
    "        visibility = 'Private'\n",
    "    elif visibility == 2:\n",
    "        visibility = 'H2O Employees'\n",
    "    elif visibility == 3:\n",
    "        visibility = 'Public'\n",
    "        \n",
    "    app_list.append([i.title, i.version, i.id, i.create_time, visibility])\n",
    "    \n",
    "df_apps = pd.DataFrame(\n",
    "    app_list,\n",
    "    columns = ['App Name', 'App Version', 'App ID', 'Creation Date', 'Visibility']\n",
    ")\n",
    "\n",
    "df_apps"
   ]
  },
  {
   "cell_type": "markdown",
   "metadata": {},
   "source": [
    "### Find the app with the most versions"
   ]
  },
  {
   "cell_type": "markdown",
   "metadata": {},
   "source": [
    "An app can have many versions. You can see how many versions an app has by running:"
   ]
  },
  {
   "cell_type": "code",
   "execution_count": null,
   "metadata": {},
   "outputs": [],
   "source": [
    "apps_protobuf = app_service.ListApps(\n",
    "    ctx = cp.ctx(),\n",
    "    request = appstore.ListAppsRequest(\n",
    "        offset = 0,\n",
    "        limit = 100,\n",
    "        all_users = True # If False, returns only apps owned by the current user\n",
    "    ),\n",
    ").apps"
   ]
  },
  {
   "cell_type": "code",
   "execution_count": null,
   "metadata": {},
   "outputs": [],
   "source": [
    "app_list = []\n",
    "\n",
    "for i in apps_protobuf:       \n",
    "    app_list.append([i.title, i.name, i.version, i.id])\n",
    "    \n",
    "df_apps = pd.DataFrame(\n",
    "    app_list,\n",
    "    columns = ['App Title', 'App Name', 'App Version', 'App ID']\n",
    ")\n",
    "\n",
    "app_name_counts = df_apps.groupby('App Name').size().reset_index(name='App Version Count')\n",
    "\n",
    "app_name_counts = app_name_counts.sort_values('App Version Count',ascending =False)\n",
    "\n",
    "app_name_counts.reset_index(drop = True)\n"
   ]
  },
  {
   "cell_type": "markdown",
   "metadata": {},
   "source": [
    "### List all apps I own\n",
    "\n",
    "To list all the apps that you own, the code is same as to how to list all the apps. The only change needed is to change all_users to False."
   ]
  },
  {
   "cell_type": "code",
   "execution_count": 12,
   "metadata": {},
   "outputs": [],
   "source": [
    "apps_protobuf = app_service.ListApps(\n",
    "    ctx = cp.ctx(),\n",
    "    request = appstore.ListAppsRequest(\n",
    "        offset = 0,\n",
    "        limit = 100,\n",
    "        all_users = False # If False, returns only apps owned by the current user\n",
    "    ),\n",
    ").apps"
   ]
  },
  {
   "cell_type": "code",
   "execution_count": 13,
   "metadata": {},
   "outputs": [
    {
     "data": {
      "text/html": [
       "<div>\n",
       "<style scoped>\n",
       "    .dataframe tbody tr th:only-of-type {\n",
       "        vertical-align: middle;\n",
       "    }\n",
       "\n",
       "    .dataframe tbody tr th {\n",
       "        vertical-align: top;\n",
       "    }\n",
       "\n",
       "    .dataframe thead th {\n",
       "        text-align: right;\n",
       "    }\n",
       "</style>\n",
       "<table border=\"1\" class=\"dataframe\">\n",
       "  <thead>\n",
       "    <tr style=\"text-align: right;\">\n",
       "      <th></th>\n",
       "      <th>App Name</th>\n",
       "      <th>App Version</th>\n",
       "      <th>App ID</th>\n",
       "      <th>Creation Date</th>\n",
       "      <th>Visibility</th>\n",
       "    </tr>\n",
       "  </thead>\n",
       "  <tbody>\n",
       "    <tr>\n",
       "      <th>0</th>\n",
       "      <td>App Manager</td>\n",
       "      <td>0.0.1-20220110102302</td>\n",
       "      <td>7adc1abf-27fb-404c-95d1-7fcf028f3656</td>\n",
       "      <td>seconds: 1641828191\\nnanos: 214336000\\n</td>\n",
       "      <td>H2O Employees</td>\n",
       "    </tr>\n",
       "    <tr>\n",
       "      <th>1</th>\n",
       "      <td>App Manager</td>\n",
       "      <td>0.0.1-20220106151511</td>\n",
       "      <td>387ac140-e4a9-4068-bb43-d69bec5b4f3e</td>\n",
       "      <td>seconds: 1641500114\\nnanos: 746400000\\n</td>\n",
       "      <td>H2O Employees</td>\n",
       "    </tr>\n",
       "    <tr>\n",
       "      <th>2</th>\n",
       "      <td>App Manager</td>\n",
       "      <td>0.0.1-20220106151331</td>\n",
       "      <td>56e90349-4f1e-44c6-825e-9607b3af0122</td>\n",
       "      <td>seconds: 1641500014\\nnanos: 159445000\\n</td>\n",
       "      <td>H2O Employees</td>\n",
       "    </tr>\n",
       "    <tr>\n",
       "      <th>3</th>\n",
       "      <td>App Manager</td>\n",
       "      <td>0.0.1-20211220161832</td>\n",
       "      <td>9f013887-56bd-4619-9282-a58638fc57a0</td>\n",
       "      <td>seconds: 1640035113\\nnanos: 916248000\\n</td>\n",
       "      <td>H2O Employees</td>\n",
       "    </tr>\n",
       "  </tbody>\n",
       "</table>\n",
       "</div>"
      ],
      "text/plain": [
       "      App Name           App Version                                App ID  \\\n",
       "0  App Manager  0.0.1-20220110102302  7adc1abf-27fb-404c-95d1-7fcf028f3656   \n",
       "1  App Manager  0.0.1-20220106151511  387ac140-e4a9-4068-bb43-d69bec5b4f3e   \n",
       "2  App Manager  0.0.1-20220106151331  56e90349-4f1e-44c6-825e-9607b3af0122   \n",
       "3  App Manager  0.0.1-20211220161832  9f013887-56bd-4619-9282-a58638fc57a0   \n",
       "\n",
       "                             Creation Date     Visibility  \n",
       "0  seconds: 1641828191\\nnanos: 214336000\\n  H2O Employees  \n",
       "1  seconds: 1641500114\\nnanos: 746400000\\n  H2O Employees  \n",
       "2  seconds: 1641500014\\nnanos: 159445000\\n  H2O Employees  \n",
       "3  seconds: 1640035113\\nnanos: 916248000\\n  H2O Employees  "
      ]
     },
     "execution_count": 13,
     "metadata": {},
     "output_type": "execute_result"
    }
   ],
   "source": [
    "app_list = []\n",
    "\n",
    "for i in apps_protobuf:\n",
    "  \n",
    "    visibility = i.visibility\n",
    "    \n",
    "    if visibility == 1:\n",
    "        visibility = 'Private'\n",
    "    elif visibility == 2:\n",
    "        visibility = 'H2O Employees'\n",
    "    elif visibility == 3:\n",
    "        visibility = 'Public'\n",
    "        \n",
    "    app_list.append([i.title, i.version, i.id, i.create_time, visibility])\n",
    "    \n",
    "df_apps = pd.DataFrame(\n",
    "    app_list,\n",
    "    columns = ['App Name', 'App Version', 'App ID', 'Creation Date', 'Visibility']\n",
    ")\n",
    "\n",
    "df_apps"
   ]
  },
  {
   "cell_type": "markdown",
   "metadata": {},
   "source": [
    "### Change the visibility of an app\n",
    "\n",
    "To change the visibility of an app to unspecified, private, all users, or public run the following code:\n",
    "\n",
    "0 - unspecified, 1 - private, 2 - all users, 3 - public\n"
   ]
  },
  {
   "cell_type": "code",
   "execution_count": null,
   "metadata": {},
   "outputs": [],
   "source": [
    "app_service.UpdateApp(\n",
    "    ctx = cp.ctx(),\n",
    "    request = appstore.UpdateAppRequest(\n",
    "        id = '7adc1abf-27fb-404c-95d1-7fcf028f3656',\n",
    "        visibility = 2\n",
    "    ),\n",
    ")"
   ]
  },
  {
   "cell_type": "markdown",
   "metadata": {},
   "source": [
    "### View all tags assigned to an app"
   ]
  },
  {
   "cell_type": "markdown",
   "metadata": {},
   "source": [
    "To view tags assigned to an app, pass in the ID of the app in the code below."
   ]
  },
  {
   "cell_type": "code",
   "execution_count": null,
   "metadata": {},
   "outputs": [],
   "source": [
    "app = app_service.GetApp(\n",
    "    ctx = cp.ctx(),\n",
    "    request = appstore.GetAppRequest(\n",
    "        id = '387ac140-e4a9-4068-bb43-d69bec5b4f3e',\n",
    "    ),\n",
    ").app\n",
    "\n",
    "app.tags"
   ]
  },
  {
   "cell_type": "markdown",
   "metadata": {},
   "source": [
    "### List of tags"
   ]
  },
  {
   "cell_type": "markdown",
   "metadata": {},
   "source": [
    "Here you can see the list of all the available tags and ID."
   ]
  },
  {
   "cell_type": "code",
   "execution_count": null,
   "metadata": {},
   "outputs": [],
   "source": [
    "tag_list = tag_service.ListTags(\n",
    "    ctx = cp.ctx(),\n",
    "    request = appstore.ListTagsRequest(\n",
    "    )\n",
    ").tags"
   ]
  },
  {
   "cell_type": "code",
   "execution_count": null,
   "metadata": {},
   "outputs": [],
   "source": [
    "list_tags = []\n",
    "\n",
    "for i in tag_list:       \n",
    "    list_tags.append([i.title, i.name, i.id])\n",
    "    \n",
    "df_tags = pd.DataFrame(\n",
    "   list_tags,\n",
    "    columns = ['Tag Title', 'Tag Name', 'Tag ID']\n",
    ")\n",
    "\n",
    "df_tags"
   ]
  },
  {
   "cell_type": "markdown",
   "metadata": {},
   "source": [
    "### Add a new category tag to an app"
   ]
  },
  {
   "cell_type": "markdown",
   "metadata": {},
   "source": [
    "To add a tag to an app, pass in the ID of the app and the ID of the tag you want to add!\n",
    "\n",
    "The ID of the tags can be found in the table where all the tags available are listed."
   ]
  },
  {
   "cell_type": "code",
   "execution_count": null,
   "metadata": {},
   "outputs": [],
   "source": [
    "tag_service.AssignTag(\n",
    "    ctx = cp.ctx(),\n",
    "    request = appstore.AssignTagRequest(\n",
    "        app_id = '387ac140-e4a9-4068-bb43-d69bec5b4f3e',\n",
    "        tag_id = '0385f27a-2155-11ec-9649-0a382865161b'),\n",
    ")"
   ]
  },
  {
   "cell_type": "markdown",
   "metadata": {},
   "source": [
    "### Remove a category tag from an app"
   ]
  },
  {
   "cell_type": "markdown",
   "metadata": {},
   "source": [
    "To remove a tag from an app, again pass in the ID of the app and the ID of the tag you want to remove!"
   ]
  },
  {
   "cell_type": "code",
   "execution_count": null,
   "metadata": {},
   "outputs": [],
   "source": [
    "tag_service.UnassignTag(\n",
    "    ctx=cp.ctx(),\n",
    "    request=appstore.UnassignTagRequest(\n",
    "        app_id='387ac140-e4a9-4068-bb43-d69bec5b4f3e',\n",
    "        tag_id='0385f27a-2155-11ec-9649-0a382865161b'),\n",
    ")"
   ]
  },
  {
   "cell_type": "markdown",
   "metadata": {},
   "source": [
    "## App Instances"
   ]
  },
  {
   "cell_type": "markdown",
   "metadata": {},
   "source": [
    "### Find the app with the most running instances\n",
    "The following function lists the number the apps instances, running or suspended, of all the apps that are owned by all users."
   ]
  },
  {
   "cell_type": "code",
   "execution_count": null,
   "metadata": {},
   "outputs": [],
   "source": [
    "all_instances = app_service.ListAppInstances(\n",
    "    ctx=cp.ctx(),\n",
    "    request=appstore.ListAppInstancesRequest(\n",
    "        all_users=True,\n",
    "        include_app_details=False\n",
    "    ),\n",
    ").instances"
   ]
  },
  {
   "cell_type": "code",
   "execution_count": null,
   "metadata": {},
   "outputs": [],
   "source": [
    "all_instance_list = []\n",
    "\n",
    "for i in all_instances:   \n",
    "    all_instance_list.append([i.id, i.app_id])\n",
    "    \n",
    "df_all_instances = pd.DataFrame(\n",
    "    all_instance_list, \n",
    "    columns = ['Instance ID', 'App ID']\n",
    ")\n",
    "\n",
    "app_instance_counts = df_all_instances.groupby('App ID').size().reset_index(name='App Instance Count')\n",
    "\n",
    "app_instance_counts = app_instance_counts.sort_values('App Instance Count',ascending =False)\n",
    "\n",
    "app_instance_counts.reset_index(drop = True)"
   ]
  },
  {
   "cell_type": "markdown",
   "metadata": {},
   "source": [
    "### Start a new instance"
   ]
  },
  {
   "cell_type": "markdown",
   "metadata": {},
   "source": [
    "Now lets start an instance of an app!  Pass in the ID of the app of which you want to start an instance of."
   ]
  },
  {
   "cell_type": "code",
   "execution_count": null,
   "metadata": {},
   "outputs": [],
   "source": [
    "app_service.RunApp(\n",
    "    ctx = cp.ctx(),\n",
    "    request = appstore.RunAppRequest(\n",
    "        id = '56e90349-4f1e-44c6-825e-9607b3af0122',\n",
    "        visibility = 1\n",
    "    ),\n",
    ")"
   ]
  },
  {
   "cell_type": "markdown",
   "metadata": {},
   "source": [
    "### List all instances I own\n",
    "To list all the app instances that you own, the code is same as to how to list all the instances. The only change needed is to change all_users to False."
   ]
  },
  {
   "cell_type": "code",
   "execution_count": null,
   "metadata": {},
   "outputs": [],
   "source": [
    "instances_protobuf = app_service.ListAppInstances(\n",
    "    ctx=cp.ctx(),\n",
    "    request=appstore.ListAppInstancesRequest(\n",
    "        all_users=False,\n",
    "        include_app_details=True\n",
    "    ),\n",
    ").instances"
   ]
  },
  {
   "cell_type": "code",
   "execution_count": null,
   "metadata": {},
   "outputs": [],
   "source": [
    "instance_list = []\n",
    "for i in instances_protobuf:\n",
    "    status = i.status\n",
    "    if status == 5:\n",
    "        status = 'Suspended'\n",
    "    elif status == 3:\n",
    "        status = 'Deployed'\n",
    "    elif status == 2:\n",
    "        status = 'Pending'\n",
    "        \n",
    "    instance_list.append(\n",
    "        [i.owner, i.app_id, i.visibility, i.id, status]\n",
    "    )\n",
    "    \n",
    "df_instances = pd.DataFrame(\n",
    "    instance_list, \n",
    "    columns = ['App Name', 'App ID', 'App Visbility', 'Instance ID', 'Instance Status']\n",
    ")\n",
    "\n",
    "df_instances"
   ]
  },
  {
   "cell_type": "markdown",
   "metadata": {},
   "source": [
    "### Pause and resume an instance"
   ]
  },
  {
   "cell_type": "markdown",
   "metadata": {},
   "source": [
    "To pause an instance, pass in the ID of the instance and simply set suspend to True. To resume an instance, set suspend to False. "
   ]
  },
  {
   "cell_type": "code",
   "execution_count": null,
   "metadata": {},
   "outputs": [],
   "source": [
    "app_service.SetAppInstanceSuspension(\n",
    "    ctx = cp.ctx(),\n",
    "    request = appstore.SetAppInstanceSuspensionRequest(\n",
    "        id = '26af5683-0adb-4ac5-916c-2d29e3527d44',\n",
    "        suspend = True\n",
    "    ),\n",
    ")"
   ]
  },
  {
   "cell_type": "markdown",
   "metadata": {},
   "source": [
    "### Delete an instance"
   ]
  },
  {
   "cell_type": "markdown",
   "metadata": {},
   "source": [
    "When you no longer need an instance, you can terminate it. Remember to pass in the ID of the instance you want to delete!"
   ]
  },
  {
   "cell_type": "code",
   "execution_count": null,
   "metadata": {},
   "outputs": [],
   "source": [
    "app_service.TerminateAppInstance(\n",
    "    ctx = cp.ctx(),\n",
    "    request = appstore.TerminateAppInstanceRequest(id= 'fed02e9e-ffee-4538-b4da-90c8c8e64193')\n",
    ")"
   ]
  }
 ],
 "metadata": {
  "kernelspec": {
   "display_name": "Python 3 (ipykernel)",
   "language": "python",
   "name": "python3"
  },
  "language_info": {
   "codemirror_mode": {
    "name": "ipython",
    "version": 3
   },
   "file_extension": ".py",
   "mimetype": "text/x-python",
   "name": "python",
   "nbconvert_exporter": "python",
   "pygments_lexer": "ipython3",
   "version": "3.9.10"
  },
  "toc": {
   "base_numbering": 1,
   "nav_menu": {},
   "number_sections": true,
   "sideBar": true,
   "skip_h1_title": true,
   "title_cell": "Table of Contents",
   "title_sidebar": "Contents",
   "toc_cell": false,
   "toc_position": {},
   "toc_section_display": true,
   "toc_window_display": true
  }
 },
 "nbformat": 4,
 "nbformat_minor": 4
}

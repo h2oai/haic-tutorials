{
 "cells": [
  {
   "cell_type": "markdown",
   "metadata": {},
   "source": [
    "# H2O App Store\n",
    "This notebook provides a getting started tutorial for how to securely connect to an instance of the H2O AI Cloud from a local workstation and then accomplish common tasks using the App Store SDK."
   ]
  },
  {
   "cell_type": "markdown",
   "metadata": {},
   "source": [
    "## Notebook Setup\n",
    "\n",
    "This tutorial relies on the latest App Store SDK which can be installed into a python environment using `pip install http://h2o-public-test-data.s3.amazonaws.com/e2e-testing/appstore-0.0.1-py3-none-any.whl`.\n"
   ]
  },
  {
   "cell_type": "code",
   "execution_count": null,
   "metadata": {},
   "outputs": [],
   "source": [
    "import appstore"
   ]
  },
  {
   "cell_type": "markdown",
   "metadata": {},
   "source": [
    "## Table of Contents\n",
    "<div class=\"toc\"><ul class=\"toc-item\"><li><span><a href=\"#Notebook-Setup\" data-toc-modified-id=\"Notebook-Setup-1\"><span class=\"toc-item-num\">1&nbsp;&nbsp;</span>Notebook Setup</a></span></li><li><span><a href=\"#Securely-Connect\" data-toc-modified-id=\"Securely-Connect-2\"><span class=\"toc-item-num\">2&nbsp;&nbsp;</span>Securely Connect</a></span></li><li><span><a href=\"#Apps\" data-toc-modified-id=\"Apps-3\"><span class=\"toc-item-num\">3&nbsp;&nbsp;</span>Apps</a></span><ul class=\"toc-item\"><li><span><a href=\"#List-all-apps\" data-toc-modified-id=\"List-all-apps-3.1\"><span class=\"toc-item-num\">3.1&nbsp;&nbsp;</span>List all apps</a></span></li><li><span><a href=\"#Find-the-app-with-the-most-versions\" data-toc-modified-id=\"Find-the-app-with-the-most-versions-3.2\"><span class=\"toc-item-num\">3.2&nbsp;&nbsp;</span>Find the app with the most versions</a></span></li><li><span><a href=\"#List-all-apps-I-own\" data-toc-modified-id=\"List-all-apps-I-own-3.3\"><span class=\"toc-item-num\">3.3&nbsp;&nbsp;</span>List all apps I own</a></span></li><li><span><a href=\"#Change-the-visibility-of-an-app\" data-toc-modified-id=\"Change-the-visibility-of-an-app-3.4\"><span class=\"toc-item-num\">3.4&nbsp;&nbsp;</span>Change the visibility of an app</a></span></li><li><span><a href=\"#View-all-tags-assigned-to-an-app\" data-toc-modified-id=\"View-all-tags-assigned-to-an-app-3.5\"><span class=\"toc-item-num\">3.5&nbsp;&nbsp;</span>View all tags assigned to an app</a></span></li><li><span><a href=\"#Add-a-new-category-tag-to-an-app\" data-toc-modified-id=\"Add-a-new-category-tag-to-an-app-3.6\"><span class=\"toc-item-num\">3.6&nbsp;&nbsp;</span>Add a new category tag to an app</a></span></li></ul></li><li><span><a href=\"#App-Instances\" data-toc-modified-id=\"App-Instances-4\"><span class=\"toc-item-num\">4&nbsp;&nbsp;</span>App Instances</a></span><ul class=\"toc-item\"><li><span><a href=\"#Find-the-app-with-the-most-running-instances\" data-toc-modified-id=\"Find-the-app-with-the-most-running-instances-4.1\"><span class=\"toc-item-num\">4.1&nbsp;&nbsp;</span>Find the app with the most running instances</a></span></li><li><span><a href=\"#Start-a-new-instance\" data-toc-modified-id=\"Start-a-new-instance-4.2\"><span class=\"toc-item-num\">4.2&nbsp;&nbsp;</span>Start a new instance</a></span></li><li><span><a href=\"#List-all-instances-I-own\" data-toc-modified-id=\"List-all-instances-I-own-4.3\"><span class=\"toc-item-num\">4.3&nbsp;&nbsp;</span>List all instances I own</a></span></li><li><span><a href=\"#Pause-and-resume-an-instance\" data-toc-modified-id=\"Pause-and-resume-an-instance-4.4\"><span class=\"toc-item-num\">4.4&nbsp;&nbsp;</span>Pause and resume an instance</a></span></li><li><span><a href=\"#View-the-logs-of-an-instance-I-own\" data-toc-modified-id=\"View-the-logs-of-an-instance-I-own-4.5\"><span class=\"toc-item-num\">4.5&nbsp;&nbsp;</span>View the logs of an instance I own</a></span></li><li><span><a href=\"#View-the-logs-of-an-app-I-own-and-instance-I-do-not-own\" data-toc-modified-id=\"View-the-logs-of-an-app-I-own-and-instance-I-do-not-own-4.6\"><span class=\"toc-item-num\">4.6&nbsp;&nbsp;</span>View the logs of an app I own and instance I do not own</a></span></li><li><span><a href=\"#Delete-an-instance\" data-toc-modified-id=\"Delete-an-instance-4.7\"><span class=\"toc-item-num\">4.7&nbsp;&nbsp;</span>Delete an instance</a></span></li></ul></li></ul></div>"
   ]
  },
  {
   "cell_type": "markdown",
   "metadata": {},
   "source": [
    "## Securely Connect\n",
    "\n",
    "This setup will likely drastictly change later this week as the new connection method is released. We are starting with the App Store notebook as it is one of the few products which has an \"old way\" of connecting so we can begin before the feature is available"
   ]
  },
  {
   "cell_type": "code",
   "execution_count": null,
   "metadata": {},
   "outputs": [],
   "source": [
    "client_id = 'appstore-public'\n",
    "endpoint = 'https://cloud-dev.h2o.ai'\n",
    "oidcaddress = 'https://auth.cloud-dev.h2o.ai/auth/realms/h2oaic-dev'\n",
    "authaddress = 'https://cloud-dev.h2o.ai/auth/get-token'"
   ]
  },
  {
   "cell_type": "code",
   "execution_count": null,
   "metadata": {},
   "outputs": [],
   "source": [
    "print('Click link to get personalized password:', authaddress)\n",
    "cp = appstore.TokenContextProvider(\n",
    "    oidcaddress, \n",
    "    client_id, \n",
    "    getpass.getpass()\n",
    ")\n",
    "app_service = appstore.AppServiceClient(endpoint)"
   ]
  },
  {
   "cell_type": "markdown",
   "metadata": {},
   "source": [
    "## Apps"
   ]
  },
  {
   "cell_type": "markdown",
   "metadata": {},
   "source": [
    "### List all apps"
   ]
  },
  {
   "cell_type": "markdown",
   "metadata": {},
   "source": [
    "### Find the app with the most versions"
   ]
  },
  {
   "cell_type": "markdown",
   "metadata": {},
   "source": [
    "### List all apps I own"
   ]
  },
  {
   "cell_type": "markdown",
   "metadata": {},
   "source": [
    "### Change the visibility of an app"
   ]
  },
  {
   "cell_type": "markdown",
   "metadata": {},
   "source": [
    "### View all tags assigned to an app"
   ]
  },
  {
   "cell_type": "markdown",
   "metadata": {},
   "source": [
    "### Add a new category tag to an app"
   ]
  },
  {
   "cell_type": "markdown",
   "metadata": {},
   "source": [
    "## App Instances"
   ]
  },
  {
   "cell_type": "markdown",
   "metadata": {},
   "source": [
    "### Find the app with the most running instances"
   ]
  },
  {
   "cell_type": "markdown",
   "metadata": {},
   "source": [
    "### Start a new instance"
   ]
  },
  {
   "cell_type": "markdown",
   "metadata": {},
   "source": [
    "### List all instances I own"
   ]
  },
  {
   "cell_type": "markdown",
   "metadata": {},
   "source": [
    "### Pause and resume an instance"
   ]
  },
  {
   "cell_type": "markdown",
   "metadata": {},
   "source": [
    "### View the logs of an instance I own"
   ]
  },
  {
   "cell_type": "markdown",
   "metadata": {},
   "source": [
    "### View the logs of an app I own and instance I do not own"
   ]
  },
  {
   "cell_type": "markdown",
   "metadata": {},
   "source": [
    "### Delete an instance"
   ]
  },
  {
   "cell_type": "code",
   "execution_count": null,
   "metadata": {},
   "outputs": [],
   "source": []
  }
 ],
 "metadata": {
  "kernelspec": {
   "display_name": "Python 3",
   "language": "python",
   "name": "python3"
  },
  "language_info": {
   "codemirror_mode": {
    "name": "ipython",
    "version": 3
   },
   "file_extension": ".py",
   "mimetype": "text/x-python",
   "name": "python",
   "nbconvert_exporter": "python",
   "pygments_lexer": "ipython3",
   "version": "3.6.15"
  },
  "toc": {
   "base_numbering": 1,
   "nav_menu": {},
   "number_sections": true,
   "sideBar": true,
   "skip_h1_title": true,
   "title_cell": "Table of Contents",
   "title_sidebar": "Contents",
   "toc_cell": false,
   "toc_position": {},
   "toc_section_display": true,
   "toc_window_display": true
  }
 },
 "nbformat": 4,
 "nbformat_minor": 4
}

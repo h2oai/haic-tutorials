{
 "cells": [
  {
   "cell_type": "markdown",
   "metadata": {},
   "source": [
    "# Enterprise Steam\n",
    "\n",
    "This notebook is intended to help you get started managing your AI Engines in the H2O AI Cloud using python. \n",
    "\n",
    "* **Product Documentation:** https://docs.h2o.ai/steam/index.html\n",
    "* **Python Documentation:** https://docs.h2o.ai/enterprise-steam/latest-stable/docs/python-docs/index.html"
   ]
  },
  {
   "cell_type": "markdown",
   "metadata": {},
   "source": [
    "## Prerequisites \n",
    "This tutorial relies on the latest Steam SDK (1.8.11) which can be installed into a python environment by: \n",
    "\n",
    "1. Click on `My AI Engines` from the H2O AI Cloud and then `Python client` to download the wheel file\n",
    "3. Navigate to the location where the python client was downloaded and install the client using `pip install h2osteam-1.8.11-py2.py3-none-any.whl`\n",
    "\n",
    "We also require the `h2o_authn` library for securely connecting to the H2O AI Cloud platform: `pip install h2o_authn`.\n",
    "\n",
    "We also set the following variables to connect to a specific H2O AI Cloud environment. They can be found by logging into the platform, clicking on your name, and choosing the `CLI & API Access` page. Then, copy values from the `Accessing H2O AI Cloud APIs` section."
   ]
  },
  {
   "cell_type": "code",
   "execution_count": 1,
   "metadata": {},
   "outputs": [],
   "source": [
    "CLIENT_ID = \"q8s-internal-platform\"\n",
    "TOKEN_ENDPOINT = \"https://auth.demo.h2o.ai/auth/realms/q8s-internal/protocol/openid-connect/token\"\n",
    "REFRESH_TOKEN = \"https://cloud-internal.h2o.ai/auth/get-platform-token\"\n",
    "\n",
    "H2O_STEAM_URL = \"https://steam.cloud-internal.h2o.ai/\""
   ]
  },
  {
   "cell_type": "code",
   "execution_count": 2,
   "metadata": {},
   "outputs": [],
   "source": [
    "from getpass import getpass\n",
    "\n",
    "import h2o_authn\n",
    "import h2osteam\n",
    "from h2osteam.clients import DriverlessClient\n",
    "from h2osteam.clients import H2oKubernetesClient"
   ]
  },
  {
   "cell_type": "markdown",
   "metadata": {},
   "source": [
    "## Securely connect\n",
    "\n",
    "We first connect to the H2O AI Cloud using our personal access token to create a token provider object. We can then use this object to log into Steam and other APIs."
   ]
  },
  {
   "cell_type": "code",
   "execution_count": 3,
   "metadata": {},
   "outputs": [
    {
     "name": "stdout",
     "output_type": "stream",
     "text": [
      "Visit https://cloud-internal.h2o.ai/auth/get-platform-token to get your personal access token\n",
      "Enter your access token: ········\n"
     ]
    }
   ],
   "source": [
    "print(f\"Visit {REFRESH_TOKEN} to get your personal access token\")\n",
    "tp = h2o_authn.TokenProvider(\n",
    "    refresh_token=getpass(\"Enter your access token: \"),\n",
    "    client_id=CLIENT_ID,\n",
    "    token_endpoint_url=TOKEN_ENDPOINT\n",
    ")"
   ]
  },
  {
   "cell_type": "markdown",
   "metadata": {},
   "source": [
    "Then connect to Steam to start managing your AI Engines."
   ]
  },
  {
   "cell_type": "code",
   "execution_count": 4,
   "metadata": {},
   "outputs": [],
   "source": [
    "steam = h2osteam.login(\n",
    "    url=H2O_STEAM_URL,\n",
    "    access_token=tp()\n",
    ")"
   ]
  },
  {
   "cell_type": "markdown",
   "metadata": {},
   "source": [
    "## Understanding your environment\n",
    "\n",
    "* Ensure that your python client and backend versions match. \n",
    "* View what AI Engines and environments are available "
   ]
  },
  {
   "cell_type": "code",
   "execution_count": 5,
   "metadata": {},
   "outputs": [
    {
     "name": "stdout",
     "output_type": "stream",
     "text": [
      "Backend Version: 1.8.11\n",
      "Library Version: 1.8.11\n"
     ]
    }
   ],
   "source": [
    "print(f\"Backend Version: {h2osteam.api().get_config_meta()['version']}\")\n",
    "print(f\"Library Version: {h2osteam.__version__}\")"
   ]
  },
  {
   "cell_type": "code",
   "execution_count": 6,
   "metadata": {},
   "outputs": [
    {
     "data": {
      "text/plain": [
       "{'version': '1.8.11',\n",
       " 'build': '1.8.10-30-gaf0c13e-dirty',\n",
       " 'built': 'Thu Feb  3 00:05:06 UTC 2022',\n",
       " 'restart_pending': False,\n",
       " 'support_email': 'cloud-feedback@h2o.ai',\n",
       " 'license_valid': True,\n",
       " 'is_hadoop_enabled': False,\n",
       " 'is_kubernetes_enabled': True,\n",
       " 'is_h2o_enabled': True,\n",
       " 'is_h2o_running': True,\n",
       " 'is_sparkling_enabled': False,\n",
       " 'is_sparkling_running': False,\n",
       " 'is_driverless_enabled': True,\n",
       " 'is_driverless_running': True,\n",
       " 'is_h2o_engine_uploaded': False,\n",
       " 'is_h2o_kubernetes_engine_uploaded': True,\n",
       " 'is_sparkling_engine_uploaded': False,\n",
       " 'is_driverless_engine_uploaded': True,\n",
       " 'driverless_backend_type': 'kubernetes',\n",
       " 'is_minio_enabled': False,\n",
       " 'h2o_backend_type': 'kubernetes',\n",
       " 'inside_cluster': True}"
      ]
     },
     "execution_count": 6,
     "metadata": {},
     "output_type": "execute_result"
    }
   ],
   "source": [
    "h2osteam.api().get_config_meta()"
   ]
  },
  {
   "cell_type": "markdown",
   "metadata": {},
   "source": [
    "## Managing Driverless AI"
   ]
  },
  {
   "cell_type": "markdown",
   "metadata": {},
   "source": [
    "### View available versions"
   ]
  },
  {
   "cell_type": "code",
   "execution_count": 7,
   "metadata": {},
   "outputs": [
    {
     "name": "stdout",
     "output_type": "stream",
     "text": [
      "1.9.0.6\n",
      "1.9.1.1\n",
      "1.9.1.3\n",
      "1.9.2.1\n",
      "1.9.3\n",
      "1.10.0\n",
      "1.10.1\n",
      "1.10.1.1\n",
      "1.10.1.2\n",
      "1.10.1.3\n",
      "1.10.2\n"
     ]
    }
   ],
   "source": [
    "for dai_version in steam.get_driverless_engines():\n",
    "    print(dai_version[\"version\"])"
   ]
  },
  {
   "cell_type": "markdown",
   "metadata": {},
   "source": [
    "### View available profiles\n",
    "\n",
    "* List the profiles\n",
    "* View the options for max run time in this profile"
   ]
  },
  {
   "cell_type": "code",
   "execution_count": 8,
   "metadata": {},
   "outputs": [
    {
     "name": "stdout",
     "output_type": "stream",
     "text": [
      "default-driverless-kubernetes\n",
      "se-driverless-kubernetes\n"
     ]
    }
   ],
   "source": [
    "for profile in steam.get_profiles():\n",
    "    if profile[\"profile_type\"] == \"driverless_kubernetes\":\n",
    "        print(profile[\"name\"])"
   ]
  },
  {
   "cell_type": "code",
   "execution_count": 9,
   "metadata": {},
   "outputs": [
    {
     "data": {
      "text/plain": [
       "{'id': 835,\n",
       " 'min': 1,\n",
       " 'is_min_set': True,\n",
       " 'max': 24,\n",
       " 'is_max_set': True,\n",
       " 'initial': 8,\n",
       " 'is_initial_set': True,\n",
       " 'profile_max': -1,\n",
       " 'is_profile_max_set': True}"
      ]
     },
     "execution_count": 9,
     "metadata": {},
     "output_type": "execute_result"
    }
   ],
   "source": [
    "steam.get_profile_by_name(\"default-driverless-kubernetes\")[\"driverless_kubernetes\"][\"max_uptime_hours\"]"
   ]
  },
  {
   "cell_type": "markdown",
   "metadata": {},
   "source": [
    "### Create an instance\n",
    "See the Driverless AI Tutorial for what to do once you've connected to the AutoML platform. "
   ]
  },
  {
   "cell_type": "code",
   "execution_count": 10,
   "metadata": {},
   "outputs": [
    {
     "name": "stdout",
     "output_type": "stream",
     "text": [
      "Driverless AI instance is submitted, please wait...\n",
      "Driverless AI instance is running\n"
     ]
    }
   ],
   "source": [
    "dai = DriverlessClient().launch_instance(\n",
    "    name=\"test-instance\",\n",
    "    version=\"1.10.2\",\n",
    "    profile_name=\"default-driverless-kubernetes\",\n",
    "    max_uptime_h=1\n",
    ")\n",
    "client = dai.connect()"
   ]
  },
  {
   "cell_type": "code",
   "execution_count": 11,
   "metadata": {},
   "outputs": [
    {
     "data": {
      "text/plain": [
       "{'id': 482,\n",
       " 'profile_name': 'default-driverless-kubernetes',\n",
       " 'name': 'test-instance',\n",
       " 'status': 'running',\n",
       " 'target_status': 'running',\n",
       " 'version': '1.10.2',\n",
       " 'backend_type': '',\n",
       " 'instance_type': 'singlenode',\n",
       " 'master_id': -1,\n",
       " 'cpu_count': 8,\n",
       " 'gpu_count': 0,\n",
       " 'memory_gb': 30,\n",
       " 'storage_gb': 64,\n",
       " 'max_idle_seconds': 7200,\n",
       " 'max_uptime_seconds': 3600,\n",
       " 'timeout_seconds': 1800,\n",
       " 'address': 'http://10.3.223.206:12345',\n",
       " 'authentication': 'oidc',\n",
       " 'password': '',\n",
       " 'created_at': 1649889164,\n",
       " 'started_at': 1649889198,\n",
       " 'created_by': 'michelle.tanco@h2o.ai',\n",
       " 'current_uptime_seconds': 12,\n",
       " 'current_idle_seconds': 12,\n",
       " 'pod_latest_event': None,\n",
       " 'service_latest_event': None,\n",
       " 'pvc_latest_event': None,\n",
       " 'stop_reason': '',\n",
       " 'config_toml': '',\n",
       " 'volumes': ''}"
      ]
     },
     "execution_count": 11,
     "metadata": {},
     "output_type": "execute_result"
    }
   ],
   "source": [
    "dai.details()"
   ]
  },
  {
   "cell_type": "code",
   "execution_count": 12,
   "metadata": {},
   "outputs": [
    {
     "data": {
      "text/html": [
       "<pre><a href='https://steam.cloud-internal.h2o.ai:443/proxy/driverless/482' rel='noopener noreferrer' target='_blank'>https://steam.cloud-internal.h2o.ai:443/proxy/driverless/482</a></pre>"
      ],
      "text/plain": [
       "'https://steam.cloud-internal.h2o.ai:443/proxy/driverless/482'"
      ]
     },
     "execution_count": 12,
     "metadata": {},
     "output_type": "execute_result"
    }
   ],
   "source": [
    "client.server.gui()"
   ]
  },
  {
   "cell_type": "markdown",
   "metadata": {},
   "source": [
    "### List my instances"
   ]
  },
  {
   "cell_type": "code",
   "execution_count": 13,
   "metadata": {},
   "outputs": [
    {
     "name": "stdout",
     "output_type": "stream",
     "text": [
      "74 \t default-driverless-kubernetes \t stopped \t mt-demo\n",
      "445 \t default-driverless-kubernetes \t stopped \t MT-test\n",
      "446 \t default-driverless-kubernetes \t stopped \t dai-quickstart\n",
      "482 \t default-driverless-kubernetes \t running \t test-instance\n"
     ]
    }
   ],
   "source": [
    "for instance in steam.get_driverless_instances():\n",
    "    print(instance[\"id\"], \"\\t\", instance[\"profile_name\"], \"\\t\", instance[\"status\"], \"\\t\", instance[\"name\"])"
   ]
  },
  {
   "cell_type": "markdown",
   "metadata": {},
   "source": [
    "### Download instance logs"
   ]
  },
  {
   "cell_type": "code",
   "execution_count": 14,
   "metadata": {},
   "outputs": [],
   "source": [
    "dai = DriverlessClient().get_instance(name=\"test-instance\")"
   ]
  },
  {
   "cell_type": "code",
   "execution_count": 15,
   "metadata": {},
   "outputs": [
    {
     "name": "stdout",
     "output_type": "stream",
     "text": [
      "Driverless AI instance logs saved to dai_test_instance_logs.log\n"
     ]
    }
   ],
   "source": [
    "dai.download_logs('dai_test_instance_logs.log')"
   ]
  },
  {
   "cell_type": "markdown",
   "metadata": {},
   "source": [
    "### Pause an instance"
   ]
  },
  {
   "cell_type": "markdown",
   "metadata": {},
   "source": [
    "You can pause an instance that is currently running. Pausing an instance shuts it down to save resources, it is similar to powering off a server. You will not loose any data and you can start an instance at any time."
   ]
  },
  {
   "cell_type": "code",
   "execution_count": 16,
   "metadata": {},
   "outputs": [
    {
     "name": "stdout",
     "output_type": "stream",
     "text": [
      "Driverless AI instance is stopping, please wait...\n",
      "Driverless AI instance is stopped\n"
     ]
    }
   ],
   "source": [
    "dai.stop()"
   ]
  },
  {
   "cell_type": "markdown",
   "metadata": {},
   "source": [
    "### Resume the instance"
   ]
  },
  {
   "cell_type": "markdown",
   "metadata": {},
   "source": [
    "You can resume a paused instance by running:"
   ]
  },
  {
   "cell_type": "code",
   "execution_count": 17,
   "metadata": {},
   "outputs": [
    {
     "name": "stdout",
     "output_type": "stream",
     "text": [
      "Driverless AI instance is starting, please wait...\n",
      "Driverless AI instance is running\n"
     ]
    }
   ],
   "source": [
    "dai.start()"
   ]
  },
  {
   "cell_type": "markdown",
   "metadata": {},
   "source": [
    "### Delete the instance"
   ]
  },
  {
   "cell_type": "markdown",
   "metadata": {},
   "source": [
    "When you no longer need an instance, you can terminate it. Once deleted, there is no way to restart the instance or access any data."
   ]
  },
  {
   "cell_type": "code",
   "execution_count": 18,
   "metadata": {},
   "outputs": [],
   "source": [
    "dai.terminate()"
   ]
  },
  {
   "cell_type": "code",
   "execution_count": 19,
   "metadata": {},
   "outputs": [
    {
     "name": "stdout",
     "output_type": "stream",
     "text": [
      "74 \t default-driverless-kubernetes \t stopped \t mt-demo\n",
      "445 \t default-driverless-kubernetes \t stopped \t MT-test\n",
      "446 \t default-driverless-kubernetes \t stopped \t dai-quickstart\n",
      "482 \t default-driverless-kubernetes \t running \t test-instance\n"
     ]
    }
   ],
   "source": [
    "# it takes ~20 seconds for the status to update\n",
    "for instance in steam.get_driverless_instances():\n",
    "    print(instance[\"id\"], \"\\t\", instance[\"profile_name\"], \"\\t\", instance[\"status\"], \"\\t\", instance[\"name\"])"
   ]
  },
  {
   "cell_type": "markdown",
   "metadata": {},
   "source": [
    "## Managing H2O-3"
   ]
  },
  {
   "cell_type": "markdown",
   "metadata": {},
   "source": [
    "### View available versions"
   ]
  },
  {
   "cell_type": "code",
   "execution_count": 20,
   "metadata": {},
   "outputs": [
    {
     "name": "stdout",
     "output_type": "stream",
     "text": [
      "3.32.0.5\n",
      "3.34.0.3\n",
      "3.34.0.7\n",
      "3.36.0.1\n",
      "3.36.0.3\n"
     ]
    }
   ],
   "source": [
    "for h2o_version in steam.get_h2o_kubernetes_engines():\n",
    "    print(h2o_version[\"version\"])"
   ]
  },
  {
   "cell_type": "markdown",
   "metadata": {},
   "source": [
    "### View available profiles"
   ]
  },
  {
   "cell_type": "code",
   "execution_count": 21,
   "metadata": {},
   "outputs": [
    {
     "name": "stdout",
     "output_type": "stream",
     "text": [
      "default-h2o-kubernetes\n"
     ]
    }
   ],
   "source": [
    "for profile in steam.get_profiles():\n",
    "    if profile[\"profile_type\"] == \"h2o_kubernetes\":\n",
    "        print(profile[\"name\"])"
   ]
  },
  {
   "cell_type": "code",
   "execution_count": 22,
   "metadata": {},
   "outputs": [
    {
     "data": {
      "text/plain": [
       "{'id': 856,\n",
       " 'min': 1,\n",
       " 'is_min_set': True,\n",
       " 'max': 24,\n",
       " 'is_max_set': True,\n",
       " 'initial': 12,\n",
       " 'is_initial_set': True,\n",
       " 'profile_max': -1,\n",
       " 'is_profile_max_set': True}"
      ]
     },
     "execution_count": 22,
     "metadata": {},
     "output_type": "execute_result"
    }
   ],
   "source": [
    "steam.get_profile_by_name(\"default-h2o-kubernetes\")[\"h2o_kubernetes\"][\"max_uptime_hours\"]"
   ]
  },
  {
   "cell_type": "markdown",
   "metadata": {},
   "source": [
    "### Create a cluster\n",
    "See the H2O-3 Tutorial for what to do once you've connected to the distributed ML platform. "
   ]
  },
  {
   "cell_type": "code",
   "execution_count": 23,
   "metadata": {},
   "outputs": [],
   "source": [
    "h2o = H2oKubernetesClient().launch_cluster(\n",
    "    name=\"test-instance\",\n",
    "    version=\"3.36.0.3\",\n",
    "    profile_name=\"default-h2o-kubernetes\",\n",
    "    max_uptime_h=1\n",
    ")"
   ]
  },
  {
   "cell_type": "code",
   "execution_count": 24,
   "metadata": {},
   "outputs": [],
   "source": [
    "while not h2o.is_running():\n",
    "    pass"
   ]
  },
  {
   "cell_type": "code",
   "execution_count": 25,
   "metadata": {},
   "outputs": [
    {
     "name": "stdout",
     "output_type": "stream",
     "text": [
      "Connecting to H2O server at https://steam.cloud-internal.h2o.ai:443/proxy/h2o-k8s/159 ... successful.\n"
     ]
    },
    {
     "data": {
      "text/html": [
       "<div style=\"overflow:auto\"><table style=\"width:50%\"><tr><td>H2O_cluster_uptime:</td>\n",
       "<td>26 secs</td></tr>\n",
       "<tr><td>H2O_cluster_timezone:</td>\n",
       "<td>Etc/GMT</td></tr>\n",
       "<tr><td>H2O_data_parsing_timezone:</td>\n",
       "<td>UTC</td></tr>\n",
       "<tr><td>H2O_cluster_version:</td>\n",
       "<td>3.36.0.3</td></tr>\n",
       "<tr><td>H2O_cluster_version_age:</td>\n",
       "<td>1 month and 28 days </td></tr>\n",
       "<tr><td>H2O_cluster_name:</td>\n",
       "<td>test-instance</td></tr>\n",
       "<tr><td>H2O_cluster_total_nodes:</td>\n",
       "<td>1</td></tr>\n",
       "<tr><td>H2O_cluster_free_memory:</td>\n",
       "<td>3.228 Gb</td></tr>\n",
       "<tr><td>H2O_cluster_total_cores:</td>\n",
       "<td>1</td></tr>\n",
       "<tr><td>H2O_cluster_allowed_cores:</td>\n",
       "<td>1</td></tr>\n",
       "<tr><td>H2O_cluster_status:</td>\n",
       "<td>locked, healthy</td></tr>\n",
       "<tr><td>H2O_connection_url:</td>\n",
       "<td>https://steam.cloud-internal.h2o.ai:443/proxy/h2o-k8s/159</td></tr>\n",
       "<tr><td>H2O_connection_proxy:</td>\n",
       "<td>null</td></tr>\n",
       "<tr><td>H2O_internal_security:</td>\n",
       "<td>True</td></tr>\n",
       "<tr><td>Python_version:</td>\n",
       "<td>3.8.12 final</td></tr></table></div>"
      ],
      "text/plain": [
       "--------------------------  ---------------------------------------------------------\n",
       "H2O_cluster_uptime:         26 secs\n",
       "H2O_cluster_timezone:       Etc/GMT\n",
       "H2O_data_parsing_timezone:  UTC\n",
       "H2O_cluster_version:        3.36.0.3\n",
       "H2O_cluster_version_age:    1 month and 28 days\n",
       "H2O_cluster_name:           test-instance\n",
       "H2O_cluster_total_nodes:    1\n",
       "H2O_cluster_free_memory:    3.228 Gb\n",
       "H2O_cluster_total_cores:    1\n",
       "H2O_cluster_allowed_cores:  1\n",
       "H2O_cluster_status:         locked, healthy\n",
       "H2O_connection_url:         https://steam.cloud-internal.h2o.ai:443/proxy/h2o-k8s/159\n",
       "H2O_connection_proxy:       null\n",
       "H2O_internal_security:      True\n",
       "Python_version:             3.8.12 final\n",
       "--------------------------  ---------------------------------------------------------"
      ]
     },
     "metadata": {},
     "output_type": "display_data"
    }
   ],
   "source": [
    "client = h2o.connect()"
   ]
  },
  {
   "cell_type": "code",
   "execution_count": 26,
   "metadata": {},
   "outputs": [
    {
     "name": "stdout",
     "output_type": "stream",
     "text": [
      "https://steam.cloud-internal.h2o.ai/proxy/h2o-k8s/159/flow/index.html\n"
     ]
    }
   ],
   "source": [
    "print(\"https://\" + h2o.get_connection_config()[\"connect_params\"][\"ip\"] + \"/\" + h2o.get_connection_config()[\"connect_params\"][\"context_path\"] + \"/flow/index.html\")"
   ]
  },
  {
   "cell_type": "markdown",
   "metadata": {},
   "source": [
    "### List my clusters"
   ]
  },
  {
   "cell_type": "code",
   "execution_count": 27,
   "metadata": {},
   "outputs": [
    {
     "name": "stdout",
     "output_type": "stream",
     "text": [
      "82 \t default-h2o-kubernetes \t stopped \t es-test-instance\n",
      "83 \t default-h2o-kubernetes \t stopped \t es-test-instance-2\n",
      "159 \t default-h2o-kubernetes \t running \t test-instance\n"
     ]
    }
   ],
   "source": [
    "for instance in steam.get_h2o_kubernetes_clusters():\n",
    "    print(instance[\"id\"], \"\\t\", instance[\"profile_name\"], \"\\t\", instance[\"status\"], \"\\t\", instance[\"name\"])"
   ]
  },
  {
   "cell_type": "markdown",
   "metadata": {},
   "source": [
    "### Download cluster logs"
   ]
  },
  {
   "cell_type": "code",
   "execution_count": 28,
   "metadata": {},
   "outputs": [],
   "source": [
    "h2o = H2oKubernetesClient().get_cluster(name=\"test-instance\", created_by=\"michelle.tanco@h2o.ai\")"
   ]
  },
  {
   "cell_type": "code",
   "execution_count": 29,
   "metadata": {},
   "outputs": [
    {
     "name": "stdout",
     "output_type": "stream",
     "text": [
      "H2O cluster logs saved to h2o_test_instance_logs.log\n"
     ]
    }
   ],
   "source": [
    "h2o.download_logs('h2o_test_instance_logs.log')"
   ]
  },
  {
   "cell_type": "markdown",
   "metadata": {},
   "source": [
    "### Stop an instance\n",
    "H2O clusters cannot be resumed after they are stopped. Only turn off your cluster once you are permanately done with it."
   ]
  },
  {
   "cell_type": "code",
   "execution_count": 30,
   "metadata": {},
   "outputs": [
    {
     "data": {
      "text/plain": [
       "<h2osteam.clients.h2ok8s.h2ok8s.H2oKubernetesCluster at 0x11365cb80>"
      ]
     },
     "execution_count": 30,
     "metadata": {},
     "output_type": "execute_result"
    }
   ],
   "source": [
    "h2o.stop()"
   ]
  },
  {
   "cell_type": "code",
   "execution_count": 31,
   "metadata": {},
   "outputs": [
    {
     "name": "stdout",
     "output_type": "stream",
     "text": [
      "Current status: running\n",
      "Target status: stopped\n"
     ]
    }
   ],
   "source": [
    "print(f\"Current status: {h2o.status}\")\n",
    "print(f\"Target status: {h2o.target_status}\")"
   ]
  },
  {
   "cell_type": "markdown",
   "metadata": {},
   "source": [
    "### Delete an instance"
   ]
  },
  {
   "cell_type": "code",
   "execution_count": 32,
   "metadata": {},
   "outputs": [
    {
     "data": {
      "text/plain": [
       "<h2osteam.clients.h2ok8s.h2ok8s.H2oKubernetesCluster at 0x11365cb80>"
      ]
     },
     "execution_count": 32,
     "metadata": {},
     "output_type": "execute_result"
    }
   ],
   "source": [
    "h2o.terminate()"
   ]
  },
  {
   "cell_type": "code",
   "execution_count": 33,
   "metadata": {},
   "outputs": [
    {
     "name": "stdout",
     "output_type": "stream",
     "text": [
      "82 \t default-h2o-kubernetes \t stopped \t es-test-instance\n",
      "83 \t default-h2o-kubernetes \t stopped \t es-test-instance-2\n"
     ]
    }
   ],
   "source": [
    "for instance in steam.get_h2o_kubernetes_clusters():\n",
    "    print(instance[\"id\"], \"\\t\", instance[\"profile_name\"], \"\\t\", instance[\"status\"], \"\\t\", instance[\"name\"])"
   ]
  },
  {
   "cell_type": "code",
   "execution_count": null,
   "metadata": {},
   "outputs": [],
   "source": []
  }
 ],
 "metadata": {
  "kernelspec": {
   "display_name": "Python 3 (ipykernel)",
   "language": "python",
   "name": "python3"
  },
  "language_info": {
   "codemirror_mode": {
    "name": "ipython",
    "version": 3
   },
   "file_extension": ".py",
   "mimetype": "text/x-python",
   "name": "python",
   "nbconvert_exporter": "python",
   "pygments_lexer": "ipython3",
   "version": "3.8.12"
  },
  "toc": {
   "base_numbering": 1,
   "nav_menu": {},
   "number_sections": true,
   "sideBar": true,
   "skip_h1_title": true,
   "title_cell": "Table of Contents",
   "title_sidebar": "Contents",
   "toc_cell": false,
   "toc_position": {
    "height": "calc(100% - 180px)",
    "left": "10px",
    "top": "150px",
    "width": "336px"
   },
   "toc_section_display": true,
   "toc_window_display": true
  }
 },
 "nbformat": 4,
 "nbformat_minor": 5
}

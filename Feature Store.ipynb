{
 "cells": [
  {
   "cell_type": "markdown",
   "metadata": {},
   "source": [
    "# Getting Started with Feature Store\n",
    "\n",
    "This notebook provides a getting started tutorial for how to securely connect to Feature Store from a local workstation and then accomplish common tasks on Feature Store.\n"
   ]
  },
  {
   "cell_type": "markdown",
   "metadata": {},
   "source": [
    "## Notebook Setup\n",
    "\n",
    "Follow the following steps to install Feature Store on your local machine.\n",
    "\n",
    "1. Download the Feature Store python client wheel: https://demo.feature-store.h2o.ai/\n",
    "2. Install this library: `pip install featurestore-0.0.33-py2.py3-none-any.whl`\n",
    "3. Download the pem file (employees only): https://h2oai.slack.com/files/UR8D9HBPZ/F02G69RJU8N/isrgrootx1.pem"
   ]
  },
  {
   "cell_type": "code",
   "execution_count": 80,
   "metadata": {},
   "outputs": [],
   "source": [
    "from featurestore import Client\n",
    "from featurestore import Schema\n",
    "from featurestore.core.data_types import STRING\n",
    "from featurestore import Column, CSVFile\n",
    "from featurestore.core.job_types import INGEST, RETRIEVE, EXTRACT_SCHEMA\n",
    "from featurestore.core.filter import FilterBuilder, Case\n",
    "from featurestore.core.filter.collections import FeatureSet, Feature\n",
    "\n",
    "\n",
    "import getpass"
   ]
  },
  {
   "cell_type": "markdown",
   "metadata": {},
   "source": [
    "## Table of Contents\n",
    "<div class=\"toc\"><ul class=\"toc-item\"><li><span><a href=\"#Notebook-Setup\" data-toc-modified-id=\"Notebook-Setup-1\"><span class=\"toc-item-num\">1&nbsp;&nbsp;</span>Notebook Setup</a></span></li><li><span><a href=\"#Securely-Connect\" data-toc-modified-id=\"Securely-Connect-2\"><span class=\"toc-item-num\">2&nbsp;&nbsp;</span>Securely Connect</a></span></li><li><span><a href=\"#Apps\" data-toc-modified-id=\"Apps-3\"><span class=\"toc-item-num\">3&nbsp;&nbsp;</span>Apps</a></span><ul class=\"toc-item\"><li><span><a href=\"#List-all-apps\" data-toc-modified-id=\"List-all-apps-3.1\"><span class=\"toc-item-num\">3.1&nbsp;&nbsp;</span>List all apps</a></span></li><li><span><a href=\"#Find-the-app-with-the-most-versions\" data-toc-modified-id=\"Find-the-app-with-the-most-versions-3.2\"><span class=\"toc-item-num\">3.2&nbsp;&nbsp;</span>Find the app with the most versions</a></span></li><li><span><a href=\"#List-all-apps-I-own\" data-toc-modified-id=\"List-all-apps-I-own-3.3\"><span class=\"toc-item-num\">3.3&nbsp;&nbsp;</span>List all apps I own</a></span></li><li><span><a href=\"#Change-the-visibility-of-an-app\" data-toc-modified-id=\"Change-the-visibility-of-an-app-3.4\"><span class=\"toc-item-num\">3.4&nbsp;&nbsp;</span>Change the visibility of an app</a></span></li><li><span><a href=\"#View-all-tags-assigned-to-an-app\" data-toc-modified-id=\"View-all-tags-assigned-to-an-app-3.5\"><span class=\"toc-item-num\">3.5&nbsp;&nbsp;</span>View all tags assigned to an app</a></span></li><li><span><a href=\"#Add-a-new-category-tag-to-an-app\" data-toc-modified-id=\"Add-a-new-category-tag-to-an-app-3.6\"><span class=\"toc-item-num\">3.6&nbsp;&nbsp;</span>Add a new category tag to an app</a></span></li></ul></li><li><span><a href=\"#App-Instances\" data-toc-modified-id=\"App-Instances-4\"><span class=\"toc-item-num\">4&nbsp;&nbsp;</span>App Instances</a></span><ul class=\"toc-item\"><li><span><a href=\"#Find-the-app-with-the-most-running-instances\" data-toc-modified-id=\"Find-the-app-with-the-most-running-instances-4.1\"><span class=\"toc-item-num\">4.1&nbsp;&nbsp;</span>Find the app with the most running instances</a></span></li><li><span><a href=\"#Start-a-new-instance\" data-toc-modified-id=\"Start-a-new-instance-4.2\"><span class=\"toc-item-num\">4.2&nbsp;&nbsp;</span>Start a new instance</a></span></li><li><span><a href=\"#List-all-instances-I-own\" data-toc-modified-id=\"List-all-instances-I-own-4.3\"><span class=\"toc-item-num\">4.3&nbsp;&nbsp;</span>List all instances I own</a></span></li><li><span><a href=\"#Pause-and-resume-an-instance\" data-toc-modified-id=\"Pause-and-resume-an-instance-4.4\"><span class=\"toc-item-num\">4.4&nbsp;&nbsp;</span>Pause and resume an instance</a></span></li><li><span><a href=\"#View-the-logs-of-an-instance-I-own\" data-toc-modified-id=\"View-the-logs-of-an-instance-I-own-4.5\"><span class=\"toc-item-num\">4.5&nbsp;&nbsp;</span>View the logs of an instance I own</a></span></li><li><span><a href=\"#View-the-logs-of-an-app-I-own-and-instance-I-do-not-own\" data-toc-modified-id=\"View-the-logs-of-an-app-I-own-and-instance-I-do-not-own-4.6\"><span class=\"toc-item-num\">4.6&nbsp;&nbsp;</span>View the logs of an app I own and instance I do not own</a></span></li><li><span><a href=\"#Delete-an-instance\" data-toc-modified-id=\"Delete-an-instance-4.7\"><span class=\"toc-item-num\">4.7&nbsp;&nbsp;</span>Delete an instance</a></span></li></ul></li></ul></div>"
   ]
  },
  {
   "cell_type": "markdown",
   "metadata": {},
   "source": [
    "## Securely Connect"
   ]
  },
  {
   "cell_type": "markdown",
   "metadata": {},
   "source": [
    "First, update your download path variable to the path you saved the pem file"
   ]
  },
  {
   "cell_type": "code",
   "execution_count": 23,
   "metadata": {},
   "outputs": [],
   "source": [
    "location_of_root_certificate = '/Users/admin/Downloads/ISRGRootX1.pem'"
   ]
  },
  {
   "cell_type": "markdown",
   "metadata": {},
   "source": [
    "Now, lets connect to the feature store server"
   ]
  },
  {
   "cell_type": "code",
   "execution_count": 25,
   "metadata": {},
   "outputs": [
    {
     "name": "stdout",
     "output_type": "stream",
     "text": [
      "Connecting to the server demo-api.feature-store.h2o.ai ...\n"
     ]
    }
   ],
   "source": [
    "# connect\n",
    "client = Client(\n",
    "    \"demo-api.feature-store.h2o.ai\", \n",
    "    True, \n",
    "    root_certificates=location_of_root_certificate\n",
    ")"
   ]
  },
  {
   "cell_type": "markdown",
   "metadata": {},
   "source": [
    "To get the personal access token, run the line of code and click on url link that prints out. Then copy and paste the token into the box."
   ]
  },
  {
   "cell_type": "code",
   "execution_count": 26,
   "metadata": {},
   "outputs": [
    {
     "name": "stdout",
     "output_type": "stream",
     "text": [
      "Click this URL to get your token: https://login.microsoftonline.com/840229f2-c911-49e6-a73d-5b3a4311835a/oauth2/v2.0/authorize?client_id=181404ad-fa85-47bc-9584-a02b2efae0d0&code_challenge=rE0gfub0v9rUFcz_w2syPKl_Y2CcBH6juBeFtsY2dZw&code_challenge_method=S256&redirect_uri=https://demo.feature-store.h2o.ai/Callback&response_type=code&scope=openid%20offline_access%20api://featurestore-demo/user_impersonation&state=BmjqZp5By4\n",
      "Paste your token········\n"
     ]
    }
   ],
   "source": [
    "# login\n",
    "print(f\"Click this URL to get your token: {client.auth.get_login_url()}\")\n",
    "\n",
    "client.auth.set_auth_token(getpass.getpass(\"Paste your token\"))"
   ]
  },
  {
   "cell_type": "code",
   "execution_count": 27,
   "metadata": {},
   "outputs": [
    {
     "data": {
      "text/plain": [
       "id: \"384a71e9-d5a4-434b-856e-c546314f7f9a\"\n",
       "name: \"jeffrey.canisius\"\n",
       "email: \"jeffrey.canisius@h2o.ai\""
      ]
     },
     "execution_count": 27,
     "metadata": {},
     "output_type": "execute_result"
    }
   ],
   "source": [
    "# test connection\n",
    "client.auth.get_active_user()"
   ]
  },
  {
   "cell_type": "markdown",
   "metadata": {},
   "source": [
    "## Projects API"
   ]
  },
  {
   "cell_type": "markdown",
   "metadata": {},
   "source": [
    "### List all projects"
   ]
  },
  {
   "cell_type": "code",
   "execution_count": 83,
   "metadata": {},
   "outputs": [
    {
     "ename": "_InactiveRpcError",
     "evalue": "<_InactiveRpcError of RPC that terminated with:\n\tstatus = StatusCode.UNKNOWN\n\tdetails = \"\"\n\tdebug_error_string = \"{\"created\":\"@1637168271.265564000\",\"description\":\"Error received from peer ipv4:52.191.34.108:443\",\"file\":\"src/core/lib/surface/call.cc\",\"file_line\":1070,\"grpc_message\":\"\",\"grpc_status\":2}\"\n>",
     "output_type": "error",
     "traceback": [
      "\u001b[0;31m---------------------------------------------------------------------------\u001b[0m",
      "\u001b[0;31m_InactiveRpcError\u001b[0m                         Traceback (most recent call last)",
      "\u001b[0;32m<ipython-input-83-771fece63526>\u001b[0m in \u001b[0;36m<module>\u001b[0;34m\u001b[0m\n\u001b[0;32m----> 1\u001b[0;31m \u001b[0mclient\u001b[0m\u001b[0;34m.\u001b[0m\u001b[0mprojects\u001b[0m\u001b[0;34m.\u001b[0m\u001b[0mlist\u001b[0m\u001b[0;34m(\u001b[0m\u001b[0;34m)\u001b[0m\u001b[0;34m\u001b[0m\u001b[0;34m\u001b[0m\u001b[0m\n\u001b[0m",
      "\u001b[0;32m~/opt/anaconda3/lib/python3.8/site-packages/featurestore/core/collections/projects.py\u001b[0m in \u001b[0;36mlist\u001b[0;34m(self)\u001b[0m\n\u001b[1;32m     14\u001b[0m     \u001b[0;32mdef\u001b[0m \u001b[0mlist\u001b[0m\u001b[0;34m(\u001b[0m\u001b[0mself\u001b[0m\u001b[0;34m)\u001b[0m \u001b[0;34m->\u001b[0m \u001b[0mList\u001b[0m\u001b[0;34m[\u001b[0m\u001b[0mProject\u001b[0m\u001b[0;34m]\u001b[0m\u001b[0;34m:\u001b[0m\u001b[0;34m\u001b[0m\u001b[0;34m\u001b[0m\u001b[0m\n\u001b[1;32m     15\u001b[0m         \u001b[0mrequest\u001b[0m \u001b[0;34m=\u001b[0m \u001b[0mEmpty\u001b[0m\u001b[0;34m(\u001b[0m\u001b[0;34m)\u001b[0m\u001b[0;34m\u001b[0m\u001b[0;34m\u001b[0m\u001b[0m\n\u001b[0;32m---> 16\u001b[0;31m         \u001b[0mresponse\u001b[0m \u001b[0;34m=\u001b[0m \u001b[0mself\u001b[0m\u001b[0;34m.\u001b[0m\u001b[0m_stub\u001b[0m\u001b[0;34m.\u001b[0m\u001b[0mListProjects\u001b[0m\u001b[0;34m(\u001b[0m\u001b[0mrequest\u001b[0m\u001b[0;34m)\u001b[0m\u001b[0;34m\u001b[0m\u001b[0;34m\u001b[0m\u001b[0m\n\u001b[0m\u001b[1;32m     17\u001b[0m         \u001b[0;32mreturn\u001b[0m \u001b[0;34m[\u001b[0m\u001b[0mProject\u001b[0m\u001b[0;34m(\u001b[0m\u001b[0mself\u001b[0m\u001b[0;34m.\u001b[0m\u001b[0m_stub\u001b[0m\u001b[0;34m,\u001b[0m \u001b[0mp\u001b[0m\u001b[0;34m)\u001b[0m \u001b[0;32mfor\u001b[0m \u001b[0mp\u001b[0m \u001b[0;32min\u001b[0m \u001b[0mresponse\u001b[0m\u001b[0;34m.\u001b[0m\u001b[0mprojects\u001b[0m\u001b[0;34m]\u001b[0m\u001b[0;34m\u001b[0m\u001b[0;34m\u001b[0m\u001b[0m\n\u001b[1;32m     18\u001b[0m \u001b[0;34m\u001b[0m\u001b[0m\n",
      "\u001b[0;32m~/opt/anaconda3/lib/python3.8/site-packages/grpc/_interceptor.py\u001b[0m in \u001b[0;36m__call__\u001b[0;34m(self, request, timeout, metadata, credentials, wait_for_ready, compression)\u001b[0m\n\u001b[1;32m    214\u001b[0m                  \u001b[0mwait_for_ready\u001b[0m\u001b[0;34m=\u001b[0m\u001b[0;32mNone\u001b[0m\u001b[0;34m,\u001b[0m\u001b[0;34m\u001b[0m\u001b[0;34m\u001b[0m\u001b[0m\n\u001b[1;32m    215\u001b[0m                  compression=None):\n\u001b[0;32m--> 216\u001b[0;31m         response, ignored_call = self._with_call(request,\n\u001b[0m\u001b[1;32m    217\u001b[0m                                                  \u001b[0mtimeout\u001b[0m\u001b[0;34m=\u001b[0m\u001b[0mtimeout\u001b[0m\u001b[0;34m,\u001b[0m\u001b[0;34m\u001b[0m\u001b[0;34m\u001b[0m\u001b[0m\n\u001b[1;32m    218\u001b[0m                                                  \u001b[0mmetadata\u001b[0m\u001b[0;34m=\u001b[0m\u001b[0mmetadata\u001b[0m\u001b[0;34m,\u001b[0m\u001b[0;34m\u001b[0m\u001b[0;34m\u001b[0m\u001b[0m\n",
      "\u001b[0;32m~/opt/anaconda3/lib/python3.8/site-packages/grpc/_interceptor.py\u001b[0m in \u001b[0;36m_with_call\u001b[0;34m(self, request, timeout, metadata, credentials, wait_for_ready, compression)\u001b[0m\n\u001b[1;32m    255\u001b[0m                                                        \u001b[0mclient_call_details\u001b[0m\u001b[0;34m,\u001b[0m\u001b[0;34m\u001b[0m\u001b[0;34m\u001b[0m\u001b[0m\n\u001b[1;32m    256\u001b[0m                                                        request)\n\u001b[0;32m--> 257\u001b[0;31m         \u001b[0;32mreturn\u001b[0m \u001b[0mcall\u001b[0m\u001b[0;34m.\u001b[0m\u001b[0mresult\u001b[0m\u001b[0;34m(\u001b[0m\u001b[0;34m)\u001b[0m\u001b[0;34m,\u001b[0m \u001b[0mcall\u001b[0m\u001b[0;34m\u001b[0m\u001b[0;34m\u001b[0m\u001b[0m\n\u001b[0m\u001b[1;32m    258\u001b[0m \u001b[0;34m\u001b[0m\u001b[0m\n\u001b[1;32m    259\u001b[0m     def with_call(self,\n",
      "\u001b[0;32m~/opt/anaconda3/lib/python3.8/site-packages/grpc/_channel.py\u001b[0m in \u001b[0;36mresult\u001b[0;34m(self, timeout)\u001b[0m\n\u001b[1;32m    341\u001b[0m     \u001b[0;32mdef\u001b[0m \u001b[0mresult\u001b[0m\u001b[0;34m(\u001b[0m\u001b[0mself\u001b[0m\u001b[0;34m,\u001b[0m \u001b[0mtimeout\u001b[0m\u001b[0;34m=\u001b[0m\u001b[0;32mNone\u001b[0m\u001b[0;34m)\u001b[0m\u001b[0;34m:\u001b[0m  \u001b[0;31m# pylint: disable=unused-argument\u001b[0m\u001b[0;34m\u001b[0m\u001b[0;34m\u001b[0m\u001b[0m\n\u001b[1;32m    342\u001b[0m         \u001b[0;34m\"\"\"See grpc.Future.result.\"\"\"\u001b[0m\u001b[0;34m\u001b[0m\u001b[0;34m\u001b[0m\u001b[0m\n\u001b[0;32m--> 343\u001b[0;31m         \u001b[0;32mraise\u001b[0m \u001b[0mself\u001b[0m\u001b[0;34m\u001b[0m\u001b[0;34m\u001b[0m\u001b[0m\n\u001b[0m\u001b[1;32m    344\u001b[0m \u001b[0;34m\u001b[0m\u001b[0m\n\u001b[1;32m    345\u001b[0m     \u001b[0;32mdef\u001b[0m \u001b[0mexception\u001b[0m\u001b[0;34m(\u001b[0m\u001b[0mself\u001b[0m\u001b[0;34m,\u001b[0m \u001b[0mtimeout\u001b[0m\u001b[0;34m=\u001b[0m\u001b[0;32mNone\u001b[0m\u001b[0;34m)\u001b[0m\u001b[0;34m:\u001b[0m  \u001b[0;31m# pylint: disable=unused-argument\u001b[0m\u001b[0;34m\u001b[0m\u001b[0;34m\u001b[0m\u001b[0m\n",
      "\u001b[0;32m~/opt/anaconda3/lib/python3.8/site-packages/grpc/_interceptor.py\u001b[0m in \u001b[0;36mcontinuation\u001b[0;34m(new_details, request)\u001b[0m\n\u001b[1;32m    239\u001b[0m                  new_details, client_call_details))\n\u001b[1;32m    240\u001b[0m             \u001b[0;32mtry\u001b[0m\u001b[0;34m:\u001b[0m\u001b[0;34m\u001b[0m\u001b[0;34m\u001b[0m\u001b[0m\n\u001b[0;32m--> 241\u001b[0;31m                 response, call = self._thunk(new_method).with_call(\n\u001b[0m\u001b[1;32m    242\u001b[0m                     \u001b[0mrequest\u001b[0m\u001b[0;34m,\u001b[0m\u001b[0;34m\u001b[0m\u001b[0;34m\u001b[0m\u001b[0m\n\u001b[1;32m    243\u001b[0m                     \u001b[0mtimeout\u001b[0m\u001b[0;34m=\u001b[0m\u001b[0mnew_timeout\u001b[0m\u001b[0;34m,\u001b[0m\u001b[0;34m\u001b[0m\u001b[0;34m\u001b[0m\u001b[0m\n",
      "\u001b[0;32m~/opt/anaconda3/lib/python3.8/site-packages/grpc/_channel.py\u001b[0m in \u001b[0;36mwith_call\u001b[0;34m(self, request, timeout, metadata, credentials, wait_for_ready, compression)\u001b[0m\n\u001b[1;32m    955\u001b[0m         state, call, = self._blocking(request, timeout, metadata, credentials,\n\u001b[1;32m    956\u001b[0m                                       wait_for_ready, compression)\n\u001b[0;32m--> 957\u001b[0;31m         \u001b[0;32mreturn\u001b[0m \u001b[0m_end_unary_response_blocking\u001b[0m\u001b[0;34m(\u001b[0m\u001b[0mstate\u001b[0m\u001b[0;34m,\u001b[0m \u001b[0mcall\u001b[0m\u001b[0;34m,\u001b[0m \u001b[0;32mTrue\u001b[0m\u001b[0;34m,\u001b[0m \u001b[0;32mNone\u001b[0m\u001b[0;34m)\u001b[0m\u001b[0;34m\u001b[0m\u001b[0;34m\u001b[0m\u001b[0m\n\u001b[0m\u001b[1;32m    958\u001b[0m \u001b[0;34m\u001b[0m\u001b[0m\n\u001b[1;32m    959\u001b[0m     def future(self,\n",
      "\u001b[0;32m~/opt/anaconda3/lib/python3.8/site-packages/grpc/_channel.py\u001b[0m in \u001b[0;36m_end_unary_response_blocking\u001b[0;34m(state, call, with_call, deadline)\u001b[0m\n\u001b[1;32m    847\u001b[0m             \u001b[0;32mreturn\u001b[0m \u001b[0mstate\u001b[0m\u001b[0;34m.\u001b[0m\u001b[0mresponse\u001b[0m\u001b[0;34m\u001b[0m\u001b[0;34m\u001b[0m\u001b[0m\n\u001b[1;32m    848\u001b[0m     \u001b[0;32melse\u001b[0m\u001b[0;34m:\u001b[0m\u001b[0;34m\u001b[0m\u001b[0;34m\u001b[0m\u001b[0m\n\u001b[0;32m--> 849\u001b[0;31m         \u001b[0;32mraise\u001b[0m \u001b[0m_InactiveRpcError\u001b[0m\u001b[0;34m(\u001b[0m\u001b[0mstate\u001b[0m\u001b[0;34m)\u001b[0m\u001b[0;34m\u001b[0m\u001b[0;34m\u001b[0m\u001b[0m\n\u001b[0m\u001b[1;32m    850\u001b[0m \u001b[0;34m\u001b[0m\u001b[0m\n\u001b[1;32m    851\u001b[0m \u001b[0;34m\u001b[0m\u001b[0m\n",
      "\u001b[0;31m_InactiveRpcError\u001b[0m: <_InactiveRpcError of RPC that terminated with:\n\tstatus = StatusCode.UNKNOWN\n\tdetails = \"\"\n\tdebug_error_string = \"{\"created\":\"@1637168271.265564000\",\"description\":\"Error received from peer ipv4:52.191.34.108:443\",\"file\":\"src/core/lib/surface/call.cc\",\"file_line\":1070,\"grpc_message\":\"\",\"grpc_status\":2}\"\n>"
     ]
    }
   ],
   "source": [
    "client.projects.list()"
   ]
  },
  {
   "cell_type": "markdown",
   "metadata": {},
   "source": [
    "### Create a project\n",
    "If the secret argument is set True, then the project is visibile to the owner exclusively. Others would not see the project in the list of projects and view project details.\n",
    "\n",
    "If the locked argument is set True, then only users with consumer permission can list and get feature sets from this project"
   ]
  },
  {
   "cell_type": "code",
   "execution_count": 33,
   "metadata": {},
   "outputs": [],
   "source": [
    "project = client.projects.create(project_name=\"test_project\", description=\"description\", secret=False, locked=None)"
   ]
  },
  {
   "cell_type": "markdown",
   "metadata": {},
   "source": [
    "### Call existing project"
   ]
  },
  {
   "cell_type": "code",
   "execution_count": 34,
   "metadata": {},
   "outputs": [
    {
     "data": {
      "text/plain": [
       "name: \"test_project\"\n",
       "description: \"description\"\n",
       "owner {\n",
       "  id: \"384a71e9-d5a4-434b-856e-c546314f7f9a\"\n",
       "  name: \"jeffrey.canisius\"\n",
       "  email: \"jeffrey.canisius@h2o.ai\"\n",
       "}\n",
       "created_date_time {\n",
       "  2021-11-16T20:22:57.654000\n",
       "}"
      ]
     },
     "execution_count": 34,
     "metadata": {},
     "output_type": "execute_result"
    }
   ],
   "source": [
    "project = client.projects.get(\"test_project\")\n",
    "project"
   ]
  },
  {
   "cell_type": "markdown",
   "metadata": {},
   "source": [
    "### Delete a project\n",
    "Note that once you delete a project, it will remove all feature sets and features stored inside this project"
   ]
  },
  {
   "cell_type": "code",
   "execution_count": 31,
   "metadata": {},
   "outputs": [
    {
     "name": "stdout",
     "output_type": "stream",
     "text": [
      "Waiting for project 'test_project' deletion\n",
      "Waiting for project 'test_project' deletion\n",
      "Waiting for project 'test_project' deletion\n",
      "Waiting for project 'test_project' deletion\n",
      "Waiting for project 'test_project' deletion\n",
      "Waiting for project 'test_project' deletion\n",
      "Waiting for project 'test_project' deletion\n",
      "Waiting for project 'test_project' deletion\n",
      "Waiting for project 'test_project' deletion\n"
     ]
    }
   ],
   "source": [
    "project.delete()"
   ]
  },
  {
   "cell_type": "markdown",
   "metadata": {},
   "source": [
    "### Change visibility of project"
   ]
  },
  {
   "cell_type": "code",
   "execution_count": null,
   "metadata": {},
   "outputs": [],
   "source": []
  },
  {
   "cell_type": "code",
   "execution_count": null,
   "metadata": {},
   "outputs": [],
   "source": [
    "project.secret = False\n",
    "project.update_metadata()"
   ]
  },
  {
   "cell_type": "markdown",
   "metadata": {},
   "source": [
    "## Schema API"
   ]
  },
  {
   "cell_type": "markdown",
   "metadata": {},
   "source": [
    "### Create schema from string"
   ]
  },
  {
   "cell_type": "code",
   "execution_count": 35,
   "metadata": {},
   "outputs": [
    {
     "data": {
      "text/plain": [
       "[{'name': 'col1', 'data_type': 'integer'}, {'name': 'col2', 'data_type': 'string'}, {'name': 'col3', 'data_type': 'integer'}]"
      ]
     },
     "execution_count": 35,
     "metadata": {},
     "output_type": "execute_result"
    }
   ],
   "source": [
    "schema = \"col1 integer, col2 string, col3 integer\"\n",
    "schema = Schema.from_string(schema)\n",
    "schema"
   ]
  },
  {
   "cell_type": "markdown",
   "metadata": {},
   "source": [
    "### Change data type of current schema"
   ]
  },
  {
   "cell_type": "code",
   "execution_count": 36,
   "metadata": {},
   "outputs": [
    {
     "data": {
      "text/plain": [
       "[{'name': 'col1', 'data_type': 'string'}, {'name': 'col2', 'data_type': 'string'}, {'name': 'col3', 'data_type': 'integer'}]"
      ]
     },
     "execution_count": 36,
     "metadata": {},
     "output_type": "execute_result"
    }
   ],
   "source": [
    "schema = schema.update_column(\"col1\",STRING)\n",
    "schema"
   ]
  },
  {
   "cell_type": "markdown",
   "metadata": {},
   "source": [
    "### Add new columns to current schema"
   ]
  },
  {
   "cell_type": "code",
   "execution_count": 37,
   "metadata": {},
   "outputs": [
    {
     "data": {
      "text/plain": [
       "[{'name': 'new_column', 'data_type': 'STRING'}, {'name': 'col1', 'data_type': 'string'}, {'name': 'new_column', 'data_type': 'STRING'}, {'name': 'col2', 'data_type': 'string'}, {'name': 'new_column', 'data_type': 'STRING'}, {'name': 'col3', 'data_type': 'integer'}, {'name': 'new_column', 'data_type': 'STRING'}]"
      ]
     },
     "execution_count": 37,
     "metadata": {},
     "output_type": "execute_result"
    }
   ],
   "source": [
    "new_column = Column(\"new_column\", \"STRING\")\n",
    "\n",
    "# Append\n",
    "schema = schema.append(new_column)  # Append to the end\n",
    "schema = schema.append(new_column, \"col2\")  # Append after col2\n",
    "# Prepend\n",
    "schema = schema.prepend(new_column)  # Prepend to the beginning\n",
    "schema = schema.prepend(new_column, \"col2\")  # Prepend before col2\n",
    "\n",
    "schema"
   ]
  },
  {
   "cell_type": "markdown",
   "metadata": {},
   "source": [
    "### Load schema from a feature set"
   ]
  },
  {
   "cell_type": "code",
   "execution_count": null,
   "metadata": {},
   "outputs": [],
   "source": [
    "load_schema = feature_set.get_schema()"
   ]
  },
  {
   "cell_type": "markdown",
   "metadata": {},
   "source": [
    "### Save schema as string"
   ]
  },
  {
   "cell_type": "code",
   "execution_count": 38,
   "metadata": {},
   "outputs": [
    {
     "data": {
      "text/plain": [
       "'new_column STRING, col1 string, new_column STRING, col2 string, new_column STRING, col3 integer, new_column STRING'"
      ]
     },
     "execution_count": 38,
     "metadata": {},
     "output_type": "execute_result"
    }
   ],
   "source": [
    "str_schema = schema.to_string()\n",
    "\n",
    "str_schema"
   ]
  },
  {
   "cell_type": "markdown",
   "metadata": {},
   "source": [
    "### Feature Set API"
   ]
  },
  {
   "cell_type": "markdown",
   "metadata": {},
   "source": [
    "### Register a feature set"
   ]
  },
  {
   "cell_type": "code",
   "execution_count": 61,
   "metadata": {},
   "outputs": [
    {
     "data": {
      "text/plain": [
       "project: \"test_project\"\n",
       "feature_set_name: \"feature_set_name\"\n",
       "version: \"1.0\"\n",
       "version_change: \"Feature Set Created\"\n",
       "time_travel_column_format: \"yyyy-MM-dd HH:mm:ss\"\n",
       "owner {\n",
       "  id: \"384a71e9-d5a4-434b-856e-c546314f7f9a\"\n",
       "  name: \"jeffrey.canisius\"\n",
       "  email: \"jeffrey.canisius@h2o.ai\"\n",
       "}\n",
       "author {\n",
       "  id: \"384a71e9-d5a4-434b-856e-c546314f7f9a\"\n",
       "  name: \"jeffrey.canisius\"\n",
       "  email: \"jeffrey.canisius@h2o.ai\"\n",
       "}\n",
       "created_date_time {\n",
       "  2021-11-16T20:33:31.606392\n",
       "}\n",
       "process_interval: 5\n",
       "process_interval_unit: \"hours\"\n",
       "time_to_live {\n",
       "  ttl_offline: 2\n",
       "  ttl_offline_interval: \"years\"\n",
       "}\n",
       "features {\n",
       "  name: \"new_column\"\n",
       "  version: \"1\"\n",
       "  version_change: \"Feature created.\"\n",
       "  data_type: \"STRING\"\n",
       "  data_type_hierarchical_paths: \"\"\n",
       "}\n",
       "features {\n",
       "  name: \"col1\"\n",
       "  version: \"1\"\n",
       "  version_change: \"Feature created.\"\n",
       "  data_type: \"STRING\"\n",
       "  data_type_hierarchical_paths: \"\"\n",
       "}\n",
       "features {\n",
       "  name: \"new_column\"\n",
       "  version: \"1\"\n",
       "  version_change: \"Feature created.\"\n",
       "  data_type: \"STRING\"\n",
       "  data_type_hierarchical_paths: \"\"\n",
       "}\n",
       "features {\n",
       "  name: \"col2\"\n",
       "  version: \"1\"\n",
       "  version_change: \"Feature created.\"\n",
       "  data_type: \"STRING\"\n",
       "  data_type_hierarchical_paths: \"\"\n",
       "}\n",
       "features {\n",
       "  name: \"new_column\"\n",
       "  version: \"1\"\n",
       "  version_change: \"Feature created.\"\n",
       "  data_type: \"STRING\"\n",
       "  data_type_hierarchical_paths: \"\"\n",
       "}\n",
       "features {\n",
       "  name: \"col3\"\n",
       "  version: \"1\"\n",
       "  version_change: \"Feature created.\"\n",
       "  data_type: \"INT\"\n",
       "  data_type_hierarchical_paths: \"\"\n",
       "}\n",
       "features {\n",
       "  name: \"new_column\"\n",
       "  version: \"1\"\n",
       "  version_change: \"Feature created.\"\n",
       "  data_type: \"STRING\"\n",
       "  data_type_hierarchical_paths: \"\"\n",
       "}\n",
       "statistics {\n",
       "}\n",
       "special_data {\n",
       "}\n",
       "id: \"test_project-feature_set_name\""
      ]
     },
     "execution_count": 61,
     "metadata": {},
     "output_type": "execute_result"
    }
   ],
   "source": [
    "project.feature_sets.register(schema,\n",
    "                              \"feature_set_name\",\n",
    "                              description=\"\",\n",
    "                              primary_key=None,\n",
    "                              secondary_key=None,\n",
    "                              time_travel_column=None,\n",
    "                              time_travel_column_format=\"yyyy-MM-dd HH:mm:ss\",\n",
    "                              secret=False,\n",
    "                              masked_features=None)"
   ]
  },
  {
   "cell_type": "markdown",
   "metadata": {},
   "source": [
    "### List feature sets within a project\n",
    "You can also pass in array of tags to the method if you want to list feature sets with specific tags"
   ]
  },
  {
   "cell_type": "code",
   "execution_count": 62,
   "metadata": {},
   "outputs": [
    {
     "data": {
      "text/plain": [
       "[project: \"test_project\"\n",
       " feature_set_name: \"feature_set_name\"\n",
       " version: \"1.0\"\n",
       " version_change: \"Feature Set Created\"\n",
       " time_travel_column_format: \"yyyy-MM-dd HH:mm:ss\"\n",
       " owner {\n",
       "   id: \"384a71e9-d5a4-434b-856e-c546314f7f9a\"\n",
       "   name: \"jeffrey.canisius\"\n",
       "   email: \"jeffrey.canisius@h2o.ai\"\n",
       " }\n",
       " author {\n",
       "   id: \"384a71e9-d5a4-434b-856e-c546314f7f9a\"\n",
       "   name: \"jeffrey.canisius\"\n",
       "   email: \"jeffrey.canisius@h2o.ai\"\n",
       " }\n",
       " created_date_time {\n",
       "   2021-11-16T20:33:31.606000\n",
       " }\n",
       " process_interval: 5\n",
       " process_interval_unit: \"hours\"\n",
       " time_to_live {\n",
       "   ttl_offline: 2\n",
       "   ttl_offline_interval: \"years\"\n",
       " }\n",
       " features {\n",
       "   name: \"new_column\"\n",
       "   version: \"1\"\n",
       "   version_change: \"Feature created.\"\n",
       "   data_type: \"STRING\"\n",
       "   profile {\n",
       "     categorical {\n",
       "     }\n",
       "     statistics {\n",
       "     }\n",
       "   }\n",
       "   monitoring {\n",
       "   }\n",
       "   data_type_hierarchical_paths: \"\"\n",
       " }\n",
       " features {\n",
       "   name: \"col1\"\n",
       "   version: \"1\"\n",
       "   version_change: \"Feature created.\"\n",
       "   data_type: \"STRING\"\n",
       "   profile {\n",
       "     categorical {\n",
       "     }\n",
       "     statistics {\n",
       "     }\n",
       "   }\n",
       "   monitoring {\n",
       "   }\n",
       "   data_type_hierarchical_paths: \"\"\n",
       " }\n",
       " features {\n",
       "   name: \"new_column\"\n",
       "   version: \"1\"\n",
       "   version_change: \"Feature created.\"\n",
       "   data_type: \"STRING\"\n",
       "   profile {\n",
       "     categorical {\n",
       "     }\n",
       "     statistics {\n",
       "     }\n",
       "   }\n",
       "   monitoring {\n",
       "   }\n",
       "   data_type_hierarchical_paths: \"\"\n",
       " }\n",
       " features {\n",
       "   name: \"col2\"\n",
       "   version: \"1\"\n",
       "   version_change: \"Feature created.\"\n",
       "   data_type: \"STRING\"\n",
       "   profile {\n",
       "     categorical {\n",
       "     }\n",
       "     statistics {\n",
       "     }\n",
       "   }\n",
       "   monitoring {\n",
       "   }\n",
       "   data_type_hierarchical_paths: \"\"\n",
       " }\n",
       " features {\n",
       "   name: \"new_column\"\n",
       "   version: \"1\"\n",
       "   version_change: \"Feature created.\"\n",
       "   data_type: \"STRING\"\n",
       "   profile {\n",
       "     categorical {\n",
       "     }\n",
       "     statistics {\n",
       "     }\n",
       "   }\n",
       "   monitoring {\n",
       "   }\n",
       "   data_type_hierarchical_paths: \"\"\n",
       " }\n",
       " features {\n",
       "   name: \"col3\"\n",
       "   version: \"1\"\n",
       "   version_change: \"Feature created.\"\n",
       "   data_type: \"INT\"\n",
       "   profile {\n",
       "     categorical {\n",
       "     }\n",
       "     statistics {\n",
       "     }\n",
       "   }\n",
       "   monitoring {\n",
       "   }\n",
       "   data_type_hierarchical_paths: \"\"\n",
       " }\n",
       " features {\n",
       "   name: \"new_column\"\n",
       "   version: \"1\"\n",
       "   version_change: \"Feature created.\"\n",
       "   data_type: \"STRING\"\n",
       "   profile {\n",
       "     categorical {\n",
       "     }\n",
       "     statistics {\n",
       "     }\n",
       "   }\n",
       "   monitoring {\n",
       "   }\n",
       "   data_type_hierarchical_paths: \"\"\n",
       " }\n",
       " statistics {\n",
       " }\n",
       " special_data {\n",
       "   legal {\n",
       "   }\n",
       " }\n",
       " id: \"test_project-feature_set_name\"\n",
       " time_travel_scope {\n",
       " }\n",
       " online {\n",
       " }]"
      ]
     },
     "execution_count": 62,
     "metadata": {},
     "output_type": "execute_result"
    }
   ],
   "source": [
    "project.feature_sets.list()"
   ]
  },
  {
   "cell_type": "markdown",
   "metadata": {},
   "source": [
    "### Obtain a feature set"
   ]
  },
  {
   "cell_type": "code",
   "execution_count": 63,
   "metadata": {},
   "outputs": [
    {
     "data": {
      "text/plain": [
       "project: \"test_project\"\n",
       "feature_set_name: \"feature_set_name\"\n",
       "version: \"1.0\"\n",
       "version_change: \"Feature Set Created\"\n",
       "time_travel_column_format: \"yyyy-MM-dd HH:mm:ss\"\n",
       "owner {\n",
       "  id: \"384a71e9-d5a4-434b-856e-c546314f7f9a\"\n",
       "  name: \"jeffrey.canisius\"\n",
       "  email: \"jeffrey.canisius@h2o.ai\"\n",
       "}\n",
       "author {\n",
       "  id: \"384a71e9-d5a4-434b-856e-c546314f7f9a\"\n",
       "  name: \"jeffrey.canisius\"\n",
       "  email: \"jeffrey.canisius@h2o.ai\"\n",
       "}\n",
       "created_date_time {\n",
       "  2021-11-16T20:33:31.606000\n",
       "}\n",
       "process_interval: 5\n",
       "process_interval_unit: \"hours\"\n",
       "time_to_live {\n",
       "  ttl_offline: 2\n",
       "  ttl_offline_interval: \"years\"\n",
       "}\n",
       "features {\n",
       "  name: \"new_column\"\n",
       "  version: \"1\"\n",
       "  version_change: \"Feature created.\"\n",
       "  data_type: \"STRING\"\n",
       "  profile {\n",
       "    categorical {\n",
       "    }\n",
       "    statistics {\n",
       "    }\n",
       "  }\n",
       "  monitoring {\n",
       "  }\n",
       "  data_type_hierarchical_paths: \"\"\n",
       "}\n",
       "features {\n",
       "  name: \"col1\"\n",
       "  version: \"1\"\n",
       "  version_change: \"Feature created.\"\n",
       "  data_type: \"STRING\"\n",
       "  profile {\n",
       "    categorical {\n",
       "    }\n",
       "    statistics {\n",
       "    }\n",
       "  }\n",
       "  monitoring {\n",
       "  }\n",
       "  data_type_hierarchical_paths: \"\"\n",
       "}\n",
       "features {\n",
       "  name: \"new_column\"\n",
       "  version: \"1\"\n",
       "  version_change: \"Feature created.\"\n",
       "  data_type: \"STRING\"\n",
       "  profile {\n",
       "    categorical {\n",
       "    }\n",
       "    statistics {\n",
       "    }\n",
       "  }\n",
       "  monitoring {\n",
       "  }\n",
       "  data_type_hierarchical_paths: \"\"\n",
       "}\n",
       "features {\n",
       "  name: \"col2\"\n",
       "  version: \"1\"\n",
       "  version_change: \"Feature created.\"\n",
       "  data_type: \"STRING\"\n",
       "  profile {\n",
       "    categorical {\n",
       "    }\n",
       "    statistics {\n",
       "    }\n",
       "  }\n",
       "  monitoring {\n",
       "  }\n",
       "  data_type_hierarchical_paths: \"\"\n",
       "}\n",
       "features {\n",
       "  name: \"new_column\"\n",
       "  version: \"1\"\n",
       "  version_change: \"Feature created.\"\n",
       "  data_type: \"STRING\"\n",
       "  profile {\n",
       "    categorical {\n",
       "    }\n",
       "    statistics {\n",
       "    }\n",
       "  }\n",
       "  monitoring {\n",
       "  }\n",
       "  data_type_hierarchical_paths: \"\"\n",
       "}\n",
       "features {\n",
       "  name: \"col3\"\n",
       "  version: \"1\"\n",
       "  version_change: \"Feature created.\"\n",
       "  data_type: \"INT\"\n",
       "  profile {\n",
       "    categorical {\n",
       "    }\n",
       "    statistics {\n",
       "    }\n",
       "  }\n",
       "  monitoring {\n",
       "  }\n",
       "  data_type_hierarchical_paths: \"\"\n",
       "}\n",
       "features {\n",
       "  name: \"new_column\"\n",
       "  version: \"1\"\n",
       "  version_change: \"Feature created.\"\n",
       "  data_type: \"STRING\"\n",
       "  profile {\n",
       "    categorical {\n",
       "    }\n",
       "    statistics {\n",
       "    }\n",
       "  }\n",
       "  monitoring {\n",
       "  }\n",
       "  data_type_hierarchical_paths: \"\"\n",
       "}\n",
       "statistics {\n",
       "}\n",
       "special_data {\n",
       "  legal {\n",
       "  }\n",
       "}\n",
       "id: \"test_project-feature_set_name\"\n",
       "time_travel_scope {\n",
       "}\n",
       "online {\n",
       "}"
      ]
     },
     "execution_count": 63,
     "metadata": {},
     "output_type": "execute_result"
    }
   ],
   "source": [
    "fs = project.feature_sets.get(\"feature_set_name\", version=None)\n",
    "fs"
   ]
  },
  {
   "cell_type": "markdown",
   "metadata": {},
   "source": [
    "### List all versions of feature set"
   ]
  },
  {
   "cell_type": "code",
   "execution_count": 64,
   "metadata": {},
   "outputs": [
    {
     "data": {
      "text/plain": [
       "[version: \"1.0\"\n",
       " version_change: \"Feature Set Created\"\n",
       " created_date_time {\n",
       "   2021-11-16T20:33:31.606000\n",
       " }]"
      ]
     },
     "execution_count": 64,
     "metadata": {},
     "output_type": "execute_result"
    }
   ],
   "source": [
    "fs.list_versions()"
   ]
  },
  {
   "cell_type": "markdown",
   "metadata": {},
   "source": [
    "### Delete Feature set"
   ]
  },
  {
   "cell_type": "code",
   "execution_count": 56,
   "metadata": {},
   "outputs": [
    {
     "name": "stdout",
     "output_type": "stream",
     "text": [
      "Waiting for feature set 'feature_set_name' deletion\n",
      "Waiting for feature set 'feature_set_name' deletion\n",
      "Waiting for feature set 'feature_set_name' deletion\n"
     ]
    }
   ],
   "source": [
    "fs.delete()"
   ]
  },
  {
   "cell_type": "markdown",
   "metadata": {},
   "source": [
    "### Update meta data on feature set\n",
    "To find out all fields that can be updated on feature set object, go to 'https://dev.feature-store.h2o.ai/doc/api/feature_set_api.html#updating-meta-data-on-feature-set'"
   ]
  },
  {
   "cell_type": "code",
   "execution_count": 65,
   "metadata": {},
   "outputs": [
    {
     "data": {
      "text/plain": [
       "project: \"test_project\"\n",
       "feature_set_name: \"feature_set_name\"\n",
       "version: \"1.1\"\n",
       "version_change: \"Metadata Updated\"\n",
       "time_travel_column_format: \"yyyy-MM-dd HH:mm:ss\"\n",
       "owner {\n",
       "  id: \"384a71e9-d5a4-434b-856e-c546314f7f9a\"\n",
       "  name: \"jeffrey.canisius\"\n",
       "  email: \"jeffrey.canisius@h2o.ai\"\n",
       "}\n",
       "author {\n",
       "  id: \"384a71e9-d5a4-434b-856e-c546314f7f9a\"\n",
       "  name: \"jeffrey.canisius\"\n",
       "  email: \"jeffrey.canisius@h2o.ai\"\n",
       "}\n",
       "created_date_time {\n",
       "  2021-11-16T20:33:31.606000\n",
       "}\n",
       "last_update_date_time {\n",
       "  2021-11-16T20:41:31.312538\n",
       "}\n",
       "tags: \"new tag 1\"\n",
       "tags: \"new tag 2\"\n",
       "tags: \"new tag\"\n",
       "process_interval: 5\n",
       "process_interval_unit: \"hours\"\n",
       "time_to_live {\n",
       "  ttl_offline: 2\n",
       "  ttl_offline_interval: \"years\"\n",
       "}\n",
       "features {\n",
       "  name: \"new_column\"\n",
       "  version: \"1\"\n",
       "  version_change: \"Feature created.\"\n",
       "  data_type: \"STRING\"\n",
       "  profile {\n",
       "    categorical {\n",
       "    }\n",
       "    statistics {\n",
       "    }\n",
       "  }\n",
       "  monitoring {\n",
       "  }\n",
       "  data_type_hierarchical_paths: \"\"\n",
       "}\n",
       "features {\n",
       "  name: \"col1\"\n",
       "  version: \"1\"\n",
       "  version_change: \"Feature created.\"\n",
       "  data_type: \"STRING\"\n",
       "  profile {\n",
       "    categorical {\n",
       "    }\n",
       "    statistics {\n",
       "    }\n",
       "  }\n",
       "  monitoring {\n",
       "  }\n",
       "  data_type_hierarchical_paths: \"\"\n",
       "}\n",
       "features {\n",
       "  name: \"new_column\"\n",
       "  version: \"1\"\n",
       "  version_change: \"Feature created.\"\n",
       "  data_type: \"STRING\"\n",
       "  profile {\n",
       "    categorical {\n",
       "    }\n",
       "    statistics {\n",
       "    }\n",
       "  }\n",
       "  monitoring {\n",
       "  }\n",
       "  data_type_hierarchical_paths: \"\"\n",
       "}\n",
       "features {\n",
       "  name: \"col2\"\n",
       "  version: \"1\"\n",
       "  version_change: \"Feature created.\"\n",
       "  data_type: \"STRING\"\n",
       "  profile {\n",
       "    categorical {\n",
       "    }\n",
       "    statistics {\n",
       "    }\n",
       "  }\n",
       "  monitoring {\n",
       "  }\n",
       "  data_type_hierarchical_paths: \"\"\n",
       "}\n",
       "features {\n",
       "  name: \"new_column\"\n",
       "  version: \"1\"\n",
       "  version_change: \"Feature created.\"\n",
       "  data_type: \"STRING\"\n",
       "  profile {\n",
       "    categorical {\n",
       "    }\n",
       "    statistics {\n",
       "    }\n",
       "  }\n",
       "  monitoring {\n",
       "  }\n",
       "  data_type_hierarchical_paths: \"\"\n",
       "}\n",
       "features {\n",
       "  name: \"col3\"\n",
       "  version: \"1\"\n",
       "  version_change: \"Feature created.\"\n",
       "  data_type: \"INT\"\n",
       "  profile {\n",
       "    categorical {\n",
       "    }\n",
       "    statistics {\n",
       "    }\n",
       "  }\n",
       "  monitoring {\n",
       "  }\n",
       "  data_type_hierarchical_paths: \"\"\n",
       "}\n",
       "features {\n",
       "  name: \"new_column\"\n",
       "  version: \"1\"\n",
       "  version_change: \"Feature created.\"\n",
       "  data_type: \"STRING\"\n",
       "  profile {\n",
       "    categorical {\n",
       "    }\n",
       "    statistics {\n",
       "    }\n",
       "  }\n",
       "  monitoring {\n",
       "  }\n",
       "  data_type_hierarchical_paths: \"\"\n",
       "}\n",
       "statistics {\n",
       "}\n",
       "special_data {\n",
       "  legal {\n",
       "  }\n",
       "}\n",
       "id: \"test_project-feature_set_name\"\n",
       "time_travel_scope {\n",
       "}\n",
       "online {\n",
       "}"
      ]
     },
     "execution_count": 65,
     "metadata": {},
     "output_type": "execute_result"
    }
   ],
   "source": [
    "fs.secret = False\n",
    "# Add new tags that will overwrite any existing tags\n",
    "fs.tags = [\"new tag 1\", \"new tag 2\"] # This will overwrite the existing tags with the given list of values\n",
    "# Add a new tag to the feature set\n",
    "fs.tags.append(\"new tag\") # This will add the new tag to the list of existing tags\n",
    "fs.update_metadata()"
   ]
  },
  {
   "cell_type": "markdown",
   "metadata": {},
   "source": [
    "### Ingest API\n",
    "To prepare the data and ingest it into the feature store, run:"
   ]
  },
  {
   "cell_type": "code",
   "execution_count": 81,
   "metadata": {},
   "outputs": [],
   "source": [
    "source = CSVFile(\"wasbs://benchmarkdata@featurestoretestdata.blob.core.windows.net/small_size_data/customer_churn_data_based_on_dates.csv\")"
   ]
  },
  {
   "cell_type": "code",
   "execution_count": 82,
   "metadata": {},
   "outputs": [
    {
     "ename": "Exception",
     "evalue": "Azure account name must be defined for registering and obtaining data stored in Azure Blob storage!",
     "output_type": "error",
     "traceback": [
      "\u001b[0;31m---------------------------------------------------------------------------\u001b[0m",
      "\u001b[0;31mException\u001b[0m                                 Traceback (most recent call last)",
      "\u001b[0;32m<ipython-input-82-73758796f846>\u001b[0m in \u001b[0;36m<module>\u001b[0;34m\u001b[0m\n\u001b[0;32m----> 1\u001b[0;31m \u001b[0mfs\u001b[0m\u001b[0;34m.\u001b[0m\u001b[0mingest\u001b[0m\u001b[0;34m(\u001b[0m\u001b[0msource\u001b[0m\u001b[0;34m,\u001b[0m \u001b[0mstart_date_time\u001b[0m\u001b[0;34m=\u001b[0m\u001b[0;32mNone\u001b[0m\u001b[0;34m,\u001b[0m \u001b[0mend_date_time\u001b[0m\u001b[0;34m=\u001b[0m\u001b[0;32mNone\u001b[0m\u001b[0;34m,\u001b[0m \u001b[0mnew_version_on_schema_change\u001b[0m\u001b[0;34m=\u001b[0m\u001b[0;32mFalse\u001b[0m\u001b[0;34m)\u001b[0m\u001b[0;34m\u001b[0m\u001b[0;34m\u001b[0m\u001b[0m\n\u001b[0m",
      "\u001b[0;32m~/opt/anaconda3/lib/python3.8/site-packages/featurestore/core/interactive_console.py\u001b[0m in \u001b[0;36mwith_perf\u001b[0;34m(*args, **kwargs)\u001b[0m\n\u001b[1;32m     22\u001b[0m     \u001b[0;32mdef\u001b[0m \u001b[0mwith_perf\u001b[0m\u001b[0;34m(\u001b[0m\u001b[0;34m*\u001b[0m\u001b[0margs\u001b[0m\u001b[0;34m,\u001b[0m \u001b[0;34m**\u001b[0m\u001b[0mkwargs\u001b[0m\u001b[0;34m)\u001b[0m\u001b[0;34m:\u001b[0m\u001b[0;34m\u001b[0m\u001b[0;34m\u001b[0m\u001b[0m\n\u001b[1;32m     23\u001b[0m         \u001b[0mstart\u001b[0m \u001b[0;34m=\u001b[0m \u001b[0mtime\u001b[0m\u001b[0;34m.\u001b[0m\u001b[0mtime\u001b[0m\u001b[0;34m(\u001b[0m\u001b[0;34m)\u001b[0m\u001b[0;34m\u001b[0m\u001b[0;34m\u001b[0m\u001b[0m\n\u001b[0;32m---> 24\u001b[0;31m         \u001b[0mret\u001b[0m \u001b[0;34m=\u001b[0m \u001b[0mfn\u001b[0m\u001b[0;34m(\u001b[0m\u001b[0;34m*\u001b[0m\u001b[0margs\u001b[0m\u001b[0;34m,\u001b[0m \u001b[0;34m**\u001b[0m\u001b[0mkwargs\u001b[0m\u001b[0;34m)\u001b[0m\u001b[0;34m\u001b[0m\u001b[0;34m\u001b[0m\u001b[0m\n\u001b[0m\u001b[1;32m     25\u001b[0m         \u001b[0mend\u001b[0m \u001b[0;34m=\u001b[0m \u001b[0mtime\u001b[0m\u001b[0;34m.\u001b[0m\u001b[0mtime\u001b[0m\u001b[0;34m(\u001b[0m\u001b[0;34m)\u001b[0m\u001b[0;34m\u001b[0m\u001b[0;34m\u001b[0m\u001b[0m\n\u001b[1;32m     26\u001b[0m         \u001b[0mdelta\u001b[0m \u001b[0;34m=\u001b[0m \u001b[0mtimedelta\u001b[0m\u001b[0;34m(\u001b[0m\u001b[0mseconds\u001b[0m\u001b[0;34m=\u001b[0m\u001b[0mend\u001b[0m \u001b[0;34m-\u001b[0m \u001b[0mstart\u001b[0m\u001b[0;34m)\u001b[0m\u001b[0;34m.\u001b[0m\u001b[0mtotal_seconds\u001b[0m\u001b[0;34m(\u001b[0m\u001b[0;34m)\u001b[0m\u001b[0;34m\u001b[0m\u001b[0;34m\u001b[0m\u001b[0m\n",
      "\u001b[0;32m~/opt/anaconda3/lib/python3.8/site-packages/featurestore/core/entities/feature_set.py\u001b[0m in \u001b[0;36mingest\u001b[0;34m(self, source, new_version_on_schema_change, start_date_time, end_date_time)\u001b[0m\n\u001b[1;32m    354\u001b[0m         \u001b[0mend_date_time\u001b[0m\u001b[0;34m=\u001b[0m\u001b[0;32mNone\u001b[0m\u001b[0;34m,\u001b[0m\u001b[0;34m\u001b[0m\u001b[0;34m\u001b[0m\u001b[0m\n\u001b[1;32m    355\u001b[0m     ):\n\u001b[0;32m--> 356\u001b[0;31m         job = self.ingest_async(\n\u001b[0m\u001b[1;32m    357\u001b[0m             \u001b[0msource\u001b[0m\u001b[0;34m,\u001b[0m \u001b[0mnew_version_on_schema_change\u001b[0m\u001b[0;34m,\u001b[0m \u001b[0mstart_date_time\u001b[0m\u001b[0;34m,\u001b[0m \u001b[0mend_date_time\u001b[0m\u001b[0;34m\u001b[0m\u001b[0;34m\u001b[0m\u001b[0m\n\u001b[1;32m    358\u001b[0m         )\n",
      "\u001b[0;32m~/opt/anaconda3/lib/python3.8/site-packages/featurestore/core/entities/feature_set.py\u001b[0m in \u001b[0;36mingest_async\u001b[0;34m(self, source, new_version_on_schema_change, start_date_time, end_date_time)\u001b[0m\n\u001b[1;32m    338\u001b[0m         \u001b[0mrequest\u001b[0m\u001b[0;34m.\u001b[0m\u001b[0mnew_version_on_schema_change\u001b[0m \u001b[0;34m=\u001b[0m \u001b[0mnew_version_on_schema_change\u001b[0m\u001b[0;34m\u001b[0m\u001b[0;34m\u001b[0m\u001b[0m\n\u001b[1;32m    339\u001b[0m         \u001b[0mrequest\u001b[0m\u001b[0;34m.\u001b[0m\u001b[0mdata_source\u001b[0m\u001b[0;34m.\u001b[0m\u001b[0mCopyFrom\u001b[0m\u001b[0;34m(\u001b[0m\u001b[0mdata_source\u001b[0m\u001b[0;34m)\u001b[0m\u001b[0;34m\u001b[0m\u001b[0;34m\u001b[0m\u001b[0m\n\u001b[0;32m--> 340\u001b[0;31m         \u001b[0mCredentialsHelper\u001b[0m\u001b[0;34m.\u001b[0m\u001b[0mset_credentials\u001b[0m\u001b[0;34m(\u001b[0m\u001b[0mrequest\u001b[0m\u001b[0;34m,\u001b[0m \u001b[0mdata_source\u001b[0m\u001b[0;34m)\u001b[0m\u001b[0;34m\u001b[0m\u001b[0;34m\u001b[0m\u001b[0m\n\u001b[0m\u001b[1;32m    341\u001b[0m         \u001b[0;32mif\u001b[0m \u001b[0mstart_date_time\u001b[0m \u001b[0;32mis\u001b[0m \u001b[0;32mnot\u001b[0m \u001b[0;32mNone\u001b[0m\u001b[0;34m:\u001b[0m\u001b[0;34m\u001b[0m\u001b[0;34m\u001b[0m\u001b[0m\n\u001b[1;32m    342\u001b[0m             \u001b[0mrequest\u001b[0m\u001b[0;34m.\u001b[0m\u001b[0mstart_date_time\u001b[0m \u001b[0;34m=\u001b[0m \u001b[0mstart_date_time\u001b[0m\u001b[0;34m\u001b[0m\u001b[0;34m\u001b[0m\u001b[0m\n",
      "\u001b[0;32m~/opt/anaconda3/lib/python3.8/site-packages/featurestore/core/credentials.py\u001b[0m in \u001b[0;36mset_credentials\u001b[0;34m(request, raw_data_location)\u001b[0m\n\u001b[1;32m     11\u001b[0m         \u001b[0;32mif\u001b[0m \u001b[0misinstance\u001b[0m\u001b[0;34m(\u001b[0m\u001b[0msource\u001b[0m\u001b[0;34m,\u001b[0m \u001b[0mpb\u001b[0m\u001b[0;34m.\u001b[0m\u001b[0mCSVFileSpec\u001b[0m\u001b[0;34m)\u001b[0m\u001b[0;34m:\u001b[0m\u001b[0;34m\u001b[0m\u001b[0;34m\u001b[0m\u001b[0m\n\u001b[1;32m     12\u001b[0m             \u001b[0murl_path\u001b[0m \u001b[0;34m=\u001b[0m \u001b[0mraw_data_location\u001b[0m\u001b[0;34m.\u001b[0m\u001b[0mcsv\u001b[0m\u001b[0;34m.\u001b[0m\u001b[0mpath\u001b[0m\u001b[0;34m\u001b[0m\u001b[0;34m\u001b[0m\u001b[0m\n\u001b[0;32m---> 13\u001b[0;31m             \u001b[0mCredentialsHelper\u001b[0m\u001b[0;34m.\u001b[0m\u001b[0mget_credentials_based_on_cloud\u001b[0m\u001b[0;34m(\u001b[0m\u001b[0mrequest\u001b[0m\u001b[0;34m,\u001b[0m \u001b[0murl_path\u001b[0m\u001b[0;34m)\u001b[0m\u001b[0;34m\u001b[0m\u001b[0;34m\u001b[0m\u001b[0m\n\u001b[0m\u001b[1;32m     14\u001b[0m         \u001b[0;32melif\u001b[0m \u001b[0misinstance\u001b[0m\u001b[0;34m(\u001b[0m\u001b[0msource\u001b[0m\u001b[0;34m,\u001b[0m \u001b[0mpb\u001b[0m\u001b[0;34m.\u001b[0m\u001b[0mCSVFolderSpec\u001b[0m\u001b[0;34m)\u001b[0m\u001b[0;34m:\u001b[0m\u001b[0;34m\u001b[0m\u001b[0;34m\u001b[0m\u001b[0m\n\u001b[1;32m     15\u001b[0m             \u001b[0murl_path\u001b[0m \u001b[0;34m=\u001b[0m \u001b[0mraw_data_location\u001b[0m\u001b[0;34m.\u001b[0m\u001b[0mcsv_folder\u001b[0m\u001b[0;34m.\u001b[0m\u001b[0mroot_folder\u001b[0m\u001b[0;34m\u001b[0m\u001b[0;34m\u001b[0m\u001b[0m\n",
      "\u001b[0;32m~/opt/anaconda3/lib/python3.8/site-packages/featurestore/core/credentials.py\u001b[0m in \u001b[0;36mget_credentials_based_on_cloud\u001b[0;34m(request, url_path)\u001b[0m\n\u001b[1;32m     50\u001b[0m             \u001b[0mCredentialsHelper\u001b[0m\u001b[0;34m.\u001b[0m\u001b[0mset_aws_credentials\u001b[0m\u001b[0;34m(\u001b[0m\u001b[0mrequest\u001b[0m\u001b[0;34m)\u001b[0m\u001b[0;34m\u001b[0m\u001b[0;34m\u001b[0m\u001b[0m\n\u001b[1;32m     51\u001b[0m         \u001b[0;32melif\u001b[0m \u001b[0murl_path\u001b[0m\u001b[0;34m.\u001b[0m\u001b[0mlower\u001b[0m\u001b[0;34m(\u001b[0m\u001b[0;34m)\u001b[0m\u001b[0;34m.\u001b[0m\u001b[0mstartswith\u001b[0m\u001b[0;34m(\u001b[0m\u001b[0;34m\"wasb\"\u001b[0m\u001b[0;34m)\u001b[0m \u001b[0;32mor\u001b[0m \u001b[0murl_path\u001b[0m\u001b[0;34m.\u001b[0m\u001b[0mlower\u001b[0m\u001b[0;34m(\u001b[0m\u001b[0;34m)\u001b[0m\u001b[0;34m.\u001b[0m\u001b[0mstartswith\u001b[0m\u001b[0;34m(\u001b[0m\u001b[0;34m\"abfs\"\u001b[0m\u001b[0;34m)\u001b[0m\u001b[0;34m:\u001b[0m\u001b[0;34m\u001b[0m\u001b[0;34m\u001b[0m\u001b[0m\n\u001b[0;32m---> 52\u001b[0;31m             \u001b[0mCredentialsHelper\u001b[0m\u001b[0;34m.\u001b[0m\u001b[0mset_azure_credentials\u001b[0m\u001b[0;34m(\u001b[0m\u001b[0mrequest\u001b[0m\u001b[0;34m,\u001b[0m \u001b[0murl_path\u001b[0m\u001b[0;34m)\u001b[0m\u001b[0;34m\u001b[0m\u001b[0;34m\u001b[0m\u001b[0m\n\u001b[0m\u001b[1;32m     53\u001b[0m         \u001b[0;32melse\u001b[0m\u001b[0;34m:\u001b[0m\u001b[0;34m\u001b[0m\u001b[0;34m\u001b[0m\u001b[0m\n\u001b[1;32m     54\u001b[0m             \u001b[0;32mraise\u001b[0m \u001b[0mException\u001b[0m\u001b[0;34m(\u001b[0m\u001b[0;34m\"Unsupported external data spec!\"\u001b[0m\u001b[0;34m)\u001b[0m\u001b[0;34m\u001b[0m\u001b[0;34m\u001b[0m\u001b[0m\n",
      "\u001b[0;32m~/opt/anaconda3/lib/python3.8/site-packages/featurestore/core/credentials.py\u001b[0m in \u001b[0;36mset_azure_credentials\u001b[0;34m(request, url_path)\u001b[0m\n\u001b[1;32m     60\u001b[0m         \u001b[0msas_token\u001b[0m \u001b[0;34m=\u001b[0m \u001b[0mos\u001b[0m\u001b[0;34m.\u001b[0m\u001b[0mgetenv\u001b[0m\u001b[0;34m(\u001b[0m\u001b[0;34m\"AZURE_SAS_TOKEN\"\u001b[0m\u001b[0;34m)\u001b[0m\u001b[0;34m\u001b[0m\u001b[0;34m\u001b[0m\u001b[0m\n\u001b[1;32m     61\u001b[0m         \u001b[0;32mif\u001b[0m \u001b[0maccount_name\u001b[0m \u001b[0;32mis\u001b[0m \u001b[0;32mNone\u001b[0m\u001b[0;34m:\u001b[0m\u001b[0;34m\u001b[0m\u001b[0;34m\u001b[0m\u001b[0m\n\u001b[0;32m---> 62\u001b[0;31m             raise Exception(\n\u001b[0m\u001b[1;32m     63\u001b[0m                 \u001b[0;34m\"Azure account name must be defined for registering and obtaining data stored in Azure Blob storage!\"\u001b[0m\u001b[0;34m\u001b[0m\u001b[0;34m\u001b[0m\u001b[0m\n\u001b[1;32m     64\u001b[0m             )\n",
      "\u001b[0;31mException\u001b[0m: Azure account name must be defined for registering and obtaining data stored in Azure Blob storage!"
     ]
    }
   ],
   "source": [
    "fs.ingest(source, start_date_time=None, end_date_time=None, new_version_on_schema_change=False)"
   ]
  },
  {
   "cell_type": "markdown",
   "metadata": {},
   "source": [
    "You can revert last ingest by running:"
   ]
  },
  {
   "cell_type": "code",
   "execution_count": null,
   "metadata": {},
   "outputs": [],
   "source": [
    "fs.revert_last_ingest()"
   ]
  },
  {
   "cell_type": "markdown",
   "metadata": {},
   "source": [
    "### Retrieve API\n",
    "To retrieve the data, run:"
   ]
  },
  {
   "cell_type": "code",
   "execution_count": 66,
   "metadata": {},
   "outputs": [],
   "source": [
    "ref = fs.retrieve(start_date_time=None, end_date_time=None)"
   ]
  },
  {
   "cell_type": "markdown",
   "metadata": {},
   "source": [
    "### Preview Data\n",
    "By default, you can view 10 rows of data. If you want to see more rows to a max of 100 rows, include num_rows as an agrument (i.e num_rows=20)."
   ]
  },
  {
   "cell_type": "code",
   "execution_count": 67,
   "metadata": {},
   "outputs": [
    {
     "ename": "_InactiveRpcError",
     "evalue": "<_InactiveRpcError of RPC that terminated with:\n\tstatus = StatusCode.NOT_FOUND\n\tdetails = \"Please run ingest before running preview.\"\n\tdebug_error_string = \"{\"created\":\"@1637095311.894261000\",\"description\":\"Error received from peer ipv4:52.191.34.108:443\",\"file\":\"src/core/lib/surface/call.cc\",\"file_line\":1070,\"grpc_message\":\"Please run ingest before running preview.\",\"grpc_status\":5}\"\n>",
     "output_type": "error",
     "traceback": [
      "\u001b[0;31m---------------------------------------------------------------------------\u001b[0m",
      "\u001b[0;31m_InactiveRpcError\u001b[0m                         Traceback (most recent call last)",
      "\u001b[0;32m<ipython-input-67-7dce1497a734>\u001b[0m in \u001b[0;36m<module>\u001b[0;34m\u001b[0m\n\u001b[0;32m----> 1\u001b[0;31m \u001b[0mref\u001b[0m\u001b[0;34m.\u001b[0m\u001b[0mpreview\u001b[0m\u001b[0;34m(\u001b[0m\u001b[0;34m)\u001b[0m\u001b[0;34m\u001b[0m\u001b[0;34m\u001b[0m\u001b[0m\n\u001b[0m",
      "\u001b[0;32m~/opt/anaconda3/lib/python3.8/site-packages/featurestore/core/retrieve_holder.py\u001b[0m in \u001b[0;36mpreview\u001b[0;34m(self, num_rows)\u001b[0m\n\u001b[1;32m     88\u001b[0m             \u001b[0mrequest\u001b[0m\u001b[0;34m.\u001b[0m\u001b[0mend_date_time\u001b[0m \u001b[0;34m=\u001b[0m \u001b[0mself\u001b[0m\u001b[0;34m.\u001b[0m\u001b[0m_end_date_time\u001b[0m\u001b[0;34m\u001b[0m\u001b[0;34m\u001b[0m\u001b[0m\n\u001b[1;32m     89\u001b[0m         \u001b[0mrequest\u001b[0m\u001b[0;34m.\u001b[0m\u001b[0mnum_rows\u001b[0m \u001b[0;34m=\u001b[0m \u001b[0mnum_rows\u001b[0m\u001b[0;34m\u001b[0m\u001b[0;34m\u001b[0m\u001b[0m\n\u001b[0;32m---> 90\u001b[0;31m         \u001b[0mresp\u001b[0m \u001b[0;34m=\u001b[0m \u001b[0mself\u001b[0m\u001b[0;34m.\u001b[0m\u001b[0m_stub\u001b[0m\u001b[0;34m.\u001b[0m\u001b[0mGetPreview\u001b[0m\u001b[0;34m(\u001b[0m\u001b[0mrequest\u001b[0m\u001b[0;34m)\u001b[0m\u001b[0;34m\u001b[0m\u001b[0;34m\u001b[0m\u001b[0m\n\u001b[0m\u001b[1;32m     91\u001b[0m         \u001b[0mprint\u001b[0m\u001b[0;34m(\u001b[0m\u001b[0mresp\u001b[0m\u001b[0;34m.\u001b[0m\u001b[0mresult\u001b[0m\u001b[0;34m)\u001b[0m\u001b[0;34m\u001b[0m\u001b[0;34m\u001b[0m\u001b[0m\n\u001b[1;32m     92\u001b[0m \u001b[0;34m\u001b[0m\u001b[0m\n",
      "\u001b[0;32m~/opt/anaconda3/lib/python3.8/site-packages/grpc/_interceptor.py\u001b[0m in \u001b[0;36m__call__\u001b[0;34m(self, request, timeout, metadata, credentials, wait_for_ready, compression)\u001b[0m\n\u001b[1;32m    214\u001b[0m                  \u001b[0mwait_for_ready\u001b[0m\u001b[0;34m=\u001b[0m\u001b[0;32mNone\u001b[0m\u001b[0;34m,\u001b[0m\u001b[0;34m\u001b[0m\u001b[0;34m\u001b[0m\u001b[0m\n\u001b[1;32m    215\u001b[0m                  compression=None):\n\u001b[0;32m--> 216\u001b[0;31m         response, ignored_call = self._with_call(request,\n\u001b[0m\u001b[1;32m    217\u001b[0m                                                  \u001b[0mtimeout\u001b[0m\u001b[0;34m=\u001b[0m\u001b[0mtimeout\u001b[0m\u001b[0;34m,\u001b[0m\u001b[0;34m\u001b[0m\u001b[0;34m\u001b[0m\u001b[0m\n\u001b[1;32m    218\u001b[0m                                                  \u001b[0mmetadata\u001b[0m\u001b[0;34m=\u001b[0m\u001b[0mmetadata\u001b[0m\u001b[0;34m,\u001b[0m\u001b[0;34m\u001b[0m\u001b[0;34m\u001b[0m\u001b[0m\n",
      "\u001b[0;32m~/opt/anaconda3/lib/python3.8/site-packages/grpc/_interceptor.py\u001b[0m in \u001b[0;36m_with_call\u001b[0;34m(self, request, timeout, metadata, credentials, wait_for_ready, compression)\u001b[0m\n\u001b[1;32m    255\u001b[0m                                                        \u001b[0mclient_call_details\u001b[0m\u001b[0;34m,\u001b[0m\u001b[0;34m\u001b[0m\u001b[0;34m\u001b[0m\u001b[0m\n\u001b[1;32m    256\u001b[0m                                                        request)\n\u001b[0;32m--> 257\u001b[0;31m         \u001b[0;32mreturn\u001b[0m \u001b[0mcall\u001b[0m\u001b[0;34m.\u001b[0m\u001b[0mresult\u001b[0m\u001b[0;34m(\u001b[0m\u001b[0;34m)\u001b[0m\u001b[0;34m,\u001b[0m \u001b[0mcall\u001b[0m\u001b[0;34m\u001b[0m\u001b[0;34m\u001b[0m\u001b[0m\n\u001b[0m\u001b[1;32m    258\u001b[0m \u001b[0;34m\u001b[0m\u001b[0m\n\u001b[1;32m    259\u001b[0m     def with_call(self,\n",
      "\u001b[0;32m~/opt/anaconda3/lib/python3.8/site-packages/grpc/_channel.py\u001b[0m in \u001b[0;36mresult\u001b[0;34m(self, timeout)\u001b[0m\n\u001b[1;32m    341\u001b[0m     \u001b[0;32mdef\u001b[0m \u001b[0mresult\u001b[0m\u001b[0;34m(\u001b[0m\u001b[0mself\u001b[0m\u001b[0;34m,\u001b[0m \u001b[0mtimeout\u001b[0m\u001b[0;34m=\u001b[0m\u001b[0;32mNone\u001b[0m\u001b[0;34m)\u001b[0m\u001b[0;34m:\u001b[0m  \u001b[0;31m# pylint: disable=unused-argument\u001b[0m\u001b[0;34m\u001b[0m\u001b[0;34m\u001b[0m\u001b[0m\n\u001b[1;32m    342\u001b[0m         \u001b[0;34m\"\"\"See grpc.Future.result.\"\"\"\u001b[0m\u001b[0;34m\u001b[0m\u001b[0;34m\u001b[0m\u001b[0m\n\u001b[0;32m--> 343\u001b[0;31m         \u001b[0;32mraise\u001b[0m \u001b[0mself\u001b[0m\u001b[0;34m\u001b[0m\u001b[0;34m\u001b[0m\u001b[0m\n\u001b[0m\u001b[1;32m    344\u001b[0m \u001b[0;34m\u001b[0m\u001b[0m\n\u001b[1;32m    345\u001b[0m     \u001b[0;32mdef\u001b[0m \u001b[0mexception\u001b[0m\u001b[0;34m(\u001b[0m\u001b[0mself\u001b[0m\u001b[0;34m,\u001b[0m \u001b[0mtimeout\u001b[0m\u001b[0;34m=\u001b[0m\u001b[0;32mNone\u001b[0m\u001b[0;34m)\u001b[0m\u001b[0;34m:\u001b[0m  \u001b[0;31m# pylint: disable=unused-argument\u001b[0m\u001b[0;34m\u001b[0m\u001b[0;34m\u001b[0m\u001b[0m\n",
      "\u001b[0;32m~/opt/anaconda3/lib/python3.8/site-packages/grpc/_interceptor.py\u001b[0m in \u001b[0;36mcontinuation\u001b[0;34m(new_details, request)\u001b[0m\n\u001b[1;32m    239\u001b[0m                  new_details, client_call_details))\n\u001b[1;32m    240\u001b[0m             \u001b[0;32mtry\u001b[0m\u001b[0;34m:\u001b[0m\u001b[0;34m\u001b[0m\u001b[0;34m\u001b[0m\u001b[0m\n\u001b[0;32m--> 241\u001b[0;31m                 response, call = self._thunk(new_method).with_call(\n\u001b[0m\u001b[1;32m    242\u001b[0m                     \u001b[0mrequest\u001b[0m\u001b[0;34m,\u001b[0m\u001b[0;34m\u001b[0m\u001b[0;34m\u001b[0m\u001b[0m\n\u001b[1;32m    243\u001b[0m                     \u001b[0mtimeout\u001b[0m\u001b[0;34m=\u001b[0m\u001b[0mnew_timeout\u001b[0m\u001b[0;34m,\u001b[0m\u001b[0;34m\u001b[0m\u001b[0;34m\u001b[0m\u001b[0m\n",
      "\u001b[0;32m~/opt/anaconda3/lib/python3.8/site-packages/grpc/_channel.py\u001b[0m in \u001b[0;36mwith_call\u001b[0;34m(self, request, timeout, metadata, credentials, wait_for_ready, compression)\u001b[0m\n\u001b[1;32m    955\u001b[0m         state, call, = self._blocking(request, timeout, metadata, credentials,\n\u001b[1;32m    956\u001b[0m                                       wait_for_ready, compression)\n\u001b[0;32m--> 957\u001b[0;31m         \u001b[0;32mreturn\u001b[0m \u001b[0m_end_unary_response_blocking\u001b[0m\u001b[0;34m(\u001b[0m\u001b[0mstate\u001b[0m\u001b[0;34m,\u001b[0m \u001b[0mcall\u001b[0m\u001b[0;34m,\u001b[0m \u001b[0;32mTrue\u001b[0m\u001b[0;34m,\u001b[0m \u001b[0;32mNone\u001b[0m\u001b[0;34m)\u001b[0m\u001b[0;34m\u001b[0m\u001b[0;34m\u001b[0m\u001b[0m\n\u001b[0m\u001b[1;32m    958\u001b[0m \u001b[0;34m\u001b[0m\u001b[0m\n\u001b[1;32m    959\u001b[0m     def future(self,\n",
      "\u001b[0;32m~/opt/anaconda3/lib/python3.8/site-packages/grpc/_channel.py\u001b[0m in \u001b[0;36m_end_unary_response_blocking\u001b[0;34m(state, call, with_call, deadline)\u001b[0m\n\u001b[1;32m    847\u001b[0m             \u001b[0;32mreturn\u001b[0m \u001b[0mstate\u001b[0m\u001b[0;34m.\u001b[0m\u001b[0mresponse\u001b[0m\u001b[0;34m\u001b[0m\u001b[0;34m\u001b[0m\u001b[0m\n\u001b[1;32m    848\u001b[0m     \u001b[0;32melse\u001b[0m\u001b[0;34m:\u001b[0m\u001b[0;34m\u001b[0m\u001b[0;34m\u001b[0m\u001b[0m\n\u001b[0;32m--> 849\u001b[0;31m         \u001b[0;32mraise\u001b[0m \u001b[0m_InactiveRpcError\u001b[0m\u001b[0;34m(\u001b[0m\u001b[0mstate\u001b[0m\u001b[0;34m)\u001b[0m\u001b[0;34m\u001b[0m\u001b[0;34m\u001b[0m\u001b[0m\n\u001b[0m\u001b[1;32m    850\u001b[0m \u001b[0;34m\u001b[0m\u001b[0m\n\u001b[1;32m    851\u001b[0m \u001b[0;34m\u001b[0m\u001b[0m\n",
      "\u001b[0;31m_InactiveRpcError\u001b[0m: <_InactiveRpcError of RPC that terminated with:\n\tstatus = StatusCode.NOT_FOUND\n\tdetails = \"Please run ingest before running preview.\"\n\tdebug_error_string = \"{\"created\":\"@1637095311.894261000\",\"description\":\"Error received from peer ipv4:52.191.34.108:443\",\"file\":\"src/core/lib/surface/call.cc\",\"file_line\":1070,\"grpc_message\":\"Please run ingest before running preview.\",\"grpc_status\":5}\"\n>"
     ]
    }
   ],
   "source": [
    "ref.preview()"
   ]
  },
  {
   "cell_type": "markdown",
   "metadata": {},
   "source": [
    "### Download files from feature store\n",
    "You can download the data onto you local machine by running the following line:"
   ]
  },
  {
   "cell_type": "code",
   "execution_count": null,
   "metadata": {},
   "outputs": [],
   "source": [
    "dir = ref.download()"
   ]
  },
  {
   "cell_type": "markdown",
   "metadata": {},
   "source": [
    "## Jobs API"
   ]
  },
  {
   "cell_type": "markdown",
   "metadata": {},
   "source": [
    "### List jobs\n",
    "You can also pass in additional arguments active=False to return all jobs and job_type parameter to retrieve specific job types(i.e. job_types=INGEST). THE 3 job types are INGEST, RETRIEVE and EXTRACT_SCHEMA"
   ]
  },
  {
   "cell_type": "code",
   "execution_count": 68,
   "metadata": {},
   "outputs": [
    {
     "data": {
      "text/plain": [
       "[]"
      ]
     },
     "execution_count": 68,
     "metadata": {},
     "output_type": "execute_result"
    }
   ],
   "source": [
    "client.jobs.list()"
   ]
  },
  {
   "cell_type": "markdown",
   "metadata": {},
   "source": [
    "You can also list jobs that are currently processing for the specific feature set"
   ]
  },
  {
   "cell_type": "code",
   "execution_count": 84,
   "metadata": {},
   "outputs": [
    {
     "data": {
      "text/plain": [
       "[]"
      ]
     },
     "execution_count": 84,
     "metadata": {},
     "output_type": "execute_result"
    }
   ],
   "source": [
    "fs.get_active_jobs()\n",
    "fs.get_active_jobs(job_type=INGEST)"
   ]
  },
  {
   "cell_type": "markdown",
   "metadata": {},
   "source": [
    "### Get a job"
   ]
  },
  {
   "cell_type": "code",
   "execution_count": 69,
   "metadata": {},
   "outputs": [
    {
     "ename": "_InactiveRpcError",
     "evalue": "<_InactiveRpcError of RPC that terminated with:\n\tstatus = StatusCode.UNKNOWN\n\tdetails = \"\"\n\tdebug_error_string = \"{\"created\":\"@1637095325.196073000\",\"description\":\"Error received from peer ipv4:52.191.34.108:443\",\"file\":\"src/core/lib/surface/call.cc\",\"file_line\":1070,\"grpc_message\":\"\",\"grpc_status\":2}\"\n>",
     "output_type": "error",
     "traceback": [
      "\u001b[0;31m---------------------------------------------------------------------------\u001b[0m",
      "\u001b[0;31m_InactiveRpcError\u001b[0m                         Traceback (most recent call last)",
      "\u001b[0;32m<ipython-input-69-84d088bef868>\u001b[0m in \u001b[0;36m<module>\u001b[0;34m\u001b[0m\n\u001b[0;32m----> 1\u001b[0;31m \u001b[0mjob\u001b[0m \u001b[0;34m=\u001b[0m \u001b[0mclient\u001b[0m\u001b[0;34m.\u001b[0m\u001b[0mjobs\u001b[0m\u001b[0;34m.\u001b[0m\u001b[0mget\u001b[0m\u001b[0;34m(\u001b[0m\u001b[0;34m\"job_id\"\u001b[0m\u001b[0;34m)\u001b[0m\u001b[0;34m\u001b[0m\u001b[0;34m\u001b[0m\u001b[0m\n\u001b[0m",
      "\u001b[0;32m~/opt/anaconda3/lib/python3.8/site-packages/featurestore/core/collections/jobs.py\u001b[0m in \u001b[0;36mget\u001b[0;34m(self, job_id)\u001b[0m\n\u001b[1;32m     32\u001b[0m     \u001b[0;32mdef\u001b[0m \u001b[0mget\u001b[0m\u001b[0;34m(\u001b[0m\u001b[0mself\u001b[0m\u001b[0;34m,\u001b[0m \u001b[0mjob_id\u001b[0m\u001b[0;34m:\u001b[0m \u001b[0mstr\u001b[0m\u001b[0;34m)\u001b[0m \u001b[0;34m->\u001b[0m \u001b[0mBaseJob\u001b[0m\u001b[0;34m:\u001b[0m\u001b[0;34m\u001b[0m\u001b[0;34m\u001b[0m\u001b[0m\n\u001b[1;32m     33\u001b[0m         \u001b[0mrequest\u001b[0m \u001b[0;34m=\u001b[0m \u001b[0mpb\u001b[0m\u001b[0;34m.\u001b[0m\u001b[0mJobId\u001b[0m\u001b[0;34m(\u001b[0m\u001b[0mjob_id\u001b[0m\u001b[0;34m=\u001b[0m\u001b[0mjob_id\u001b[0m\u001b[0;34m)\u001b[0m\u001b[0;34m\u001b[0m\u001b[0;34m\u001b[0m\u001b[0m\n\u001b[0;32m---> 34\u001b[0;31m         \u001b[0mjob_proto\u001b[0m \u001b[0;34m=\u001b[0m \u001b[0mself\u001b[0m\u001b[0;34m.\u001b[0m\u001b[0m_stub\u001b[0m\u001b[0;34m.\u001b[0m\u001b[0mGetJob\u001b[0m\u001b[0;34m(\u001b[0m\u001b[0mrequest\u001b[0m\u001b[0;34m)\u001b[0m\u001b[0;34m\u001b[0m\u001b[0;34m\u001b[0m\u001b[0m\n\u001b[0m\u001b[1;32m     35\u001b[0m         \u001b[0;32mreturn\u001b[0m \u001b[0mself\u001b[0m\u001b[0;34m.\u001b[0m\u001b[0mcreate_job\u001b[0m\u001b[0;34m(\u001b[0m\u001b[0mself\u001b[0m\u001b[0;34m.\u001b[0m\u001b[0m_stub\u001b[0m\u001b[0;34m,\u001b[0m \u001b[0mjob_proto\u001b[0m\u001b[0;34m)\u001b[0m\u001b[0;34m\u001b[0m\u001b[0;34m\u001b[0m\u001b[0m\n\u001b[1;32m     36\u001b[0m \u001b[0;34m\u001b[0m\u001b[0m\n",
      "\u001b[0;32m~/opt/anaconda3/lib/python3.8/site-packages/grpc/_interceptor.py\u001b[0m in \u001b[0;36m__call__\u001b[0;34m(self, request, timeout, metadata, credentials, wait_for_ready, compression)\u001b[0m\n\u001b[1;32m    214\u001b[0m                  \u001b[0mwait_for_ready\u001b[0m\u001b[0;34m=\u001b[0m\u001b[0;32mNone\u001b[0m\u001b[0;34m,\u001b[0m\u001b[0;34m\u001b[0m\u001b[0;34m\u001b[0m\u001b[0m\n\u001b[1;32m    215\u001b[0m                  compression=None):\n\u001b[0;32m--> 216\u001b[0;31m         response, ignored_call = self._with_call(request,\n\u001b[0m\u001b[1;32m    217\u001b[0m                                                  \u001b[0mtimeout\u001b[0m\u001b[0;34m=\u001b[0m\u001b[0mtimeout\u001b[0m\u001b[0;34m,\u001b[0m\u001b[0;34m\u001b[0m\u001b[0;34m\u001b[0m\u001b[0m\n\u001b[1;32m    218\u001b[0m                                                  \u001b[0mmetadata\u001b[0m\u001b[0;34m=\u001b[0m\u001b[0mmetadata\u001b[0m\u001b[0;34m,\u001b[0m\u001b[0;34m\u001b[0m\u001b[0;34m\u001b[0m\u001b[0m\n",
      "\u001b[0;32m~/opt/anaconda3/lib/python3.8/site-packages/grpc/_interceptor.py\u001b[0m in \u001b[0;36m_with_call\u001b[0;34m(self, request, timeout, metadata, credentials, wait_for_ready, compression)\u001b[0m\n\u001b[1;32m    255\u001b[0m                                                        \u001b[0mclient_call_details\u001b[0m\u001b[0;34m,\u001b[0m\u001b[0;34m\u001b[0m\u001b[0;34m\u001b[0m\u001b[0m\n\u001b[1;32m    256\u001b[0m                                                        request)\n\u001b[0;32m--> 257\u001b[0;31m         \u001b[0;32mreturn\u001b[0m \u001b[0mcall\u001b[0m\u001b[0;34m.\u001b[0m\u001b[0mresult\u001b[0m\u001b[0;34m(\u001b[0m\u001b[0;34m)\u001b[0m\u001b[0;34m,\u001b[0m \u001b[0mcall\u001b[0m\u001b[0;34m\u001b[0m\u001b[0;34m\u001b[0m\u001b[0m\n\u001b[0m\u001b[1;32m    258\u001b[0m \u001b[0;34m\u001b[0m\u001b[0m\n\u001b[1;32m    259\u001b[0m     def with_call(self,\n",
      "\u001b[0;32m~/opt/anaconda3/lib/python3.8/site-packages/grpc/_channel.py\u001b[0m in \u001b[0;36mresult\u001b[0;34m(self, timeout)\u001b[0m\n\u001b[1;32m    341\u001b[0m     \u001b[0;32mdef\u001b[0m \u001b[0mresult\u001b[0m\u001b[0;34m(\u001b[0m\u001b[0mself\u001b[0m\u001b[0;34m,\u001b[0m \u001b[0mtimeout\u001b[0m\u001b[0;34m=\u001b[0m\u001b[0;32mNone\u001b[0m\u001b[0;34m)\u001b[0m\u001b[0;34m:\u001b[0m  \u001b[0;31m# pylint: disable=unused-argument\u001b[0m\u001b[0;34m\u001b[0m\u001b[0;34m\u001b[0m\u001b[0m\n\u001b[1;32m    342\u001b[0m         \u001b[0;34m\"\"\"See grpc.Future.result.\"\"\"\u001b[0m\u001b[0;34m\u001b[0m\u001b[0;34m\u001b[0m\u001b[0m\n\u001b[0;32m--> 343\u001b[0;31m         \u001b[0;32mraise\u001b[0m \u001b[0mself\u001b[0m\u001b[0;34m\u001b[0m\u001b[0;34m\u001b[0m\u001b[0m\n\u001b[0m\u001b[1;32m    344\u001b[0m \u001b[0;34m\u001b[0m\u001b[0m\n\u001b[1;32m    345\u001b[0m     \u001b[0;32mdef\u001b[0m \u001b[0mexception\u001b[0m\u001b[0;34m(\u001b[0m\u001b[0mself\u001b[0m\u001b[0;34m,\u001b[0m \u001b[0mtimeout\u001b[0m\u001b[0;34m=\u001b[0m\u001b[0;32mNone\u001b[0m\u001b[0;34m)\u001b[0m\u001b[0;34m:\u001b[0m  \u001b[0;31m# pylint: disable=unused-argument\u001b[0m\u001b[0;34m\u001b[0m\u001b[0;34m\u001b[0m\u001b[0m\n",
      "\u001b[0;32m~/opt/anaconda3/lib/python3.8/site-packages/grpc/_interceptor.py\u001b[0m in \u001b[0;36mcontinuation\u001b[0;34m(new_details, request)\u001b[0m\n\u001b[1;32m    239\u001b[0m                  new_details, client_call_details))\n\u001b[1;32m    240\u001b[0m             \u001b[0;32mtry\u001b[0m\u001b[0;34m:\u001b[0m\u001b[0;34m\u001b[0m\u001b[0;34m\u001b[0m\u001b[0m\n\u001b[0;32m--> 241\u001b[0;31m                 response, call = self._thunk(new_method).with_call(\n\u001b[0m\u001b[1;32m    242\u001b[0m                     \u001b[0mrequest\u001b[0m\u001b[0;34m,\u001b[0m\u001b[0;34m\u001b[0m\u001b[0;34m\u001b[0m\u001b[0m\n\u001b[1;32m    243\u001b[0m                     \u001b[0mtimeout\u001b[0m\u001b[0;34m=\u001b[0m\u001b[0mnew_timeout\u001b[0m\u001b[0;34m,\u001b[0m\u001b[0;34m\u001b[0m\u001b[0;34m\u001b[0m\u001b[0m\n",
      "\u001b[0;32m~/opt/anaconda3/lib/python3.8/site-packages/grpc/_channel.py\u001b[0m in \u001b[0;36mwith_call\u001b[0;34m(self, request, timeout, metadata, credentials, wait_for_ready, compression)\u001b[0m\n\u001b[1;32m    955\u001b[0m         state, call, = self._blocking(request, timeout, metadata, credentials,\n\u001b[1;32m    956\u001b[0m                                       wait_for_ready, compression)\n\u001b[0;32m--> 957\u001b[0;31m         \u001b[0;32mreturn\u001b[0m \u001b[0m_end_unary_response_blocking\u001b[0m\u001b[0;34m(\u001b[0m\u001b[0mstate\u001b[0m\u001b[0;34m,\u001b[0m \u001b[0mcall\u001b[0m\u001b[0;34m,\u001b[0m \u001b[0;32mTrue\u001b[0m\u001b[0;34m,\u001b[0m \u001b[0;32mNone\u001b[0m\u001b[0;34m)\u001b[0m\u001b[0;34m\u001b[0m\u001b[0;34m\u001b[0m\u001b[0m\n\u001b[0m\u001b[1;32m    958\u001b[0m \u001b[0;34m\u001b[0m\u001b[0m\n\u001b[1;32m    959\u001b[0m     def future(self,\n",
      "\u001b[0;32m~/opt/anaconda3/lib/python3.8/site-packages/grpc/_channel.py\u001b[0m in \u001b[0;36m_end_unary_response_blocking\u001b[0;34m(state, call, with_call, deadline)\u001b[0m\n\u001b[1;32m    847\u001b[0m             \u001b[0;32mreturn\u001b[0m \u001b[0mstate\u001b[0m\u001b[0;34m.\u001b[0m\u001b[0mresponse\u001b[0m\u001b[0;34m\u001b[0m\u001b[0;34m\u001b[0m\u001b[0m\n\u001b[1;32m    848\u001b[0m     \u001b[0;32melse\u001b[0m\u001b[0;34m:\u001b[0m\u001b[0;34m\u001b[0m\u001b[0;34m\u001b[0m\u001b[0m\n\u001b[0;32m--> 849\u001b[0;31m         \u001b[0;32mraise\u001b[0m \u001b[0m_InactiveRpcError\u001b[0m\u001b[0;34m(\u001b[0m\u001b[0mstate\u001b[0m\u001b[0;34m)\u001b[0m\u001b[0;34m\u001b[0m\u001b[0;34m\u001b[0m\u001b[0m\n\u001b[0m\u001b[1;32m    850\u001b[0m \u001b[0;34m\u001b[0m\u001b[0m\n\u001b[1;32m    851\u001b[0m \u001b[0;34m\u001b[0m\u001b[0m\n",
      "\u001b[0;31m_InactiveRpcError\u001b[0m: <_InactiveRpcError of RPC that terminated with:\n\tstatus = StatusCode.UNKNOWN\n\tdetails = \"\"\n\tdebug_error_string = \"{\"created\":\"@1637095325.196073000\",\"description\":\"Error received from peer ipv4:52.191.34.108:443\",\"file\":\"src/core/lib/surface/call.cc\",\"file_line\":1070,\"grpc_message\":\"\",\"grpc_status\":2}\"\n>"
     ]
    }
   ],
   "source": [
    "job = client.jobs.get(\"job_id\")"
   ]
  },
  {
   "cell_type": "markdown",
   "metadata": {},
   "source": [
    "### Check job status"
   ]
  },
  {
   "cell_type": "code",
   "execution_count": 70,
   "metadata": {},
   "outputs": [
    {
     "ename": "NameError",
     "evalue": "name 'job' is not defined",
     "output_type": "error",
     "traceback": [
      "\u001b[0;31m---------------------------------------------------------------------------\u001b[0m",
      "\u001b[0;31mNameError\u001b[0m                                 Traceback (most recent call last)",
      "\u001b[0;32m<ipython-input-70-bb62af31477c>\u001b[0m in \u001b[0;36m<module>\u001b[0;34m\u001b[0m\n\u001b[0;32m----> 1\u001b[0;31m \u001b[0mjob\u001b[0m\u001b[0;34m.\u001b[0m\u001b[0mis_done\u001b[0m\u001b[0;34m(\u001b[0m\u001b[0;34m)\u001b[0m\u001b[0;34m\u001b[0m\u001b[0;34m\u001b[0m\u001b[0m\n\u001b[0m",
      "\u001b[0;31mNameError\u001b[0m: name 'job' is not defined"
     ]
    }
   ],
   "source": [
    "job.is_done()"
   ]
  },
  {
   "cell_type": "markdown",
   "metadata": {},
   "source": [
    "### Get job result"
   ]
  },
  {
   "cell_type": "code",
   "execution_count": null,
   "metadata": {},
   "outputs": [],
   "source": [
    "job.get_result()"
   ]
  },
  {
   "cell_type": "markdown",
   "metadata": {},
   "source": [
    "### Download data"
   ]
  },
  {
   "cell_type": "code",
   "execution_count": null,
   "metadata": {},
   "outputs": [],
   "source": [
    "retrieve_job = client.jobs.get(\"job_id\")\n",
    "data_path = retrieve_job.download()"
   ]
  },
  {
   "cell_type": "markdown",
   "metadata": {},
   "source": [
    "## Feature Set Search API"
   ]
  },
  {
   "cell_type": "markdown",
   "metadata": {},
   "source": [
    "### Build filter conditions"
   ]
  },
  {
   "cell_type": "code",
   "execution_count": 77,
   "metadata": {},
   "outputs": [],
   "source": [
    "filter_builder = FilterBuilder().add(FeatureSet.tags == \"new tag\")"
   ]
  },
  {
   "cell_type": "markdown",
   "metadata": {},
   "source": [
    "### Search feature sets based on filters"
   ]
  },
  {
   "cell_type": "code",
   "execution_count": 78,
   "metadata": {},
   "outputs": [
    {
     "data": {
      "text/plain": [
       "[project: \"test_project\"\n",
       " feature_set_name: \"feature_set_name\"\n",
       " version: \"1.1\"\n",
       " version_change: \"Metadata Updated\"\n",
       " time_travel_column_format: \"yyyy-MM-dd HH:mm:ss\"\n",
       " owner {\n",
       "   id: \"384a71e9-d5a4-434b-856e-c546314f7f9a\"\n",
       "   name: \"jeffrey.canisius\"\n",
       "   email: \"jeffrey.canisius@h2o.ai\"\n",
       " }\n",
       " author {\n",
       "   id: \"384a71e9-d5a4-434b-856e-c546314f7f9a\"\n",
       "   name: \"jeffrey.canisius\"\n",
       "   email: \"jeffrey.canisius@h2o.ai\"\n",
       " }\n",
       " created_date_time {\n",
       "   2021-11-16T20:33:31.606000\n",
       " }\n",
       " last_update_date_time {\n",
       "   2021-11-16T20:41:31.312000\n",
       " }\n",
       " tags: \"new tag 1\"\n",
       " tags: \"new tag 2\"\n",
       " tags: \"new tag\"\n",
       " process_interval: 5\n",
       " process_interval_unit: \"hours\"\n",
       " time_to_live {\n",
       "   ttl_offline: 2\n",
       "   ttl_offline_interval: \"years\"\n",
       " }\n",
       " features {\n",
       "   name: \"new_column\"\n",
       "   version: \"1\"\n",
       "   version_change: \"Feature created.\"\n",
       "   data_type: \"STRING\"\n",
       "   profile {\n",
       "     categorical {\n",
       "     }\n",
       "     statistics {\n",
       "     }\n",
       "   }\n",
       "   monitoring {\n",
       "   }\n",
       "   data_type_hierarchical_paths: \"\"\n",
       " }\n",
       " features {\n",
       "   name: \"col1\"\n",
       "   version: \"1\"\n",
       "   version_change: \"Feature created.\"\n",
       "   data_type: \"STRING\"\n",
       "   profile {\n",
       "     categorical {\n",
       "     }\n",
       "     statistics {\n",
       "     }\n",
       "   }\n",
       "   monitoring {\n",
       "   }\n",
       "   data_type_hierarchical_paths: \"\"\n",
       " }\n",
       " features {\n",
       "   name: \"new_column\"\n",
       "   version: \"1\"\n",
       "   version_change: \"Feature created.\"\n",
       "   data_type: \"STRING\"\n",
       "   profile {\n",
       "     categorical {\n",
       "     }\n",
       "     statistics {\n",
       "     }\n",
       "   }\n",
       "   monitoring {\n",
       "   }\n",
       "   data_type_hierarchical_paths: \"\"\n",
       " }\n",
       " features {\n",
       "   name: \"col2\"\n",
       "   version: \"1\"\n",
       "   version_change: \"Feature created.\"\n",
       "   data_type: \"STRING\"\n",
       "   profile {\n",
       "     categorical {\n",
       "     }\n",
       "     statistics {\n",
       "     }\n",
       "   }\n",
       "   monitoring {\n",
       "   }\n",
       "   data_type_hierarchical_paths: \"\"\n",
       " }\n",
       " features {\n",
       "   name: \"new_column\"\n",
       "   version: \"1\"\n",
       "   version_change: \"Feature created.\"\n",
       "   data_type: \"STRING\"\n",
       "   profile {\n",
       "     categorical {\n",
       "     }\n",
       "     statistics {\n",
       "     }\n",
       "   }\n",
       "   monitoring {\n",
       "   }\n",
       "   data_type_hierarchical_paths: \"\"\n",
       " }\n",
       " features {\n",
       "   name: \"col3\"\n",
       "   version: \"1\"\n",
       "   version_change: \"Feature created.\"\n",
       "   data_type: \"INT\"\n",
       "   profile {\n",
       "     categorical {\n",
       "     }\n",
       "     statistics {\n",
       "     }\n",
       "   }\n",
       "   monitoring {\n",
       "   }\n",
       "   data_type_hierarchical_paths: \"\"\n",
       " }\n",
       " features {\n",
       "   name: \"new_column\"\n",
       "   version: \"1\"\n",
       "   version_change: \"Feature created.\"\n",
       "   data_type: \"STRING\"\n",
       "   profile {\n",
       "     categorical {\n",
       "     }\n",
       "     statistics {\n",
       "     }\n",
       "   }\n",
       "   monitoring {\n",
       "   }\n",
       "   data_type_hierarchical_paths: \"\"\n",
       " }\n",
       " statistics {\n",
       " }\n",
       " special_data {\n",
       "   legal {\n",
       "   }\n",
       " }\n",
       " id: \"test_project-feature_set_name\"\n",
       " time_travel_scope {\n",
       " }\n",
       " online {\n",
       " }]"
      ]
     },
     "execution_count": 78,
     "metadata": {},
     "output_type": "execute_result"
    }
   ],
   "source": [
    "project.feature_sets.list(filters = filter_builder)"
   ]
  },
  {
   "cell_type": "markdown",
   "metadata": {},
   "source": [
    "## Create New Feature Set Version"
   ]
  },
  {
   "cell_type": "code",
   "execution_count": null,
   "metadata": {},
   "outputs": [],
   "source": []
  },
  {
   "cell_type": "code",
   "execution_count": null,
   "metadata": {},
   "outputs": [],
   "source": []
  },
  {
   "cell_type": "code",
   "execution_count": null,
   "metadata": {},
   "outputs": [],
   "source": []
  }
 ],
 "metadata": {
  "kernelspec": {
   "display_name": "Python 3",
   "language": "python",
   "name": "python3"
  },
  "language_info": {
   "codemirror_mode": {
    "name": "ipython",
    "version": 3
   },
   "file_extension": ".py",
   "mimetype": "text/x-python",
   "name": "python",
   "nbconvert_exporter": "python",
   "pygments_lexer": "ipython3",
   "version": "3.8.8"
  },
  "toc": {
   "base_numbering": 1,
   "nav_menu": {},
   "number_sections": true,
   "sideBar": true,
   "skip_h1_title": true,
   "title_cell": "Table of Contents",
   "title_sidebar": "Contents",
   "toc_cell": false,
   "toc_position": {},
   "toc_section_display": true,
   "toc_window_display": true
  }
 },
 "nbformat": 4,
 "nbformat_minor": 4
}
